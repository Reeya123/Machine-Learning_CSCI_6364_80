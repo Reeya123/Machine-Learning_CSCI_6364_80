{
 "cells": [
  {
   "cell_type": "markdown",
   "metadata": {
    "colab_type": "text",
    "id": "VTVD7-Z_zdPG"
   },
   "source": [
    "Music genre Prediction using different models. We first use Genre dataframe created using spotipy api"
   ]
  },
  {
   "cell_type": "markdown",
   "metadata": {
    "colab_type": "text",
    "id": "awoBnMPrzXqH"
   },
   "source": [
    "KNN Model \n"
   ]
  },
  {
   "cell_type": "code",
   "execution_count": 301,
   "metadata": {
    "colab": {},
    "colab_type": "code",
    "id": "yvYb_ue2QGMf"
   },
   "outputs": [],
   "source": [
    "import matplotlib.pyplot as plt\n",
    "from sklearn.neighbors import KNeighborsClassifier\n",
    "import pandas as pd\n",
    "import os"
   ]
  },
  {
   "cell_type": "code",
   "execution_count": 302,
   "metadata": {
    "colab": {
     "base_uri": "https://localhost:8080/",
     "height": 267
    },
    "colab_type": "code",
    "id": "B8f91u0BRKo-",
    "outputId": "38ea5ae0-618e-4a5d-fc1b-567e432617fe"
   },
   "outputs": [
    {
     "data": {
      "text/html": [
       "<div>\n",
       "<style scoped>\n",
       "    .dataframe tbody tr th:only-of-type {\n",
       "        vertical-align: middle;\n",
       "    }\n",
       "\n",
       "    .dataframe tbody tr th {\n",
       "        vertical-align: top;\n",
       "    }\n",
       "\n",
       "    .dataframe thead th {\n",
       "        text-align: right;\n",
       "    }\n",
       "</style>\n",
       "<table border=\"1\" class=\"dataframe\">\n",
       "  <thead>\n",
       "    <tr style=\"text-align: right;\">\n",
       "      <th></th>\n",
       "      <th>artist_name</th>\n",
       "      <th>track_name</th>\n",
       "      <th>track_id</th>\n",
       "      <th>artist_href</th>\n",
       "      <th>track_href</th>\n",
       "      <th>genre_name</th>\n",
       "      <th>danceability</th>\n",
       "      <th>energy</th>\n",
       "      <th>key</th>\n",
       "      <th>loudness</th>\n",
       "      <th>mode</th>\n",
       "      <th>speechiness</th>\n",
       "      <th>acousticness</th>\n",
       "      <th>instrumentalness</th>\n",
       "      <th>liveness</th>\n",
       "      <th>valence</th>\n",
       "      <th>tempo</th>\n",
       "      <th>duration_ms</th>\n",
       "    </tr>\n",
       "  </thead>\n",
       "  <tbody>\n",
       "    <tr>\n",
       "      <th>0</th>\n",
       "      <td>jason mraz</td>\n",
       "      <td>i'm yours</td>\n",
       "      <td>1EzrEOXmMH3G43AXT1y7pA</td>\n",
       "      <td>https://open.spotify.com/artist/4phGZZrJZRo4El...</td>\n",
       "      <td>https://open.spotify.com/track/1EzrEOXmMH3G43A...</td>\n",
       "      <td>acoustic</td>\n",
       "      <td>0.703</td>\n",
       "      <td>0.444</td>\n",
       "      <td>11</td>\n",
       "      <td>-9.331</td>\n",
       "      <td>1</td>\n",
       "      <td>0.0417</td>\n",
       "      <td>0.5590</td>\n",
       "      <td>0.000000</td>\n",
       "      <td>0.0973</td>\n",
       "      <td>0.712</td>\n",
       "      <td>150.960</td>\n",
       "      <td>242947</td>\n",
       "    </tr>\n",
       "    <tr>\n",
       "      <th>1</th>\n",
       "      <td>chord overstreet</td>\n",
       "      <td>hold on</td>\n",
       "      <td>5vjLSffimiIP26QG5WcN2K</td>\n",
       "      <td>https://open.spotify.com/artist/5D3muNJhYYunbR...</td>\n",
       "      <td>https://open.spotify.com/track/5vjLSffimiIP26Q...</td>\n",
       "      <td>acoustic</td>\n",
       "      <td>0.618</td>\n",
       "      <td>0.443</td>\n",
       "      <td>2</td>\n",
       "      <td>-9.681</td>\n",
       "      <td>1</td>\n",
       "      <td>0.0526</td>\n",
       "      <td>0.4690</td>\n",
       "      <td>0.000000</td>\n",
       "      <td>0.0829</td>\n",
       "      <td>0.167</td>\n",
       "      <td>119.949</td>\n",
       "      <td>198853</td>\n",
       "    </tr>\n",
       "    <tr>\n",
       "      <th>2</th>\n",
       "      <td>the paper kites</td>\n",
       "      <td>bloom - bonus track</td>\n",
       "      <td>1HMQmOWrkieKYWlFsjUP3D</td>\n",
       "      <td>https://open.spotify.com/artist/79hrYiudVcFyyx...</td>\n",
       "      <td>https://open.spotify.com/track/1HMQmOWrkieKYWl...</td>\n",
       "      <td>acoustic</td>\n",
       "      <td>0.591</td>\n",
       "      <td>0.416</td>\n",
       "      <td>1</td>\n",
       "      <td>-9.794</td>\n",
       "      <td>1</td>\n",
       "      <td>0.0246</td>\n",
       "      <td>0.8820</td>\n",
       "      <td>0.000641</td>\n",
       "      <td>0.1120</td>\n",
       "      <td>0.415</td>\n",
       "      <td>96.003</td>\n",
       "      <td>210080</td>\n",
       "    </tr>\n",
       "    <tr>\n",
       "      <th>3</th>\n",
       "      <td>sara bareilles</td>\n",
       "      <td>love song</td>\n",
       "      <td>4E6cwWJWZw2zWf7VFbH7wf</td>\n",
       "      <td>https://open.spotify.com/artist/2Sqr0DXoaYABbj...</td>\n",
       "      <td>https://open.spotify.com/track/4E6cwWJWZw2zWf7...</td>\n",
       "      <td>acoustic</td>\n",
       "      <td>0.583</td>\n",
       "      <td>0.786</td>\n",
       "      <td>2</td>\n",
       "      <td>-3.142</td>\n",
       "      <td>0</td>\n",
       "      <td>0.0301</td>\n",
       "      <td>0.0208</td>\n",
       "      <td>0.000000</td>\n",
       "      <td>0.1880</td>\n",
       "      <td>0.573</td>\n",
       "      <td>123.055</td>\n",
       "      <td>258827</td>\n",
       "    </tr>\n",
       "    <tr>\n",
       "      <th>4</th>\n",
       "      <td>the paper kites</td>\n",
       "      <td>paint</td>\n",
       "      <td>6uHvbKL0Yi37AuvNRmUfMw</td>\n",
       "      <td>https://open.spotify.com/artist/79hrYiudVcFyyx...</td>\n",
       "      <td>https://open.spotify.com/track/6uHvbKL0Yi37Auv...</td>\n",
       "      <td>acoustic</td>\n",
       "      <td>0.364</td>\n",
       "      <td>0.308</td>\n",
       "      <td>4</td>\n",
       "      <td>-13.052</td>\n",
       "      <td>1</td>\n",
       "      <td>0.0402</td>\n",
       "      <td>0.8950</td>\n",
       "      <td>0.002300</td>\n",
       "      <td>0.1230</td>\n",
       "      <td>0.387</td>\n",
       "      <td>73.328</td>\n",
       "      <td>191773</td>\n",
       "    </tr>\n",
       "  </tbody>\n",
       "</table>\n",
       "</div>"
      ],
      "text/plain": [
       "        artist_name           track_name                track_id   \n",
       "0        jason mraz            i'm yours  1EzrEOXmMH3G43AXT1y7pA  \\\n",
       "1  chord overstreet              hold on  5vjLSffimiIP26QG5WcN2K   \n",
       "2   the paper kites  bloom - bonus track  1HMQmOWrkieKYWlFsjUP3D   \n",
       "3    sara bareilles            love song  4E6cwWJWZw2zWf7VFbH7wf   \n",
       "4   the paper kites                paint  6uHvbKL0Yi37AuvNRmUfMw   \n",
       "\n",
       "                                         artist_href   \n",
       "0  https://open.spotify.com/artist/4phGZZrJZRo4El...  \\\n",
       "1  https://open.spotify.com/artist/5D3muNJhYYunbR...   \n",
       "2  https://open.spotify.com/artist/79hrYiudVcFyyx...   \n",
       "3  https://open.spotify.com/artist/2Sqr0DXoaYABbj...   \n",
       "4  https://open.spotify.com/artist/79hrYiudVcFyyx...   \n",
       "\n",
       "                                          track_href genre_name  danceability   \n",
       "0  https://open.spotify.com/track/1EzrEOXmMH3G43A...   acoustic         0.703  \\\n",
       "1  https://open.spotify.com/track/5vjLSffimiIP26Q...   acoustic         0.618   \n",
       "2  https://open.spotify.com/track/1HMQmOWrkieKYWl...   acoustic         0.591   \n",
       "3  https://open.spotify.com/track/4E6cwWJWZw2zWf7...   acoustic         0.583   \n",
       "4  https://open.spotify.com/track/6uHvbKL0Yi37Auv...   acoustic         0.364   \n",
       "\n",
       "   energy  key  loudness  mode  speechiness  acousticness  instrumentalness   \n",
       "0   0.444   11    -9.331     1       0.0417        0.5590          0.000000  \\\n",
       "1   0.443    2    -9.681     1       0.0526        0.4690          0.000000   \n",
       "2   0.416    1    -9.794     1       0.0246        0.8820          0.000641   \n",
       "3   0.786    2    -3.142     0       0.0301        0.0208          0.000000   \n",
       "4   0.308    4   -13.052     1       0.0402        0.8950          0.002300   \n",
       "\n",
       "   liveness  valence    tempo  duration_ms  \n",
       "0    0.0973    0.712  150.960       242947  \n",
       "1    0.0829    0.167  119.949       198853  \n",
       "2    0.1120    0.415   96.003       210080  \n",
       "3    0.1880    0.573  123.055       258827  \n",
       "4    0.1230    0.387   73.328       191773  "
      ]
     },
     "execution_count": 302,
     "metadata": {},
     "output_type": "execute_result"
    }
   ],
   "source": [
    "df = pd.read_csv(os.path.join(\"Downloads/spotify_df1.csv\"))\n",
    "df.head()"
   ]
  },
  {
   "cell_type": "code",
   "execution_count": 303,
   "metadata": {
    "colab": {
     "base_uri": "https://localhost:8080/",
     "height": 197
    },
    "colab_type": "code",
    "id": "yG2jQ6o6R13l",
    "outputId": "fe92c3ff-77c8-432a-8acc-a17c33520dcb"
   },
   "outputs": [
    {
     "data": {
      "text/html": [
       "<div>\n",
       "<style scoped>\n",
       "    .dataframe tbody tr th:only-of-type {\n",
       "        vertical-align: middle;\n",
       "    }\n",
       "\n",
       "    .dataframe tbody tr th {\n",
       "        vertical-align: top;\n",
       "    }\n",
       "\n",
       "    .dataframe thead th {\n",
       "        text-align: right;\n",
       "    }\n",
       "</style>\n",
       "<table border=\"1\" class=\"dataframe\">\n",
       "  <thead>\n",
       "    <tr style=\"text-align: right;\">\n",
       "      <th></th>\n",
       "      <th>genre_name</th>\n",
       "      <th>danceability</th>\n",
       "      <th>energy</th>\n",
       "      <th>key</th>\n",
       "      <th>loudness</th>\n",
       "      <th>mode</th>\n",
       "      <th>speechiness</th>\n",
       "      <th>acousticness</th>\n",
       "      <th>instrumentalness</th>\n",
       "      <th>liveness</th>\n",
       "      <th>valence</th>\n",
       "      <th>tempo</th>\n",
       "      <th>duration_ms</th>\n",
       "    </tr>\n",
       "  </thead>\n",
       "  <tbody>\n",
       "    <tr>\n",
       "      <th>0</th>\n",
       "      <td>acoustic</td>\n",
       "      <td>0.703</td>\n",
       "      <td>0.444</td>\n",
       "      <td>11</td>\n",
       "      <td>-9.331</td>\n",
       "      <td>1</td>\n",
       "      <td>0.0417</td>\n",
       "      <td>0.5590</td>\n",
       "      <td>0.000000</td>\n",
       "      <td>0.0973</td>\n",
       "      <td>0.712</td>\n",
       "      <td>150.960</td>\n",
       "      <td>242947</td>\n",
       "    </tr>\n",
       "    <tr>\n",
       "      <th>1</th>\n",
       "      <td>acoustic</td>\n",
       "      <td>0.618</td>\n",
       "      <td>0.443</td>\n",
       "      <td>2</td>\n",
       "      <td>-9.681</td>\n",
       "      <td>1</td>\n",
       "      <td>0.0526</td>\n",
       "      <td>0.4690</td>\n",
       "      <td>0.000000</td>\n",
       "      <td>0.0829</td>\n",
       "      <td>0.167</td>\n",
       "      <td>119.949</td>\n",
       "      <td>198853</td>\n",
       "    </tr>\n",
       "    <tr>\n",
       "      <th>2</th>\n",
       "      <td>acoustic</td>\n",
       "      <td>0.591</td>\n",
       "      <td>0.416</td>\n",
       "      <td>1</td>\n",
       "      <td>-9.794</td>\n",
       "      <td>1</td>\n",
       "      <td>0.0246</td>\n",
       "      <td>0.8820</td>\n",
       "      <td>0.000641</td>\n",
       "      <td>0.1120</td>\n",
       "      <td>0.415</td>\n",
       "      <td>96.003</td>\n",
       "      <td>210080</td>\n",
       "    </tr>\n",
       "    <tr>\n",
       "      <th>3</th>\n",
       "      <td>acoustic</td>\n",
       "      <td>0.583</td>\n",
       "      <td>0.786</td>\n",
       "      <td>2</td>\n",
       "      <td>-3.142</td>\n",
       "      <td>0</td>\n",
       "      <td>0.0301</td>\n",
       "      <td>0.0208</td>\n",
       "      <td>0.000000</td>\n",
       "      <td>0.1880</td>\n",
       "      <td>0.573</td>\n",
       "      <td>123.055</td>\n",
       "      <td>258827</td>\n",
       "    </tr>\n",
       "    <tr>\n",
       "      <th>4</th>\n",
       "      <td>acoustic</td>\n",
       "      <td>0.364</td>\n",
       "      <td>0.308</td>\n",
       "      <td>4</td>\n",
       "      <td>-13.052</td>\n",
       "      <td>1</td>\n",
       "      <td>0.0402</td>\n",
       "      <td>0.8950</td>\n",
       "      <td>0.002300</td>\n",
       "      <td>0.1230</td>\n",
       "      <td>0.387</td>\n",
       "      <td>73.328</td>\n",
       "      <td>191773</td>\n",
       "    </tr>\n",
       "  </tbody>\n",
       "</table>\n",
       "</div>"
      ],
      "text/plain": [
       "  genre_name  danceability  energy  key  loudness  mode  speechiness   \n",
       "0   acoustic         0.703   0.444   11    -9.331     1       0.0417  \\\n",
       "1   acoustic         0.618   0.443    2    -9.681     1       0.0526   \n",
       "2   acoustic         0.591   0.416    1    -9.794     1       0.0246   \n",
       "3   acoustic         0.583   0.786    2    -3.142     0       0.0301   \n",
       "4   acoustic         0.364   0.308    4   -13.052     1       0.0402   \n",
       "\n",
       "   acousticness  instrumentalness  liveness  valence    tempo  duration_ms  \n",
       "0        0.5590          0.000000    0.0973    0.712  150.960       242947  \n",
       "1        0.4690          0.000000    0.0829    0.167  119.949       198853  \n",
       "2        0.8820          0.000641    0.1120    0.415   96.003       210080  \n",
       "3        0.0208          0.000000    0.1880    0.573  123.055       258827  \n",
       "4        0.8950          0.002300    0.1230    0.387   73.328       191773  "
      ]
     },
     "execution_count": 303,
     "metadata": {},
     "output_type": "execute_result"
    }
   ],
   "source": [
    "ML_df = df.drop(['artist_name', 'track_name', 'track_id', 'artist_href', 'track_href'], axis=1)\n",
    "ML_df.head()"
   ]
  },
  {
   "cell_type": "code",
   "execution_count": 304,
   "metadata": {
    "colab": {},
    "colab_type": "code",
    "id": "c-hNmZBTRR9k"
   },
   "outputs": [],
   "source": [
    "y = ML_df[\"genre_name\"]"
   ]
  },
  {
   "cell_type": "code",
   "execution_count": 305,
   "metadata": {
    "colab": {
     "base_uri": "https://localhost:8080/",
     "height": 197
    },
    "colab_type": "code",
    "id": "EEYOI4IxRrQm",
    "outputId": "56529fd8-8304-47e3-d479-684bc9c5f813"
   },
   "outputs": [
    {
     "data": {
      "text/html": [
       "<div>\n",
       "<style scoped>\n",
       "    .dataframe tbody tr th:only-of-type {\n",
       "        vertical-align: middle;\n",
       "    }\n",
       "\n",
       "    .dataframe tbody tr th {\n",
       "        vertical-align: top;\n",
       "    }\n",
       "\n",
       "    .dataframe thead th {\n",
       "        text-align: right;\n",
       "    }\n",
       "</style>\n",
       "<table border=\"1\" class=\"dataframe\">\n",
       "  <thead>\n",
       "    <tr style=\"text-align: right;\">\n",
       "      <th></th>\n",
       "      <th>danceability</th>\n",
       "      <th>energy</th>\n",
       "      <th>key</th>\n",
       "      <th>loudness</th>\n",
       "      <th>mode</th>\n",
       "      <th>speechiness</th>\n",
       "      <th>acousticness</th>\n",
       "      <th>instrumentalness</th>\n",
       "      <th>liveness</th>\n",
       "      <th>valence</th>\n",
       "      <th>tempo</th>\n",
       "      <th>duration_ms</th>\n",
       "    </tr>\n",
       "  </thead>\n",
       "  <tbody>\n",
       "    <tr>\n",
       "      <th>0</th>\n",
       "      <td>0.703</td>\n",
       "      <td>0.444</td>\n",
       "      <td>11</td>\n",
       "      <td>-9.331</td>\n",
       "      <td>1</td>\n",
       "      <td>0.0417</td>\n",
       "      <td>0.5590</td>\n",
       "      <td>0.000000</td>\n",
       "      <td>0.0973</td>\n",
       "      <td>0.712</td>\n",
       "      <td>150.960</td>\n",
       "      <td>242947</td>\n",
       "    </tr>\n",
       "    <tr>\n",
       "      <th>1</th>\n",
       "      <td>0.618</td>\n",
       "      <td>0.443</td>\n",
       "      <td>2</td>\n",
       "      <td>-9.681</td>\n",
       "      <td>1</td>\n",
       "      <td>0.0526</td>\n",
       "      <td>0.4690</td>\n",
       "      <td>0.000000</td>\n",
       "      <td>0.0829</td>\n",
       "      <td>0.167</td>\n",
       "      <td>119.949</td>\n",
       "      <td>198853</td>\n",
       "    </tr>\n",
       "    <tr>\n",
       "      <th>2</th>\n",
       "      <td>0.591</td>\n",
       "      <td>0.416</td>\n",
       "      <td>1</td>\n",
       "      <td>-9.794</td>\n",
       "      <td>1</td>\n",
       "      <td>0.0246</td>\n",
       "      <td>0.8820</td>\n",
       "      <td>0.000641</td>\n",
       "      <td>0.1120</td>\n",
       "      <td>0.415</td>\n",
       "      <td>96.003</td>\n",
       "      <td>210080</td>\n",
       "    </tr>\n",
       "    <tr>\n",
       "      <th>3</th>\n",
       "      <td>0.583</td>\n",
       "      <td>0.786</td>\n",
       "      <td>2</td>\n",
       "      <td>-3.142</td>\n",
       "      <td>0</td>\n",
       "      <td>0.0301</td>\n",
       "      <td>0.0208</td>\n",
       "      <td>0.000000</td>\n",
       "      <td>0.1880</td>\n",
       "      <td>0.573</td>\n",
       "      <td>123.055</td>\n",
       "      <td>258827</td>\n",
       "    </tr>\n",
       "    <tr>\n",
       "      <th>4</th>\n",
       "      <td>0.364</td>\n",
       "      <td>0.308</td>\n",
       "      <td>4</td>\n",
       "      <td>-13.052</td>\n",
       "      <td>1</td>\n",
       "      <td>0.0402</td>\n",
       "      <td>0.8950</td>\n",
       "      <td>0.002300</td>\n",
       "      <td>0.1230</td>\n",
       "      <td>0.387</td>\n",
       "      <td>73.328</td>\n",
       "      <td>191773</td>\n",
       "    </tr>\n",
       "  </tbody>\n",
       "</table>\n",
       "</div>"
      ],
      "text/plain": [
       "   danceability  energy  key  loudness  mode  speechiness  acousticness   \n",
       "0         0.703   0.444   11    -9.331     1       0.0417        0.5590  \\\n",
       "1         0.618   0.443    2    -9.681     1       0.0526        0.4690   \n",
       "2         0.591   0.416    1    -9.794     1       0.0246        0.8820   \n",
       "3         0.583   0.786    2    -3.142     0       0.0301        0.0208   \n",
       "4         0.364   0.308    4   -13.052     1       0.0402        0.8950   \n",
       "\n",
       "   instrumentalness  liveness  valence    tempo  duration_ms  \n",
       "0          0.000000    0.0973    0.712  150.960       242947  \n",
       "1          0.000000    0.0829    0.167  119.949       198853  \n",
       "2          0.000641    0.1120    0.415   96.003       210080  \n",
       "3          0.000000    0.1880    0.573  123.055       258827  \n",
       "4          0.002300    0.1230    0.387   73.328       191773  "
      ]
     },
     "execution_count": 305,
     "metadata": {},
     "output_type": "execute_result"
    }
   ],
   "source": [
    "X = ML_df.drop(\"genre_name\", axis=1)\n",
    "X.head()"
   ]
  },
  {
   "cell_type": "code",
   "execution_count": 6,
   "metadata": {
    "colab": {},
    "colab_type": "code",
    "id": "mZnGHyseR1CX"
   },
   "outputs": [],
   "source": [
    "from sklearn.model_selection import train_test_split\n",
    "X_train, X_test, y_train, y_test = train_test_split(X, y)"
   ]
  },
  {
   "cell_type": "markdown",
   "metadata": {
    "colab_type": "text",
    "id": "-adDp5hvdlbw"
   },
   "source": [
    "Baseline Accuracy\n",
    "DummyClassifier model is to establish a baseline performance metric for comparison with other, more sophisticated models. "
   ]
  },
  {
   "cell_type": "code",
   "execution_count": 292,
   "metadata": {
    "colab": {
     "base_uri": "https://localhost:8080/",
     "height": 70
    },
    "colab_type": "code",
    "id": "cJ3DI-erc_8O",
    "outputId": "3b6a7412-57a5-4748-f1ed-fce8a4a53f19"
   },
   "outputs": [
    {
     "data": {
      "text/html": [
       "<style>#sk-container-id-13 {color: black;background-color: white;}#sk-container-id-13 pre{padding: 0;}#sk-container-id-13 div.sk-toggleable {background-color: white;}#sk-container-id-13 label.sk-toggleable__label {cursor: pointer;display: block;width: 100%;margin-bottom: 0;padding: 0.3em;box-sizing: border-box;text-align: center;}#sk-container-id-13 label.sk-toggleable__label-arrow:before {content: \"▸\";float: left;margin-right: 0.25em;color: #696969;}#sk-container-id-13 label.sk-toggleable__label-arrow:hover:before {color: black;}#sk-container-id-13 div.sk-estimator:hover label.sk-toggleable__label-arrow:before {color: black;}#sk-container-id-13 div.sk-toggleable__content {max-height: 0;max-width: 0;overflow: hidden;text-align: left;background-color: #f0f8ff;}#sk-container-id-13 div.sk-toggleable__content pre {margin: 0.2em;color: black;border-radius: 0.25em;background-color: #f0f8ff;}#sk-container-id-13 input.sk-toggleable__control:checked~div.sk-toggleable__content {max-height: 200px;max-width: 100%;overflow: auto;}#sk-container-id-13 input.sk-toggleable__control:checked~label.sk-toggleable__label-arrow:before {content: \"▾\";}#sk-container-id-13 div.sk-estimator input.sk-toggleable__control:checked~label.sk-toggleable__label {background-color: #d4ebff;}#sk-container-id-13 div.sk-label input.sk-toggleable__control:checked~label.sk-toggleable__label {background-color: #d4ebff;}#sk-container-id-13 input.sk-hidden--visually {border: 0;clip: rect(1px 1px 1px 1px);clip: rect(1px, 1px, 1px, 1px);height: 1px;margin: -1px;overflow: hidden;padding: 0;position: absolute;width: 1px;}#sk-container-id-13 div.sk-estimator {font-family: monospace;background-color: #f0f8ff;border: 1px dotted black;border-radius: 0.25em;box-sizing: border-box;margin-bottom: 0.5em;}#sk-container-id-13 div.sk-estimator:hover {background-color: #d4ebff;}#sk-container-id-13 div.sk-parallel-item::after {content: \"\";width: 100%;border-bottom: 1px solid gray;flex-grow: 1;}#sk-container-id-13 div.sk-label:hover label.sk-toggleable__label {background-color: #d4ebff;}#sk-container-id-13 div.sk-serial::before {content: \"\";position: absolute;border-left: 1px solid gray;box-sizing: border-box;top: 0;bottom: 0;left: 50%;z-index: 0;}#sk-container-id-13 div.sk-serial {display: flex;flex-direction: column;align-items: center;background-color: white;padding-right: 0.2em;padding-left: 0.2em;position: relative;}#sk-container-id-13 div.sk-item {position: relative;z-index: 1;}#sk-container-id-13 div.sk-parallel {display: flex;align-items: stretch;justify-content: center;background-color: white;position: relative;}#sk-container-id-13 div.sk-item::before, #sk-container-id-13 div.sk-parallel-item::before {content: \"\";position: absolute;border-left: 1px solid gray;box-sizing: border-box;top: 0;bottom: 0;left: 50%;z-index: -1;}#sk-container-id-13 div.sk-parallel-item {display: flex;flex-direction: column;z-index: 1;position: relative;background-color: white;}#sk-container-id-13 div.sk-parallel-item:first-child::after {align-self: flex-end;width: 50%;}#sk-container-id-13 div.sk-parallel-item:last-child::after {align-self: flex-start;width: 50%;}#sk-container-id-13 div.sk-parallel-item:only-child::after {width: 0;}#sk-container-id-13 div.sk-dashed-wrapped {border: 1px dashed gray;margin: 0 0.4em 0.5em 0.4em;box-sizing: border-box;padding-bottom: 0.4em;background-color: white;}#sk-container-id-13 div.sk-label label {font-family: monospace;font-weight: bold;display: inline-block;line-height: 1.2em;}#sk-container-id-13 div.sk-label-container {text-align: center;}#sk-container-id-13 div.sk-container {/* jupyter's `normalize.less` sets `[hidden] { display: none; }` but bootstrap.min.css set `[hidden] { display: none !important; }` so we also need the `!important` here to be able to override the default hidden behavior on the sphinx rendered scikit-learn.org. See: https://github.com/scikit-learn/scikit-learn/issues/21755 */display: inline-block !important;position: relative;}#sk-container-id-13 div.sk-text-repr-fallback {display: none;}</style><div id=\"sk-container-id-13\" class=\"sk-top-container\"><div class=\"sk-text-repr-fallback\"><pre>DummyClassifier()</pre><b>In a Jupyter environment, please rerun this cell to show the HTML representation or trust the notebook. <br />On GitHub, the HTML representation is unable to render, please try loading this page with nbviewer.org.</b></div><div class=\"sk-container\" hidden><div class=\"sk-item\"><div class=\"sk-estimator sk-toggleable\"><input class=\"sk-toggleable__control sk-hidden--visually\" id=\"sk-estimator-id-13\" type=\"checkbox\" checked><label for=\"sk-estimator-id-13\" class=\"sk-toggleable__label sk-toggleable__label-arrow\">DummyClassifier</label><div class=\"sk-toggleable__content\"><pre>DummyClassifier()</pre></div></div></div></div></div>"
      ],
      "text/plain": [
       "DummyClassifier()"
      ]
     },
     "execution_count": 292,
     "metadata": {},
     "output_type": "execute_result"
    }
   ],
   "source": [
    "from sklearn.dummy import DummyClassifier\n",
    "\n",
    "dummy_clf = DummyClassifier()\n",
    "dummy_clf.fit(X_train, y_train)"
   ]
  },
  {
   "cell_type": "code",
   "execution_count": 306,
   "metadata": {
    "colab": {
     "base_uri": "https://localhost:8080/",
     "height": 34
    },
    "colab_type": "code",
    "id": "QMUUEppsdAO9",
    "outputId": "1ad16da1-7c3c-4768-c380-19dc471c9155"
   },
   "outputs": [
    {
     "name": "stdout",
     "output_type": "stream",
     "text": [
      "[False False False False False False False False False False False False\n",
      " False False False False False False False False False False False False\n",
      " False False False False False False False False False False False False\n",
      " False False False False False False False False False False False False\n",
      " False False False False False False False False False False False False\n",
      " False False False False False False False False False False False False\n",
      " False False False False False False False False False False False False\n",
      " False False False False False False False False False False False False\n",
      " False False False False False False False False False False False False\n",
      " False False False False False False False False False False False False\n",
      " False False False False False False False False False False False False\n",
      " False False False False False False False False False False False False\n",
      " False False False False False False False False False False False False\n",
      " False False False False False False False False False False False False\n",
      " False False False False False False False False False False False False\n",
      " False False False False False False False False False False False False\n",
      " False False False False False False False False False False False False\n",
      " False False False False False False False False False False False False\n",
      " False False False False False False False False False False False False\n",
      " False False False False False False False False False False False False\n",
      " False False False False False False False False False False False False\n",
      " False False False False False False False False False False False False\n",
      " False False False False False False False False False False False False\n",
      " False False False False False False False False False False False False\n",
      " False False False False False False False False False False False False\n",
      " False False False False False False False False False False False False\n",
      " False False False False False False False False False False False False\n",
      " False False False False False False False False False False False False\n",
      " False False False False False False False False False False False False\n",
      " False False False False False False False False False False False False\n",
      " False False False False False False False False False False False False\n",
      " False False False False False False False False False False False False\n",
      " False False False False False False False False False False False False\n",
      " False False False False False False False False False False False False\n",
      " False False False False False False False False False False False False\n",
      " False False False False False False False False False False False False\n",
      " False False False False False False False False False False False False\n",
      " False False False False False False False False False False False False\n",
      " False False False False]\n"
     ]
    }
   ],
   "source": [
    "y_pred = dummy_clf.predict(X_test)\n",
    "print(y_pred)"
   ]
  },
  {
   "cell_type": "code",
   "execution_count": 307,
   "metadata": {
    "colab": {
     "base_uri": "https://localhost:8080/",
     "height": 34
    },
    "colab_type": "code",
    "id": "588bctWlc_zr",
    "outputId": "6784b5b6-0034-49ff-87e8-9426740dd3e0"
   },
   "outputs": [
    {
     "name": "stdout",
     "output_type": "stream",
     "text": [
      "0.8695652173913043\n"
     ]
    }
   ],
   "source": [
    "score = dummy_clf.score(X_test, y_test)\n",
    "print(score)"
   ]
  },
  {
   "cell_type": "code",
   "execution_count": 308,
   "metadata": {},
   "outputs": [
    {
     "name": "stdout",
     "output_type": "stream",
     "text": [
      "K value: 1, Train/Test Accuracy: 1.000/0.752, Overall Accuracy: 1.752\n",
      "K value: 3, Train/Test Accuracy: 0.875/0.815, Overall Accuracy: 1.690\n",
      "K value: 5, Train/Test Accuracy: 0.866/0.852, Overall Accuracy: 1.718\n",
      "K value: 7, Train/Test Accuracy: 0.848/0.861, Overall Accuracy: 1.709\n",
      "K value: 9, Train/Test Accuracy: 0.851/0.870, Overall Accuracy: 1.721\n",
      "K value: 11, Train/Test Accuracy: 0.847/0.870, Overall Accuracy: 1.717\n",
      "K value: 13, Train/Test Accuracy: 0.848/0.870, Overall Accuracy: 1.718\n",
      "K value: 15, Train/Test Accuracy: 0.848/0.870, Overall Accuracy: 1.718\n",
      "K value: 17, Train/Test Accuracy: 0.848/0.870, Overall Accuracy: 1.718\n",
      "K value: 19, Train/Test Accuracy: 0.848/0.870, Overall Accuracy: 1.718\n"
     ]
    },
    {
     "data": {
      "image/png": "[encoded data removed]",
      "text/plain": [
       "<Figure size 640x480 with 1 Axes>"
      ]
     },
     "metadata": {},
     "output_type": "display_data"
    }
   ],
   "source": [
    "train_accuracy = []\n",
    "test_accuracy = []\n",
    "for k in range(1, 20, 2):\n",
    "    knn = KNeighborsClassifier(n_neighbors=k)\n",
    "    knn.fit(X_train, y_train)\n",
    "    train_acc = knn.score(X_train, y_train)\n",
    "    test_acc = knn.score(X_test, y_test)\n",
    "    overall_acc = train_acc + test_acc\n",
    "    train_accuracy.append(train_acc)\n",
    "    test_accuracy.append(test_acc)\n",
    "    print(f\"K value: {k}, Train/Test Accuracy: {train_acc:.3f}/{test_acc:.3f}, Overall Accuracy: {overall_acc:.3f}\")\n",
    "    \n",
    "plt.plot(range(1, 20, 2), train_accuracy, marker='o')\n",
    "plt.plot(range(1, 20, 2), test_accuracy, marker=\"x\")\n",
    "plt.xlabel(\"Number of Neighbors (k)\")\n",
    "plt.ylabel(\"Accuracy Score\")\n",
    "plt.title(\"KNN Classifier Accuracy\")\n",
    "plt.legend([\"Training Accuracy\", \"Testing Accuracy\"])\n",
    "plt.show()\n"
   ]
  },
  {
   "cell_type": "code",
   "execution_count": null,
   "metadata": {
    "colab": {
     "base_uri": "https://localhost:8080/",
     "height": 449
    },
    "colab_type": "code",
    "id": "nEV-ftNYSqGS",
    "outputId": "44ddce97-0997-437f-f93d-cedc7edf908e"
   },
   "outputs": [],
   "source": []
  },
  {
   "cell_type": "markdown",
   "metadata": {
    "colab_type": "text",
    "id": "0-AWLZcJzsr3"
   },
   "source": [
    "SGD - Classifier"
   ]
  },
  {
   "cell_type": "code",
   "execution_count": 313,
   "metadata": {
    "colab": {},
    "colab_type": "code",
    "id": "klr70cyLSzr9"
   },
   "outputs": [],
   "source": [
    "#Importing necessary Libraries\n",
    "\n",
    "import matplotlib.pyplot as plt\n",
    "from sklearn.neighbors import KNeighborsClassifier\n",
    "import pandas as pd\n",
    "import numpy as np\n",
    "import os\n",
    "from sklearn.linear_model import SGDClassifier\n",
    "from sklearn.preprocessing import StandardScaler\n",
    "from sklearn.pipeline import make_pipeline\n",
    "%matplotlib inline\n",
    "import matplotlib.pyplot as plt\n"
   ]
  },
  {
   "cell_type": "code",
   "execution_count": 310,
   "metadata": {
    "colab": {},
    "colab_type": "code",
    "id": "L9ItQG-DVLsR"
   },
   "outputs": [],
   "source": [
    "X = ML_df[\"genre_name\"]"
   ]
  },
  {
   "cell_type": "code",
   "execution_count": 311,
   "metadata": {
    "colab": {},
    "colab_type": "code",
    "id": "r1Iw7tqXVoOG"
   },
   "outputs": [],
   "source": [
    "y = ML_df.drop(\"genre_name\", axis=1)"
   ]
  },
  {
   "cell_type": "code",
   "execution_count": 15,
   "metadata": {
    "colab": {},
    "colab_type": "code",
    "id": "VWjaTgSSuUvu"
   },
   "outputs": [],
   "source": []
  },
  {
   "cell_type": "code",
   "execution_count": 312,
   "metadata": {
    "colab": {},
    "colab_type": "code",
    "id": "I7xgcdDuuj1S"
   },
   "outputs": [],
   "source": [
    "from sklearn.model_selection import train_test_split\n",
    "X_train, X_test, y_train, y_test = train_test_split(X, y)"
   ]
  },
  {
   "cell_type": "code",
   "execution_count": 17,
   "metadata": {
    "colab": {},
    "colab_type": "code",
    "id": "vQcus92nup5N"
   },
   "outputs": [],
   "source": []
  },
  {
   "cell_type": "code",
   "execution_count": 18,
   "metadata": {
    "colab": {},
    "colab_type": "code",
    "id": "EyOCh5fgz6ll"
   },
   "outputs": [],
   "source": []
  },
  {
   "cell_type": "code",
   "execution_count": 314,
   "metadata": {
    "colab": {
     "base_uri": "https://localhost:8080/",
     "height": 450
    },
    "colab_type": "code",
    "id": "07Q7gFNx0y9q",
    "outputId": "654c154a-64f0-4915-bd51-ea7ececb5e0f"
   },
   "outputs": [
    {
     "data": {
      "text/html": [
       "<div>\n",
       "<style scoped>\n",
       "    .dataframe tbody tr th:only-of-type {\n",
       "        vertical-align: middle;\n",
       "    }\n",
       "\n",
       "    .dataframe tbody tr th {\n",
       "        vertical-align: top;\n",
       "    }\n",
       "\n",
       "    .dataframe thead th {\n",
       "        text-align: right;\n",
       "    }\n",
       "</style>\n",
       "<table border=\"1\" class=\"dataframe\">\n",
       "  <thead>\n",
       "    <tr style=\"text-align: right;\">\n",
       "      <th></th>\n",
       "      <th>track_name</th>\n",
       "    </tr>\n",
       "    <tr>\n",
       "      <th>genre_name</th>\n",
       "      <th></th>\n",
       "    </tr>\n",
       "  </thead>\n",
       "  <tbody>\n",
       "    <tr>\n",
       "      <th>acoustic</th>\n",
       "      <td>280</td>\n",
       "    </tr>\n",
       "    <tr>\n",
       "      <th>afrobeat</th>\n",
       "      <td>218</td>\n",
       "    </tr>\n",
       "    <tr>\n",
       "      <th>alt-rock</th>\n",
       "      <td>296</td>\n",
       "    </tr>\n",
       "    <tr>\n",
       "      <th>alternative</th>\n",
       "      <td>75</td>\n",
       "    </tr>\n",
       "    <tr>\n",
       "      <th>ambient</th>\n",
       "      <td>291</td>\n",
       "    </tr>\n",
       "    <tr>\n",
       "      <th>...</th>\n",
       "      <td>...</td>\n",
       "    </tr>\n",
       "    <tr>\n",
       "      <th>kids</th>\n",
       "      <td>290</td>\n",
       "    </tr>\n",
       "    <tr>\n",
       "      <th>latin</th>\n",
       "      <td>222</td>\n",
       "    </tr>\n",
       "    <tr>\n",
       "      <th>latino</th>\n",
       "      <td>24</td>\n",
       "    </tr>\n",
       "    <tr>\n",
       "      <th>malay</th>\n",
       "      <td>278</td>\n",
       "    </tr>\n",
       "    <tr>\n",
       "      <th>mandopop</th>\n",
       "      <td>264</td>\n",
       "    </tr>\n",
       "  </tbody>\n",
       "</table>\n",
       "<p>70 rows × 1 columns</p>\n",
       "</div>"
      ],
      "text/plain": [
       "             track_name\n",
       "genre_name             \n",
       "acoustic            280\n",
       "afrobeat            218\n",
       "alt-rock            296\n",
       "alternative          75\n",
       "ambient             291\n",
       "...                 ...\n",
       "kids                290\n",
       "latin               222\n",
       "latino               24\n",
       "malay               278\n",
       "mandopop            264\n",
       "\n",
       "[70 rows x 1 columns]"
      ]
     },
     "execution_count": 314,
     "metadata": {},
     "output_type": "execute_result"
    }
   ],
   "source": [
    "by_genre = df.groupby(\"genre_name\")[\"track_name\"].count()\n",
    "by_genre = pd.DataFrame(by_genre)\n",
    "by_genre"
   ]
  },
  {
   "cell_type": "code",
   "execution_count": 316,
   "metadata": {
    "colab": {},
    "colab_type": "code",
    "id": "yCX25zbx0BFN"
   },
   "outputs": [
    {
     "name": "stdout",
     "output_type": "stream",
     "text": [
      "(16421, 12) (16421, 1)\n"
     ]
    }
   ],
   "source": [
    "# Assign the data to X and y\n",
    "X = df[[\"danceability\", \"energy\", \"key\", \"loudness\", \"mode\", \"speechiness\", \"acousticness\", \"instrumentalness\", \"liveness\", \"valence\", \"tempo\", \"duration_ms\"]]\n",
    "y = df[\"genre_name\"].values.reshape(-1, 1)\n",
    "print(X.shape, y.shape)"
   ]
  },
  {
   "cell_type": "markdown",
   "metadata": {
    "colab_type": "text",
    "id": "DUrqJaPT2twn"
   },
   "source": [
    "We shall try Several Linear Models now"
   ]
  },
  {
   "cell_type": "code",
   "execution_count": 322,
   "metadata": {
    "colab": {
     "base_uri": "https://localhost:8080/",
     "height": 241
    },
    "colab_type": "code",
    "id": "8igKI2O92vEt",
    "outputId": "a9c51acb-9cbe-402c-b4c9-b31efee64526"
   },
   "outputs": [
    {
     "data": {
      "text/html": [
       "<div>\n",
       "<style scoped>\n",
       "    .dataframe tbody tr th:only-of-type {\n",
       "        vertical-align: middle;\n",
       "    }\n",
       "\n",
       "    .dataframe tbody tr th {\n",
       "        vertical-align: top;\n",
       "    }\n",
       "\n",
       "    .dataframe thead th {\n",
       "        text-align: right;\n",
       "    }\n",
       "</style>\n",
       "<table border=\"1\" class=\"dataframe\">\n",
       "  <thead>\n",
       "    <tr style=\"text-align: right;\">\n",
       "      <th></th>\n",
       "      <th>danceability</th>\n",
       "      <th>energy</th>\n",
       "      <th>key</th>\n",
       "      <th>loudness</th>\n",
       "      <th>mode</th>\n",
       "      <th>speechiness</th>\n",
       "      <th>acousticness</th>\n",
       "      <th>instrumentalness</th>\n",
       "      <th>liveness</th>\n",
       "      <th>valence</th>\n",
       "      <th>...</th>\n",
       "      <th>genre_name_j-idol</th>\n",
       "      <th>genre_name_j-pop</th>\n",
       "      <th>genre_name_j-rock</th>\n",
       "      <th>genre_name_jazz</th>\n",
       "      <th>genre_name_k-pop</th>\n",
       "      <th>genre_name_kids</th>\n",
       "      <th>genre_name_latin</th>\n",
       "      <th>genre_name_latino</th>\n",
       "      <th>genre_name_malay</th>\n",
       "      <th>genre_name_mandopop</th>\n",
       "    </tr>\n",
       "  </thead>\n",
       "  <tbody>\n",
       "    <tr>\n",
       "      <th>0</th>\n",
       "      <td>0.703</td>\n",
       "      <td>0.444</td>\n",
       "      <td>11</td>\n",
       "      <td>-9.331</td>\n",
       "      <td>1</td>\n",
       "      <td>0.0417</td>\n",
       "      <td>0.5590</td>\n",
       "      <td>0.000000</td>\n",
       "      <td>0.0973</td>\n",
       "      <td>0.712</td>\n",
       "      <td>...</td>\n",
       "      <td>False</td>\n",
       "      <td>False</td>\n",
       "      <td>False</td>\n",
       "      <td>False</td>\n",
       "      <td>False</td>\n",
       "      <td>False</td>\n",
       "      <td>False</td>\n",
       "      <td>False</td>\n",
       "      <td>False</td>\n",
       "      <td>False</td>\n",
       "    </tr>\n",
       "    <tr>\n",
       "      <th>1</th>\n",
       "      <td>0.618</td>\n",
       "      <td>0.443</td>\n",
       "      <td>2</td>\n",
       "      <td>-9.681</td>\n",
       "      <td>1</td>\n",
       "      <td>0.0526</td>\n",
       "      <td>0.4690</td>\n",
       "      <td>0.000000</td>\n",
       "      <td>0.0829</td>\n",
       "      <td>0.167</td>\n",
       "      <td>...</td>\n",
       "      <td>False</td>\n",
       "      <td>False</td>\n",
       "      <td>False</td>\n",
       "      <td>False</td>\n",
       "      <td>False</td>\n",
       "      <td>False</td>\n",
       "      <td>False</td>\n",
       "      <td>False</td>\n",
       "      <td>False</td>\n",
       "      <td>False</td>\n",
       "    </tr>\n",
       "    <tr>\n",
       "      <th>2</th>\n",
       "      <td>0.591</td>\n",
       "      <td>0.416</td>\n",
       "      <td>1</td>\n",
       "      <td>-9.794</td>\n",
       "      <td>1</td>\n",
       "      <td>0.0246</td>\n",
       "      <td>0.8820</td>\n",
       "      <td>0.000641</td>\n",
       "      <td>0.1120</td>\n",
       "      <td>0.415</td>\n",
       "      <td>...</td>\n",
       "      <td>False</td>\n",
       "      <td>False</td>\n",
       "      <td>False</td>\n",
       "      <td>False</td>\n",
       "      <td>False</td>\n",
       "      <td>False</td>\n",
       "      <td>False</td>\n",
       "      <td>False</td>\n",
       "      <td>False</td>\n",
       "      <td>False</td>\n",
       "    </tr>\n",
       "    <tr>\n",
       "      <th>3</th>\n",
       "      <td>0.583</td>\n",
       "      <td>0.786</td>\n",
       "      <td>2</td>\n",
       "      <td>-3.142</td>\n",
       "      <td>0</td>\n",
       "      <td>0.0301</td>\n",
       "      <td>0.0208</td>\n",
       "      <td>0.000000</td>\n",
       "      <td>0.1880</td>\n",
       "      <td>0.573</td>\n",
       "      <td>...</td>\n",
       "      <td>False</td>\n",
       "      <td>False</td>\n",
       "      <td>False</td>\n",
       "      <td>False</td>\n",
       "      <td>False</td>\n",
       "      <td>False</td>\n",
       "      <td>False</td>\n",
       "      <td>False</td>\n",
       "      <td>False</td>\n",
       "      <td>False</td>\n",
       "    </tr>\n",
       "    <tr>\n",
       "      <th>4</th>\n",
       "      <td>0.364</td>\n",
       "      <td>0.308</td>\n",
       "      <td>4</td>\n",
       "      <td>-13.052</td>\n",
       "      <td>1</td>\n",
       "      <td>0.0402</td>\n",
       "      <td>0.8950</td>\n",
       "      <td>0.002300</td>\n",
       "      <td>0.1230</td>\n",
       "      <td>0.387</td>\n",
       "      <td>...</td>\n",
       "      <td>False</td>\n",
       "      <td>False</td>\n",
       "      <td>False</td>\n",
       "      <td>False</td>\n",
       "      <td>False</td>\n",
       "      <td>False</td>\n",
       "      <td>False</td>\n",
       "      <td>False</td>\n",
       "      <td>False</td>\n",
       "      <td>False</td>\n",
       "    </tr>\n",
       "  </tbody>\n",
       "</table>\n",
       "<p>5 rows × 82 columns</p>\n",
       "</div>"
      ],
      "text/plain": [
       "   danceability  energy  key  loudness  mode  speechiness  acousticness   \n",
       "0         0.703   0.444   11    -9.331     1       0.0417        0.5590  \\\n",
       "1         0.618   0.443    2    -9.681     1       0.0526        0.4690   \n",
       "2         0.591   0.416    1    -9.794     1       0.0246        0.8820   \n",
       "3         0.583   0.786    2    -3.142     0       0.0301        0.0208   \n",
       "4         0.364   0.308    4   -13.052     1       0.0402        0.8950   \n",
       "\n",
       "   instrumentalness  liveness  valence  ...  genre_name_j-idol   \n",
       "0          0.000000    0.0973    0.712  ...              False  \\\n",
       "1          0.000000    0.0829    0.167  ...              False   \n",
       "2          0.000641    0.1120    0.415  ...              False   \n",
       "3          0.000000    0.1880    0.573  ...              False   \n",
       "4          0.002300    0.1230    0.387  ...              False   \n",
       "\n",
       "   genre_name_j-pop  genre_name_j-rock  genre_name_jazz  genre_name_k-pop   \n",
       "0             False              False            False             False  \\\n",
       "1             False              False            False             False   \n",
       "2             False              False            False             False   \n",
       "3             False              False            False             False   \n",
       "4             False              False            False             False   \n",
       "\n",
       "   genre_name_kids  genre_name_latin  genre_name_latino  genre_name_malay   \n",
       "0            False             False              False             False  \\\n",
       "1            False             False              False             False   \n",
       "2            False             False              False             False   \n",
       "3            False             False              False             False   \n",
       "4            False             False              False             False   \n",
       "\n",
       "   genre_name_mandopop  \n",
       "0                False  \n",
       "1                False  \n",
       "2                False  \n",
       "3                False  \n",
       "4                False  \n",
       "\n",
       "[5 rows x 82 columns]"
      ]
     },
     "execution_count": 322,
     "metadata": {},
     "output_type": "execute_result"
    }
   ],
   "source": [
    "# Use Pandas get_dummies to convert categorical data\n",
    "\n",
    "genretable = pd.get_dummies(ML_df)\n",
    "genretable.head()\n"
   ]
  },
  {
   "cell_type": "code",
   "execution_count": 323,
   "metadata": {
    "colab": {
     "base_uri": "https://localhost:8080/",
     "height": 698
    },
    "colab_type": "code",
    "id": "dkw9IR1r3LRk",
    "outputId": "2e9f910f-fc9a-4ab2-ef60-f2f64acd8a6b"
   },
   "outputs": [
    {
     "name": "stdout",
     "output_type": "stream",
     "text": [
      "(16421, 1) (16421, 1)\n"
     ]
    }
   ],
   "source": [
    "X = genretable[[\"danceability\"]]\n",
    "y = genretable[\"genre_name_dance\"].values.reshape(-1, 1)\n",
    "print(X.shape, y.shape)"
   ]
  },
  {
   "cell_type": "code",
   "execution_count": 324,
   "metadata": {
    "colab": {},
    "colab_type": "code",
    "id": "DFQJk-wz9dns"
   },
   "outputs": [],
   "source": [
    "# Split the data into training and testing\n",
    "\n",
    "from sklearn.model_selection import train_test_split\n",
    "\n",
    "X_train, X_test, y_train, y_test = train_test_split(X, y, random_state=42)\n"
   ]
  },
  {
   "cell_type": "code",
   "execution_count": 325,
   "metadata": {
    "colab": {},
    "colab_type": "code",
    "id": "QxNXFwLz-Djs"
   },
   "outputs": [],
   "source": [
    "from sklearn.preprocessing import StandardScaler\n",
    "\n",
    "# Creating a StandardScater model and fit it to the training data\n",
    "X_scaler = StandardScaler().fit(X_train)\n",
    "y_scaler = StandardScaler().fit(y_train)\n"
   ]
  },
  {
   "cell_type": "code",
   "execution_count": 326,
   "metadata": {
    "colab": {},
    "colab_type": "code",
    "id": "dltwFrxS-FhV"
   },
   "outputs": [],
   "source": [
    "# Transforming the training and testing data using the X_scaler and y_scaler models\n",
    "\n",
    "# Importing the StandardScaler class from sklearn.preprocessing\n",
    "from sklearn.preprocessing import StandardScaler\n",
    "\n",
    "# Creating an instance of the StandardScaler class\n",
    "scaler_X = StandardScaler()\n",
    "scaler_y = StandardScaler()\n",
    "\n",
    "# Fitting the scaler to the training data and transforming both training and testing data\n",
    "X_train_scaled = scaler_X.fit_transform(X_train)\n",
    "X_test_scaled = scaler_X.transform(X_test)\n",
    "y_train_scaled = scaler_y.fit_transform(y_train)\n",
    "y_test_scaled = scaler_y.transform(y_test)\n"
   ]
  },
  {
   "cell_type": "code",
   "execution_count": 327,
   "metadata": {
    "colab": {
     "base_uri": "https://localhost:8080/",
     "height": 34
    },
    "colab_type": "code",
    "id": "Rpurwnfq-HDY",
    "outputId": "4a13f001-c818-43d6-e262-43308cd7b9b3"
   },
   "outputs": [
    {
     "data": {
      "text/html": [
       "<style>#sk-container-id-14 {color: black;background-color: white;}#sk-container-id-14 pre{padding: 0;}#sk-container-id-14 div.sk-toggleable {background-color: white;}#sk-container-id-14 label.sk-toggleable__label {cursor: pointer;display: block;width: 100%;margin-bottom: 0;padding: 0.3em;box-sizing: border-box;text-align: center;}#sk-container-id-14 label.sk-toggleable__label-arrow:before {content: \"▸\";float: left;margin-right: 0.25em;color: #696969;}#sk-container-id-14 label.sk-toggleable__label-arrow:hover:before {color: black;}#sk-container-id-14 div.sk-estimator:hover label.sk-toggleable__label-arrow:before {color: black;}#sk-container-id-14 div.sk-toggleable__content {max-height: 0;max-width: 0;overflow: hidden;text-align: left;background-color: #f0f8ff;}#sk-container-id-14 div.sk-toggleable__content pre {margin: 0.2em;color: black;border-radius: 0.25em;background-color: #f0f8ff;}#sk-container-id-14 input.sk-toggleable__control:checked~div.sk-toggleable__content {max-height: 200px;max-width: 100%;overflow: auto;}#sk-container-id-14 input.sk-toggleable__control:checked~label.sk-toggleable__label-arrow:before {content: \"▾\";}#sk-container-id-14 div.sk-estimator input.sk-toggleable__control:checked~label.sk-toggleable__label {background-color: #d4ebff;}#sk-container-id-14 div.sk-label input.sk-toggleable__control:checked~label.sk-toggleable__label {background-color: #d4ebff;}#sk-container-id-14 input.sk-hidden--visually {border: 0;clip: rect(1px 1px 1px 1px);clip: rect(1px, 1px, 1px, 1px);height: 1px;margin: -1px;overflow: hidden;padding: 0;position: absolute;width: 1px;}#sk-container-id-14 div.sk-estimator {font-family: monospace;background-color: #f0f8ff;border: 1px dotted black;border-radius: 0.25em;box-sizing: border-box;margin-bottom: 0.5em;}#sk-container-id-14 div.sk-estimator:hover {background-color: #d4ebff;}#sk-container-id-14 div.sk-parallel-item::after {content: \"\";width: 100%;border-bottom: 1px solid gray;flex-grow: 1;}#sk-container-id-14 div.sk-label:hover label.sk-toggleable__label {background-color: #d4ebff;}#sk-container-id-14 div.sk-serial::before {content: \"\";position: absolute;border-left: 1px solid gray;box-sizing: border-box;top: 0;bottom: 0;left: 50%;z-index: 0;}#sk-container-id-14 div.sk-serial {display: flex;flex-direction: column;align-items: center;background-color: white;padding-right: 0.2em;padding-left: 0.2em;position: relative;}#sk-container-id-14 div.sk-item {position: relative;z-index: 1;}#sk-container-id-14 div.sk-parallel {display: flex;align-items: stretch;justify-content: center;background-color: white;position: relative;}#sk-container-id-14 div.sk-item::before, #sk-container-id-14 div.sk-parallel-item::before {content: \"\";position: absolute;border-left: 1px solid gray;box-sizing: border-box;top: 0;bottom: 0;left: 50%;z-index: -1;}#sk-container-id-14 div.sk-parallel-item {display: flex;flex-direction: column;z-index: 1;position: relative;background-color: white;}#sk-container-id-14 div.sk-parallel-item:first-child::after {align-self: flex-end;width: 50%;}#sk-container-id-14 div.sk-parallel-item:last-child::after {align-self: flex-start;width: 50%;}#sk-container-id-14 div.sk-parallel-item:only-child::after {width: 0;}#sk-container-id-14 div.sk-dashed-wrapped {border: 1px dashed gray;margin: 0 0.4em 0.5em 0.4em;box-sizing: border-box;padding-bottom: 0.4em;background-color: white;}#sk-container-id-14 div.sk-label label {font-family: monospace;font-weight: bold;display: inline-block;line-height: 1.2em;}#sk-container-id-14 div.sk-label-container {text-align: center;}#sk-container-id-14 div.sk-container {/* jupyter's `normalize.less` sets `[hidden] { display: none; }` but bootstrap.min.css set `[hidden] { display: none !important; }` so we also need the `!important` here to be able to override the default hidden behavior on the sphinx rendered scikit-learn.org. See: https://github.com/scikit-learn/scikit-learn/issues/21755 */display: inline-block !important;position: relative;}#sk-container-id-14 div.sk-text-repr-fallback {display: none;}</style><div id=\"sk-container-id-14\" class=\"sk-top-container\"><div class=\"sk-text-repr-fallback\"><pre>LinearRegression()</pre><b>In a Jupyter environment, please rerun this cell to show the HTML representation or trust the notebook. <br />On GitHub, the HTML representation is unable to render, please try loading this page with nbviewer.org.</b></div><div class=\"sk-container\" hidden><div class=\"sk-item\"><div class=\"sk-estimator sk-toggleable\"><input class=\"sk-toggleable__control sk-hidden--visually\" id=\"sk-estimator-id-14\" type=\"checkbox\" checked><label for=\"sk-estimator-id-14\" class=\"sk-toggleable__label sk-toggleable__label-arrow\">LinearRegression</label><div class=\"sk-toggleable__content\"><pre>LinearRegression()</pre></div></div></div></div></div>"
      ],
      "text/plain": [
       "LinearRegression()"
      ]
     },
     "execution_count": 327,
     "metadata": {},
     "output_type": "execute_result"
    }
   ],
   "source": [
    "# Creating a LinearRegression model and fit it to the scaled training data\n",
    "\n",
    "\n",
    "from sklearn.linear_model import LinearRegression\n",
    "\n",
    "models = []\n",
    "\n",
    "model = LinearRegression()\n",
    "model.fit(X_train_scaled, y_train_scaled)\n"
   ]
  },
  {
   "cell_type": "code",
   "execution_count": 337,
   "metadata": {
    "colab": {
     "base_uri": "https://localhost:8080/",
     "height": 34
    },
    "colab_type": "code",
    "id": "bBdsJ91r-KzX",
    "outputId": "48a716ef-6635-4f86-9859-281c8c454260"
   },
   "outputs": [
    {
     "name": "stdout",
     "output_type": "stream",
     "text": [
      "MSE: 1.8290078285065003, R2: 0.008449752623810536\n"
     ]
    }
   ],
   "source": [
    "# Using X_test_scaled, y_test_scaled, and model.predict(X_test_scaled) to calculate MSE and R2\n",
    "\n",
    "# Importing the mean_square_erro class from sklearn.metrics\n",
    "from sklearn.metrics import mean_squared_error\n",
    "\n",
    "MSE = mean_squared_error(y_test_scaled,X_test_scaled )\n",
    "r2 = model.score(X_test_scaled, y_test_scaled)\n",
    "\n",
    "print(f\"MSE: {MSE}, R2: {r2}\")\n",
    "models.append({\"model\": \"LinearRegression\",\n",
    "            \"MSE\": MSE,\n",
    "            \"R2\":r2})"
   ]
  },
  {
   "cell_type": "code",
   "execution_count": 338,
   "metadata": {
    "colab": {
     "base_uri": "https://localhost:8080/",
     "height": 34
    },
    "colab_type": "code",
    "id": "DO9LIokm-Ogx",
    "outputId": "cdb38d14-c212-43da-80d9-34bd6b6dfcd0"
   },
   "outputs": [
    {
     "name": "stdout",
     "output_type": "stream",
     "text": [
      "LASSO MSE: 1.0250738687278018, R2: 0.008367392955300423\n"
     ]
    }
   ],
   "source": [
    "# Lasso model\n",
    "from sklearn.linear_model import Lasso\n",
    "alpha = 0.01\n",
    "lasso = Lasso(alpha=alpha)\n",
    "lasso.fit(X_train_scaled, y_train_scaled)\n",
    "\n",
    "lasso_predictions = lasso.predict(X_test_scaled)\n",
    "\n",
    "lasso_mse = mean_squared_error(y_test_scaled, lasso_predictions)\n",
    "lasso_r2 = lasso.score(X_test_scaled, y_test_scaled)\n",
    "\n",
    "print(f\"LASSO MSE: {lasso_mse}, R2: {lasso_r2}\")\n",
    "models.append({\"model\": \"Lasso\", \"MSE\": lasso_mse, \"R2\": lasso_r2})\n"
   ]
  },
  {
   "cell_type": "code",
   "execution_count": 339,
   "metadata": {
    "colab": {
     "base_uri": "https://localhost:8080/",
     "height": 34
    },
    "colab_type": "code",
    "id": "ponyikm9-t8N",
    "outputId": "9ccccc78-6a58-4ec6-f07f-043aa9d0059c"
   },
   "outputs": [
    {
     "name": "stdout",
     "output_type": "stream",
     "text": [
      "Ridge model MSE: 1.02498873150826, R2 score: 0.008449752720334214\n"
     ]
    }
   ],
   "source": [
    "##Ridge Model\n",
    "# Define Ridge model with alpha value of 0.01\n",
    "from sklearn.linear_model import Ridge\n",
    "ridge_model = Ridge(alpha=0.01)\n",
    "\n",
    "# Fit the scaled training data to the Ridge model\n",
    "X_train_scaled_ridge = X_scaler.transform(X_train)\n",
    "y_train_scaled_ridge = y_scaler.transform(y_train)\n",
    "ridge_model.fit(X_train_scaled_ridge, y_train_scaled_ridge)\n",
    "\n",
    "# Use the Ridge model to predict values for the scaled test data\n",
    "X_test_scaled_ridge = X_scaler.transform(X_test)\n",
    "y_test_scaled_ridge = y_scaler.transform(y_test)\n",
    "predictions_ridge = ridge_model.predict(X_test_scaled_ridge)\n",
    "\n",
    "# Calculate the mean squared error and R2 score for the Ridge model predictions\n",
    "from sklearn.metrics import mean_squared_error, r2_score\n",
    "mse_ridge = mean_squared_error(y_test_scaled_ridge, predictions_ridge)\n",
    "r2_ridge = r2_score(y_test_scaled_ridge, predictions_ridge)\n",
    "\n",
    "# Print the MSE and R2 score for the Ridge model predictions\n",
    "print(f\"Ridge model MSE: {mse_ridge}, R2 score: {r2_ridge}\")\n",
    "\n",
    "# Append the Ridge model name, MSE, and R2 score to the models list\n",
    "models.append({\"model\": \"Ridge\",\n",
    "               \"MSE\": mse_ridge,\n",
    "               \"R2\": r2_ridge})\n"
   ]
  },
  {
   "cell_type": "code",
   "execution_count": 340,
   "metadata": {
    "colab": {
     "base_uri": "https://localhost:8080/",
     "height": 34
    },
    "colab_type": "code",
    "id": "9-DW7_AQ-wEd",
    "outputId": "61bd82da-17d8-4870-a218-a06c87aff5a7"
   },
   "outputs": [
    {
     "name": "stdout",
     "output_type": "stream",
     "text": [
      "ElasticNet model MSE: 1.0250108015878807, R2 score: 0.008428402638881782\n"
     ]
    }
   ],
   "source": [
    "# # ElasticNet model\n",
    "\n",
    "from sklearn.linear_model import ElasticNet\n",
    "\n",
    "# create an ElasticNet model with alpha=0.01\n",
    "en_model = ElasticNet(alpha=0.01)\n",
    "\n",
    "# fit the model to the scaled training data\n",
    "en_model.fit(X_train_scaled, y_train_scaled)\n",
    "\n",
    "# use the model to predict the output on the scaled test data\n",
    "y_pred_scaled = en_model.predict(X_test_scaled)\n",
    "\n",
    "# calculate the mean squared error (MSE) and R-squared (R2) score\n",
    "mse = mean_squared_error(y_test_scaled, y_pred_scaled)\n",
    "r2 = en_model.score(X_test_scaled, y_test_scaled)\n",
    "\n",
    "# Print the MSE and R2 score for the Ridge model predictions\n",
    "print(f\"ElasticNet model MSE: {mse}, R2 score: {r2}\")\n",
    "# add the model results to a list\n",
    "models.append({\n",
    "    \"model\": \"ElasticNet\",\n",
    "    \"MSE\": mse,\n",
    "    \"R2\": r2\n",
    "})\n"
   ]
  },
  {
   "cell_type": "code",
   "execution_count": 341,
   "metadata": {
    "colab": {
     "base_uri": "https://localhost:8080/",
     "height": 80
    },
    "colab_type": "code",
    "id": "Sg9Y-GcX-x1C",
    "outputId": "6eb9c1c4-e855-4302-c5c8-caf91fd4a93a"
   },
   "outputs": [
    {
     "data": {
      "text/html": [
       "<div>\n",
       "<style scoped>\n",
       "    .dataframe tbody tr th:only-of-type {\n",
       "        vertical-align: middle;\n",
       "    }\n",
       "\n",
       "    .dataframe tbody tr th {\n",
       "        vertical-align: top;\n",
       "    }\n",
       "\n",
       "    .dataframe thead th {\n",
       "        text-align: right;\n",
       "    }\n",
       "</style>\n",
       "<table border=\"1\" class=\"dataframe\">\n",
       "  <thead>\n",
       "    <tr style=\"text-align: right;\">\n",
       "      <th></th>\n",
       "      <th>model</th>\n",
       "      <th>MSE</th>\n",
       "      <th>R2</th>\n",
       "      <th>model_name</th>\n",
       "    </tr>\n",
       "  </thead>\n",
       "  <tbody>\n",
       "    <tr>\n",
       "      <th>3</th>\n",
       "      <td>Ridge</td>\n",
       "      <td>1.024989</td>\n",
       "      <td>0.00845</td>\n",
       "      <td>NaN</td>\n",
       "    </tr>\n",
       "    <tr>\n",
       "      <th>8</th>\n",
       "      <td>Ridge</td>\n",
       "      <td>1.024989</td>\n",
       "      <td>0.00845</td>\n",
       "      <td>NaN</td>\n",
       "    </tr>\n",
       "  </tbody>\n",
       "</table>\n",
       "</div>"
      ],
      "text/plain": [
       "   model       MSE       R2 model_name\n",
       "3  Ridge  1.024989  0.00845        NaN\n",
       "8  Ridge  1.024989  0.00845        NaN"
      ]
     },
     "execution_count": 341,
     "metadata": {},
     "output_type": "execute_result"
    }
   ],
   "source": [
    "a = pd.DataFrame(models)\n",
    "a[a[\"R2\"]==a[\"R2\"].max()]"
   ]
  },
  {
   "cell_type": "code",
   "execution_count": 342,
   "metadata": {
    "colab": {
     "base_uri": "https://localhost:8080/",
     "height": 173
    },
    "colab_type": "code",
    "id": "maH_rVle-zwb",
    "outputId": "1e70ff53-73b9-49a4-a111-f59844b9b41e"
   },
   "outputs": [
    {
     "data": {
      "text/html": [
       "<div>\n",
       "<style scoped>\n",
       "    .dataframe tbody tr th:only-of-type {\n",
       "        vertical-align: middle;\n",
       "    }\n",
       "\n",
       "    .dataframe tbody tr th {\n",
       "        vertical-align: top;\n",
       "    }\n",
       "\n",
       "    .dataframe thead th {\n",
       "        text-align: right;\n",
       "    }\n",
       "</style>\n",
       "<table border=\"1\" class=\"dataframe\">\n",
       "  <thead>\n",
       "    <tr style=\"text-align: right;\">\n",
       "      <th></th>\n",
       "      <th>model</th>\n",
       "      <th>MSE</th>\n",
       "      <th>R2</th>\n",
       "      <th>model_name</th>\n",
       "    </tr>\n",
       "  </thead>\n",
       "  <tbody>\n",
       "    <tr>\n",
       "      <th>0</th>\n",
       "      <td>LinearRegression</td>\n",
       "      <td>1.829008</td>\n",
       "      <td>0.008450</td>\n",
       "      <td>NaN</td>\n",
       "    </tr>\n",
       "    <tr>\n",
       "      <th>1</th>\n",
       "      <td>Lasso</td>\n",
       "      <td>1.025074</td>\n",
       "      <td>0.008367</td>\n",
       "      <td>NaN</td>\n",
       "    </tr>\n",
       "    <tr>\n",
       "      <th>2</th>\n",
       "      <td>Lasso</td>\n",
       "      <td>1.025074</td>\n",
       "      <td>0.008367</td>\n",
       "      <td>NaN</td>\n",
       "    </tr>\n",
       "    <tr>\n",
       "      <th>3</th>\n",
       "      <td>Ridge</td>\n",
       "      <td>1.024989</td>\n",
       "      <td>0.008450</td>\n",
       "      <td>NaN</td>\n",
       "    </tr>\n",
       "    <tr>\n",
       "      <th>4</th>\n",
       "      <td>NaN</td>\n",
       "      <td>1.025011</td>\n",
       "      <td>0.008428</td>\n",
       "      <td>ElasticNet</td>\n",
       "    </tr>\n",
       "    <tr>\n",
       "      <th>5</th>\n",
       "      <td>NaN</td>\n",
       "      <td>1.025011</td>\n",
       "      <td>0.008428</td>\n",
       "      <td>ElasticNet</td>\n",
       "    </tr>\n",
       "    <tr>\n",
       "      <th>6</th>\n",
       "      <td>LinearRegression</td>\n",
       "      <td>1.829008</td>\n",
       "      <td>0.008450</td>\n",
       "      <td>NaN</td>\n",
       "    </tr>\n",
       "    <tr>\n",
       "      <th>7</th>\n",
       "      <td>Lasso</td>\n",
       "      <td>1.025074</td>\n",
       "      <td>0.008367</td>\n",
       "      <td>NaN</td>\n",
       "    </tr>\n",
       "    <tr>\n",
       "      <th>8</th>\n",
       "      <td>Ridge</td>\n",
       "      <td>1.024989</td>\n",
       "      <td>0.008450</td>\n",
       "      <td>NaN</td>\n",
       "    </tr>\n",
       "    <tr>\n",
       "      <th>9</th>\n",
       "      <td>ElasticNet</td>\n",
       "      <td>1.025011</td>\n",
       "      <td>0.008428</td>\n",
       "      <td>NaN</td>\n",
       "    </tr>\n",
       "  </tbody>\n",
       "</table>\n",
       "</div>"
      ],
      "text/plain": [
       "              model       MSE        R2  model_name\n",
       "0  LinearRegression  1.829008  0.008450         NaN\n",
       "1             Lasso  1.025074  0.008367         NaN\n",
       "2             Lasso  1.025074  0.008367         NaN\n",
       "3             Ridge  1.024989  0.008450         NaN\n",
       "4               NaN  1.025011  0.008428  ElasticNet\n",
       "5               NaN  1.025011  0.008428  ElasticNet\n",
       "6  LinearRegression  1.829008  0.008450         NaN\n",
       "7             Lasso  1.025074  0.008367         NaN\n",
       "8             Ridge  1.024989  0.008450         NaN\n",
       "9        ElasticNet  1.025011  0.008428         NaN"
      ]
     },
     "execution_count": 342,
     "metadata": {},
     "output_type": "execute_result"
    }
   ],
   "source": [
    "a"
   ]
  },
  {
   "cell_type": "code",
   "execution_count": null,
   "metadata": {
    "colab": {},
    "colab_type": "code",
    "id": "NH-iOEqq-1hj"
   },
   "outputs": [],
   "source": []
  },
  {
   "cell_type": "markdown",
   "metadata": {
    "colab_type": "text",
    "id": "6UWVBurR_o3h"
   },
   "source": [
    "Logistic Regression"
   ]
  },
  {
   "cell_type": "code",
   "execution_count": 343,
   "metadata": {
    "colab": {},
    "colab_type": "code",
    "id": "fop-RhEG_8PP"
   },
   "outputs": [],
   "source": [
    "%matplotlib inline\n",
    "import matplotlib.pyplot as plt\n",
    "import pandas as pd\n",
    "import os"
   ]
  },
  {
   "cell_type": "code",
   "execution_count": 344,
   "metadata": {
    "colab": {
     "base_uri": "https://localhost:8080/",
     "height": 419
    },
    "colab_type": "code",
    "id": "QrGVNRaOAqu9",
    "outputId": "ded10524-e26e-4760-c9e9-739a03f66fd8"
   },
   "outputs": [
    {
     "data": {
      "text/html": [
       "<div>\n",
       "<style scoped>\n",
       "    .dataframe tbody tr th:only-of-type {\n",
       "        vertical-align: middle;\n",
       "    }\n",
       "\n",
       "    .dataframe tbody tr th {\n",
       "        vertical-align: top;\n",
       "    }\n",
       "\n",
       "    .dataframe thead th {\n",
       "        text-align: right;\n",
       "    }\n",
       "</style>\n",
       "<table border=\"1\" class=\"dataframe\">\n",
       "  <thead>\n",
       "    <tr style=\"text-align: right;\">\n",
       "      <th></th>\n",
       "      <th>genre_name</th>\n",
       "      <th>danceability</th>\n",
       "      <th>energy</th>\n",
       "      <th>key</th>\n",
       "      <th>loudness</th>\n",
       "      <th>mode</th>\n",
       "      <th>speechiness</th>\n",
       "      <th>acousticness</th>\n",
       "      <th>instrumentalness</th>\n",
       "      <th>liveness</th>\n",
       "      <th>valence</th>\n",
       "      <th>tempo</th>\n",
       "      <th>duration_ms</th>\n",
       "    </tr>\n",
       "  </thead>\n",
       "  <tbody>\n",
       "    <tr>\n",
       "      <th>0</th>\n",
       "      <td>acoustic</td>\n",
       "      <td>0.703</td>\n",
       "      <td>0.444</td>\n",
       "      <td>11</td>\n",
       "      <td>-9.331</td>\n",
       "      <td>1</td>\n",
       "      <td>0.0417</td>\n",
       "      <td>0.5590</td>\n",
       "      <td>0.000000</td>\n",
       "      <td>0.0973</td>\n",
       "      <td>0.712</td>\n",
       "      <td>150.960</td>\n",
       "      <td>242947</td>\n",
       "    </tr>\n",
       "    <tr>\n",
       "      <th>1</th>\n",
       "      <td>acoustic</td>\n",
       "      <td>0.618</td>\n",
       "      <td>0.443</td>\n",
       "      <td>2</td>\n",
       "      <td>-9.681</td>\n",
       "      <td>1</td>\n",
       "      <td>0.0526</td>\n",
       "      <td>0.4690</td>\n",
       "      <td>0.000000</td>\n",
       "      <td>0.0829</td>\n",
       "      <td>0.167</td>\n",
       "      <td>119.949</td>\n",
       "      <td>198853</td>\n",
       "    </tr>\n",
       "    <tr>\n",
       "      <th>2</th>\n",
       "      <td>acoustic</td>\n",
       "      <td>0.591</td>\n",
       "      <td>0.416</td>\n",
       "      <td>1</td>\n",
       "      <td>-9.794</td>\n",
       "      <td>1</td>\n",
       "      <td>0.0246</td>\n",
       "      <td>0.8820</td>\n",
       "      <td>0.000641</td>\n",
       "      <td>0.1120</td>\n",
       "      <td>0.415</td>\n",
       "      <td>96.003</td>\n",
       "      <td>210080</td>\n",
       "    </tr>\n",
       "    <tr>\n",
       "      <th>3</th>\n",
       "      <td>acoustic</td>\n",
       "      <td>0.583</td>\n",
       "      <td>0.786</td>\n",
       "      <td>2</td>\n",
       "      <td>-3.142</td>\n",
       "      <td>0</td>\n",
       "      <td>0.0301</td>\n",
       "      <td>0.0208</td>\n",
       "      <td>0.000000</td>\n",
       "      <td>0.1880</td>\n",
       "      <td>0.573</td>\n",
       "      <td>123.055</td>\n",
       "      <td>258827</td>\n",
       "    </tr>\n",
       "    <tr>\n",
       "      <th>4</th>\n",
       "      <td>acoustic</td>\n",
       "      <td>0.364</td>\n",
       "      <td>0.308</td>\n",
       "      <td>4</td>\n",
       "      <td>-13.052</td>\n",
       "      <td>1</td>\n",
       "      <td>0.0402</td>\n",
       "      <td>0.8950</td>\n",
       "      <td>0.002300</td>\n",
       "      <td>0.1230</td>\n",
       "      <td>0.387</td>\n",
       "      <td>73.328</td>\n",
       "      <td>191773</td>\n",
       "    </tr>\n",
       "    <tr>\n",
       "      <th>...</th>\n",
       "      <td>...</td>\n",
       "      <td>...</td>\n",
       "      <td>...</td>\n",
       "      <td>...</td>\n",
       "      <td>...</td>\n",
       "      <td>...</td>\n",
       "      <td>...</td>\n",
       "      <td>...</td>\n",
       "      <td>...</td>\n",
       "      <td>...</td>\n",
       "      <td>...</td>\n",
       "      <td>...</td>\n",
       "      <td>...</td>\n",
       "    </tr>\n",
       "    <tr>\n",
       "      <th>16416</th>\n",
       "      <td>mandopop</td>\n",
       "      <td>0.460</td>\n",
       "      <td>0.297</td>\n",
       "      <td>9</td>\n",
       "      <td>-8.785</td>\n",
       "      <td>1</td>\n",
       "      <td>0.0309</td>\n",
       "      <td>0.6920</td>\n",
       "      <td>0.000318</td>\n",
       "      <td>0.1070</td>\n",
       "      <td>0.125</td>\n",
       "      <td>180.095</td>\n",
       "      <td>357094</td>\n",
       "    </tr>\n",
       "    <tr>\n",
       "      <th>16417</th>\n",
       "      <td>mandopop</td>\n",
       "      <td>0.720</td>\n",
       "      <td>0.529</td>\n",
       "      <td>10</td>\n",
       "      <td>-8.928</td>\n",
       "      <td>1</td>\n",
       "      <td>0.0406</td>\n",
       "      <td>0.5590</td>\n",
       "      <td>0.000021</td>\n",
       "      <td>0.1630</td>\n",
       "      <td>0.267</td>\n",
       "      <td>133.967</td>\n",
       "      <td>242293</td>\n",
       "    </tr>\n",
       "    <tr>\n",
       "      <th>16418</th>\n",
       "      <td>mandopop</td>\n",
       "      <td>0.657</td>\n",
       "      <td>0.304</td>\n",
       "      <td>10</td>\n",
       "      <td>-9.115</td>\n",
       "      <td>1</td>\n",
       "      <td>0.0335</td>\n",
       "      <td>0.8340</td>\n",
       "      <td>0.000000</td>\n",
       "      <td>0.1170</td>\n",
       "      <td>0.413</td>\n",
       "      <td>124.781</td>\n",
       "      <td>223570</td>\n",
       "    </tr>\n",
       "    <tr>\n",
       "      <th>16419</th>\n",
       "      <td>mandopop</td>\n",
       "      <td>0.605</td>\n",
       "      <td>0.310</td>\n",
       "      <td>7</td>\n",
       "      <td>-10.276</td>\n",
       "      <td>1</td>\n",
       "      <td>0.0390</td>\n",
       "      <td>0.8490</td>\n",
       "      <td>0.000000</td>\n",
       "      <td>0.1360</td>\n",
       "      <td>0.292</td>\n",
       "      <td>118.028</td>\n",
       "      <td>245521</td>\n",
       "    </tr>\n",
       "    <tr>\n",
       "      <th>16420</th>\n",
       "      <td>mandopop</td>\n",
       "      <td>0.588</td>\n",
       "      <td>0.405</td>\n",
       "      <td>9</td>\n",
       "      <td>-7.328</td>\n",
       "      <td>0</td>\n",
       "      <td>0.0265</td>\n",
       "      <td>0.5790</td>\n",
       "      <td>0.000000</td>\n",
       "      <td>0.3090</td>\n",
       "      <td>0.167</td>\n",
       "      <td>111.760</td>\n",
       "      <td>280524</td>\n",
       "    </tr>\n",
       "  </tbody>\n",
       "</table>\n",
       "<p>16421 rows × 13 columns</p>\n",
       "</div>"
      ],
      "text/plain": [
       "      genre_name  danceability  energy  key  loudness  mode  speechiness   \n",
       "0       acoustic         0.703   0.444   11    -9.331     1       0.0417  \\\n",
       "1       acoustic         0.618   0.443    2    -9.681     1       0.0526   \n",
       "2       acoustic         0.591   0.416    1    -9.794     1       0.0246   \n",
       "3       acoustic         0.583   0.786    2    -3.142     0       0.0301   \n",
       "4       acoustic         0.364   0.308    4   -13.052     1       0.0402   \n",
       "...          ...           ...     ...  ...       ...   ...          ...   \n",
       "16416   mandopop         0.460   0.297    9    -8.785     1       0.0309   \n",
       "16417   mandopop         0.720   0.529   10    -8.928     1       0.0406   \n",
       "16418   mandopop         0.657   0.304   10    -9.115     1       0.0335   \n",
       "16419   mandopop         0.605   0.310    7   -10.276     1       0.0390   \n",
       "16420   mandopop         0.588   0.405    9    -7.328     0       0.0265   \n",
       "\n",
       "       acousticness  instrumentalness  liveness  valence    tempo  duration_ms  \n",
       "0            0.5590          0.000000    0.0973    0.712  150.960       242947  \n",
       "1            0.4690          0.000000    0.0829    0.167  119.949       198853  \n",
       "2            0.8820          0.000641    0.1120    0.415   96.003       210080  \n",
       "3            0.0208          0.000000    0.1880    0.573  123.055       258827  \n",
       "4            0.8950          0.002300    0.1230    0.387   73.328       191773  \n",
       "...             ...               ...       ...      ...      ...          ...  \n",
       "16416        0.6920          0.000318    0.1070    0.125  180.095       357094  \n",
       "16417        0.5590          0.000021    0.1630    0.267  133.967       242293  \n",
       "16418        0.8340          0.000000    0.1170    0.413  124.781       223570  \n",
       "16419        0.8490          0.000000    0.1360    0.292  118.028       245521  \n",
       "16420        0.5790          0.000000    0.3090    0.167  111.760       280524  \n",
       "\n",
       "[16421 rows x 13 columns]"
      ]
     },
     "execution_count": 344,
     "metadata": {},
     "output_type": "execute_result"
    }
   ],
   "source": [
    "ML_df"
   ]
  },
  {
   "cell_type": "code",
   "execution_count": 345,
   "metadata": {
    "colab": {
     "base_uri": "https://localhost:8080/",
     "height": 34
    },
    "colab_type": "code",
    "id": "0LGW8cHUAEEG",
    "outputId": "7eec8b8a-4ffc-4639-9e46-eb200348d714"
   },
   "outputs": [
    {
     "name": "stdout",
     "output_type": "stream",
     "text": [
      "(16421, 12) (16421,)\n"
     ]
    }
   ],
   "source": [
    "# Assign X (data) and y (target)\n",
    "X = ML_df.drop(\"genre_name\", axis=1)\n",
    "y = ML_df[\"genre_name\"]\n",
    "print(X.shape, y.shape)"
   ]
  },
  {
   "cell_type": "code",
   "execution_count": 346,
   "metadata": {
    "colab": {},
    "colab_type": "code",
    "id": "SGkwfVNpAnwj"
   },
   "outputs": [],
   "source": [
    "from sklearn.model_selection import train_test_split\n",
    "\n",
    "X_train, X_test, y_train, y_test = train_test_split(X, y, random_state=1, stratify=y)"
   ]
  },
  {
   "cell_type": "code",
   "execution_count": 347,
   "metadata": {
    "colab": {
     "base_uri": "https://localhost:8080/",
     "height": 102
    },
    "colab_type": "code",
    "id": "iXGsnBX3Ax0n",
    "outputId": "9f23e4f6-2ce2-4eff-cbbd-e1b85ea81cbb"
   },
   "outputs": [
    {
     "data": {
      "text/html": [
       "<style>#sk-container-id-15 {color: black;background-color: white;}#sk-container-id-15 pre{padding: 0;}#sk-container-id-15 div.sk-toggleable {background-color: white;}#sk-container-id-15 label.sk-toggleable__label {cursor: pointer;display: block;width: 100%;margin-bottom: 0;padding: 0.3em;box-sizing: border-box;text-align: center;}#sk-container-id-15 label.sk-toggleable__label-arrow:before {content: \"▸\";float: left;margin-right: 0.25em;color: #696969;}#sk-container-id-15 label.sk-toggleable__label-arrow:hover:before {color: black;}#sk-container-id-15 div.sk-estimator:hover label.sk-toggleable__label-arrow:before {color: black;}#sk-container-id-15 div.sk-toggleable__content {max-height: 0;max-width: 0;overflow: hidden;text-align: left;background-color: #f0f8ff;}#sk-container-id-15 div.sk-toggleable__content pre {margin: 0.2em;color: black;border-radius: 0.25em;background-color: #f0f8ff;}#sk-container-id-15 input.sk-toggleable__control:checked~div.sk-toggleable__content {max-height: 200px;max-width: 100%;overflow: auto;}#sk-container-id-15 input.sk-toggleable__control:checked~label.sk-toggleable__label-arrow:before {content: \"▾\";}#sk-container-id-15 div.sk-estimator input.sk-toggleable__control:checked~label.sk-toggleable__label {background-color: #d4ebff;}#sk-container-id-15 div.sk-label input.sk-toggleable__control:checked~label.sk-toggleable__label {background-color: #d4ebff;}#sk-container-id-15 input.sk-hidden--visually {border: 0;clip: rect(1px 1px 1px 1px);clip: rect(1px, 1px, 1px, 1px);height: 1px;margin: -1px;overflow: hidden;padding: 0;position: absolute;width: 1px;}#sk-container-id-15 div.sk-estimator {font-family: monospace;background-color: #f0f8ff;border: 1px dotted black;border-radius: 0.25em;box-sizing: border-box;margin-bottom: 0.5em;}#sk-container-id-15 div.sk-estimator:hover {background-color: #d4ebff;}#sk-container-id-15 div.sk-parallel-item::after {content: \"\";width: 100%;border-bottom: 1px solid gray;flex-grow: 1;}#sk-container-id-15 div.sk-label:hover label.sk-toggleable__label {background-color: #d4ebff;}#sk-container-id-15 div.sk-serial::before {content: \"\";position: absolute;border-left: 1px solid gray;box-sizing: border-box;top: 0;bottom: 0;left: 50%;z-index: 0;}#sk-container-id-15 div.sk-serial {display: flex;flex-direction: column;align-items: center;background-color: white;padding-right: 0.2em;padding-left: 0.2em;position: relative;}#sk-container-id-15 div.sk-item {position: relative;z-index: 1;}#sk-container-id-15 div.sk-parallel {display: flex;align-items: stretch;justify-content: center;background-color: white;position: relative;}#sk-container-id-15 div.sk-item::before, #sk-container-id-15 div.sk-parallel-item::before {content: \"\";position: absolute;border-left: 1px solid gray;box-sizing: border-box;top: 0;bottom: 0;left: 50%;z-index: -1;}#sk-container-id-15 div.sk-parallel-item {display: flex;flex-direction: column;z-index: 1;position: relative;background-color: white;}#sk-container-id-15 div.sk-parallel-item:first-child::after {align-self: flex-end;width: 50%;}#sk-container-id-15 div.sk-parallel-item:last-child::after {align-self: flex-start;width: 50%;}#sk-container-id-15 div.sk-parallel-item:only-child::after {width: 0;}#sk-container-id-15 div.sk-dashed-wrapped {border: 1px dashed gray;margin: 0 0.4em 0.5em 0.4em;box-sizing: border-box;padding-bottom: 0.4em;background-color: white;}#sk-container-id-15 div.sk-label label {font-family: monospace;font-weight: bold;display: inline-block;line-height: 1.2em;}#sk-container-id-15 div.sk-label-container {text-align: center;}#sk-container-id-15 div.sk-container {/* jupyter's `normalize.less` sets `[hidden] { display: none; }` but bootstrap.min.css set `[hidden] { display: none !important; }` so we also need the `!important` here to be able to override the default hidden behavior on the sphinx rendered scikit-learn.org. See: https://github.com/scikit-learn/scikit-learn/issues/21755 */display: inline-block !important;position: relative;}#sk-container-id-15 div.sk-text-repr-fallback {display: none;}</style><div id=\"sk-container-id-15\" class=\"sk-top-container\"><div class=\"sk-text-repr-fallback\"><pre>LogisticRegression()</pre><b>In a Jupyter environment, please rerun this cell to show the HTML representation or trust the notebook. <br />On GitHub, the HTML representation is unable to render, please try loading this page with nbviewer.org.</b></div><div class=\"sk-container\" hidden><div class=\"sk-item\"><div class=\"sk-estimator sk-toggleable\"><input class=\"sk-toggleable__control sk-hidden--visually\" id=\"sk-estimator-id-15\" type=\"checkbox\" checked><label for=\"sk-estimator-id-15\" class=\"sk-toggleable__label sk-toggleable__label-arrow\">LogisticRegression</label><div class=\"sk-toggleable__content\"><pre>LogisticRegression()</pre></div></div></div></div></div>"
      ],
      "text/plain": [
       "LogisticRegression()"
      ]
     },
     "execution_count": 347,
     "metadata": {},
     "output_type": "execute_result"
    }
   ],
   "source": [
    "from sklearn.linear_model import LogisticRegression\n",
    "classifier = LogisticRegression()\n",
    "classifier"
   ]
  },
  {
   "cell_type": "code",
   "execution_count": 348,
   "metadata": {
    "colab": {
     "base_uri": "https://localhost:8080/",
     "height": 221
    },
    "colab_type": "code",
    "id": "p238xVSIAznc",
    "outputId": "e9bad55f-79cd-4688-f212-63eca8a4d724"
   },
   "outputs": [
    {
     "data": {
      "text/plain": [
       "6155         deep-house\n",
       "10412            groove\n",
       "6452     detroit-techno\n",
       "12358           hip-hop\n",
       "2198              blues\n",
       "              ...      \n",
       "10921             happy\n",
       "2117              blues\n",
       "6367     detroit-techno\n",
       "5750          dancehall\n",
       "15256             k-pop\n",
       "Name: genre_name, Length: 12315, dtype: object"
      ]
     },
     "execution_count": 348,
     "metadata": {},
     "output_type": "execute_result"
    }
   ],
   "source": [
    "y_train"
   ]
  },
  {
   "cell_type": "code",
   "execution_count": 349,
   "metadata": {
    "colab": {
     "base_uri": "https://localhost:8080/",
     "height": 238
    },
    "colab_type": "code",
    "id": "8XcuM1BFA1Ss",
    "outputId": "64d7a561-b9f3-45c8-e32d-7c99f8e63639"
   },
   "outputs": [
    {
     "data": {
      "text/html": [
       "<style>#sk-container-id-16 {color: black;background-color: white;}#sk-container-id-16 pre{padding: 0;}#sk-container-id-16 div.sk-toggleable {background-color: white;}#sk-container-id-16 label.sk-toggleable__label {cursor: pointer;display: block;width: 100%;margin-bottom: 0;padding: 0.3em;box-sizing: border-box;text-align: center;}#sk-container-id-16 label.sk-toggleable__label-arrow:before {content: \"▸\";float: left;margin-right: 0.25em;color: #696969;}#sk-container-id-16 label.sk-toggleable__label-arrow:hover:before {color: black;}#sk-container-id-16 div.sk-estimator:hover label.sk-toggleable__label-arrow:before {color: black;}#sk-container-id-16 div.sk-toggleable__content {max-height: 0;max-width: 0;overflow: hidden;text-align: left;background-color: #f0f8ff;}#sk-container-id-16 div.sk-toggleable__content pre {margin: 0.2em;color: black;border-radius: 0.25em;background-color: #f0f8ff;}#sk-container-id-16 input.sk-toggleable__control:checked~div.sk-toggleable__content {max-height: 200px;max-width: 100%;overflow: auto;}#sk-container-id-16 input.sk-toggleable__control:checked~label.sk-toggleable__label-arrow:before {content: \"▾\";}#sk-container-id-16 div.sk-estimator input.sk-toggleable__control:checked~label.sk-toggleable__label {background-color: #d4ebff;}#sk-container-id-16 div.sk-label input.sk-toggleable__control:checked~label.sk-toggleable__label {background-color: #d4ebff;}#sk-container-id-16 input.sk-hidden--visually {border: 0;clip: rect(1px 1px 1px 1px);clip: rect(1px, 1px, 1px, 1px);height: 1px;margin: -1px;overflow: hidden;padding: 0;position: absolute;width: 1px;}#sk-container-id-16 div.sk-estimator {font-family: monospace;background-color: #f0f8ff;border: 1px dotted black;border-radius: 0.25em;box-sizing: border-box;margin-bottom: 0.5em;}#sk-container-id-16 div.sk-estimator:hover {background-color: #d4ebff;}#sk-container-id-16 div.sk-parallel-item::after {content: \"\";width: 100%;border-bottom: 1px solid gray;flex-grow: 1;}#sk-container-id-16 div.sk-label:hover label.sk-toggleable__label {background-color: #d4ebff;}#sk-container-id-16 div.sk-serial::before {content: \"\";position: absolute;border-left: 1px solid gray;box-sizing: border-box;top: 0;bottom: 0;left: 50%;z-index: 0;}#sk-container-id-16 div.sk-serial {display: flex;flex-direction: column;align-items: center;background-color: white;padding-right: 0.2em;padding-left: 0.2em;position: relative;}#sk-container-id-16 div.sk-item {position: relative;z-index: 1;}#sk-container-id-16 div.sk-parallel {display: flex;align-items: stretch;justify-content: center;background-color: white;position: relative;}#sk-container-id-16 div.sk-item::before, #sk-container-id-16 div.sk-parallel-item::before {content: \"\";position: absolute;border-left: 1px solid gray;box-sizing: border-box;top: 0;bottom: 0;left: 50%;z-index: -1;}#sk-container-id-16 div.sk-parallel-item {display: flex;flex-direction: column;z-index: 1;position: relative;background-color: white;}#sk-container-id-16 div.sk-parallel-item:first-child::after {align-self: flex-end;width: 50%;}#sk-container-id-16 div.sk-parallel-item:last-child::after {align-self: flex-start;width: 50%;}#sk-container-id-16 div.sk-parallel-item:only-child::after {width: 0;}#sk-container-id-16 div.sk-dashed-wrapped {border: 1px dashed gray;margin: 0 0.4em 0.5em 0.4em;box-sizing: border-box;padding-bottom: 0.4em;background-color: white;}#sk-container-id-16 div.sk-label label {font-family: monospace;font-weight: bold;display: inline-block;line-height: 1.2em;}#sk-container-id-16 div.sk-label-container {text-align: center;}#sk-container-id-16 div.sk-container {/* jupyter's `normalize.less` sets `[hidden] { display: none; }` but bootstrap.min.css set `[hidden] { display: none !important; }` so we also need the `!important` here to be able to override the default hidden behavior on the sphinx rendered scikit-learn.org. See: https://github.com/scikit-learn/scikit-learn/issues/21755 */display: inline-block !important;position: relative;}#sk-container-id-16 div.sk-text-repr-fallback {display: none;}</style><div id=\"sk-container-id-16\" class=\"sk-top-container\"><div class=\"sk-text-repr-fallback\"><pre>LogisticRegression()</pre><b>In a Jupyter environment, please rerun this cell to show the HTML representation or trust the notebook. <br />On GitHub, the HTML representation is unable to render, please try loading this page with nbviewer.org.</b></div><div class=\"sk-container\" hidden><div class=\"sk-item\"><div class=\"sk-estimator sk-toggleable\"><input class=\"sk-toggleable__control sk-hidden--visually\" id=\"sk-estimator-id-16\" type=\"checkbox\" checked><label for=\"sk-estimator-id-16\" class=\"sk-toggleable__label sk-toggleable__label-arrow\">LogisticRegression</label><div class=\"sk-toggleable__content\"><pre>LogisticRegression()</pre></div></div></div></div></div>"
      ],
      "text/plain": [
       "LogisticRegression()"
      ]
     },
     "execution_count": 349,
     "metadata": {},
     "output_type": "execute_result"
    }
   ],
   "source": [
    "classifier.fit(X_train, y_train)"
   ]
  },
  {
   "cell_type": "code",
   "execution_count": 350,
   "metadata": {
    "colab": {
     "base_uri": "https://localhost:8080/",
     "height": 51
    },
    "colab_type": "code",
    "id": "HGLc4W3RA3sa",
    "outputId": "1140c176-8095-4187-8840-817b77e400fb"
   },
   "outputs": [
    {
     "name": "stdout",
     "output_type": "stream",
     "text": [
      "Training Data Score: 0.04734064149411287\n",
      "Testing Data Score: 0.04870920603994155\n"
     ]
    }
   ],
   "source": [
    "print(f\"Training Data Score: {classifier.score(X_train, y_train)}\")\n",
    "print(f\"Testing Data Score: {classifier.score(X_test, y_test)}\")"
   ]
  },
  {
   "cell_type": "code",
   "execution_count": 351,
   "metadata": {
    "colab": {
     "base_uri": "https://localhost:8080/",
     "height": 68
    },
    "colab_type": "code",
    "id": "rIM1YnKLBS8D",
    "outputId": "c24594ac-b192-4635-d8f6-1fa3ac97c65f"
   },
   "outputs": [
    {
     "name": "stdout",
     "output_type": "stream",
     "text": [
      "First 10 Predictions:   ['drum-and-bass' 'children' 'drum-and-bass' 'drum-and-bass'\n",
      " 'chicago-house' 'happy' 'drum-and-bass' 'drum-and-bass' 'chicago-house'\n",
      " 'hardstyle']\n",
      "First 10 Actual labels: ['hardstyle', 'classical', 'drum-and-bass', 'folk', 'british', 'alt-rock', 'black-metal', 'k-pop', 'j-rock', 'honky-tonk']\n"
     ]
    }
   ],
   "source": [
    "predictions = classifier.predict(X_test)\n",
    "print(f\"First 10 Predictions:   {predictions[:10]}\")\n",
    "print(f\"First 10 Actual labels: {y_test[:10].tolist()}\")"
   ]
  },
  {
   "cell_type": "code",
   "execution_count": 352,
   "metadata": {
    "colab": {
     "base_uri": "https://localhost:8080/",
     "height": 419
    },
    "colab_type": "code",
    "id": "Te9gjW-pBYF7",
    "outputId": "d69ced4b-cfa0-425c-a7f7-be3a0c11601f"
   },
   "outputs": [
    {
     "data": {
      "text/html": [
       "<div>\n",
       "<style scoped>\n",
       "    .dataframe tbody tr th:only-of-type {\n",
       "        vertical-align: middle;\n",
       "    }\n",
       "\n",
       "    .dataframe tbody tr th {\n",
       "        vertical-align: top;\n",
       "    }\n",
       "\n",
       "    .dataframe thead th {\n",
       "        text-align: right;\n",
       "    }\n",
       "</style>\n",
       "<table border=\"1\" class=\"dataframe\">\n",
       "  <thead>\n",
       "    <tr style=\"text-align: right;\">\n",
       "      <th></th>\n",
       "      <th>Prediction</th>\n",
       "      <th>Actual</th>\n",
       "    </tr>\n",
       "  </thead>\n",
       "  <tbody>\n",
       "    <tr>\n",
       "      <th>0</th>\n",
       "      <td>drum-and-bass</td>\n",
       "      <td>hardstyle</td>\n",
       "    </tr>\n",
       "    <tr>\n",
       "      <th>1</th>\n",
       "      <td>children</td>\n",
       "      <td>classical</td>\n",
       "    </tr>\n",
       "    <tr>\n",
       "      <th>2</th>\n",
       "      <td>drum-and-bass</td>\n",
       "      <td>drum-and-bass</td>\n",
       "    </tr>\n",
       "    <tr>\n",
       "      <th>3</th>\n",
       "      <td>drum-and-bass</td>\n",
       "      <td>folk</td>\n",
       "    </tr>\n",
       "    <tr>\n",
       "      <th>4</th>\n",
       "      <td>chicago-house</td>\n",
       "      <td>british</td>\n",
       "    </tr>\n",
       "    <tr>\n",
       "      <th>...</th>\n",
       "      <td>...</td>\n",
       "      <td>...</td>\n",
       "    </tr>\n",
       "    <tr>\n",
       "      <th>4101</th>\n",
       "      <td>drum-and-bass</td>\n",
       "      <td>indie</td>\n",
       "    </tr>\n",
       "    <tr>\n",
       "      <th>4102</th>\n",
       "      <td>breakbeat</td>\n",
       "      <td>disco</td>\n",
       "    </tr>\n",
       "    <tr>\n",
       "      <th>4103</th>\n",
       "      <td>cantopop</td>\n",
       "      <td>acoustic</td>\n",
       "    </tr>\n",
       "    <tr>\n",
       "      <th>4104</th>\n",
       "      <td>chicago-house</td>\n",
       "      <td>heavy-metal</td>\n",
       "    </tr>\n",
       "    <tr>\n",
       "      <th>4105</th>\n",
       "      <td>chicago-house</td>\n",
       "      <td>funk</td>\n",
       "    </tr>\n",
       "  </tbody>\n",
       "</table>\n",
       "<p>4106 rows × 2 columns</p>\n",
       "</div>"
      ],
      "text/plain": [
       "         Prediction         Actual\n",
       "0     drum-and-bass      hardstyle\n",
       "1          children      classical\n",
       "2     drum-and-bass  drum-and-bass\n",
       "3     drum-and-bass           folk\n",
       "4     chicago-house        british\n",
       "...             ...            ...\n",
       "4101  drum-and-bass          indie\n",
       "4102      breakbeat          disco\n",
       "4103       cantopop       acoustic\n",
       "4104  chicago-house    heavy-metal\n",
       "4105  chicago-house           funk\n",
       "\n",
       "[4106 rows x 2 columns]"
      ]
     },
     "execution_count": 352,
     "metadata": {},
     "output_type": "execute_result"
    }
   ],
   "source": [
    "pd.DataFrame({\"Prediction\": predictions, \"Actual\": y_test}).reset_index(drop=True)"
   ]
  },
  {
   "cell_type": "markdown",
   "metadata": {
    "colab_type": "text",
    "id": "rfQdA7p1Ftf0"
   },
   "source": [
    "Trying with Neural Network Deep Learning\n"
   ]
  },
  {
   "cell_type": "code",
   "execution_count": 357,
   "metadata": {},
   "outputs": [],
   "source": [
    "#Importing necessary libraries\n",
    "from sklearn.model_selection import train_test_split\n",
    "from sklearn.preprocessing import LabelEncoder, MinMaxScaler\n",
    "from tensorflow.keras.utils import to_categorical\n",
    "from tensorflow.keras.models import Sequential\n",
    "from tensorflow.keras.layers import Dense"
   ]
  },
  {
   "cell_type": "code",
   "execution_count": 353,
   "metadata": {
    "colab": {
     "base_uri": "https://localhost:8080/",
     "height": 34
    },
    "colab_type": "code",
    "id": "SrWTPqMfF17I",
    "outputId": "3e9e3c2b-c322-4773-faf5-2215e482e839"
   },
   "outputs": [
    {
     "name": "stdout",
     "output_type": "stream",
     "text": [
      "(16421, 12) (16421,)\n"
     ]
    }
   ],
   "source": [
    "# Assign X (data) and y (target)\n",
    "X = ML_df.drop(\"genre_name\", axis=1)\n",
    "y = ML_df[\"genre_name\"]\n",
    "print(X.shape, y.shape)"
   ]
  },
  {
   "cell_type": "code",
   "execution_count": null,
   "metadata": {
    "colab": {},
    "colab_type": "code",
    "id": "ltHyZdvpF8B8"
   },
   "outputs": [],
   "source": []
  },
  {
   "cell_type": "code",
   "execution_count": 354,
   "metadata": {
    "colab": {},
    "colab_type": "code",
    "id": "niKGMmGsF9u9"
   },
   "outputs": [],
   "source": [
    "X_train, X_test, y_train, y_test = train_test_split(\n",
    "    X, y, stratify=y)"
   ]
  },
  {
   "cell_type": "code",
   "execution_count": 355,
   "metadata": {
    "colab": {},
    "colab_type": "code",
    "id": "xnLoTwoBGABc"
   },
   "outputs": [],
   "source": [
    "X_scaler = MinMaxScaler().fit(X_train)\n",
    "X_train_scaled = X_scaler.transform(X_train)\n",
    "X_test_scaled = X_scaler.transform(X_test)"
   ]
  },
  {
   "cell_type": "code",
   "execution_count": 356,
   "metadata": {
    "colab": {},
    "colab_type": "code",
    "id": "jUN3MoEYGDUV"
   },
   "outputs": [],
   "source": [
    "# Step 1: Label-encode data set\n",
    "label_encoder = LabelEncoder()\n",
    "label_encoder.fit(y_train)\n",
    "encoded_y_train = label_encoder.transform(y_train)\n",
    "encoded_y_test = label_encoder.transform(y_test)"
   ]
  },
  {
   "cell_type": "code",
   "execution_count": 377,
   "metadata": {
    "colab": {},
    "colab_type": "code",
    "id": "AQfXLbPLGE7o"
   },
   "outputs": [],
   "source": [
    "# Step 2: Convert encoded labels to one-hot-encoding\n",
    "y_train_categorical = to_categorical(encoded_y_train)\n",
    "y_test_categorical = to_categorical(encoded_y_test)"
   ]
  },
  {
   "cell_type": "code",
   "execution_count": null,
   "metadata": {
    "colab": {},
    "colab_type": "code",
    "id": "J5nTitbMGGWb"
   },
   "outputs": [],
   "source": [
    "\n"
   ]
  },
  {
   "cell_type": "code",
   "execution_count": null,
   "metadata": {},
   "outputs": [],
   "source": [
    "\n",
    "\n"
   ]
  },
  {
   "cell_type": "code",
   "execution_count": null,
   "metadata": {},
   "outputs": [],
   "source": []
  },
  {
   "cell_type": "code",
   "execution_count": 382,
   "metadata": {
    "colab": {},
    "colab_type": "code",
    "id": "ayQk0qIlGH0y"
   },
   "outputs": [],
   "source": [
    "# Create model and add layers\n",
    "model = Sequential()\n",
    "model.add(Dense(units=70, activation='relu', input_dim=12))\n",
    "model.add(Dense(units=70, activation='relu'))\n",
    "model.add(Dense(units=70, activation='relu'))\n",
    "model.add(Dense(units=70, activation='softmax'))"
   ]
  },
  {
   "cell_type": "code",
   "execution_count": 383,
   "metadata": {
    "colab": {},
    "colab_type": "code",
    "id": "dStjnWMSGJrH"
   },
   "outputs": [],
   "source": [
    "# Compile and fit the model\n",
    "model.compile(optimizer='adam',\n",
    "              loss='categorical_crossentropy',\n",
    "              metrics=['accuracy'])"
   ]
  },
  {
   "cell_type": "code",
   "execution_count": 384,
   "metadata": {
    "colab": {
     "base_uri": "https://localhost:8080/",
     "height": 289
    },
    "colab_type": "code",
    "id": "JCe13BDbGLmW",
    "outputId": "29293215-a115-4540-a3a6-b9b0b1bdded5"
   },
   "outputs": [
    {
     "name": "stdout",
     "output_type": "stream",
     "text": [
      "Model: \"sequential_26\"\n",
      "_________________________________________________________________\n",
      " Layer (type)                Output Shape              Param #   \n",
      "=================================================================\n",
      " dense_109 (Dense)           (None, 70)                910       \n",
      "                                                                 \n",
      " dense_110 (Dense)           (None, 70)                4970      \n",
      "                                                                 \n",
      " dense_111 (Dense)           (None, 70)                4970      \n",
      "                                                                 \n",
      " dense_112 (Dense)           (None, 70)                4970      \n",
      "                                                                 \n",
      "=================================================================\n",
      "Total params: 15,820\n",
      "Trainable params: 15,820\n",
      "Non-trainable params: 0\n",
      "_________________________________________________________________\n"
     ]
    }
   ],
   "source": [
    "model.summary()"
   ]
  },
  {
   "cell_type": "code",
   "execution_count": 385,
   "metadata": {
    "colab": {
     "base_uri": "https://localhost:8080/",
     "height": 374
    },
    "colab_type": "code",
    "id": "YylEIRSgGM-I",
    "outputId": "8d876036-b12d-44c8-efff-11cc59024067"
   },
   "outputs": [
    {
     "name": "stdout",
     "output_type": "stream",
     "text": [
      "Epoch 1/10\n",
      "385/385 - 1s - loss: 3.7595 - accuracy: 0.0833 - 1s/epoch - 3ms/step\n",
      "Epoch 2/10\n",
      "385/385 - 0s - loss: 3.3426 - accuracy: 0.1429 - 367ms/epoch - 953us/step\n",
      "Epoch 3/10\n",
      "385/385 - 0s - loss: 3.2227 - accuracy: 0.1667 - 351ms/epoch - 911us/step\n",
      "Epoch 4/10\n",
      "385/385 - 0s - loss: 3.1498 - accuracy: 0.1839 - 367ms/epoch - 953us/step\n",
      "Epoch 5/10\n",
      "385/385 - 0s - loss: 3.0987 - accuracy: 0.1975 - 358ms/epoch - 931us/step\n",
      "Epoch 6/10\n",
      "385/385 - 0s - loss: 3.0686 - accuracy: 0.2017 - 350ms/epoch - 910us/step\n",
      "Epoch 7/10\n",
      "385/385 - 0s - loss: 3.0387 - accuracy: 0.2072 - 373ms/epoch - 969us/step\n",
      "Epoch 8/10\n",
      "385/385 - 0s - loss: 3.0128 - accuracy: 0.2149 - 352ms/epoch - 913us/step\n",
      "Epoch 9/10\n",
      "385/385 - 0s - loss: 2.9788 - accuracy: 0.2191 - 358ms/epoch - 931us/step\n",
      "Epoch 10/10\n",
      "385/385 - 0s - loss: 2.9605 - accuracy: 0.2216 - 366ms/epoch - 950us/step\n"
     ]
    },
    {
     "data": {
      "text/plain": [
       "<keras.callbacks.History at 0x279a96dc490>"
      ]
     },
     "execution_count": 385,
     "metadata": {},
     "output_type": "execute_result"
    }
   ],
   "source": [
    "model.fit(\n",
    "    X_train_scaled,\n",
    "    y_train_categorical,\n",
    "    epochs=10,\n",
    "    shuffle=True,\n",
    "    verbose=2\n",
    ")"
   ]
  },
  {
   "cell_type": "code",
   "execution_count": 386,
   "metadata": {
    "colab": {
     "base_uri": "https://localhost:8080/",
     "height": 51
    },
    "colab_type": "code",
    "id": "BOZi5OzpGQSY",
    "outputId": "59eb9070-3418-4f53-efee-915fcc232e72"
   },
   "outputs": [
    {
     "name": "stdout",
     "output_type": "stream",
     "text": [
      "129/129 - 0s - loss: 3.0211 - accuracy: 0.2094 - 213ms/epoch - 2ms/step\n",
      "Normal Neural Network - Loss: 3.02108097076416, Accuracy: 0.20944958925247192\n"
     ]
    }
   ],
   "source": [
    "model_loss, model_accuracy = model.evaluate(\n",
    "    X_test_scaled, y_test_categorical, verbose=2)\n",
    "print(\n",
    "    f\"Normal Neural Network - Loss: {model_loss}, Accuracy: {model_accuracy}\")"
   ]
  },
  {
   "cell_type": "code",
   "execution_count": 387,
   "metadata": {
    "colab": {},
    "colab_type": "code",
    "id": "zrX_gPNVP39d"
   },
   "outputs": [],
   "source": [
    "# Create model and add layers\n",
    "model = Sequential()\n",
    "model.add(Dense(units=70, activation='relu', input_dim=12))\n",
    "\n",
    "model.add(Dense(units=70, activation='relu'))\n",
    "# model.add(Dense(units=70, activation='relu'))\n",
    "# model.add(Dense(units=70, activation='relu'))\n",
    "model.add(Dense(units=70, activation='sigmoid'))\n",
    "# model.add(Dense(units=70, activation='softmax'))\n",
    "model.add(Dense(units=70, activation='softmax'))"
   ]
  },
  {
   "cell_type": "code",
   "execution_count": 388,
   "metadata": {
    "colab": {},
    "colab_type": "code",
    "id": "7pdbsu5bpLxK"
   },
   "outputs": [],
   "source": [
    "# Compile and fit the model\n",
    "model.compile(optimizer='adam',\n",
    "              loss='categorical_crossentropy',\n",
    "              metrics=['accuracy'])"
   ]
  },
  {
   "cell_type": "code",
   "execution_count": 389,
   "metadata": {
    "colab": {
     "base_uri": "https://localhost:8080/",
     "height": 289
    },
    "colab_type": "code",
    "id": "Z882fMm9pRT5",
    "outputId": "a01f61f2-4a1f-4d51-81a7-e45f48a5f6d3"
   },
   "outputs": [
    {
     "name": "stdout",
     "output_type": "stream",
     "text": [
      "Model: \"sequential_27\"\n",
      "_________________________________________________________________\n",
      " Layer (type)                Output Shape              Param #   \n",
      "=================================================================\n",
      " dense_113 (Dense)           (None, 70)                910       \n",
      "                                                                 \n",
      " dense_114 (Dense)           (None, 70)                4970      \n",
      "                                                                 \n",
      " dense_115 (Dense)           (None, 70)                4970      \n",
      "                                                                 \n",
      " dense_116 (Dense)           (None, 70)                4970      \n",
      "                                                                 \n",
      "=================================================================\n",
      "Total params: 15,820\n",
      "Trainable params: 15,820\n",
      "Non-trainable params: 0\n",
      "_________________________________________________________________\n"
     ]
    }
   ],
   "source": [
    "model.summary()"
   ]
  },
  {
   "cell_type": "code",
   "execution_count": 390,
   "metadata": {
    "colab": {
     "base_uri": "https://localhost:8080/",
     "height": 374
    },
    "colab_type": "code",
    "id": "ZnNqGxE4pUwH",
    "outputId": "f3dfcab1-4b85-455f-e191-8fc0d5bada5c"
   },
   "outputs": [
    {
     "name": "stdout",
     "output_type": "stream",
     "text": [
      "Epoch 1/10\n",
      "385/385 - 1s - loss: 4.0174 - accuracy: 0.0542 - 925ms/epoch - 2ms/step\n",
      "Epoch 2/10\n",
      "385/385 - 0s - loss: 3.5759 - accuracy: 0.1117 - 383ms/epoch - 996us/step\n",
      "Epoch 3/10\n",
      "385/385 - 0s - loss: 3.4134 - accuracy: 0.1336 - 383ms/epoch - 994us/step\n",
      "Epoch 4/10\n",
      "385/385 - 0s - loss: 3.2924 - accuracy: 0.1622 - 343ms/epoch - 890us/step\n",
      "Epoch 5/10\n",
      "385/385 - 0s - loss: 3.2168 - accuracy: 0.1726 - 351ms/epoch - 911us/step\n",
      "Epoch 6/10\n",
      "385/385 - 0s - loss: 3.1615 - accuracy: 0.1861 - 359ms/epoch - 933us/step\n",
      "Epoch 7/10\n",
      "385/385 - 0s - loss: 3.1179 - accuracy: 0.1942 - 357ms/epoch - 928us/step\n",
      "Epoch 8/10\n",
      "385/385 - 0s - loss: 3.0880 - accuracy: 0.2006 - 352ms/epoch - 913us/step\n",
      "Epoch 9/10\n",
      "385/385 - 0s - loss: 3.0575 - accuracy: 0.2056 - 355ms/epoch - 923us/step\n",
      "Epoch 10/10\n",
      "385/385 - 0s - loss: 3.0367 - accuracy: 0.2095 - 361ms/epoch - 937us/step\n"
     ]
    },
    {
     "data": {
      "text/plain": [
       "<keras.callbacks.History at 0x279aad78750>"
      ]
     },
     "execution_count": 390,
     "metadata": {},
     "output_type": "execute_result"
    }
   ],
   "source": [
    "model.fit(\n",
    "    X_train_scaled,\n",
    "    y_train_categorical,\n",
    "    epochs=10,\n",
    "    shuffle=True,\n",
    "    verbose=2\n",
    ")"
   ]
  },
  {
   "cell_type": "code",
   "execution_count": 391,
   "metadata": {
    "colab": {
     "base_uri": "https://localhost:8080/",
     "height": 51
    },
    "colab_type": "code",
    "id": "BOdr8eSipYTj",
    "outputId": "d00cdf92-47e3-40e4-9de3-448f51741815"
   },
   "outputs": [
    {
     "name": "stdout",
     "output_type": "stream",
     "text": [
      "129/129 - 0s - loss: 3.0972 - accuracy: 0.2046 - 225ms/epoch - 2ms/step\n",
      "Normal Neural Network - Loss: 3.09723162651062, Accuracy: 0.20457866787910461\n"
     ]
    }
   ],
   "source": [
    "model_loss, model_accuracy = model.evaluate(\n",
    "    X_test_scaled, y_test_categorical, verbose=2)\n",
    "print(\n",
    "    f\"Normal Neural Network - Loss: {model_loss}, Accuracy: {model_accuracy}\")"
   ]
  },
  {
   "cell_type": "code",
   "execution_count": 392,
   "metadata": {
    "colab": {
     "base_uri": "https://localhost:8080/",
     "height": 88
    },
    "colab_type": "code",
    "id": "tzI_azQX7lzR",
    "outputId": "8b3e7f00-c001-44e4-a9cf-3a85bb226fab"
   },
   "outputs": [
    {
     "name": "stdout",
     "output_type": "stream",
     "text": [
      "1/1 [==============================] - 0s 56ms/step\n",
      "Predicted classes: ['grindcore' 'classical' 'forro' 'country' 'detroit-techno']\n",
      "Actual Labels: ['heavy-metal', 'classical', 'industrial', 'dub', 'detroit-techno']\n"
     ]
    }
   ],
   "source": [
    "predicted_probabilities = model.predict(X_test_scaled[:5])\n",
    "predicted_labels = label_encoder.inverse_transform(predicted_probabilities.argmax(axis=-1))\n",
    "\n",
    "print(f\"Predicted classes: {predicted_labels}\")\n",
    "print(f\"Actual Labels: {list(y_test[:5])}\")"
   ]
  },
  {
   "cell_type": "code",
   "execution_count": null,
   "metadata": {
    "colab": {
     "base_uri": "https://localhost:8080/",
     "height": 51
    },
    "colab_type": "code",
    "id": "IuWQoQJc7ltb",
    "outputId": "e4cd945c-c756-440e-f24b-c2aac905a779"
   },
   "outputs": [],
   "source": []
  },
  {
   "cell_type": "code",
   "execution_count": null,
   "metadata": {
    "colab": {},
    "colab_type": "code",
    "id": "2YqzhcXo7lqr"
   },
   "outputs": [],
   "source": []
  },
  {
   "cell_type": "markdown",
   "metadata": {
    "colab_type": "text",
    "id": "CqRkshkNvhE4"
   },
   "source": [
    "Trying it with lesser features now"
   ]
  },
  {
   "cell_type": "code",
   "execution_count": 393,
   "metadata": {
    "colab": {
     "base_uri": "https://localhost:8080/",
     "height": 419
    },
    "colab_type": "code",
    "id": "LtQsdWk5vsm3",
    "outputId": "c7b54a87-8cb8-4e45-ea04-ef3323da3e6e"
   },
   "outputs": [
    {
     "data": {
      "text/html": [
       "<div>\n",
       "<style scoped>\n",
       "    .dataframe tbody tr th:only-of-type {\n",
       "        vertical-align: middle;\n",
       "    }\n",
       "\n",
       "    .dataframe tbody tr th {\n",
       "        vertical-align: top;\n",
       "    }\n",
       "\n",
       "    .dataframe thead th {\n",
       "        text-align: right;\n",
       "    }\n",
       "</style>\n",
       "<table border=\"1\" class=\"dataframe\">\n",
       "  <thead>\n",
       "    <tr style=\"text-align: right;\">\n",
       "      <th></th>\n",
       "      <th>genre_name</th>\n",
       "      <th>danceability</th>\n",
       "      <th>energy</th>\n",
       "      <th>key</th>\n",
       "      <th>loudness</th>\n",
       "      <th>mode</th>\n",
       "      <th>speechiness</th>\n",
       "      <th>acousticness</th>\n",
       "      <th>instrumentalness</th>\n",
       "      <th>liveness</th>\n",
       "      <th>valence</th>\n",
       "      <th>tempo</th>\n",
       "      <th>duration_ms</th>\n",
       "    </tr>\n",
       "  </thead>\n",
       "  <tbody>\n",
       "    <tr>\n",
       "      <th>0</th>\n",
       "      <td>acoustic</td>\n",
       "      <td>0.703</td>\n",
       "      <td>0.444</td>\n",
       "      <td>11</td>\n",
       "      <td>-9.331</td>\n",
       "      <td>1</td>\n",
       "      <td>0.0417</td>\n",
       "      <td>0.5590</td>\n",
       "      <td>0.000000</td>\n",
       "      <td>0.0973</td>\n",
       "      <td>0.712</td>\n",
       "      <td>150.960</td>\n",
       "      <td>242947</td>\n",
       "    </tr>\n",
       "    <tr>\n",
       "      <th>1</th>\n",
       "      <td>acoustic</td>\n",
       "      <td>0.618</td>\n",
       "      <td>0.443</td>\n",
       "      <td>2</td>\n",
       "      <td>-9.681</td>\n",
       "      <td>1</td>\n",
       "      <td>0.0526</td>\n",
       "      <td>0.4690</td>\n",
       "      <td>0.000000</td>\n",
       "      <td>0.0829</td>\n",
       "      <td>0.167</td>\n",
       "      <td>119.949</td>\n",
       "      <td>198853</td>\n",
       "    </tr>\n",
       "    <tr>\n",
       "      <th>2</th>\n",
       "      <td>acoustic</td>\n",
       "      <td>0.591</td>\n",
       "      <td>0.416</td>\n",
       "      <td>1</td>\n",
       "      <td>-9.794</td>\n",
       "      <td>1</td>\n",
       "      <td>0.0246</td>\n",
       "      <td>0.8820</td>\n",
       "      <td>0.000641</td>\n",
       "      <td>0.1120</td>\n",
       "      <td>0.415</td>\n",
       "      <td>96.003</td>\n",
       "      <td>210080</td>\n",
       "    </tr>\n",
       "    <tr>\n",
       "      <th>3</th>\n",
       "      <td>acoustic</td>\n",
       "      <td>0.583</td>\n",
       "      <td>0.786</td>\n",
       "      <td>2</td>\n",
       "      <td>-3.142</td>\n",
       "      <td>0</td>\n",
       "      <td>0.0301</td>\n",
       "      <td>0.0208</td>\n",
       "      <td>0.000000</td>\n",
       "      <td>0.1880</td>\n",
       "      <td>0.573</td>\n",
       "      <td>123.055</td>\n",
       "      <td>258827</td>\n",
       "    </tr>\n",
       "    <tr>\n",
       "      <th>4</th>\n",
       "      <td>acoustic</td>\n",
       "      <td>0.364</td>\n",
       "      <td>0.308</td>\n",
       "      <td>4</td>\n",
       "      <td>-13.052</td>\n",
       "      <td>1</td>\n",
       "      <td>0.0402</td>\n",
       "      <td>0.8950</td>\n",
       "      <td>0.002300</td>\n",
       "      <td>0.1230</td>\n",
       "      <td>0.387</td>\n",
       "      <td>73.328</td>\n",
       "      <td>191773</td>\n",
       "    </tr>\n",
       "    <tr>\n",
       "      <th>...</th>\n",
       "      <td>...</td>\n",
       "      <td>...</td>\n",
       "      <td>...</td>\n",
       "      <td>...</td>\n",
       "      <td>...</td>\n",
       "      <td>...</td>\n",
       "      <td>...</td>\n",
       "      <td>...</td>\n",
       "      <td>...</td>\n",
       "      <td>...</td>\n",
       "      <td>...</td>\n",
       "      <td>...</td>\n",
       "      <td>...</td>\n",
       "    </tr>\n",
       "    <tr>\n",
       "      <th>16416</th>\n",
       "      <td>mandopop</td>\n",
       "      <td>0.460</td>\n",
       "      <td>0.297</td>\n",
       "      <td>9</td>\n",
       "      <td>-8.785</td>\n",
       "      <td>1</td>\n",
       "      <td>0.0309</td>\n",
       "      <td>0.6920</td>\n",
       "      <td>0.000318</td>\n",
       "      <td>0.1070</td>\n",
       "      <td>0.125</td>\n",
       "      <td>180.095</td>\n",
       "      <td>357094</td>\n",
       "    </tr>\n",
       "    <tr>\n",
       "      <th>16417</th>\n",
       "      <td>mandopop</td>\n",
       "      <td>0.720</td>\n",
       "      <td>0.529</td>\n",
       "      <td>10</td>\n",
       "      <td>-8.928</td>\n",
       "      <td>1</td>\n",
       "      <td>0.0406</td>\n",
       "      <td>0.5590</td>\n",
       "      <td>0.000021</td>\n",
       "      <td>0.1630</td>\n",
       "      <td>0.267</td>\n",
       "      <td>133.967</td>\n",
       "      <td>242293</td>\n",
       "    </tr>\n",
       "    <tr>\n",
       "      <th>16418</th>\n",
       "      <td>mandopop</td>\n",
       "      <td>0.657</td>\n",
       "      <td>0.304</td>\n",
       "      <td>10</td>\n",
       "      <td>-9.115</td>\n",
       "      <td>1</td>\n",
       "      <td>0.0335</td>\n",
       "      <td>0.8340</td>\n",
       "      <td>0.000000</td>\n",
       "      <td>0.1170</td>\n",
       "      <td>0.413</td>\n",
       "      <td>124.781</td>\n",
       "      <td>223570</td>\n",
       "    </tr>\n",
       "    <tr>\n",
       "      <th>16419</th>\n",
       "      <td>mandopop</td>\n",
       "      <td>0.605</td>\n",
       "      <td>0.310</td>\n",
       "      <td>7</td>\n",
       "      <td>-10.276</td>\n",
       "      <td>1</td>\n",
       "      <td>0.0390</td>\n",
       "      <td>0.8490</td>\n",
       "      <td>0.000000</td>\n",
       "      <td>0.1360</td>\n",
       "      <td>0.292</td>\n",
       "      <td>118.028</td>\n",
       "      <td>245521</td>\n",
       "    </tr>\n",
       "    <tr>\n",
       "      <th>16420</th>\n",
       "      <td>mandopop</td>\n",
       "      <td>0.588</td>\n",
       "      <td>0.405</td>\n",
       "      <td>9</td>\n",
       "      <td>-7.328</td>\n",
       "      <td>0</td>\n",
       "      <td>0.0265</td>\n",
       "      <td>0.5790</td>\n",
       "      <td>0.000000</td>\n",
       "      <td>0.3090</td>\n",
       "      <td>0.167</td>\n",
       "      <td>111.760</td>\n",
       "      <td>280524</td>\n",
       "    </tr>\n",
       "  </tbody>\n",
       "</table>\n",
       "<p>16421 rows × 13 columns</p>\n",
       "</div>"
      ],
      "text/plain": [
       "      genre_name  danceability  energy  key  loudness  mode  speechiness   \n",
       "0       acoustic         0.703   0.444   11    -9.331     1       0.0417  \\\n",
       "1       acoustic         0.618   0.443    2    -9.681     1       0.0526   \n",
       "2       acoustic         0.591   0.416    1    -9.794     1       0.0246   \n",
       "3       acoustic         0.583   0.786    2    -3.142     0       0.0301   \n",
       "4       acoustic         0.364   0.308    4   -13.052     1       0.0402   \n",
       "...          ...           ...     ...  ...       ...   ...          ...   \n",
       "16416   mandopop         0.460   0.297    9    -8.785     1       0.0309   \n",
       "16417   mandopop         0.720   0.529   10    -8.928     1       0.0406   \n",
       "16418   mandopop         0.657   0.304   10    -9.115     1       0.0335   \n",
       "16419   mandopop         0.605   0.310    7   -10.276     1       0.0390   \n",
       "16420   mandopop         0.588   0.405    9    -7.328     0       0.0265   \n",
       "\n",
       "       acousticness  instrumentalness  liveness  valence    tempo  duration_ms  \n",
       "0            0.5590          0.000000    0.0973    0.712  150.960       242947  \n",
       "1            0.4690          0.000000    0.0829    0.167  119.949       198853  \n",
       "2            0.8820          0.000641    0.1120    0.415   96.003       210080  \n",
       "3            0.0208          0.000000    0.1880    0.573  123.055       258827  \n",
       "4            0.8950          0.002300    0.1230    0.387   73.328       191773  \n",
       "...             ...               ...       ...      ...      ...          ...  \n",
       "16416        0.6920          0.000318    0.1070    0.125  180.095       357094  \n",
       "16417        0.5590          0.000021    0.1630    0.267  133.967       242293  \n",
       "16418        0.8340          0.000000    0.1170    0.413  124.781       223570  \n",
       "16419        0.8490          0.000000    0.1360    0.292  118.028       245521  \n",
       "16420        0.5790          0.000000    0.3090    0.167  111.760       280524  \n",
       "\n",
       "[16421 rows x 13 columns]"
      ]
     },
     "execution_count": 393,
     "metadata": {},
     "output_type": "execute_result"
    }
   ],
   "source": [
    "ML_df"
   ]
  },
  {
   "cell_type": "code",
   "execution_count": 394,
   "metadata": {
    "colab": {
     "base_uri": "https://localhost:8080/",
     "height": 204
    },
    "colab_type": "code",
    "id": "Nx5mgOjUvnl9",
    "outputId": "0dd31bb5-181c-4891-e294-446d0c3b2038"
   },
   "outputs": [
    {
     "data": {
      "text/html": [
       "<div>\n",
       "<style scoped>\n",
       "    .dataframe tbody tr th:only-of-type {\n",
       "        vertical-align: middle;\n",
       "    }\n",
       "\n",
       "    .dataframe tbody tr th {\n",
       "        vertical-align: top;\n",
       "    }\n",
       "\n",
       "    .dataframe thead th {\n",
       "        text-align: right;\n",
       "    }\n",
       "</style>\n",
       "<table border=\"1\" class=\"dataframe\">\n",
       "  <thead>\n",
       "    <tr style=\"text-align: right;\">\n",
       "      <th></th>\n",
       "      <th>genre_name</th>\n",
       "      <th>danceability</th>\n",
       "      <th>energy</th>\n",
       "      <th>key</th>\n",
       "      <th>loudness</th>\n",
       "      <th>speechiness</th>\n",
       "      <th>acousticness</th>\n",
       "      <th>instrumentalness</th>\n",
       "      <th>liveness</th>\n",
       "      <th>valence</th>\n",
       "      <th>tempo</th>\n",
       "      <th>duration_ms</th>\n",
       "    </tr>\n",
       "  </thead>\n",
       "  <tbody>\n",
       "    <tr>\n",
       "      <th>0</th>\n",
       "      <td>acoustic</td>\n",
       "      <td>0.703</td>\n",
       "      <td>0.444</td>\n",
       "      <td>11</td>\n",
       "      <td>-9.331</td>\n",
       "      <td>0.0417</td>\n",
       "      <td>0.5590</td>\n",
       "      <td>0.000000</td>\n",
       "      <td>0.0973</td>\n",
       "      <td>0.712</td>\n",
       "      <td>150.960</td>\n",
       "      <td>242947</td>\n",
       "    </tr>\n",
       "    <tr>\n",
       "      <th>1</th>\n",
       "      <td>acoustic</td>\n",
       "      <td>0.618</td>\n",
       "      <td>0.443</td>\n",
       "      <td>2</td>\n",
       "      <td>-9.681</td>\n",
       "      <td>0.0526</td>\n",
       "      <td>0.4690</td>\n",
       "      <td>0.000000</td>\n",
       "      <td>0.0829</td>\n",
       "      <td>0.167</td>\n",
       "      <td>119.949</td>\n",
       "      <td>198853</td>\n",
       "    </tr>\n",
       "    <tr>\n",
       "      <th>2</th>\n",
       "      <td>acoustic</td>\n",
       "      <td>0.591</td>\n",
       "      <td>0.416</td>\n",
       "      <td>1</td>\n",
       "      <td>-9.794</td>\n",
       "      <td>0.0246</td>\n",
       "      <td>0.8820</td>\n",
       "      <td>0.000641</td>\n",
       "      <td>0.1120</td>\n",
       "      <td>0.415</td>\n",
       "      <td>96.003</td>\n",
       "      <td>210080</td>\n",
       "    </tr>\n",
       "    <tr>\n",
       "      <th>3</th>\n",
       "      <td>acoustic</td>\n",
       "      <td>0.583</td>\n",
       "      <td>0.786</td>\n",
       "      <td>2</td>\n",
       "      <td>-3.142</td>\n",
       "      <td>0.0301</td>\n",
       "      <td>0.0208</td>\n",
       "      <td>0.000000</td>\n",
       "      <td>0.1880</td>\n",
       "      <td>0.573</td>\n",
       "      <td>123.055</td>\n",
       "      <td>258827</td>\n",
       "    </tr>\n",
       "    <tr>\n",
       "      <th>4</th>\n",
       "      <td>acoustic</td>\n",
       "      <td>0.364</td>\n",
       "      <td>0.308</td>\n",
       "      <td>4</td>\n",
       "      <td>-13.052</td>\n",
       "      <td>0.0402</td>\n",
       "      <td>0.8950</td>\n",
       "      <td>0.002300</td>\n",
       "      <td>0.1230</td>\n",
       "      <td>0.387</td>\n",
       "      <td>73.328</td>\n",
       "      <td>191773</td>\n",
       "    </tr>\n",
       "  </tbody>\n",
       "</table>\n",
       "</div>"
      ],
      "text/plain": [
       "  genre_name  danceability  energy  key  loudness  speechiness  acousticness   \n",
       "0   acoustic         0.703   0.444   11    -9.331       0.0417        0.5590  \\\n",
       "1   acoustic         0.618   0.443    2    -9.681       0.0526        0.4690   \n",
       "2   acoustic         0.591   0.416    1    -9.794       0.0246        0.8820   \n",
       "3   acoustic         0.583   0.786    2    -3.142       0.0301        0.0208   \n",
       "4   acoustic         0.364   0.308    4   -13.052       0.0402        0.8950   \n",
       "\n",
       "   instrumentalness  liveness  valence    tempo  duration_ms  \n",
       "0          0.000000    0.0973    0.712  150.960       242947  \n",
       "1          0.000000    0.0829    0.167  119.949       198853  \n",
       "2          0.000641    0.1120    0.415   96.003       210080  \n",
       "3          0.000000    0.1880    0.573  123.055       258827  \n",
       "4          0.002300    0.1230    0.387   73.328       191773  "
      ]
     },
     "execution_count": 394,
     "metadata": {},
     "output_type": "execute_result"
    }
   ],
   "source": [
    "new_ML_df = ML_df.drop(['mode'], axis=1)\n",
    "new_ML_df.head()"
   ]
  },
  {
   "cell_type": "code",
   "execution_count": 395,
   "metadata": {
    "colab": {
     "base_uri": "https://localhost:8080/",
     "height": 34
    },
    "colab_type": "code",
    "id": "0j_44yN4vlt3",
    "outputId": "d509ec04-d092-4313-8a28-e880368da012"
   },
   "outputs": [
    {
     "name": "stdout",
     "output_type": "stream",
     "text": [
      "(16421, 11) (16421,)\n"
     ]
    }
   ],
   "source": [
    "# Assign X (data) and y (target)\n",
    "X = new_ML_df.drop(\"genre_name\", axis=1)\n",
    "y = new_ML_df[\"genre_name\"]\n",
    "print(X.shape, y.shape)"
   ]
  },
  {
   "cell_type": "code",
   "execution_count": 399,
   "metadata": {
    "colab": {},
    "colab_type": "code",
    "id": "QwzficeSwFT_"
   },
   "outputs": [],
   "source": [
    "from sklearn.model_selection import train_test_split\n",
    "from sklearn.preprocessing import LabelEncoder, MinMaxScaler\n",
    "from tensorflow.keras.utils import to_categorical"
   ]
  },
  {
   "cell_type": "code",
   "execution_count": 400,
   "metadata": {
    "colab": {},
    "colab_type": "code",
    "id": "EUlB4hJ4wM5H"
   },
   "outputs": [],
   "source": [
    "X_train, X_test, y_train, y_test = train_test_split(\n",
    "    X, y, stratify=y)"
   ]
  },
  {
   "cell_type": "code",
   "execution_count": 401,
   "metadata": {
    "colab": {},
    "colab_type": "code",
    "id": "mnVfOplfwNdm"
   },
   "outputs": [],
   "source": [
    "X_scaler = MinMaxScaler().fit(X_train)\n",
    "X_train_scaled = X_scaler.transform(X_train)\n",
    "X_test_scaled = X_scaler.transform(X_test)"
   ]
  },
  {
   "cell_type": "code",
   "execution_count": 402,
   "metadata": {
    "colab": {},
    "colab_type": "code",
    "id": "DTEh3VUSwNqw"
   },
   "outputs": [],
   "source": [
    "# Step 1: Label-encode data set\n",
    "label_encoder = LabelEncoder()\n",
    "label_encoder.fit(y_train)\n",
    "encoded_y_train = label_encoder.transform(y_train)\n",
    "encoded_y_test = label_encoder.transform(y_test)"
   ]
  },
  {
   "cell_type": "code",
   "execution_count": 403,
   "metadata": {
    "colab": {},
    "colab_type": "code",
    "id": "afbt3aWUwNSp"
   },
   "outputs": [],
   "source": [
    "# Step 2: Convert encoded labels to one-hot-encoding\n",
    "y_train_categorical = to_categorical(encoded_y_train)\n",
    "y_test_categorical = to_categorical(encoded_y_test)"
   ]
  },
  {
   "cell_type": "code",
   "execution_count": 82,
   "metadata": {
    "colab": {},
    "colab_type": "code",
    "id": "0ps9n71uwMvI"
   },
   "outputs": [],
   "source": []
  },
  {
   "cell_type": "code",
   "execution_count": 404,
   "metadata": {
    "colab": {},
    "colab_type": "code",
    "id": "DqtG55X1wiIb"
   },
   "outputs": [],
   "source": [
    "# Create model and add layers\n",
    "model = Sequential()\n",
    "model.add(Dense(units=70, activation='relu', input_dim=11))\n",
    "# model.add(Dense(units=70, activation='sigmoid'))\n",
    "# model.add(Dense(units=70, activation='sigmoid'))\n",
    "# model.add(Dense(units=70, activation='sigmoid'))\n",
    "model.add(Dense(units=70, activation='relu'))\n",
    "model.add(Dense(units=70, activation='relu'))\n",
    "model.add(Dense(units=70, activation='relu'))\n",
    "# model.add(Dense(units=70, activation='softmax'))\n",
    "model.add(Dense(units=70, activation='softplus'))\n",
    "# model.add(Dense(units=70, activation='softsign'))\n"
   ]
  },
  {
   "cell_type": "code",
   "execution_count": 405,
   "metadata": {
    "colab": {},
    "colab_type": "code",
    "id": "ucmlrhH3wiZl"
   },
   "outputs": [],
   "source": [
    "# Compile and fit the model\n",
    "model.compile(optimizer='adam',\n",
    "              loss='categorical_crossentropy',\n",
    "              metrics=['accuracy'])"
   ]
  },
  {
   "cell_type": "code",
   "execution_count": 406,
   "metadata": {
    "colab": {
     "base_uri": "https://localhost:8080/",
     "height": 323
    },
    "colab_type": "code",
    "id": "jFIxfxO8wh7K",
    "outputId": "de2883f4-e4bc-4fc1-ecaf-bcf6aad76e9a"
   },
   "outputs": [
    {
     "name": "stdout",
     "output_type": "stream",
     "text": [
      "Model: \"sequential_28\"\n",
      "_________________________________________________________________\n",
      " Layer (type)                Output Shape              Param #   \n",
      "=================================================================\n",
      " dense_117 (Dense)           (None, 70)                840       \n",
      "                                                                 \n",
      " dense_118 (Dense)           (None, 70)                4970      \n",
      "                                                                 \n",
      " dense_119 (Dense)           (None, 70)                4970      \n",
      "                                                                 \n",
      " dense_120 (Dense)           (None, 70)                4970      \n",
      "                                                                 \n",
      " dense_121 (Dense)           (None, 70)                4970      \n",
      "                                                                 \n",
      "=================================================================\n",
      "Total params: 20,720\n",
      "Trainable params: 20,720\n",
      "Non-trainable params: 0\n",
      "_________________________________________________________________\n"
     ]
    }
   ],
   "source": [
    "model.summary()"
   ]
  },
  {
   "cell_type": "code",
   "execution_count": 407,
   "metadata": {
    "colab": {
     "base_uri": "https://localhost:8080/",
     "height": 1000
    },
    "colab_type": "code",
    "id": "fzxKcfWvwno4",
    "outputId": "dc65919a-a60a-4290-fc69-5134636adad6"
   },
   "outputs": [
    {
     "name": "stdout",
     "output_type": "stream",
     "text": [
      "Epoch 1/100\n",
      "385/385 - 1s - loss: 3.8197 - accuracy: 0.0656 - 1s/epoch - 3ms/step\n",
      "Epoch 2/100\n",
      "385/385 - 0s - loss: 3.4117 - accuracy: 0.1271 - 442ms/epoch - 1ms/step\n",
      "Epoch 3/100\n",
      "385/385 - 0s - loss: 3.2297 - accuracy: 0.1633 - 397ms/epoch - 1ms/step\n",
      "Epoch 4/100\n",
      "385/385 - 0s - loss: 3.1483 - accuracy: 0.1851 - 403ms/epoch - 1ms/step\n",
      "Epoch 5/100\n",
      "385/385 - 0s - loss: 3.1055 - accuracy: 0.1918 - 401ms/epoch - 1ms/step\n",
      "Epoch 6/100\n",
      "385/385 - 0s - loss: 3.0751 - accuracy: 0.1989 - 416ms/epoch - 1ms/step\n",
      "Epoch 7/100\n",
      "385/385 - 0s - loss: 3.0388 - accuracy: 0.2028 - 424ms/epoch - 1ms/step\n",
      "Epoch 8/100\n",
      "385/385 - 0s - loss: 3.0067 - accuracy: 0.2074 - 408ms/epoch - 1ms/step\n",
      "Epoch 9/100\n",
      "385/385 - 0s - loss: 2.9836 - accuracy: 0.2143 - 407ms/epoch - 1ms/step\n",
      "Epoch 10/100\n",
      "385/385 - 0s - loss: 2.9559 - accuracy: 0.2176 - 441ms/epoch - 1ms/step\n",
      "Epoch 11/100\n",
      "385/385 - 0s - loss: 2.9347 - accuracy: 0.2215 - 441ms/epoch - 1ms/step\n",
      "Epoch 12/100\n",
      "385/385 - 0s - loss: 2.9207 - accuracy: 0.2277 - 462ms/epoch - 1ms/step\n",
      "Epoch 13/100\n",
      "385/385 - 0s - loss: 2.9014 - accuracy: 0.2287 - 459ms/epoch - 1ms/step\n",
      "Epoch 14/100\n",
      "385/385 - 0s - loss: 2.8801 - accuracy: 0.2333 - 481ms/epoch - 1ms/step\n",
      "Epoch 15/100\n",
      "385/385 - 0s - loss: 2.8663 - accuracy: 0.2374 - 459ms/epoch - 1ms/step\n",
      "Epoch 16/100\n",
      "385/385 - 0s - loss: 2.8444 - accuracy: 0.2446 - 436ms/epoch - 1ms/step\n",
      "Epoch 17/100\n",
      "385/385 - 0s - loss: 2.8345 - accuracy: 0.2451 - 474ms/epoch - 1ms/step\n",
      "Epoch 18/100\n",
      "385/385 - 0s - loss: 2.8241 - accuracy: 0.2455 - 474ms/epoch - 1ms/step\n",
      "Epoch 19/100\n",
      "385/385 - 1s - loss: 2.8047 - accuracy: 0.2504 - 504ms/epoch - 1ms/step\n",
      "Epoch 20/100\n",
      "385/385 - 0s - loss: 2.7969 - accuracy: 0.2516 - 428ms/epoch - 1ms/step\n",
      "Epoch 21/100\n",
      "385/385 - 0s - loss: 2.7807 - accuracy: 0.2559 - 404ms/epoch - 1ms/step\n",
      "Epoch 22/100\n",
      "385/385 - 0s - loss: 2.7649 - accuracy: 0.2555 - 401ms/epoch - 1ms/step\n",
      "Epoch 23/100\n",
      "385/385 - 0s - loss: 2.7630 - accuracy: 0.2654 - 401ms/epoch - 1ms/step\n",
      "Epoch 24/100\n",
      "385/385 - 0s - loss: 2.7561 - accuracy: 0.2597 - 416ms/epoch - 1ms/step\n",
      "Epoch 25/100\n",
      "385/385 - 0s - loss: 2.7363 - accuracy: 0.2632 - 401ms/epoch - 1ms/step\n",
      "Epoch 26/100\n",
      "385/385 - 0s - loss: 2.7263 - accuracy: 0.2682 - 463ms/epoch - 1ms/step\n",
      "Epoch 27/100\n",
      "385/385 - 0s - loss: 2.7170 - accuracy: 0.2675 - 415ms/epoch - 1ms/step\n",
      "Epoch 28/100\n",
      "385/385 - 0s - loss: 2.7091 - accuracy: 0.2710 - 413ms/epoch - 1ms/step\n",
      "Epoch 29/100\n",
      "385/385 - 0s - loss: 2.6972 - accuracy: 0.2747 - 395ms/epoch - 1ms/step\n",
      "Epoch 30/100\n",
      "385/385 - 0s - loss: 2.6824 - accuracy: 0.2748 - 414ms/epoch - 1ms/step\n",
      "Epoch 31/100\n",
      "385/385 - 0s - loss: 2.6792 - accuracy: 0.2733 - 401ms/epoch - 1ms/step\n",
      "Epoch 32/100\n",
      "385/385 - 0s - loss: 2.6637 - accuracy: 0.2818 - 464ms/epoch - 1ms/step\n",
      "Epoch 33/100\n",
      "385/385 - 0s - loss: 2.6598 - accuracy: 0.2804 - 471ms/epoch - 1ms/step\n",
      "Epoch 34/100\n",
      "385/385 - 0s - loss: 2.6477 - accuracy: 0.2848 - 405ms/epoch - 1ms/step\n",
      "Epoch 35/100\n",
      "385/385 - 0s - loss: 2.6378 - accuracy: 0.2860 - 428ms/epoch - 1ms/step\n",
      "Epoch 36/100\n",
      "385/385 - 0s - loss: 2.6290 - accuracy: 0.2905 - 432ms/epoch - 1ms/step\n",
      "Epoch 37/100\n",
      "385/385 - 0s - loss: 2.6225 - accuracy: 0.2919 - 439ms/epoch - 1ms/step\n",
      "Epoch 38/100\n",
      "385/385 - 0s - loss: 2.6149 - accuracy: 0.2896 - 443ms/epoch - 1ms/step\n",
      "Epoch 39/100\n",
      "385/385 - 0s - loss: 2.6019 - accuracy: 0.2947 - 426ms/epoch - 1ms/step\n",
      "Epoch 40/100\n",
      "385/385 - 0s - loss: 2.5937 - accuracy: 0.2979 - 440ms/epoch - 1ms/step\n",
      "Epoch 41/100\n",
      "385/385 - 0s - loss: 2.5878 - accuracy: 0.2972 - 401ms/epoch - 1ms/step\n",
      "Epoch 42/100\n",
      "385/385 - 0s - loss: 2.5734 - accuracy: 0.2993 - 402ms/epoch - 1ms/step\n",
      "Epoch 43/100\n",
      "385/385 - 0s - loss: 2.5689 - accuracy: 0.3039 - 414ms/epoch - 1ms/step\n",
      "Epoch 44/100\n",
      "385/385 - 0s - loss: 2.5573 - accuracy: 0.3016 - 419ms/epoch - 1ms/step\n",
      "Epoch 45/100\n",
      "385/385 - 0s - loss: 2.5520 - accuracy: 0.3062 - 417ms/epoch - 1ms/step\n",
      "Epoch 46/100\n",
      "385/385 - 0s - loss: 2.5396 - accuracy: 0.3093 - 405ms/epoch - 1ms/step\n",
      "Epoch 47/100\n",
      "385/385 - 0s - loss: 2.5359 - accuracy: 0.3087 - 412ms/epoch - 1ms/step\n",
      "Epoch 48/100\n",
      "385/385 - 0s - loss: 2.5244 - accuracy: 0.3091 - 409ms/epoch - 1ms/step\n",
      "Epoch 49/100\n",
      "385/385 - 0s - loss: 2.5255 - accuracy: 0.3108 - 471ms/epoch - 1ms/step\n",
      "Epoch 50/100\n",
      "385/385 - 0s - loss: 2.5114 - accuracy: 0.3158 - 457ms/epoch - 1ms/step\n",
      "Epoch 51/100\n",
      "385/385 - 0s - loss: 2.5071 - accuracy: 0.3136 - 469ms/epoch - 1ms/step\n",
      "Epoch 52/100\n",
      "385/385 - 0s - loss: 2.4976 - accuracy: 0.3130 - 459ms/epoch - 1ms/step\n",
      "Epoch 53/100\n",
      "385/385 - 0s - loss: 2.4879 - accuracy: 0.3193 - 435ms/epoch - 1ms/step\n",
      "Epoch 54/100\n",
      "385/385 - 0s - loss: 2.4811 - accuracy: 0.3218 - 475ms/epoch - 1ms/step\n",
      "Epoch 55/100\n",
      "385/385 - 0s - loss: 2.4754 - accuracy: 0.3223 - 456ms/epoch - 1ms/step\n",
      "Epoch 56/100\n",
      "385/385 - 0s - loss: 2.4679 - accuracy: 0.3208 - 404ms/epoch - 1ms/step\n",
      "Epoch 57/100\n",
      "385/385 - 0s - loss: 2.4600 - accuracy: 0.3259 - 409ms/epoch - 1ms/step\n",
      "Epoch 58/100\n",
      "385/385 - 0s - loss: 2.4546 - accuracy: 0.3283 - 395ms/epoch - 1ms/step\n",
      "Epoch 59/100\n",
      "385/385 - 0s - loss: 2.4456 - accuracy: 0.3283 - 412ms/epoch - 1ms/step\n",
      "Epoch 60/100\n",
      "385/385 - 0s - loss: 2.4386 - accuracy: 0.3276 - 389ms/epoch - 1ms/step\n",
      "Epoch 61/100\n",
      "385/385 - 0s - loss: 2.4302 - accuracy: 0.3345 - 411ms/epoch - 1ms/step\n",
      "Epoch 62/100\n",
      "385/385 - 0s - loss: 2.4295 - accuracy: 0.3326 - 404ms/epoch - 1ms/step\n",
      "Epoch 63/100\n",
      "385/385 - 0s - loss: 2.4250 - accuracy: 0.3355 - 405ms/epoch - 1ms/step\n",
      "Epoch 64/100\n",
      "385/385 - 0s - loss: 2.4143 - accuracy: 0.3370 - 391ms/epoch - 1ms/step\n",
      "Epoch 65/100\n",
      "385/385 - 0s - loss: 2.4115 - accuracy: 0.3417 - 384ms/epoch - 998us/step\n",
      "Epoch 66/100\n",
      "385/385 - 0s - loss: 2.4021 - accuracy: 0.3391 - 385ms/epoch - 1000us/step\n",
      "Epoch 67/100\n",
      "385/385 - 0s - loss: 2.3961 - accuracy: 0.3386 - 400ms/epoch - 1ms/step\n",
      "Epoch 68/100\n",
      "385/385 - 0s - loss: 2.3890 - accuracy: 0.3415 - 408ms/epoch - 1ms/step\n",
      "Epoch 69/100\n",
      "385/385 - 0s - loss: 2.3818 - accuracy: 0.3428 - 400ms/epoch - 1ms/step\n",
      "Epoch 70/100\n",
      "385/385 - 0s - loss: 2.3691 - accuracy: 0.3411 - 392ms/epoch - 1ms/step\n",
      "Epoch 71/100\n",
      "385/385 - 0s - loss: 2.3661 - accuracy: 0.3473 - 402ms/epoch - 1ms/step\n",
      "Epoch 72/100\n",
      "385/385 - 0s - loss: 2.3667 - accuracy: 0.3467 - 400ms/epoch - 1ms/step\n",
      "Epoch 73/100\n",
      "385/385 - 0s - loss: 2.3615 - accuracy: 0.3456 - 401ms/epoch - 1ms/step\n",
      "Epoch 74/100\n",
      "385/385 - 0s - loss: 2.3460 - accuracy: 0.3493 - 400ms/epoch - 1ms/step\n",
      "Epoch 75/100\n",
      "385/385 - 0s - loss: 2.3420 - accuracy: 0.3493 - 401ms/epoch - 1ms/step\n",
      "Epoch 76/100\n",
      "385/385 - 0s - loss: 2.3452 - accuracy: 0.3454 - 400ms/epoch - 1ms/step\n",
      "Epoch 77/100\n",
      "385/385 - 0s - loss: 2.3312 - accuracy: 0.3520 - 392ms/epoch - 1ms/step\n",
      "Epoch 78/100\n",
      "385/385 - 0s - loss: 2.3242 - accuracy: 0.3528 - 392ms/epoch - 1ms/step\n",
      "Epoch 79/100\n",
      "385/385 - 0s - loss: 2.3257 - accuracy: 0.3550 - 400ms/epoch - 1ms/step\n",
      "Epoch 80/100\n",
      "385/385 - 0s - loss: 2.3138 - accuracy: 0.3570 - 392ms/epoch - 1ms/step\n",
      "Epoch 81/100\n",
      "385/385 - 0s - loss: 2.3082 - accuracy: 0.3540 - 416ms/epoch - 1ms/step\n",
      "Epoch 82/100\n",
      "385/385 - 0s - loss: 2.3038 - accuracy: 0.3606 - 400ms/epoch - 1ms/step\n",
      "Epoch 83/100\n",
      "385/385 - 0s - loss: 2.3026 - accuracy: 0.3629 - 392ms/epoch - 1ms/step\n",
      "Epoch 84/100\n",
      "385/385 - 0s - loss: 2.2966 - accuracy: 0.3600 - 400ms/epoch - 1ms/step\n",
      "Epoch 85/100\n",
      "385/385 - 0s - loss: 2.2914 - accuracy: 0.3618 - 399ms/epoch - 1ms/step\n",
      "Epoch 86/100\n",
      "385/385 - 0s - loss: 2.2819 - accuracy: 0.3639 - 400ms/epoch - 1ms/step\n",
      "Epoch 87/100\n",
      "385/385 - 0s - loss: 2.2738 - accuracy: 0.3678 - 416ms/epoch - 1ms/step\n",
      "Epoch 88/100\n",
      "385/385 - 0s - loss: 2.2705 - accuracy: 0.3689 - 480ms/epoch - 1ms/step\n",
      "Epoch 89/100\n",
      "385/385 - 0s - loss: 2.2730 - accuracy: 0.3645 - 451ms/epoch - 1ms/step\n",
      "Epoch 90/100\n",
      "385/385 - 0s - loss: 2.2652 - accuracy: 0.3723 - 466ms/epoch - 1ms/step\n",
      "Epoch 91/100\n",
      "385/385 - 0s - loss: 2.2597 - accuracy: 0.3633 - 467ms/epoch - 1ms/step\n",
      "Epoch 92/100\n",
      "385/385 - 0s - loss: 2.2484 - accuracy: 0.3735 - 474ms/epoch - 1ms/step\n",
      "Epoch 93/100\n",
      "385/385 - 0s - loss: 2.2413 - accuracy: 0.3716 - 459ms/epoch - 1ms/step\n",
      "Epoch 94/100\n",
      "385/385 - 0s - loss: 2.2420 - accuracy: 0.3756 - 435ms/epoch - 1ms/step\n",
      "Epoch 95/100\n",
      "385/385 - 0s - loss: 2.2456 - accuracy: 0.3739 - 418ms/epoch - 1ms/step\n",
      "Epoch 96/100\n",
      "385/385 - 0s - loss: 2.2273 - accuracy: 0.3743 - 385ms/epoch - 1ms/step\n",
      "Epoch 97/100\n",
      "385/385 - 0s - loss: 2.2335 - accuracy: 0.3765 - 399ms/epoch - 1ms/step\n",
      "Epoch 98/100\n",
      "385/385 - 0s - loss: 2.2210 - accuracy: 0.3785 - 401ms/epoch - 1ms/step\n",
      "Epoch 99/100\n",
      "385/385 - 0s - loss: 2.2211 - accuracy: 0.3745 - 400ms/epoch - 1ms/step\n",
      "Epoch 100/100\n",
      "385/385 - 0s - loss: 2.2113 - accuracy: 0.3793 - 391ms/epoch - 1ms/step\n"
     ]
    },
    {
     "data": {
      "text/plain": [
       "<keras.callbacks.History at 0x279abf712d0>"
      ]
     },
     "execution_count": 407,
     "metadata": {},
     "output_type": "execute_result"
    }
   ],
   "source": [
    "model.fit(\n",
    "    X_train_scaled,\n",
    "    y_train_categorical,\n",
    "    epochs=100,\n",
    "    shuffle=True,\n",
    "    verbose=2\n",
    ")"
   ]
  },
  {
   "cell_type": "code",
   "execution_count": 408,
   "metadata": {
    "colab": {
     "base_uri": "https://localhost:8080/",
     "height": 51
    },
    "colab_type": "code",
    "id": "tNwCatGkwvZ6",
    "outputId": "ad7635cd-d377-41df-e9b3-76c364b6e560"
   },
   "outputs": [
    {
     "name": "stdout",
     "output_type": "stream",
     "text": [
      "129/129 - 0s - loss: 2.9835 - accuracy: 0.2594 - 197ms/epoch - 2ms/step\n",
      "Normal Neural Network - Loss: 2.983454942703247, Accuracy: 0.25937652587890625\n"
     ]
    }
   ],
   "source": [
    "model_loss, model_accuracy = model.evaluate(\n",
    "    X_test_scaled, y_test_categorical, verbose=2)\n",
    "print(\n",
    "    f\"Normal Neural Network - Loss: {model_loss}, Accuracy: {model_accuracy}\")"
   ]
  },
  {
   "cell_type": "markdown",
   "metadata": {
    "colab_type": "text",
    "id": "MpwBPknpbcHO"
   },
   "source": [
    " Changing the Genre Dataframe - Considering the Top 50 Genres"
   ]
  },
  {
   "cell_type": "code",
   "execution_count": 409,
   "metadata": {
    "colab": {
     "base_uri": "https://localhost:8080/",
     "height": 445
    },
    "colab_type": "code",
    "id": "QHNgZ73bbihU",
    "outputId": "a17bf9bb-8cae-41c0-d19b-0217704bd0c7"
   },
   "outputs": [
    {
     "data": {
      "text/html": [
       "<div>\n",
       "<style scoped>\n",
       "    .dataframe tbody tr th:only-of-type {\n",
       "        vertical-align: middle;\n",
       "    }\n",
       "\n",
       "    .dataframe tbody tr th {\n",
       "        vertical-align: top;\n",
       "    }\n",
       "\n",
       "    .dataframe thead th {\n",
       "        text-align: right;\n",
       "    }\n",
       "</style>\n",
       "<table border=\"1\" class=\"dataframe\">\n",
       "  <thead>\n",
       "    <tr style=\"text-align: right;\">\n",
       "      <th></th>\n",
       "      <th>artist_name</th>\n",
       "      <th>track_name</th>\n",
       "      <th>track_id</th>\n",
       "      <th>artist_href</th>\n",
       "      <th>track_href</th>\n",
       "      <th>genre_name</th>\n",
       "      <th>danceability</th>\n",
       "      <th>energy</th>\n",
       "      <th>key</th>\n",
       "      <th>loudness</th>\n",
       "      <th>mode</th>\n",
       "      <th>speechiness</th>\n",
       "      <th>acousticness</th>\n",
       "      <th>instrumentalness</th>\n",
       "      <th>liveness</th>\n",
       "      <th>valence</th>\n",
       "      <th>tempo</th>\n",
       "      <th>duration_ms</th>\n",
       "    </tr>\n",
       "  </thead>\n",
       "  <tbody>\n",
       "    <tr>\n",
       "      <th>0</th>\n",
       "      <td>drake</td>\n",
       "      <td>search &amp; rescue</td>\n",
       "      <td>7aRCf5cLOFN1U7kvtChY1G</td>\n",
       "      <td>https://open.spotify.com/artist/3TVXtAsR1Inumw...</td>\n",
       "      <td>https://open.spotify.com/track/7aRCf5cLOFN1U7k...</td>\n",
       "      <td>Hip-Hop</td>\n",
       "      <td>0.817</td>\n",
       "      <td>0.440</td>\n",
       "      <td>10</td>\n",
       "      <td>-8.482</td>\n",
       "      <td>0</td>\n",
       "      <td>0.0734</td>\n",
       "      <td>0.0603</td>\n",
       "      <td>0.000001</td>\n",
       "      <td>0.3300</td>\n",
       "      <td>0.544</td>\n",
       "      <td>142.024</td>\n",
       "      <td>272113</td>\n",
       "    </tr>\n",
       "    <tr>\n",
       "      <th>1</th>\n",
       "      <td>tyler, the creator</td>\n",
       "      <td>see you again (feat. kali uchis)</td>\n",
       "      <td>7KA4W4McWYRpgf0fWsJZWB</td>\n",
       "      <td>https://open.spotify.com/artist/4V8LLVI7PbaPR0...</td>\n",
       "      <td>https://open.spotify.com/track/7KA4W4McWYRpgf0...</td>\n",
       "      <td>Hip-Hop</td>\n",
       "      <td>0.558</td>\n",
       "      <td>0.559</td>\n",
       "      <td>6</td>\n",
       "      <td>-9.222</td>\n",
       "      <td>1</td>\n",
       "      <td>0.0959</td>\n",
       "      <td>0.3710</td>\n",
       "      <td>0.000007</td>\n",
       "      <td>0.1090</td>\n",
       "      <td>0.620</td>\n",
       "      <td>78.558</td>\n",
       "      <td>180387</td>\n",
       "    </tr>\n",
       "    <tr>\n",
       "      <th>2</th>\n",
       "      <td>metro boomin</td>\n",
       "      <td>creepin' (with the weeknd &amp; 21 savage)</td>\n",
       "      <td>2dHHgzDwk4BJdRwy9uXhTO</td>\n",
       "      <td>https://open.spotify.com/artist/0iEtIxbK0KxaSl...</td>\n",
       "      <td>https://open.spotify.com/track/2dHHgzDwk4BJdRw...</td>\n",
       "      <td>Hip-Hop</td>\n",
       "      <td>0.715</td>\n",
       "      <td>0.620</td>\n",
       "      <td>1</td>\n",
       "      <td>-6.005</td>\n",
       "      <td>0</td>\n",
       "      <td>0.0484</td>\n",
       "      <td>0.4170</td>\n",
       "      <td>0.000000</td>\n",
       "      <td>0.0822</td>\n",
       "      <td>0.172</td>\n",
       "      <td>97.950</td>\n",
       "      <td>221520</td>\n",
       "    </tr>\n",
       "    <tr>\n",
       "      <th>3</th>\n",
       "      <td>j. cole</td>\n",
       "      <td>no role modelz</td>\n",
       "      <td>68Dni7IE4VyPkTOH9mRWHr</td>\n",
       "      <td>https://open.spotify.com/artist/6l3HvQ5sa6mXTs...</td>\n",
       "      <td>https://open.spotify.com/track/68Dni7IE4VyPkTO...</td>\n",
       "      <td>Hip-Hop</td>\n",
       "      <td>0.690</td>\n",
       "      <td>0.521</td>\n",
       "      <td>10</td>\n",
       "      <td>-8.492</td>\n",
       "      <td>0</td>\n",
       "      <td>0.3390</td>\n",
       "      <td>0.3240</td>\n",
       "      <td>0.000000</td>\n",
       "      <td>0.0534</td>\n",
       "      <td>0.494</td>\n",
       "      <td>100.028</td>\n",
       "      <td>292799</td>\n",
       "    </tr>\n",
       "    <tr>\n",
       "      <th>4</th>\n",
       "      <td>drake</td>\n",
       "      <td>rich flex</td>\n",
       "      <td>1bDbXMyjaUIooNwFE9wn0N</td>\n",
       "      <td>https://open.spotify.com/artist/3TVXtAsR1Inumw...</td>\n",
       "      <td>https://open.spotify.com/track/1bDbXMyjaUIooNw...</td>\n",
       "      <td>Hip-Hop</td>\n",
       "      <td>0.561</td>\n",
       "      <td>0.520</td>\n",
       "      <td>11</td>\n",
       "      <td>-9.342</td>\n",
       "      <td>0</td>\n",
       "      <td>0.2440</td>\n",
       "      <td>0.0503</td>\n",
       "      <td>0.000002</td>\n",
       "      <td>0.3550</td>\n",
       "      <td>0.424</td>\n",
       "      <td>153.150</td>\n",
       "      <td>239360</td>\n",
       "    </tr>\n",
       "  </tbody>\n",
       "</table>\n",
       "</div>"
      ],
      "text/plain": [
       "          artist_name                              track_name   \n",
       "0               drake                         search & rescue  \\\n",
       "1  tyler, the creator        see you again (feat. kali uchis)   \n",
       "2        metro boomin  creepin' (with the weeknd & 21 savage)   \n",
       "3             j. cole                          no role modelz   \n",
       "4               drake                               rich flex   \n",
       "\n",
       "                 track_id                                        artist_href   \n",
       "0  7aRCf5cLOFN1U7kvtChY1G  https://open.spotify.com/artist/3TVXtAsR1Inumw...  \\\n",
       "1  7KA4W4McWYRpgf0fWsJZWB  https://open.spotify.com/artist/4V8LLVI7PbaPR0...   \n",
       "2  2dHHgzDwk4BJdRwy9uXhTO  https://open.spotify.com/artist/0iEtIxbK0KxaSl...   \n",
       "3  68Dni7IE4VyPkTOH9mRWHr  https://open.spotify.com/artist/6l3HvQ5sa6mXTs...   \n",
       "4  1bDbXMyjaUIooNwFE9wn0N  https://open.spotify.com/artist/3TVXtAsR1Inumw...   \n",
       "\n",
       "                                          track_href genre_name  danceability   \n",
       "0  https://open.spotify.com/track/7aRCf5cLOFN1U7k...    Hip-Hop         0.817  \\\n",
       "1  https://open.spotify.com/track/7KA4W4McWYRpgf0...    Hip-Hop         0.558   \n",
       "2  https://open.spotify.com/track/2dHHgzDwk4BJdRw...    Hip-Hop         0.715   \n",
       "3  https://open.spotify.com/track/68Dni7IE4VyPkTO...    Hip-Hop         0.690   \n",
       "4  https://open.spotify.com/track/1bDbXMyjaUIooNw...    Hip-Hop         0.561   \n",
       "\n",
       "   energy  key  loudness  mode  speechiness  acousticness  instrumentalness   \n",
       "0   0.440   10    -8.482     0       0.0734        0.0603          0.000001  \\\n",
       "1   0.559    6    -9.222     1       0.0959        0.3710          0.000007   \n",
       "2   0.620    1    -6.005     0       0.0484        0.4170          0.000000   \n",
       "3   0.521   10    -8.492     0       0.3390        0.3240          0.000000   \n",
       "4   0.520   11    -9.342     0       0.2440        0.0503          0.000002   \n",
       "\n",
       "   liveness  valence    tempo  duration_ms  \n",
       "0    0.3300    0.544  142.024       272113  \n",
       "1    0.1090    0.620   78.558       180387  \n",
       "2    0.0822    0.172   97.950       221520  \n",
       "3    0.0534    0.494  100.028       292799  \n",
       "4    0.3550    0.424  153.150       239360  "
      ]
     },
     "execution_count": 409,
     "metadata": {},
     "output_type": "execute_result"
    }
   ],
   "source": [
    "df = pd.read_csv(os.path.join(\"Downloads/spotify_df_Top50Genre.csv\"))\n",
    "df.head()"
   ]
  },
  {
   "cell_type": "code",
   "execution_count": 410,
   "metadata": {
    "colab": {
     "base_uri": "https://localhost:8080/",
     "height": 357
    },
    "colab_type": "code",
    "id": "O8MIAlAcb8xy",
    "outputId": "929788aa-a1a1-4d88-cdbf-c32694b17465"
   },
   "outputs": [
    {
     "name": "stdout",
     "output_type": "stream",
     "text": [
      "<class 'pandas.core.frame.DataFrame'>\n",
      "RangeIndex: 2434 entries, 0 to 2433\n",
      "Data columns (total 13 columns):\n",
      " #   Column            Non-Null Count  Dtype  \n",
      "---  ------            --------------  -----  \n",
      " 0   genre_name        2434 non-null   object \n",
      " 1   danceability      2434 non-null   float64\n",
      " 2   energy            2434 non-null   float64\n",
      " 3   key               2434 non-null   int64  \n",
      " 4   loudness          2434 non-null   float64\n",
      " 5   mode              2434 non-null   int64  \n",
      " 6   speechiness       2434 non-null   float64\n",
      " 7   acousticness      2434 non-null   float64\n",
      " 8   instrumentalness  2434 non-null   float64\n",
      " 9   liveness          2434 non-null   float64\n",
      " 10  valence           2434 non-null   float64\n",
      " 11  tempo             2434 non-null   float64\n",
      " 12  duration_ms       2434 non-null   int64  \n",
      "dtypes: float64(9), int64(3), object(1)\n",
      "memory usage: 247.3+ KB\n"
     ]
    }
   ],
   "source": [
    "ML_df = df.drop(['artist_name', 'track_name', 'track_id', 'artist_href', 'track_href'], axis=1)\n",
    "ML_df.info()"
   ]
  },
  {
   "cell_type": "code",
   "execution_count": 411,
   "metadata": {
    "colab": {
     "base_uri": "https://localhost:8080/",
     "height": 34
    },
    "colab_type": "code",
    "id": "cwAcnxJicFSM",
    "outputId": "c4399b7e-5629-4519-e013-ac5e9a8e6da7"
   },
   "outputs": [
    {
     "name": "stdout",
     "output_type": "stream",
     "text": [
      "(2434, 12) (2434,)\n"
     ]
    }
   ],
   "source": [
    "X = ML_df.drop(\"genre_name\", axis=1)\n",
    "y = ML_df[\"genre_name\"]\n",
    "print(X.shape, y.shape)"
   ]
  },
  {
   "cell_type": "code",
   "execution_count": 412,
   "metadata": {
    "colab": {},
    "colab_type": "code",
    "id": "Ou7U1j2RcLTK"
   },
   "outputs": [],
   "source": [
    "X_train, X_test, y_train, y_test = train_test_split(\n",
    "    X, y, stratify=y)"
   ]
  },
  {
   "cell_type": "code",
   "execution_count": 413,
   "metadata": {
    "colab": {},
    "colab_type": "code",
    "id": "6UCbFEWHcLcO"
   },
   "outputs": [],
   "source": [
    "X_scaler = MinMaxScaler().fit(X_train)\n",
    "X_train_scaled = X_scaler.transform(X_train)\n",
    "X_test_scaled = X_scaler.transform(X_test)"
   ]
  },
  {
   "cell_type": "code",
   "execution_count": 414,
   "metadata": {
    "colab": {},
    "colab_type": "code",
    "id": "XakC0tFVcLh2"
   },
   "outputs": [],
   "source": [
    "# Step 1: Label-encode data set\n",
    "label_encoder = LabelEncoder()\n",
    "label_encoder.fit(y_train)\n",
    "encoded_y_train = label_encoder.transform(y_train)\n",
    "encoded_y_test = label_encoder.transform(y_test)"
   ]
  },
  {
   "cell_type": "code",
   "execution_count": 415,
   "metadata": {
    "colab": {},
    "colab_type": "code",
    "id": "kS6xEXL4cLpj"
   },
   "outputs": [],
   "source": [
    "# Step 2: Convert encoded labels to one-hot-encoding\n",
    "y_train_categorical = to_categorical(encoded_y_train)\n",
    "y_test_categorical = to_categorical(encoded_y_test)"
   ]
  },
  {
   "cell_type": "code",
   "execution_count": null,
   "metadata": {
    "colab": {},
    "colab_type": "code",
    "id": "XgiFB6gvcLsi"
   },
   "outputs": [],
   "source": []
  },
  {
   "cell_type": "code",
   "execution_count": 416,
   "metadata": {
    "colab": {},
    "colab_type": "code",
    "id": "RP2dxBhXcLwm"
   },
   "outputs": [],
   "source": [
    "# Create model and add layers\n",
    "model = Sequential()\n",
    "model.add(Dense(units=10, activation='relu', input_dim=12))\n",
    "# model.add(Dense(units=10, activation='sigmoid'))\n",
    "# model.add(Dense(units=10, activation='sigmoid'))\n",
    "# model.add(Dense(units=10, activation='sigmoid'))\n",
    "model.add(Dense(units=10, activation='relu'))\n",
    "model.add(Dense(units=10, activation='relu'))\n",
    "model.add(Dense(units=10, activation='relu'))\n",
    "model.add(Dense(units=10, activation='relu'))\n",
    "# model.add(Dense(units=10, activation='relu'))\n",
    "model.add(Dense(units=10, activation='softmax'))"
   ]
  },
  {
   "cell_type": "code",
   "execution_count": 417,
   "metadata": {
    "colab": {},
    "colab_type": "code",
    "id": "K94hVcQqcL19"
   },
   "outputs": [],
   "source": [
    "# Compile and fit the model\n",
    "model.compile(optimizer='adam',\n",
    "              loss='categorical_crossentropy',\n",
    "              metrics=['accuracy'])"
   ]
  },
  {
   "cell_type": "code",
   "execution_count": 418,
   "metadata": {
    "colab": {
     "base_uri": "https://localhost:8080/",
     "height": 357
    },
    "colab_type": "code",
    "id": "iUUJUoKUcL7h",
    "outputId": "fd32c6f4-ea61-42fd-8c27-dde5fc99583b"
   },
   "outputs": [
    {
     "name": "stdout",
     "output_type": "stream",
     "text": [
      "Model: \"sequential_29\"\n",
      "_________________________________________________________________\n",
      " Layer (type)                Output Shape              Param #   \n",
      "=================================================================\n",
      " dense_122 (Dense)           (None, 10)                130       \n",
      "                                                                 \n",
      " dense_123 (Dense)           (None, 10)                110       \n",
      "                                                                 \n",
      " dense_124 (Dense)           (None, 10)                110       \n",
      "                                                                 \n",
      " dense_125 (Dense)           (None, 10)                110       \n",
      "                                                                 \n",
      " dense_126 (Dense)           (None, 10)                110       \n",
      "                                                                 \n",
      " dense_127 (Dense)           (None, 10)                110       \n",
      "                                                                 \n",
      "=================================================================\n",
      "Total params: 680\n",
      "Trainable params: 680\n",
      "Non-trainable params: 0\n",
      "_________________________________________________________________\n"
     ]
    }
   ],
   "source": [
    "model.summary()"
   ]
  },
  {
   "cell_type": "code",
   "execution_count": 419,
   "metadata": {
    "colab": {
     "base_uri": "https://localhost:8080/",
     "height": 1000
    },
    "colab_type": "code",
    "id": "hUYd8K0McL5s",
    "outputId": "1ceef148-7a43-491f-985d-945e01bde6db"
   },
   "outputs": [
    {
     "name": "stdout",
     "output_type": "stream",
     "text": [
      "Epoch 1/200\n",
      "58/58 - 1s - loss: 2.3007 - accuracy: 0.1058 - 775ms/epoch - 13ms/step\n",
      "Epoch 2/200\n",
      "58/58 - 0s - loss: 2.2907 - accuracy: 0.1068 - 66ms/epoch - 1ms/step\n",
      "Epoch 3/200\n",
      "58/58 - 0s - loss: 2.2809 - accuracy: 0.1326 - 83ms/epoch - 1ms/step\n",
      "Epoch 4/200\n",
      "58/58 - 0s - loss: 2.2640 - accuracy: 0.1359 - 73ms/epoch - 1ms/step\n",
      "Epoch 5/200\n",
      "58/58 - 0s - loss: 2.2368 - accuracy: 0.1595 - 74ms/epoch - 1ms/step\n",
      "Epoch 6/200\n",
      "58/58 - 0s - loss: 2.1985 - accuracy: 0.1726 - 71ms/epoch - 1ms/step\n",
      "Epoch 7/200\n",
      "58/58 - 0s - loss: 2.1553 - accuracy: 0.1847 - 71ms/epoch - 1ms/step\n",
      "Epoch 8/200\n",
      "58/58 - 0s - loss: 2.1058 - accuracy: 0.2252 - 68ms/epoch - 1ms/step\n",
      "Epoch 9/200\n",
      "58/58 - 0s - loss: 2.0630 - accuracy: 0.2438 - 67ms/epoch - 1ms/step\n",
      "Epoch 10/200\n",
      "58/58 - 0s - loss: 2.0292 - accuracy: 0.2400 - 69ms/epoch - 1ms/step\n",
      "Epoch 11/200\n",
      "58/58 - 0s - loss: 1.9890 - accuracy: 0.2630 - 63ms/epoch - 1ms/step\n",
      "Epoch 12/200\n",
      "58/58 - 0s - loss: 1.9621 - accuracy: 0.2685 - 67ms/epoch - 1ms/step\n",
      "Epoch 13/200\n",
      "58/58 - 0s - loss: 1.9432 - accuracy: 0.2773 - 67ms/epoch - 1ms/step\n",
      "Epoch 14/200\n",
      "58/58 - 0s - loss: 1.9175 - accuracy: 0.2915 - 68ms/epoch - 1ms/step\n",
      "Epoch 15/200\n",
      "58/58 - 0s - loss: 1.9022 - accuracy: 0.3058 - 64ms/epoch - 1ms/step\n",
      "Epoch 16/200\n",
      "58/58 - 0s - loss: 1.8826 - accuracy: 0.3282 - 64ms/epoch - 1ms/step\n",
      "Epoch 17/200\n",
      "58/58 - 0s - loss: 1.8654 - accuracy: 0.3266 - 56ms/epoch - 972us/step\n",
      "Epoch 18/200\n",
      "58/58 - 0s - loss: 1.8517 - accuracy: 0.3490 - 58ms/epoch - 992us/step\n",
      "Epoch 19/200\n",
      "58/58 - 0s - loss: 1.8354 - accuracy: 0.3485 - 65ms/epoch - 1ms/step\n",
      "Epoch 20/200\n",
      "58/58 - 0s - loss: 1.8472 - accuracy: 0.3299 - 68ms/epoch - 1ms/step\n",
      "Epoch 21/200\n",
      "58/58 - 0s - loss: 1.8247 - accuracy: 0.3458 - 60ms/epoch - 1ms/step\n",
      "Epoch 22/200\n",
      "58/58 - 0s - loss: 1.8161 - accuracy: 0.3529 - 67ms/epoch - 1ms/step\n",
      "Epoch 23/200\n",
      "58/58 - 0s - loss: 1.8012 - accuracy: 0.3534 - 59ms/epoch - 1ms/step\n",
      "Epoch 24/200\n",
      "58/58 - 0s - loss: 1.7887 - accuracy: 0.3638 - 58ms/epoch - 1ms/step\n",
      "Epoch 25/200\n",
      "58/58 - 0s - loss: 1.7882 - accuracy: 0.3699 - 75ms/epoch - 1ms/step\n",
      "Epoch 26/200\n",
      "58/58 - 0s - loss: 1.7786 - accuracy: 0.3666 - 66ms/epoch - 1ms/step\n",
      "Epoch 27/200\n",
      "58/58 - 0s - loss: 1.7641 - accuracy: 0.3655 - 67ms/epoch - 1ms/step\n",
      "Epoch 28/200\n",
      "58/58 - 0s - loss: 1.7653 - accuracy: 0.3660 - 67ms/epoch - 1ms/step\n",
      "Epoch 29/200\n",
      "58/58 - 0s - loss: 1.7601 - accuracy: 0.3710 - 66ms/epoch - 1ms/step\n",
      "Epoch 30/200\n",
      "58/58 - 0s - loss: 1.7566 - accuracy: 0.3732 - 56ms/epoch - 967us/step\n",
      "Epoch 31/200\n",
      "58/58 - 0s - loss: 1.7511 - accuracy: 0.3616 - 61ms/epoch - 1ms/step\n",
      "Epoch 32/200\n",
      "58/58 - 0s - loss: 1.7424 - accuracy: 0.3737 - 54ms/epoch - 931us/step\n",
      "Epoch 33/200\n",
      "58/58 - 0s - loss: 1.7412 - accuracy: 0.3759 - 63ms/epoch - 1ms/step\n",
      "Epoch 34/200\n",
      "58/58 - 0s - loss: 1.7355 - accuracy: 0.3682 - 76ms/epoch - 1ms/step\n",
      "Epoch 35/200\n",
      "58/58 - 0s - loss: 1.7292 - accuracy: 0.3699 - 60ms/epoch - 1ms/step\n",
      "Epoch 36/200\n",
      "58/58 - 0s - loss: 1.7331 - accuracy: 0.3638 - 69ms/epoch - 1ms/step\n",
      "Epoch 37/200\n",
      "58/58 - 0s - loss: 1.7564 - accuracy: 0.3655 - 67ms/epoch - 1ms/step\n",
      "Epoch 38/200\n",
      "58/58 - 0s - loss: 1.7186 - accuracy: 0.3808 - 83ms/epoch - 1ms/step\n",
      "Epoch 39/200\n",
      "58/58 - 0s - loss: 1.7279 - accuracy: 0.3753 - 65ms/epoch - 1ms/step\n",
      "Epoch 40/200\n",
      "58/58 - 0s - loss: 1.7133 - accuracy: 0.3786 - 65ms/epoch - 1ms/step\n",
      "Epoch 41/200\n",
      "58/58 - 0s - loss: 1.7025 - accuracy: 0.3808 - 67ms/epoch - 1ms/step\n",
      "Epoch 42/200\n",
      "58/58 - 0s - loss: 1.6992 - accuracy: 0.3781 - 67ms/epoch - 1ms/step\n",
      "Epoch 43/200\n",
      "58/58 - 0s - loss: 1.6992 - accuracy: 0.3737 - 60ms/epoch - 1ms/step\n",
      "Epoch 44/200\n",
      "58/58 - 0s - loss: 1.6948 - accuracy: 0.3858 - 73ms/epoch - 1ms/step\n",
      "Epoch 45/200\n",
      "58/58 - 0s - loss: 1.6874 - accuracy: 0.3956 - 68ms/epoch - 1ms/step\n",
      "Epoch 46/200\n",
      "58/58 - 0s - loss: 1.6885 - accuracy: 0.3940 - 58ms/epoch - 1ms/step\n",
      "Epoch 47/200\n",
      "58/58 - 0s - loss: 1.6828 - accuracy: 0.3885 - 50ms/epoch - 861us/step\n",
      "Epoch 48/200\n",
      "58/58 - 0s - loss: 1.6916 - accuracy: 0.3825 - 65ms/epoch - 1ms/step\n",
      "Epoch 49/200\n",
      "58/58 - 0s - loss: 1.6966 - accuracy: 0.3814 - 68ms/epoch - 1ms/step\n",
      "Epoch 50/200\n",
      "58/58 - 0s - loss: 1.6758 - accuracy: 0.3956 - 59ms/epoch - 1ms/step\n",
      "Epoch 51/200\n",
      "58/58 - 0s - loss: 1.6715 - accuracy: 0.3901 - 67ms/epoch - 1ms/step\n",
      "Epoch 52/200\n",
      "58/58 - 0s - loss: 1.6737 - accuracy: 0.3918 - 59ms/epoch - 1ms/step\n",
      "Epoch 53/200\n",
      "58/58 - 0s - loss: 1.6761 - accuracy: 0.3923 - 60ms/epoch - 1ms/step\n",
      "Epoch 54/200\n",
      "58/58 - 0s - loss: 1.6741 - accuracy: 0.4000 - 65ms/epoch - 1ms/step\n",
      "Epoch 55/200\n",
      "58/58 - 0s - loss: 1.6625 - accuracy: 0.3901 - 50ms/epoch - 857us/step\n",
      "Epoch 56/200\n",
      "58/58 - 0s - loss: 1.6584 - accuracy: 0.4071 - 59ms/epoch - 1ms/step\n",
      "Epoch 57/200\n",
      "58/58 - 0s - loss: 1.6746 - accuracy: 0.3912 - 69ms/epoch - 1ms/step\n",
      "Epoch 58/200\n",
      "58/58 - 0s - loss: 1.6696 - accuracy: 0.3912 - 83ms/epoch - 1ms/step\n",
      "Epoch 59/200\n",
      "58/58 - 0s - loss: 1.6677 - accuracy: 0.3989 - 55ms/epoch - 946us/step\n",
      "Epoch 60/200\n",
      "58/58 - 0s - loss: 1.6681 - accuracy: 0.3940 - 63ms/epoch - 1ms/step\n",
      "Epoch 61/200\n",
      "58/58 - 0s - loss: 1.6494 - accuracy: 0.4066 - 67ms/epoch - 1ms/step\n",
      "Epoch 62/200\n",
      "58/58 - 0s - loss: 1.6469 - accuracy: 0.3956 - 83ms/epoch - 1ms/step\n",
      "Epoch 63/200\n",
      "58/58 - 0s - loss: 1.6484 - accuracy: 0.4060 - 67ms/epoch - 1ms/step\n",
      "Epoch 64/200\n",
      "58/58 - 0s - loss: 1.6481 - accuracy: 0.4027 - 63ms/epoch - 1ms/step\n",
      "Epoch 65/200\n",
      "58/58 - 0s - loss: 1.6444 - accuracy: 0.4000 - 83ms/epoch - 1ms/step\n",
      "Epoch 66/200\n",
      "58/58 - 0s - loss: 1.6436 - accuracy: 0.4011 - 67ms/epoch - 1ms/step\n",
      "Epoch 67/200\n",
      "58/58 - 0s - loss: 1.6520 - accuracy: 0.3978 - 59ms/epoch - 1ms/step\n",
      "Epoch 68/200\n",
      "58/58 - 0s - loss: 1.6401 - accuracy: 0.4115 - 58ms/epoch - 1ms/step\n",
      "Epoch 69/200\n",
      "58/58 - 0s - loss: 1.6379 - accuracy: 0.4104 - 59ms/epoch - 1ms/step\n",
      "Epoch 70/200\n",
      "58/58 - 0s - loss: 1.6344 - accuracy: 0.4104 - 76ms/epoch - 1ms/step\n",
      "Epoch 71/200\n",
      "58/58 - 0s - loss: 1.6327 - accuracy: 0.4115 - 68ms/epoch - 1ms/step\n",
      "Epoch 72/200\n",
      "58/58 - 0s - loss: 1.6375 - accuracy: 0.4142 - 81ms/epoch - 1ms/step\n",
      "Epoch 73/200\n",
      "58/58 - 0s - loss: 1.6310 - accuracy: 0.4121 - 68ms/epoch - 1ms/step\n",
      "Epoch 74/200\n",
      "58/58 - 0s - loss: 1.6310 - accuracy: 0.4016 - 67ms/epoch - 1ms/step\n",
      "Epoch 75/200\n",
      "58/58 - 0s - loss: 1.6325 - accuracy: 0.4236 - 83ms/epoch - 1ms/step\n",
      "Epoch 76/200\n",
      "58/58 - 0s - loss: 1.6252 - accuracy: 0.4170 - 64ms/epoch - 1ms/step\n",
      "Epoch 77/200\n",
      "58/58 - 0s - loss: 1.6205 - accuracy: 0.4186 - 64ms/epoch - 1ms/step\n",
      "Epoch 78/200\n",
      "58/58 - 0s - loss: 1.6259 - accuracy: 0.4115 - 61ms/epoch - 1ms/step\n",
      "Epoch 79/200\n",
      "58/58 - 0s - loss: 1.6189 - accuracy: 0.4110 - 67ms/epoch - 1ms/step\n",
      "Epoch 80/200\n",
      "58/58 - 0s - loss: 1.6227 - accuracy: 0.4071 - 59ms/epoch - 1ms/step\n",
      "Epoch 81/200\n",
      "58/58 - 0s - loss: 1.6310 - accuracy: 0.4088 - 67ms/epoch - 1ms/step\n",
      "Epoch 82/200\n",
      "58/58 - 0s - loss: 1.6270 - accuracy: 0.4066 - 60ms/epoch - 1ms/step\n",
      "Epoch 83/200\n",
      "58/58 - 0s - loss: 1.6164 - accuracy: 0.4164 - 68ms/epoch - 1ms/step\n",
      "Epoch 84/200\n",
      "58/58 - 0s - loss: 1.6180 - accuracy: 0.4170 - 66ms/epoch - 1ms/step\n",
      "Epoch 85/200\n",
      "58/58 - 0s - loss: 1.6191 - accuracy: 0.4219 - 66ms/epoch - 1ms/step\n",
      "Epoch 86/200\n",
      "58/58 - 0s - loss: 1.6221 - accuracy: 0.4170 - 66ms/epoch - 1ms/step\n",
      "Epoch 87/200\n",
      "58/58 - 0s - loss: 1.6086 - accuracy: 0.4241 - 67ms/epoch - 1ms/step\n",
      "Epoch 88/200\n",
      "58/58 - 0s - loss: 1.6145 - accuracy: 0.4132 - 65ms/epoch - 1ms/step\n",
      "Epoch 89/200\n",
      "58/58 - 0s - loss: 1.6409 - accuracy: 0.4016 - 69ms/epoch - 1ms/step\n",
      "Epoch 90/200\n",
      "58/58 - 0s - loss: 1.6082 - accuracy: 0.4247 - 83ms/epoch - 1ms/step\n",
      "Epoch 91/200\n",
      "58/58 - 0s - loss: 1.6122 - accuracy: 0.4230 - 66ms/epoch - 1ms/step\n",
      "Epoch 92/200\n",
      "58/58 - 0s - loss: 1.6087 - accuracy: 0.4159 - 65ms/epoch - 1ms/step\n",
      "Epoch 93/200\n",
      "58/58 - 0s - loss: 1.6071 - accuracy: 0.4214 - 50ms/epoch - 864us/step\n",
      "Epoch 94/200\n",
      "58/58 - 0s - loss: 1.6091 - accuracy: 0.4247 - 59ms/epoch - 1ms/step\n",
      "Epoch 95/200\n",
      "58/58 - 0s - loss: 1.6122 - accuracy: 0.4197 - 59ms/epoch - 1ms/step\n",
      "Epoch 96/200\n",
      "58/58 - 0s - loss: 1.6143 - accuracy: 0.4175 - 67ms/epoch - 1ms/step\n",
      "Epoch 97/200\n",
      "58/58 - 0s - loss: 1.5981 - accuracy: 0.4219 - 68ms/epoch - 1ms/step\n",
      "Epoch 98/200\n",
      "58/58 - 0s - loss: 1.6118 - accuracy: 0.4142 - 83ms/epoch - 1ms/step\n",
      "Epoch 99/200\n",
      "58/58 - 0s - loss: 1.5978 - accuracy: 0.4230 - 67ms/epoch - 1ms/step\n",
      "Epoch 100/200\n",
      "58/58 - 0s - loss: 1.6030 - accuracy: 0.4192 - 83ms/epoch - 1ms/step\n",
      "Epoch 101/200\n",
      "58/58 - 0s - loss: 1.5986 - accuracy: 0.4225 - 65ms/epoch - 1ms/step\n",
      "Epoch 102/200\n",
      "58/58 - 0s - loss: 1.5960 - accuracy: 0.4252 - 66ms/epoch - 1ms/step\n",
      "Epoch 103/200\n",
      "58/58 - 0s - loss: 1.6021 - accuracy: 0.4175 - 66ms/epoch - 1ms/step\n",
      "Epoch 104/200\n",
      "58/58 - 0s - loss: 1.5918 - accuracy: 0.4241 - 72ms/epoch - 1ms/step\n",
      "Epoch 105/200\n",
      "58/58 - 0s - loss: 1.6009 - accuracy: 0.4268 - 83ms/epoch - 1ms/step\n",
      "Epoch 106/200\n",
      "58/58 - 0s - loss: 1.5967 - accuracy: 0.4268 - 66ms/epoch - 1ms/step\n",
      "Epoch 107/200\n",
      "58/58 - 0s - loss: 1.6018 - accuracy: 0.4252 - 72ms/epoch - 1ms/step\n",
      "Epoch 108/200\n",
      "58/58 - 0s - loss: 1.6055 - accuracy: 0.4137 - 57ms/epoch - 989us/step\n",
      "Epoch 109/200\n",
      "58/58 - 0s - loss: 1.5892 - accuracy: 0.4219 - 58ms/epoch - 1000us/step\n",
      "Epoch 110/200\n",
      "58/58 - 0s - loss: 1.5937 - accuracy: 0.4323 - 59ms/epoch - 1ms/step\n",
      "Epoch 111/200\n",
      "58/58 - 0s - loss: 1.6013 - accuracy: 0.4132 - 58ms/epoch - 1000us/step\n",
      "Epoch 112/200\n",
      "58/58 - 0s - loss: 1.6058 - accuracy: 0.4186 - 59ms/epoch - 1ms/step\n",
      "Epoch 113/200\n",
      "58/58 - 0s - loss: 1.5884 - accuracy: 0.4307 - 58ms/epoch - 1ms/step\n",
      "Epoch 114/200\n",
      "58/58 - 0s - loss: 1.6003 - accuracy: 0.4208 - 50ms/epoch - 862us/step\n",
      "Epoch 115/200\n",
      "58/58 - 0s - loss: 1.5834 - accuracy: 0.4252 - 59ms/epoch - 1ms/step\n",
      "Epoch 116/200\n",
      "58/58 - 0s - loss: 1.5896 - accuracy: 0.4258 - 52ms/epoch - 902us/step\n",
      "Epoch 117/200\n",
      "58/58 - 0s - loss: 1.5805 - accuracy: 0.4274 - 56ms/epoch - 960us/step\n",
      "Epoch 118/200\n",
      "58/58 - 0s - loss: 1.6318 - accuracy: 0.4142 - 59ms/epoch - 1ms/step\n",
      "Epoch 119/200\n",
      "58/58 - 0s - loss: 1.5856 - accuracy: 0.4290 - 66ms/epoch - 1ms/step\n",
      "Epoch 120/200\n",
      "58/58 - 0s - loss: 1.5898 - accuracy: 0.4290 - 66ms/epoch - 1ms/step\n",
      "Epoch 121/200\n",
      "58/58 - 0s - loss: 1.5800 - accuracy: 0.4312 - 50ms/epoch - 854us/step\n",
      "Epoch 122/200\n",
      "58/58 - 0s - loss: 1.5745 - accuracy: 0.4334 - 60ms/epoch - 1ms/step\n",
      "Epoch 123/200\n",
      "58/58 - 0s - loss: 1.6175 - accuracy: 0.4181 - 59ms/epoch - 1ms/step\n",
      "Epoch 124/200\n",
      "58/58 - 0s - loss: 1.5743 - accuracy: 0.4263 - 58ms/epoch - 1ms/step\n",
      "Epoch 125/200\n",
      "58/58 - 0s - loss: 1.5869 - accuracy: 0.4329 - 58ms/epoch - 993us/step\n",
      "Epoch 126/200\n",
      "58/58 - 0s - loss: 1.5781 - accuracy: 0.4219 - 58ms/epoch - 999us/step\n",
      "Epoch 127/200\n",
      "58/58 - 0s - loss: 1.5787 - accuracy: 0.4279 - 50ms/epoch - 862us/step\n",
      "Epoch 128/200\n",
      "58/58 - 0s - loss: 1.5782 - accuracy: 0.4318 - 66ms/epoch - 1ms/step\n",
      "Epoch 129/200\n",
      "58/58 - 0s - loss: 1.5962 - accuracy: 0.4258 - 59ms/epoch - 1ms/step\n",
      "Epoch 130/200\n",
      "58/58 - 0s - loss: 1.5803 - accuracy: 0.4274 - 62ms/epoch - 1ms/step\n",
      "Epoch 131/200\n",
      "58/58 - 0s - loss: 1.5709 - accuracy: 0.4301 - 67ms/epoch - 1ms/step\n",
      "Epoch 132/200\n",
      "58/58 - 0s - loss: 1.5846 - accuracy: 0.4279 - 67ms/epoch - 1ms/step\n",
      "Epoch 133/200\n",
      "58/58 - 0s - loss: 1.5800 - accuracy: 0.4329 - 67ms/epoch - 1ms/step\n",
      "Epoch 134/200\n",
      "58/58 - 0s - loss: 1.5727 - accuracy: 0.4296 - 57ms/epoch - 989us/step\n",
      "Epoch 135/200\n",
      "58/58 - 0s - loss: 1.5723 - accuracy: 0.4285 - 47ms/epoch - 808us/step\n",
      "Epoch 136/200\n",
      "58/58 - 0s - loss: 1.5759 - accuracy: 0.4351 - 74ms/epoch - 1ms/step\n",
      "Epoch 137/200\n",
      "58/58 - 0s - loss: 1.5678 - accuracy: 0.4345 - 57ms/epoch - 976us/step\n",
      "Epoch 138/200\n",
      "58/58 - 0s - loss: 1.5731 - accuracy: 0.4241 - 83ms/epoch - 1ms/step\n",
      "Epoch 139/200\n",
      "58/58 - 0s - loss: 1.5799 - accuracy: 0.4285 - 66ms/epoch - 1ms/step\n",
      "Epoch 140/200\n",
      "58/58 - 0s - loss: 1.5640 - accuracy: 0.4384 - 66ms/epoch - 1ms/step\n",
      "Epoch 141/200\n",
      "58/58 - 0s - loss: 1.5696 - accuracy: 0.4307 - 67ms/epoch - 1ms/step\n",
      "Epoch 142/200\n",
      "58/58 - 0s - loss: 1.5741 - accuracy: 0.4334 - 83ms/epoch - 1ms/step\n",
      "Epoch 143/200\n",
      "58/58 - 0s - loss: 1.5950 - accuracy: 0.4230 - 67ms/epoch - 1ms/step\n",
      "Epoch 144/200\n",
      "58/58 - 0s - loss: 1.5712 - accuracy: 0.4323 - 83ms/epoch - 1ms/step\n",
      "Epoch 145/200\n",
      "58/58 - 0s - loss: 1.5663 - accuracy: 0.4329 - 67ms/epoch - 1ms/step\n",
      "Epoch 146/200\n",
      "58/58 - 0s - loss: 1.5757 - accuracy: 0.4274 - 67ms/epoch - 1ms/step\n",
      "Epoch 147/200\n",
      "58/58 - 0s - loss: 1.5733 - accuracy: 0.4362 - 84ms/epoch - 1ms/step\n",
      "Epoch 148/200\n",
      "58/58 - 0s - loss: 1.5589 - accuracy: 0.4345 - 66ms/epoch - 1ms/step\n",
      "Epoch 149/200\n",
      "58/58 - 0s - loss: 1.5574 - accuracy: 0.4367 - 67ms/epoch - 1ms/step\n",
      "Epoch 150/200\n",
      "58/58 - 0s - loss: 1.5679 - accuracy: 0.4356 - 83ms/epoch - 1ms/step\n",
      "Epoch 151/200\n",
      "58/58 - 0s - loss: 1.5646 - accuracy: 0.4422 - 68ms/epoch - 1ms/step\n",
      "Epoch 152/200\n",
      "58/58 - 0s - loss: 1.5605 - accuracy: 0.4285 - 67ms/epoch - 1ms/step\n",
      "Epoch 153/200\n",
      "58/58 - 0s - loss: 1.5614 - accuracy: 0.4405 - 66ms/epoch - 1ms/step\n",
      "Epoch 154/200\n",
      "58/58 - 0s - loss: 1.5872 - accuracy: 0.4285 - 66ms/epoch - 1ms/step\n",
      "Epoch 155/200\n",
      "58/58 - 0s - loss: 1.5752 - accuracy: 0.4362 - 67ms/epoch - 1ms/step\n",
      "Epoch 156/200\n",
      "58/58 - 0s - loss: 1.5747 - accuracy: 0.4274 - 68ms/epoch - 1ms/step\n",
      "Epoch 157/200\n",
      "58/58 - 0s - loss: 1.5564 - accuracy: 0.4433 - 67ms/epoch - 1ms/step\n",
      "Epoch 158/200\n",
      "58/58 - 0s - loss: 1.5588 - accuracy: 0.4427 - 83ms/epoch - 1ms/step\n",
      "Epoch 159/200\n",
      "58/58 - 0s - loss: 1.5548 - accuracy: 0.4427 - 67ms/epoch - 1ms/step\n",
      "Epoch 160/200\n",
      "58/58 - 0s - loss: 1.5608 - accuracy: 0.4356 - 67ms/epoch - 1ms/step\n",
      "Epoch 161/200\n",
      "58/58 - 0s - loss: 1.5587 - accuracy: 0.4318 - 82ms/epoch - 1ms/step\n",
      "Epoch 162/200\n",
      "58/58 - 0s - loss: 1.5760 - accuracy: 0.4345 - 68ms/epoch - 1ms/step\n",
      "Epoch 163/200\n",
      "58/58 - 0s - loss: 1.5549 - accuracy: 0.4460 - 82ms/epoch - 1ms/step\n",
      "Epoch 164/200\n",
      "58/58 - 0s - loss: 1.5557 - accuracy: 0.4405 - 83ms/epoch - 1ms/step\n",
      "Epoch 165/200\n",
      "58/58 - 0s - loss: 1.5501 - accuracy: 0.4395 - 67ms/epoch - 1ms/step\n",
      "Epoch 166/200\n",
      "58/58 - 0s - loss: 1.5532 - accuracy: 0.4427 - 73ms/epoch - 1ms/step\n",
      "Epoch 167/200\n",
      "58/58 - 0s - loss: 1.5594 - accuracy: 0.4351 - 99ms/epoch - 2ms/step\n",
      "Epoch 168/200\n",
      "58/58 - 0s - loss: 1.5578 - accuracy: 0.4356 - 62ms/epoch - 1ms/step\n",
      "Epoch 169/200\n",
      "58/58 - 0s - loss: 1.5563 - accuracy: 0.4367 - 68ms/epoch - 1ms/step\n",
      "Epoch 170/200\n",
      "58/58 - 0s - loss: 1.5661 - accuracy: 0.4356 - 64ms/epoch - 1ms/step\n",
      "Epoch 171/200\n",
      "58/58 - 0s - loss: 1.5640 - accuracy: 0.4378 - 67ms/epoch - 1ms/step\n",
      "Epoch 172/200\n",
      "58/58 - 0s - loss: 1.5461 - accuracy: 0.4400 - 64ms/epoch - 1ms/step\n",
      "Epoch 173/200\n",
      "58/58 - 0s - loss: 1.5505 - accuracy: 0.4416 - 60ms/epoch - 1ms/step\n",
      "Epoch 174/200\n",
      "58/58 - 0s - loss: 1.5490 - accuracy: 0.4444 - 59ms/epoch - 1ms/step\n",
      "Epoch 175/200\n",
      "58/58 - 0s - loss: 1.5482 - accuracy: 0.4444 - 66ms/epoch - 1ms/step\n",
      "Epoch 176/200\n",
      "58/58 - 0s - loss: 1.5500 - accuracy: 0.4384 - 67ms/epoch - 1ms/step\n",
      "Epoch 177/200\n",
      "58/58 - 0s - loss: 1.5510 - accuracy: 0.4449 - 67ms/epoch - 1ms/step\n",
      "Epoch 178/200\n",
      "58/58 - 0s - loss: 1.5552 - accuracy: 0.4395 - 67ms/epoch - 1ms/step\n",
      "Epoch 179/200\n",
      "58/58 - 0s - loss: 1.5494 - accuracy: 0.4427 - 66ms/epoch - 1ms/step\n",
      "Epoch 180/200\n",
      "58/58 - 0s - loss: 1.5535 - accuracy: 0.4438 - 70ms/epoch - 1ms/step\n",
      "Epoch 181/200\n",
      "58/58 - 0s - loss: 1.5460 - accuracy: 0.4471 - 64ms/epoch - 1ms/step\n",
      "Epoch 182/200\n",
      "58/58 - 0s - loss: 1.5570 - accuracy: 0.4296 - 73ms/epoch - 1ms/step\n",
      "Epoch 183/200\n",
      "58/58 - 0s - loss: 1.5462 - accuracy: 0.4438 - 68ms/epoch - 1ms/step\n",
      "Epoch 184/200\n",
      "58/58 - 0s - loss: 1.5425 - accuracy: 0.4384 - 61ms/epoch - 1ms/step\n",
      "Epoch 185/200\n",
      "58/58 - 0s - loss: 1.5454 - accuracy: 0.4526 - 68ms/epoch - 1ms/step\n",
      "Epoch 186/200\n",
      "58/58 - 0s - loss: 1.5448 - accuracy: 0.4460 - 67ms/epoch - 1ms/step\n",
      "Epoch 187/200\n",
      "58/58 - 0s - loss: 1.5430 - accuracy: 0.4422 - 67ms/epoch - 1ms/step\n",
      "Epoch 188/200\n",
      "58/58 - 0s - loss: 1.5472 - accuracy: 0.4411 - 73ms/epoch - 1ms/step\n",
      "Epoch 189/200\n",
      "58/58 - 0s - loss: 1.5432 - accuracy: 0.4433 - 67ms/epoch - 1ms/step\n",
      "Epoch 190/200\n",
      "58/58 - 0s - loss: 1.5409 - accuracy: 0.4438 - 72ms/epoch - 1ms/step\n",
      "Epoch 191/200\n",
      "58/58 - 0s - loss: 1.5520 - accuracy: 0.4411 - 78ms/epoch - 1ms/step\n",
      "Epoch 192/200\n",
      "58/58 - 0s - loss: 1.5400 - accuracy: 0.4466 - 74ms/epoch - 1ms/step\n",
      "Epoch 193/200\n",
      "58/58 - 0s - loss: 1.5418 - accuracy: 0.4422 - 59ms/epoch - 1ms/step\n",
      "Epoch 194/200\n",
      "58/58 - 0s - loss: 1.5405 - accuracy: 0.4482 - 60ms/epoch - 1ms/step\n",
      "Epoch 195/200\n",
      "58/58 - 0s - loss: 1.5345 - accuracy: 0.4449 - 59ms/epoch - 1ms/step\n",
      "Epoch 196/200\n",
      "58/58 - 0s - loss: 1.5551 - accuracy: 0.4444 - 67ms/epoch - 1ms/step\n",
      "Epoch 197/200\n",
      "58/58 - 0s - loss: 1.5412 - accuracy: 0.4460 - 66ms/epoch - 1ms/step\n",
      "Epoch 198/200\n",
      "58/58 - 0s - loss: 1.5551 - accuracy: 0.4378 - 52ms/epoch - 891us/step\n",
      "Epoch 199/200\n",
      "58/58 - 0s - loss: 1.5568 - accuracy: 0.4526 - 66ms/epoch - 1ms/step\n",
      "Epoch 200/200\n",
      "58/58 - 0s - loss: 1.5449 - accuracy: 0.4477 - 52ms/epoch - 904us/step\n"
     ]
    },
    {
     "data": {
      "text/plain": [
       "<keras.callbacks.History at 0x279abf4aed0>"
      ]
     },
     "execution_count": 419,
     "metadata": {},
     "output_type": "execute_result"
    }
   ],
   "source": [
    "model.fit(\n",
    "    X_train_scaled,\n",
    "    y_train_categorical,\n",
    "    epochs=200,\n",
    "    shuffle=True,\n",
    "    verbose=2\n",
    ")"
   ]
  },
  {
   "cell_type": "code",
   "execution_count": 420,
   "metadata": {
    "colab": {
     "base_uri": "https://localhost:8080/",
     "height": 51
    },
    "colab_type": "code",
    "id": "8JsLb7hYcL0P",
    "outputId": "d7c5c2a3-d350-4981-afdc-8b22c85668dd"
   },
   "outputs": [
    {
     "name": "stdout",
     "output_type": "stream",
     "text": [
      "20/20 - 0s - loss: 1.6301 - accuracy: 0.4319 - 124ms/epoch - 6ms/step\n",
      "Normal Neural Network - Loss: 1.630128026008606, Accuracy: 0.4318554997444153\n"
     ]
    }
   ],
   "source": [
    "model_loss, model_accuracy = model.evaluate(\n",
    "    X_test_scaled, y_test_categorical, verbose=2)\n",
    "print(\n",
    "    f\"Normal Neural Network - Loss: {model_loss}, Accuracy: {model_accuracy}\")"
   ]
  },
  {
   "cell_type": "markdown",
   "metadata": {
    "colab_type": "text",
    "id": "J0ueoe05xo-P"
   },
   "source": []
  },
  {
   "cell_type": "code",
   "execution_count": null,
   "metadata": {
    "colab": {},
    "colab_type": "code",
    "id": "ytJOBkBwGDZk"
   },
   "outputs": [],
   "source": []
  },
  {
   "cell_type": "code",
   "execution_count": null,
   "metadata": {
    "colab": {},
    "colab_type": "code",
    "id": "-VeJP3qGGDlc"
   },
   "outputs": [],
   "source": []
  },
  {
   "cell_type": "code",
   "execution_count": null,
   "metadata": {
    "colab": {},
    "colab_type": "code",
    "id": "FzyPOm9wGDvT"
   },
   "outputs": [],
   "source": []
  },
  {
   "cell_type": "code",
   "execution_count": null,
   "metadata": {
    "colab": {},
    "colab_type": "code",
    "id": "aYV24RCyGEH2"
   },
   "outputs": [],
   "source": []
  },
  {
   "cell_type": "code",
   "execution_count": null,
   "metadata": {
    "colab": {},
    "colab_type": "code",
    "id": "sm7zH1ZvGERk"
   },
   "outputs": [],
   "source": []
  },
  {
   "cell_type": "code",
   "execution_count": null,
   "metadata": {
    "colab": {},
    "colab_type": "code",
    "id": "qFRIPdr1GEZC"
   },
   "outputs": [],
   "source": []
  },
  {
   "cell_type": "markdown",
   "metadata": {
    "colab_type": "text",
    "id": "EdBy-ImYGJHu"
   },
   "source": [
    " trying this with less features"
   ]
  },
  {
   "cell_type": "code",
   "execution_count": 421,
   "metadata": {
    "colab": {
     "base_uri": "https://localhost:8080/",
     "height": 224
    },
    "colab_type": "code",
    "id": "E7IU8-23GLhO",
    "outputId": "d2a45f2a-c7f3-4a2a-9c00-09a40de4d379"
   },
   "outputs": [
    {
     "data": {
      "text/html": [
       "<div>\n",
       "<style scoped>\n",
       "    .dataframe tbody tr th:only-of-type {\n",
       "        vertical-align: middle;\n",
       "    }\n",
       "\n",
       "    .dataframe tbody tr th {\n",
       "        vertical-align: top;\n",
       "    }\n",
       "\n",
       "    .dataframe thead th {\n",
       "        text-align: right;\n",
       "    }\n",
       "</style>\n",
       "<table border=\"1\" class=\"dataframe\">\n",
       "  <thead>\n",
       "    <tr style=\"text-align: right;\">\n",
       "      <th></th>\n",
       "      <th>genre_name</th>\n",
       "      <th>danceability</th>\n",
       "      <th>energy</th>\n",
       "      <th>key</th>\n",
       "      <th>loudness</th>\n",
       "      <th>mode</th>\n",
       "      <th>speechiness</th>\n",
       "      <th>acousticness</th>\n",
       "      <th>instrumentalness</th>\n",
       "      <th>liveness</th>\n",
       "      <th>valence</th>\n",
       "      <th>tempo</th>\n",
       "      <th>duration_ms</th>\n",
       "    </tr>\n",
       "  </thead>\n",
       "  <tbody>\n",
       "    <tr>\n",
       "      <th>0</th>\n",
       "      <td>Hip-Hop</td>\n",
       "      <td>0.817</td>\n",
       "      <td>0.440</td>\n",
       "      <td>10</td>\n",
       "      <td>-8.482</td>\n",
       "      <td>0</td>\n",
       "      <td>0.0734</td>\n",
       "      <td>0.0603</td>\n",
       "      <td>0.000001</td>\n",
       "      <td>0.3300</td>\n",
       "      <td>0.544</td>\n",
       "      <td>142.024</td>\n",
       "      <td>272113</td>\n",
       "    </tr>\n",
       "    <tr>\n",
       "      <th>1</th>\n",
       "      <td>Hip-Hop</td>\n",
       "      <td>0.558</td>\n",
       "      <td>0.559</td>\n",
       "      <td>6</td>\n",
       "      <td>-9.222</td>\n",
       "      <td>1</td>\n",
       "      <td>0.0959</td>\n",
       "      <td>0.3710</td>\n",
       "      <td>0.000007</td>\n",
       "      <td>0.1090</td>\n",
       "      <td>0.620</td>\n",
       "      <td>78.558</td>\n",
       "      <td>180387</td>\n",
       "    </tr>\n",
       "    <tr>\n",
       "      <th>2</th>\n",
       "      <td>Hip-Hop</td>\n",
       "      <td>0.715</td>\n",
       "      <td>0.620</td>\n",
       "      <td>1</td>\n",
       "      <td>-6.005</td>\n",
       "      <td>0</td>\n",
       "      <td>0.0484</td>\n",
       "      <td>0.4170</td>\n",
       "      <td>0.000000</td>\n",
       "      <td>0.0822</td>\n",
       "      <td>0.172</td>\n",
       "      <td>97.950</td>\n",
       "      <td>221520</td>\n",
       "    </tr>\n",
       "    <tr>\n",
       "      <th>3</th>\n",
       "      <td>Hip-Hop</td>\n",
       "      <td>0.690</td>\n",
       "      <td>0.521</td>\n",
       "      <td>10</td>\n",
       "      <td>-8.492</td>\n",
       "      <td>0</td>\n",
       "      <td>0.3390</td>\n",
       "      <td>0.3240</td>\n",
       "      <td>0.000000</td>\n",
       "      <td>0.0534</td>\n",
       "      <td>0.494</td>\n",
       "      <td>100.028</td>\n",
       "      <td>292799</td>\n",
       "    </tr>\n",
       "    <tr>\n",
       "      <th>4</th>\n",
       "      <td>Hip-Hop</td>\n",
       "      <td>0.561</td>\n",
       "      <td>0.520</td>\n",
       "      <td>11</td>\n",
       "      <td>-9.342</td>\n",
       "      <td>0</td>\n",
       "      <td>0.2440</td>\n",
       "      <td>0.0503</td>\n",
       "      <td>0.000002</td>\n",
       "      <td>0.3550</td>\n",
       "      <td>0.424</td>\n",
       "      <td>153.150</td>\n",
       "      <td>239360</td>\n",
       "    </tr>\n",
       "  </tbody>\n",
       "</table>\n",
       "</div>"
      ],
      "text/plain": [
       "  genre_name  danceability  energy  key  loudness  mode  speechiness   \n",
       "0    Hip-Hop         0.817   0.440   10    -8.482     0       0.0734  \\\n",
       "1    Hip-Hop         0.558   0.559    6    -9.222     1       0.0959   \n",
       "2    Hip-Hop         0.715   0.620    1    -6.005     0       0.0484   \n",
       "3    Hip-Hop         0.690   0.521   10    -8.492     0       0.3390   \n",
       "4    Hip-Hop         0.561   0.520   11    -9.342     0       0.2440   \n",
       "\n",
       "   acousticness  instrumentalness  liveness  valence    tempo  duration_ms  \n",
       "0        0.0603          0.000001    0.3300    0.544  142.024       272113  \n",
       "1        0.3710          0.000007    0.1090    0.620   78.558       180387  \n",
       "2        0.4170          0.000000    0.0822    0.172   97.950       221520  \n",
       "3        0.3240          0.000000    0.0534    0.494  100.028       292799  \n",
       "4        0.0503          0.000002    0.3550    0.424  153.150       239360  "
      ]
     },
     "execution_count": 421,
     "metadata": {},
     "output_type": "execute_result"
    }
   ],
   "source": [
    "ML_df.head()"
   ]
  },
  {
   "cell_type": "code",
   "execution_count": 425,
   "metadata": {
    "colab": {
     "base_uri": "https://localhost:8080/",
     "height": 204
    },
    "colab_type": "code",
    "id": "wCM36LlpGL-u",
    "outputId": "63142c3a-cc97-42e1-823b-50cdf88d60e6"
   },
   "outputs": [
    {
     "name": "stdout",
     "output_type": "stream",
     "text": [
      "     genre_name  duration_ms\n",
      "0       Hip-Hop       272113\n",
      "1       Hip-Hop       180387\n",
      "2       Hip-Hop       221520\n",
      "3       Hip-Hop       292799\n",
      "4       Hip-Hop       239360\n",
      "...         ...          ...\n",
      "2429       Mood       141000\n",
      "2430       Mood       140197\n",
      "2431       Mood       146625\n",
      "2432       Mood       189000\n",
      "2433       Mood       130625\n",
      "\n",
      "[2434 rows x 2 columns]\n"
     ]
    },
    {
     "data": {
      "text/html": [
       "<div>\n",
       "<style scoped>\n",
       "    .dataframe tbody tr th:only-of-type {\n",
       "        vertical-align: middle;\n",
       "    }\n",
       "\n",
       "    .dataframe tbody tr th {\n",
       "        vertical-align: top;\n",
       "    }\n",
       "\n",
       "    .dataframe thead th {\n",
       "        text-align: right;\n",
       "    }\n",
       "</style>\n",
       "<table border=\"1\" class=\"dataframe\">\n",
       "  <thead>\n",
       "    <tr style=\"text-align: right;\">\n",
       "      <th></th>\n",
       "      <th>genre_name</th>\n",
       "      <th>duration_ms</th>\n",
       "    </tr>\n",
       "  </thead>\n",
       "  <tbody>\n",
       "    <tr>\n",
       "      <th>2000</th>\n",
       "      <td>Dance/Electronic</td>\n",
       "      <td>79173</td>\n",
       "    </tr>\n",
       "    <tr>\n",
       "      <th>2001</th>\n",
       "      <td>Dance/Electronic</td>\n",
       "      <td>161972</td>\n",
       "    </tr>\n",
       "    <tr>\n",
       "      <th>2002</th>\n",
       "      <td>Dance/Electronic</td>\n",
       "      <td>342000</td>\n",
       "    </tr>\n",
       "    <tr>\n",
       "      <th>2003</th>\n",
       "      <td>Dance/Electronic</td>\n",
       "      <td>184000</td>\n",
       "    </tr>\n",
       "    <tr>\n",
       "      <th>2004</th>\n",
       "      <td>Dance/Electronic</td>\n",
       "      <td>245133</td>\n",
       "    </tr>\n",
       "  </tbody>\n",
       "</table>\n",
       "</div>"
      ],
      "text/plain": [
       "            genre_name  duration_ms\n",
       "2000  Dance/Electronic        79173\n",
       "2001  Dance/Electronic       161972\n",
       "2002  Dance/Electronic       342000\n",
       "2003  Dance/Electronic       184000\n",
       "2004  Dance/Electronic       245133"
      ]
     },
     "execution_count": 425,
     "metadata": {},
     "output_type": "execute_result"
    }
   ],
   "source": [
    "\n",
    "droppedML_df = ML_df.drop(['danceability',\n",
    "                            'energy',\n",
    "                            'key',\n",
    "                            'loudness',\n",
    "                            'mode', \n",
    "                            'speechiness', \n",
    "                            'acousticness', \n",
    "                            'instrumentalness', \n",
    "                            'liveness', \n",
    "                            'valence', \n",
    "                            'tempo'],\n",
    "                           axis=1)\n",
    "\n",
    "# dropped_ML_df()\n",
    "print(droppedML_df)\n",
    "droppedML_df.iloc[2000:2005]"
   ]
  },
  {
   "cell_type": "code",
   "execution_count": 426,
   "metadata": {
    "colab": {
     "base_uri": "https://localhost:8080/",
     "height": 34
    },
    "colab_type": "code",
    "id": "rrF0GEXnGMTF",
    "outputId": "54bc9d31-a6b2-45f7-eca2-16e9774a6a56"
   },
   "outputs": [
    {
     "name": "stdout",
     "output_type": "stream",
     "text": [
      "(2434, 1) (2434,)\n"
     ]
    }
   ],
   "source": [
    "X = droppedML_df.drop(\"genre_name\", axis=1)\n",
    "y = droppedML_df[\"genre_name\"]\n",
    "print(X.shape, y.shape)"
   ]
  },
  {
   "cell_type": "code",
   "execution_count": 427,
   "metadata": {
    "colab": {},
    "colab_type": "code",
    "id": "FgkggRa0GL0C"
   },
   "outputs": [],
   "source": [
    "X_train, X_test, y_train, y_test = train_test_split(\n",
    "    X, y, stratify=y)"
   ]
  },
  {
   "cell_type": "code",
   "execution_count": 428,
   "metadata": {
    "colab": {},
    "colab_type": "code",
    "id": "ea1j7i2sGLYy"
   },
   "outputs": [],
   "source": [
    "X_scaler = MinMaxScaler().fit(X_train)\n",
    "X_train_scaled = X_scaler.transform(X_train)\n",
    "X_test_scaled = X_scaler.transform(X_test)"
   ]
  },
  {
   "cell_type": "code",
   "execution_count": 429,
   "metadata": {
    "colab": {},
    "colab_type": "code",
    "id": "xLj1GR3PHUYD"
   },
   "outputs": [],
   "source": [
    "# Step 1: Label-encode data set\n",
    "label_encoder = LabelEncoder()\n",
    "label_encoder.fit(y_train)\n",
    "encoded_y_train = label_encoder.transform(y_train)\n",
    "encoded_y_test = label_encoder.transform(y_test)"
   ]
  },
  {
   "cell_type": "code",
   "execution_count": 430,
   "metadata": {
    "colab": {},
    "colab_type": "code",
    "id": "6ggQIqyoHUzx"
   },
   "outputs": [],
   "source": [
    "# Step 2: Convert encoded labels to one-hot-encoding\n",
    "y_train_categorical = to_categorical(encoded_y_train)\n",
    "y_test_categorical = to_categorical(encoded_y_test)"
   ]
  },
  {
   "cell_type": "code",
   "execution_count": 117,
   "metadata": {
    "colab": {},
    "colab_type": "code",
    "id": "0d8KgukbHUqt"
   },
   "outputs": [],
   "source": []
  },
  {
   "cell_type": "code",
   "execution_count": 431,
   "metadata": {
    "colab": {},
    "colab_type": "code",
    "id": "ujTXwaI2HUKa"
   },
   "outputs": [],
   "source": [
    "# Create model and add layers\n",
    "model = Sequential()\n",
    "model.add(Dense(units=10, activation='relu', input_dim =1))\n",
    "# model.add(Dense(units=10, activation='sigmoid'))\n",
    "# model.add(Dense(units=10, activation='sigmoid'))\n",
    "# model.add(Dense(units=10, activation='sigmoid'))\n",
    "# model.add(Dense(units=10, activation='relu'))\n",
    "# model.add(Dense(units=10, activation='relu'))\n",
    "# model.add(Dense(units=10, activation='relu'))\n",
    "# model.add(Dense(units=10, activation='relu'))\n",
    "# model.add(Dense(units=10, activation='relu'))\n",
    "model.add(Dense(units=10, activation='softmax'))"
   ]
  },
  {
   "cell_type": "code",
   "execution_count": 432,
   "metadata": {
    "colab": {},
    "colab_type": "code",
    "id": "ddZWc7YaHewO"
   },
   "outputs": [],
   "source": [
    "# Compile and fit the model\n",
    "model.compile(optimizer='adam',\n",
    "              loss='categorical_crossentropy',\n",
    "              metrics=['accuracy'])"
   ]
  },
  {
   "cell_type": "code",
   "execution_count": 433,
   "metadata": {
    "colab": {
     "base_uri": "https://localhost:8080/",
     "height": 374
    },
    "colab_type": "code",
    "id": "4Q9n56xRHeoL",
    "outputId": "a40a13ab-2d35-41f9-ecf5-52757af6abaa"
   },
   "outputs": [
    {
     "name": "stdout",
     "output_type": "stream",
     "text": [
      "Epoch 1/10\n",
      "58/58 - 0s - loss: 2.3066 - accuracy: 0.0953 - 392ms/epoch - 7ms/step\n",
      "Epoch 2/10\n",
      "58/58 - 0s - loss: 2.2928 - accuracy: 0.1205 - 52ms/epoch - 888us/step\n",
      "Epoch 3/10\n",
      "58/58 - 0s - loss: 2.2844 - accuracy: 0.1211 - 59ms/epoch - 1ms/step\n",
      "Epoch 4/10\n",
      "58/58 - 0s - loss: 2.2792 - accuracy: 0.1288 - 51ms/epoch - 873us/step\n",
      "Epoch 5/10\n",
      "58/58 - 0s - loss: 2.2755 - accuracy: 0.1238 - 67ms/epoch - 1ms/step\n",
      "Epoch 6/10\n",
      "58/58 - 0s - loss: 2.2721 - accuracy: 0.1304 - 52ms/epoch - 888us/step\n",
      "Epoch 7/10\n",
      "58/58 - 0s - loss: 2.2697 - accuracy: 0.1321 - 56ms/epoch - 973us/step\n",
      "Epoch 8/10\n",
      "58/58 - 0s - loss: 2.2677 - accuracy: 0.1403 - 59ms/epoch - 1ms/step\n",
      "Epoch 9/10\n",
      "58/58 - 0s - loss: 2.2661 - accuracy: 0.1304 - 59ms/epoch - 1ms/step\n",
      "Epoch 10/10\n",
      "58/58 - 0s - loss: 2.2647 - accuracy: 0.1386 - 59ms/epoch - 1ms/step\n"
     ]
    },
    {
     "data": {
      "text/plain": [
       "<keras.callbacks.History at 0x279ac168ad0>"
      ]
     },
     "execution_count": 433,
     "metadata": {},
     "output_type": "execute_result"
    }
   ],
   "source": [
    "model.fit(\n",
    "    X_train_scaled,\n",
    "    y_train_categorical,\n",
    "    epochs=10,\n",
    "    shuffle=True,\n",
    "    verbose=2\n",
    ")"
   ]
  },
  {
   "cell_type": "code",
   "execution_count": 434,
   "metadata": {
    "colab": {},
    "colab_type": "code",
    "id": "KKre1xqKHrZD"
   },
   "outputs": [
    {
     "name": "stdout",
     "output_type": "stream",
     "text": [
      "20/20 - 0s - loss: 2.2635 - accuracy: 0.1363 - 114ms/epoch - 6ms/step\n",
      "Normal Neural Network - Loss: 2.2635278701782227, Accuracy: 0.13628900051116943\n"
     ]
    }
   ],
   "source": [
    "model_loss, model_accuracy = model.evaluate(\n",
    "    X_test_scaled, y_test_categorical, verbose=2)\n",
    "print(\n",
    "    f\"Normal Neural Network - Loss: {model_loss}, Accuracy: {model_accuracy}\")"
   ]
  },
  {
   "cell_type": "markdown",
   "metadata": {
    "colab_type": "text",
    "id": "IbKnl1RgwvMm"
   },
   "source": [
    "Changing the Genre Dataframe - considering Top 20 Genres"
   ]
  },
  {
   "cell_type": "code",
   "execution_count": 435,
   "metadata": {
    "colab": {
     "base_uri": "https://localhost:8080/",
     "height": 445
    },
    "colab_type": "code",
    "id": "4cA9IMIJcLlq",
    "outputId": "1fc765e6-ddcc-4469-bdaa-dd767ff1e013"
   },
   "outputs": [
    {
     "data": {
      "text/html": [
       "<div>\n",
       "<style scoped>\n",
       "    .dataframe tbody tr th:only-of-type {\n",
       "        vertical-align: middle;\n",
       "    }\n",
       "\n",
       "    .dataframe tbody tr th {\n",
       "        vertical-align: top;\n",
       "    }\n",
       "\n",
       "    .dataframe thead th {\n",
       "        text-align: right;\n",
       "    }\n",
       "</style>\n",
       "<table border=\"1\" class=\"dataframe\">\n",
       "  <thead>\n",
       "    <tr style=\"text-align: right;\">\n",
       "      <th></th>\n",
       "      <th>artist_name</th>\n",
       "      <th>track_name</th>\n",
       "      <th>track_id</th>\n",
       "      <th>artist_href</th>\n",
       "      <th>track_href</th>\n",
       "      <th>genre_name</th>\n",
       "      <th>danceability</th>\n",
       "      <th>energy</th>\n",
       "      <th>key</th>\n",
       "      <th>loudness</th>\n",
       "      <th>mode</th>\n",
       "      <th>speechiness</th>\n",
       "      <th>acousticness</th>\n",
       "      <th>instrumentalness</th>\n",
       "      <th>liveness</th>\n",
       "      <th>valence</th>\n",
       "      <th>tempo</th>\n",
       "      <th>duration_ms</th>\n",
       "    </tr>\n",
       "  </thead>\n",
       "  <tbody>\n",
       "    <tr>\n",
       "      <th>0</th>\n",
       "      <td>drake</td>\n",
       "      <td>search &amp; rescue</td>\n",
       "      <td>7aRCf5cLOFN1U7kvtChY1G</td>\n",
       "      <td>https://open.spotify.com/artist/3TVXtAsR1Inumw...</td>\n",
       "      <td>https://open.spotify.com/track/7aRCf5cLOFN1U7k...</td>\n",
       "      <td>Hip-Hop</td>\n",
       "      <td>0.817</td>\n",
       "      <td>0.440</td>\n",
       "      <td>10</td>\n",
       "      <td>-8.482</td>\n",
       "      <td>0</td>\n",
       "      <td>0.0734</td>\n",
       "      <td>0.0603</td>\n",
       "      <td>0.000001</td>\n",
       "      <td>0.3300</td>\n",
       "      <td>0.544</td>\n",
       "      <td>142.024</td>\n",
       "      <td>272113</td>\n",
       "    </tr>\n",
       "    <tr>\n",
       "      <th>1</th>\n",
       "      <td>tyler, the creator</td>\n",
       "      <td>see you again (feat. kali uchis)</td>\n",
       "      <td>7KA4W4McWYRpgf0fWsJZWB</td>\n",
       "      <td>https://open.spotify.com/artist/4V8LLVI7PbaPR0...</td>\n",
       "      <td>https://open.spotify.com/track/7KA4W4McWYRpgf0...</td>\n",
       "      <td>Hip-Hop</td>\n",
       "      <td>0.558</td>\n",
       "      <td>0.559</td>\n",
       "      <td>6</td>\n",
       "      <td>-9.222</td>\n",
       "      <td>1</td>\n",
       "      <td>0.0959</td>\n",
       "      <td>0.3710</td>\n",
       "      <td>0.000007</td>\n",
       "      <td>0.1090</td>\n",
       "      <td>0.620</td>\n",
       "      <td>78.558</td>\n",
       "      <td>180387</td>\n",
       "    </tr>\n",
       "    <tr>\n",
       "      <th>2</th>\n",
       "      <td>metro boomin</td>\n",
       "      <td>creepin' (with the weeknd &amp; 21 savage)</td>\n",
       "      <td>2dHHgzDwk4BJdRwy9uXhTO</td>\n",
       "      <td>https://open.spotify.com/artist/0iEtIxbK0KxaSl...</td>\n",
       "      <td>https://open.spotify.com/track/2dHHgzDwk4BJdRw...</td>\n",
       "      <td>Hip-Hop</td>\n",
       "      <td>0.715</td>\n",
       "      <td>0.620</td>\n",
       "      <td>1</td>\n",
       "      <td>-6.005</td>\n",
       "      <td>0</td>\n",
       "      <td>0.0484</td>\n",
       "      <td>0.4170</td>\n",
       "      <td>0.000000</td>\n",
       "      <td>0.0822</td>\n",
       "      <td>0.172</td>\n",
       "      <td>97.950</td>\n",
       "      <td>221520</td>\n",
       "    </tr>\n",
       "    <tr>\n",
       "      <th>3</th>\n",
       "      <td>j. cole</td>\n",
       "      <td>no role modelz</td>\n",
       "      <td>68Dni7IE4VyPkTOH9mRWHr</td>\n",
       "      <td>https://open.spotify.com/artist/6l3HvQ5sa6mXTs...</td>\n",
       "      <td>https://open.spotify.com/track/68Dni7IE4VyPkTO...</td>\n",
       "      <td>Hip-Hop</td>\n",
       "      <td>0.690</td>\n",
       "      <td>0.521</td>\n",
       "      <td>10</td>\n",
       "      <td>-8.492</td>\n",
       "      <td>0</td>\n",
       "      <td>0.3390</td>\n",
       "      <td>0.3240</td>\n",
       "      <td>0.000000</td>\n",
       "      <td>0.0534</td>\n",
       "      <td>0.494</td>\n",
       "      <td>100.028</td>\n",
       "      <td>292799</td>\n",
       "    </tr>\n",
       "    <tr>\n",
       "      <th>4</th>\n",
       "      <td>drake</td>\n",
       "      <td>rich flex</td>\n",
       "      <td>1bDbXMyjaUIooNwFE9wn0N</td>\n",
       "      <td>https://open.spotify.com/artist/3TVXtAsR1Inumw...</td>\n",
       "      <td>https://open.spotify.com/track/1bDbXMyjaUIooNw...</td>\n",
       "      <td>Hip-Hop</td>\n",
       "      <td>0.561</td>\n",
       "      <td>0.520</td>\n",
       "      <td>11</td>\n",
       "      <td>-9.342</td>\n",
       "      <td>0</td>\n",
       "      <td>0.2440</td>\n",
       "      <td>0.0503</td>\n",
       "      <td>0.000002</td>\n",
       "      <td>0.3550</td>\n",
       "      <td>0.424</td>\n",
       "      <td>153.150</td>\n",
       "      <td>239360</td>\n",
       "    </tr>\n",
       "  </tbody>\n",
       "</table>\n",
       "</div>"
      ],
      "text/plain": [
       "          artist_name                              track_name   \n",
       "0               drake                         search & rescue  \\\n",
       "1  tyler, the creator        see you again (feat. kali uchis)   \n",
       "2        metro boomin  creepin' (with the weeknd & 21 savage)   \n",
       "3             j. cole                          no role modelz   \n",
       "4               drake                               rich flex   \n",
       "\n",
       "                 track_id                                        artist_href   \n",
       "0  7aRCf5cLOFN1U7kvtChY1G  https://open.spotify.com/artist/3TVXtAsR1Inumw...  \\\n",
       "1  7KA4W4McWYRpgf0fWsJZWB  https://open.spotify.com/artist/4V8LLVI7PbaPR0...   \n",
       "2  2dHHgzDwk4BJdRwy9uXhTO  https://open.spotify.com/artist/0iEtIxbK0KxaSl...   \n",
       "3  68Dni7IE4VyPkTOH9mRWHr  https://open.spotify.com/artist/6l3HvQ5sa6mXTs...   \n",
       "4  1bDbXMyjaUIooNwFE9wn0N  https://open.spotify.com/artist/3TVXtAsR1Inumw...   \n",
       "\n",
       "                                          track_href genre_name  danceability   \n",
       "0  https://open.spotify.com/track/7aRCf5cLOFN1U7k...    Hip-Hop         0.817  \\\n",
       "1  https://open.spotify.com/track/7KA4W4McWYRpgf0...    Hip-Hop         0.558   \n",
       "2  https://open.spotify.com/track/2dHHgzDwk4BJdRw...    Hip-Hop         0.715   \n",
       "3  https://open.spotify.com/track/68Dni7IE4VyPkTO...    Hip-Hop         0.690   \n",
       "4  https://open.spotify.com/track/1bDbXMyjaUIooNw...    Hip-Hop         0.561   \n",
       "\n",
       "   energy  key  loudness  mode  speechiness  acousticness  instrumentalness   \n",
       "0   0.440   10    -8.482     0       0.0734        0.0603          0.000001  \\\n",
       "1   0.559    6    -9.222     1       0.0959        0.3710          0.000007   \n",
       "2   0.620    1    -6.005     0       0.0484        0.4170          0.000000   \n",
       "3   0.521   10    -8.492     0       0.3390        0.3240          0.000000   \n",
       "4   0.520   11    -9.342     0       0.2440        0.0503          0.000002   \n",
       "\n",
       "   liveness  valence    tempo  duration_ms  \n",
       "0    0.3300    0.544  142.024       272113  \n",
       "1    0.1090    0.620   78.558       180387  \n",
       "2    0.0822    0.172   97.950       221520  \n",
       "3    0.0534    0.494  100.028       292799  \n",
       "4    0.3550    0.424  153.150       239360  "
      ]
     },
     "execution_count": 435,
     "metadata": {},
     "output_type": "execute_result"
    }
   ],
   "source": [
    "df = pd.read_csv(os.path.join(\"Downloads/spotify_df_Top20Genre.csv\"))\n",
    "df.head()"
   ]
  },
  {
   "cell_type": "code",
   "execution_count": 436,
   "metadata": {
    "colab": {
     "base_uri": "https://localhost:8080/",
     "height": 357
    },
    "colab_type": "code",
    "id": "vW5yNpQpcLf_",
    "outputId": "bf73d5d9-a068-4c67-e9ee-19393fbbf3b2"
   },
   "outputs": [
    {
     "name": "stdout",
     "output_type": "stream",
     "text": [
      "<class 'pandas.core.frame.DataFrame'>\n",
      "RangeIndex: 3773 entries, 0 to 3772\n",
      "Data columns (total 13 columns):\n",
      " #   Column            Non-Null Count  Dtype  \n",
      "---  ------            --------------  -----  \n",
      " 0   genre_name        3773 non-null   object \n",
      " 1   danceability      3773 non-null   float64\n",
      " 2   energy            3773 non-null   float64\n",
      " 3   key               3773 non-null   int64  \n",
      " 4   loudness          3773 non-null   float64\n",
      " 5   mode              3773 non-null   int64  \n",
      " 6   speechiness       3773 non-null   float64\n",
      " 7   acousticness      3773 non-null   float64\n",
      " 8   instrumentalness  3773 non-null   float64\n",
      " 9   liveness          3773 non-null   float64\n",
      " 10  valence           3773 non-null   float64\n",
      " 11  tempo             3773 non-null   float64\n",
      " 12  duration_ms       3773 non-null   int64  \n",
      "dtypes: float64(9), int64(3), object(1)\n",
      "memory usage: 383.3+ KB\n"
     ]
    }
   ],
   "source": [
    "ML_df = df.drop(['artist_name', 'track_name', 'track_id', 'artist_href', 'track_href'], axis=1)\n",
    "ML_df.info()"
   ]
  },
  {
   "cell_type": "code",
   "execution_count": 438,
   "metadata": {
    "colab": {
     "base_uri": "https://localhost:8080/",
     "height": 34
    },
    "colab_type": "code",
    "id": "YAmohxhKw7B8",
    "outputId": "55835a77-89c6-4e21-ede7-88a508461839"
   },
   "outputs": [
    {
     "name": "stdout",
     "output_type": "stream",
     "text": [
      "(3773, 12) (3773,)\n"
     ]
    }
   ],
   "source": [
    "X = ML_df.drop(\"genre_name\", axis=1)\n",
    "y = ML_df[\"genre_name\"]\n",
    "print(X.shape, y.shape)"
   ]
  },
  {
   "cell_type": "code",
   "execution_count": 439,
   "metadata": {
    "colab": {},
    "colab_type": "code",
    "id": "5cE2sUj4w9zB"
   },
   "outputs": [],
   "source": [
    "X_train, X_test, y_train, y_test = train_test_split(\n",
    "    X, y, stratify=y)"
   ]
  },
  {
   "cell_type": "code",
   "execution_count": 440,
   "metadata": {
    "colab": {},
    "colab_type": "code",
    "id": "ya22OeKExAmA"
   },
   "outputs": [],
   "source": [
    "X_scaler = MinMaxScaler().fit(X_train)\n",
    "X_train_scaled = X_scaler.transform(X_train)\n",
    "X_test_scaled = X_scaler.transform(X_test)"
   ]
  },
  {
   "cell_type": "code",
   "execution_count": 441,
   "metadata": {
    "colab": {},
    "colab_type": "code",
    "id": "EOO2oVAbxC2T"
   },
   "outputs": [],
   "source": [
    "# Step 1: Label-encode data set\n",
    "label_encoder = LabelEncoder()\n",
    "label_encoder.fit(y_train)\n",
    "encoded_y_train = label_encoder.transform(y_train)\n",
    "encoded_y_test = label_encoder.transform(y_test)"
   ]
  },
  {
   "cell_type": "code",
   "execution_count": 442,
   "metadata": {
    "colab": {},
    "colab_type": "code",
    "id": "klo9XChvxFIr"
   },
   "outputs": [],
   "source": [
    "# Step 2: Convert encoded labels to one-hot-encoding\n",
    "y_train_categorical = to_categorical(encoded_y_train)\n",
    "y_test_categorical = to_categorical(encoded_y_test)"
   ]
  },
  {
   "cell_type": "code",
   "execution_count": 133,
   "metadata": {
    "colab": {},
    "colab_type": "code",
    "id": "3N2g0Y8LxHWh"
   },
   "outputs": [],
   "source": []
  },
  {
   "cell_type": "code",
   "execution_count": 443,
   "metadata": {
    "colab": {},
    "colab_type": "code",
    "id": "GB3hSdT8xJ2l"
   },
   "outputs": [],
   "source": [
    "# Create model and add layers\n",
    "model = Sequential()\n",
    "model.add(Dense(units=15, activation='relu', input_dim=12))\n",
    "# model.add(Dense(units=20, activation='sigmoid'))\n",
    "# model.add(Dense(units=20, activation='sigmoid'))\n",
    "# model.add(Dense(units=20, activation='sigmoid'))\n",
    "model.add(Dense(units=15, activation='relu'))\n",
    "model.add(Dense(units=15, activation='relu'))\n",
    "model.add(Dense(units=15, activation='relu'))\n",
    "model.add(Dense(units=15, activation='relu'))\n",
    "# model.add(Dense(units=20, activation='relu'))\n",
    "model.add(Dense(units=15, activation='softmax'))"
   ]
  },
  {
   "cell_type": "code",
   "execution_count": 444,
   "metadata": {
    "colab": {},
    "colab_type": "code",
    "id": "rLcd9rP6xMRf"
   },
   "outputs": [],
   "source": [
    "# Compile and fit the model\n",
    "model.compile(optimizer='adam',\n",
    "              loss='categorical_crossentropy',\n",
    "              metrics=['accuracy'])"
   ]
  },
  {
   "cell_type": "code",
   "execution_count": 445,
   "metadata": {
    "colab": {
     "base_uri": "https://localhost:8080/",
     "height": 357
    },
    "colab_type": "code",
    "id": "Um5JNc_ZxOna",
    "outputId": "6b19c727-e15f-4784-c239-492b0f34fb2e"
   },
   "outputs": [
    {
     "name": "stdout",
     "output_type": "stream",
     "text": [
      "Model: \"sequential_31\"\n",
      "_________________________________________________________________\n",
      " Layer (type)                Output Shape              Param #   \n",
      "=================================================================\n",
      " dense_130 (Dense)           (None, 15)                195       \n",
      "                                                                 \n",
      " dense_131 (Dense)           (None, 15)                240       \n",
      "                                                                 \n",
      " dense_132 (Dense)           (None, 15)                240       \n",
      "                                                                 \n",
      " dense_133 (Dense)           (None, 15)                240       \n",
      "                                                                 \n",
      " dense_134 (Dense)           (None, 15)                240       \n",
      "                                                                 \n",
      " dense_135 (Dense)           (None, 15)                240       \n",
      "                                                                 \n",
      "=================================================================\n",
      "Total params: 1,395\n",
      "Trainable params: 1,395\n",
      "Non-trainable params: 0\n",
      "_________________________________________________________________\n"
     ]
    }
   ],
   "source": [
    "model.summary()"
   ]
  },
  {
   "cell_type": "code",
   "execution_count": 446,
   "metadata": {
    "colab": {
     "base_uri": "https://localhost:8080/",
     "height": 374
    },
    "colab_type": "code",
    "id": "2zxXQSXkxQ2z",
    "outputId": "689538a6-c6b1-4e3d-d6d0-9c2b9b9e48ea"
   },
   "outputs": [
    {
     "name": "stdout",
     "output_type": "stream",
     "text": [
      "Epoch 1/10\n",
      "89/89 - 1s - loss: 2.6553 - accuracy: 0.1075 - 794ms/epoch - 9ms/step\n",
      "Epoch 2/10\n",
      "89/89 - 0s - loss: 2.5012 - accuracy: 0.1573 - 100ms/epoch - 1ms/step\n",
      "Epoch 3/10\n",
      "89/89 - 0s - loss: 2.4021 - accuracy: 0.1820 - 101ms/epoch - 1ms/step\n",
      "Epoch 4/10\n",
      "89/89 - 0s - loss: 2.2866 - accuracy: 0.2213 - 115ms/epoch - 1ms/step\n",
      "Epoch 5/10\n",
      "89/89 - 0s - loss: 2.2094 - accuracy: 0.2517 - 108ms/epoch - 1ms/step\n",
      "Epoch 6/10\n",
      "89/89 - 0s - loss: 2.1654 - accuracy: 0.2641 - 92ms/epoch - 1ms/step\n",
      "Epoch 7/10\n",
      "89/89 - 0s - loss: 2.1331 - accuracy: 0.2771 - 92ms/epoch - 1ms/step\n",
      "Epoch 8/10\n",
      "89/89 - 0s - loss: 2.1146 - accuracy: 0.2849 - 92ms/epoch - 1ms/step\n",
      "Epoch 9/10\n",
      "89/89 - 0s - loss: 2.0924 - accuracy: 0.2927 - 99ms/epoch - 1ms/step\n",
      "Epoch 10/10\n",
      "89/89 - 0s - loss: 2.0695 - accuracy: 0.3026 - 105ms/epoch - 1ms/step\n"
     ]
    },
    {
     "data": {
      "text/plain": [
       "<keras.callbacks.History at 0x279b11a6b90>"
      ]
     },
     "execution_count": 446,
     "metadata": {},
     "output_type": "execute_result"
    }
   ],
   "source": [
    "model.fit(\n",
    "    X_train_scaled,\n",
    "    y_train_categorical,\n",
    "    epochs=10,\n",
    "    shuffle=True,\n",
    "    verbose=2\n",
    ")"
   ]
  },
  {
   "cell_type": "code",
   "execution_count": 142,
   "metadata": {
    "colab": {},
    "colab_type": "code",
    "id": "INbEZF3zxTy8"
   },
   "outputs": [],
   "source": []
  },
  {
   "cell_type": "code",
   "execution_count": null,
   "metadata": {
    "colab": {},
    "colab_type": "code",
    "id": "CQ0jcpYIynJ9"
   },
   "outputs": [],
   "source": []
  },
  {
   "cell_type": "markdown",
   "metadata": {
    "colab_type": "text",
    "id": "mzmcXfxs-4Ah"
   },
   "source": [
    " trying this with KNN"
   ]
  },
  {
   "cell_type": "code",
   "execution_count": 447,
   "metadata": {
    "colab": {
     "base_uri": "https://localhost:8080/",
     "height": 275
    },
    "colab_type": "code",
    "id": "4Z8685-VyHPc",
    "outputId": "d5085586-3a68-4bea-84b2-cab71cbffd67"
   },
   "outputs": [
    {
     "data": {
      "text/html": [
       "<div>\n",
       "<style scoped>\n",
       "    .dataframe tbody tr th:only-of-type {\n",
       "        vertical-align: middle;\n",
       "    }\n",
       "\n",
       "    .dataframe tbody tr th {\n",
       "        vertical-align: top;\n",
       "    }\n",
       "\n",
       "    .dataframe thead th {\n",
       "        text-align: right;\n",
       "    }\n",
       "</style>\n",
       "<table border=\"1\" class=\"dataframe\">\n",
       "  <thead>\n",
       "    <tr style=\"text-align: right;\">\n",
       "      <th></th>\n",
       "      <th>artist_name</th>\n",
       "      <th>track_name</th>\n",
       "      <th>track_id</th>\n",
       "      <th>artist_href</th>\n",
       "      <th>track_href</th>\n",
       "      <th>genre_name</th>\n",
       "      <th>danceability</th>\n",
       "      <th>energy</th>\n",
       "      <th>key</th>\n",
       "      <th>loudness</th>\n",
       "      <th>mode</th>\n",
       "      <th>speechiness</th>\n",
       "      <th>acousticness</th>\n",
       "      <th>instrumentalness</th>\n",
       "      <th>liveness</th>\n",
       "      <th>valence</th>\n",
       "      <th>tempo</th>\n",
       "      <th>duration_ms</th>\n",
       "    </tr>\n",
       "  </thead>\n",
       "  <tbody>\n",
       "    <tr>\n",
       "      <th>0</th>\n",
       "      <td>drake</td>\n",
       "      <td>search &amp; rescue</td>\n",
       "      <td>7aRCf5cLOFN1U7kvtChY1G</td>\n",
       "      <td>https://open.spotify.com/artist/3TVXtAsR1Inumw...</td>\n",
       "      <td>https://open.spotify.com/track/7aRCf5cLOFN1U7k...</td>\n",
       "      <td>Hip-Hop</td>\n",
       "      <td>0.817</td>\n",
       "      <td>0.440</td>\n",
       "      <td>10</td>\n",
       "      <td>-8.482</td>\n",
       "      <td>0</td>\n",
       "      <td>0.0734</td>\n",
       "      <td>0.0603</td>\n",
       "      <td>0.000001</td>\n",
       "      <td>0.3300</td>\n",
       "      <td>0.544</td>\n",
       "      <td>142.024</td>\n",
       "      <td>272113</td>\n",
       "    </tr>\n",
       "    <tr>\n",
       "      <th>1</th>\n",
       "      <td>tyler, the creator</td>\n",
       "      <td>see you again (feat. kali uchis)</td>\n",
       "      <td>7KA4W4McWYRpgf0fWsJZWB</td>\n",
       "      <td>https://open.spotify.com/artist/4V8LLVI7PbaPR0...</td>\n",
       "      <td>https://open.spotify.com/track/7KA4W4McWYRpgf0...</td>\n",
       "      <td>Hip-Hop</td>\n",
       "      <td>0.558</td>\n",
       "      <td>0.559</td>\n",
       "      <td>6</td>\n",
       "      <td>-9.222</td>\n",
       "      <td>1</td>\n",
       "      <td>0.0959</td>\n",
       "      <td>0.3710</td>\n",
       "      <td>0.000007</td>\n",
       "      <td>0.1090</td>\n",
       "      <td>0.620</td>\n",
       "      <td>78.558</td>\n",
       "      <td>180387</td>\n",
       "    </tr>\n",
       "    <tr>\n",
       "      <th>2</th>\n",
       "      <td>metro boomin</td>\n",
       "      <td>creepin' (with the weeknd &amp; 21 savage)</td>\n",
       "      <td>2dHHgzDwk4BJdRwy9uXhTO</td>\n",
       "      <td>https://open.spotify.com/artist/0iEtIxbK0KxaSl...</td>\n",
       "      <td>https://open.spotify.com/track/2dHHgzDwk4BJdRw...</td>\n",
       "      <td>Hip-Hop</td>\n",
       "      <td>0.715</td>\n",
       "      <td>0.620</td>\n",
       "      <td>1</td>\n",
       "      <td>-6.005</td>\n",
       "      <td>0</td>\n",
       "      <td>0.0484</td>\n",
       "      <td>0.4170</td>\n",
       "      <td>0.000000</td>\n",
       "      <td>0.0822</td>\n",
       "      <td>0.172</td>\n",
       "      <td>97.950</td>\n",
       "      <td>221520</td>\n",
       "    </tr>\n",
       "    <tr>\n",
       "      <th>3</th>\n",
       "      <td>j. cole</td>\n",
       "      <td>no role modelz</td>\n",
       "      <td>68Dni7IE4VyPkTOH9mRWHr</td>\n",
       "      <td>https://open.spotify.com/artist/6l3HvQ5sa6mXTs...</td>\n",
       "      <td>https://open.spotify.com/track/68Dni7IE4VyPkTO...</td>\n",
       "      <td>Hip-Hop</td>\n",
       "      <td>0.690</td>\n",
       "      <td>0.521</td>\n",
       "      <td>10</td>\n",
       "      <td>-8.492</td>\n",
       "      <td>0</td>\n",
       "      <td>0.3390</td>\n",
       "      <td>0.3240</td>\n",
       "      <td>0.000000</td>\n",
       "      <td>0.0534</td>\n",
       "      <td>0.494</td>\n",
       "      <td>100.028</td>\n",
       "      <td>292799</td>\n",
       "    </tr>\n",
       "    <tr>\n",
       "      <th>4</th>\n",
       "      <td>drake</td>\n",
       "      <td>rich flex</td>\n",
       "      <td>1bDbXMyjaUIooNwFE9wn0N</td>\n",
       "      <td>https://open.spotify.com/artist/3TVXtAsR1Inumw...</td>\n",
       "      <td>https://open.spotify.com/track/1bDbXMyjaUIooNw...</td>\n",
       "      <td>Hip-Hop</td>\n",
       "      <td>0.561</td>\n",
       "      <td>0.520</td>\n",
       "      <td>11</td>\n",
       "      <td>-9.342</td>\n",
       "      <td>0</td>\n",
       "      <td>0.2440</td>\n",
       "      <td>0.0503</td>\n",
       "      <td>0.000002</td>\n",
       "      <td>0.3550</td>\n",
       "      <td>0.424</td>\n",
       "      <td>153.150</td>\n",
       "      <td>239360</td>\n",
       "    </tr>\n",
       "  </tbody>\n",
       "</table>\n",
       "</div>"
      ],
      "text/plain": [
       "          artist_name                              track_name   \n",
       "0               drake                         search & rescue  \\\n",
       "1  tyler, the creator        see you again (feat. kali uchis)   \n",
       "2        metro boomin  creepin' (with the weeknd & 21 savage)   \n",
       "3             j. cole                          no role modelz   \n",
       "4               drake                               rich flex   \n",
       "\n",
       "                 track_id                                        artist_href   \n",
       "0  7aRCf5cLOFN1U7kvtChY1G  https://open.spotify.com/artist/3TVXtAsR1Inumw...  \\\n",
       "1  7KA4W4McWYRpgf0fWsJZWB  https://open.spotify.com/artist/4V8LLVI7PbaPR0...   \n",
       "2  2dHHgzDwk4BJdRwy9uXhTO  https://open.spotify.com/artist/0iEtIxbK0KxaSl...   \n",
       "3  68Dni7IE4VyPkTOH9mRWHr  https://open.spotify.com/artist/6l3HvQ5sa6mXTs...   \n",
       "4  1bDbXMyjaUIooNwFE9wn0N  https://open.spotify.com/artist/3TVXtAsR1Inumw...   \n",
       "\n",
       "                                          track_href genre_name  danceability   \n",
       "0  https://open.spotify.com/track/7aRCf5cLOFN1U7k...    Hip-Hop         0.817  \\\n",
       "1  https://open.spotify.com/track/7KA4W4McWYRpgf0...    Hip-Hop         0.558   \n",
       "2  https://open.spotify.com/track/2dHHgzDwk4BJdRw...    Hip-Hop         0.715   \n",
       "3  https://open.spotify.com/track/68Dni7IE4VyPkTO...    Hip-Hop         0.690   \n",
       "4  https://open.spotify.com/track/1bDbXMyjaUIooNw...    Hip-Hop         0.561   \n",
       "\n",
       "   energy  key  loudness  mode  speechiness  acousticness  instrumentalness   \n",
       "0   0.440   10    -8.482     0       0.0734        0.0603          0.000001  \\\n",
       "1   0.559    6    -9.222     1       0.0959        0.3710          0.000007   \n",
       "2   0.620    1    -6.005     0       0.0484        0.4170          0.000000   \n",
       "3   0.521   10    -8.492     0       0.3390        0.3240          0.000000   \n",
       "4   0.520   11    -9.342     0       0.2440        0.0503          0.000002   \n",
       "\n",
       "   liveness  valence    tempo  duration_ms  \n",
       "0    0.3300    0.544  142.024       272113  \n",
       "1    0.1090    0.620   78.558       180387  \n",
       "2    0.0822    0.172   97.950       221520  \n",
       "3    0.0534    0.494  100.028       292799  \n",
       "4    0.3550    0.424  153.150       239360  "
      ]
     },
     "execution_count": 447,
     "metadata": {},
     "output_type": "execute_result"
    }
   ],
   "source": [
    "df = pd.read_csv(os.path.join(\"Downloads/spotify_df_Top20genre.csv\"))\n",
    "df.head()"
   ]
  },
  {
   "cell_type": "code",
   "execution_count": 448,
   "metadata": {
    "colab": {
     "base_uri": "https://localhost:8080/",
     "height": 204
    },
    "colab_type": "code",
    "id": "bWLBYAqlyt0Q",
    "outputId": "107a2c07-2ec3-4cd3-91c2-0acee0eec9ad"
   },
   "outputs": [
    {
     "data": {
      "text/html": [
       "<div>\n",
       "<style scoped>\n",
       "    .dataframe tbody tr th:only-of-type {\n",
       "        vertical-align: middle;\n",
       "    }\n",
       "\n",
       "    .dataframe tbody tr th {\n",
       "        vertical-align: top;\n",
       "    }\n",
       "\n",
       "    .dataframe thead th {\n",
       "        text-align: right;\n",
       "    }\n",
       "</style>\n",
       "<table border=\"1\" class=\"dataframe\">\n",
       "  <thead>\n",
       "    <tr style=\"text-align: right;\">\n",
       "      <th></th>\n",
       "      <th>genre_name</th>\n",
       "      <th>danceability</th>\n",
       "      <th>energy</th>\n",
       "      <th>key</th>\n",
       "      <th>loudness</th>\n",
       "      <th>mode</th>\n",
       "      <th>speechiness</th>\n",
       "      <th>acousticness</th>\n",
       "      <th>instrumentalness</th>\n",
       "      <th>liveness</th>\n",
       "      <th>valence</th>\n",
       "      <th>tempo</th>\n",
       "      <th>duration_ms</th>\n",
       "    </tr>\n",
       "  </thead>\n",
       "  <tbody>\n",
       "    <tr>\n",
       "      <th>0</th>\n",
       "      <td>Hip-Hop</td>\n",
       "      <td>0.817</td>\n",
       "      <td>0.440</td>\n",
       "      <td>10</td>\n",
       "      <td>-8.482</td>\n",
       "      <td>0</td>\n",
       "      <td>0.0734</td>\n",
       "      <td>0.0603</td>\n",
       "      <td>0.000001</td>\n",
       "      <td>0.3300</td>\n",
       "      <td>0.544</td>\n",
       "      <td>142.024</td>\n",
       "      <td>272113</td>\n",
       "    </tr>\n",
       "    <tr>\n",
       "      <th>1</th>\n",
       "      <td>Hip-Hop</td>\n",
       "      <td>0.558</td>\n",
       "      <td>0.559</td>\n",
       "      <td>6</td>\n",
       "      <td>-9.222</td>\n",
       "      <td>1</td>\n",
       "      <td>0.0959</td>\n",
       "      <td>0.3710</td>\n",
       "      <td>0.000007</td>\n",
       "      <td>0.1090</td>\n",
       "      <td>0.620</td>\n",
       "      <td>78.558</td>\n",
       "      <td>180387</td>\n",
       "    </tr>\n",
       "    <tr>\n",
       "      <th>2</th>\n",
       "      <td>Hip-Hop</td>\n",
       "      <td>0.715</td>\n",
       "      <td>0.620</td>\n",
       "      <td>1</td>\n",
       "      <td>-6.005</td>\n",
       "      <td>0</td>\n",
       "      <td>0.0484</td>\n",
       "      <td>0.4170</td>\n",
       "      <td>0.000000</td>\n",
       "      <td>0.0822</td>\n",
       "      <td>0.172</td>\n",
       "      <td>97.950</td>\n",
       "      <td>221520</td>\n",
       "    </tr>\n",
       "    <tr>\n",
       "      <th>3</th>\n",
       "      <td>Hip-Hop</td>\n",
       "      <td>0.690</td>\n",
       "      <td>0.521</td>\n",
       "      <td>10</td>\n",
       "      <td>-8.492</td>\n",
       "      <td>0</td>\n",
       "      <td>0.3390</td>\n",
       "      <td>0.3240</td>\n",
       "      <td>0.000000</td>\n",
       "      <td>0.0534</td>\n",
       "      <td>0.494</td>\n",
       "      <td>100.028</td>\n",
       "      <td>292799</td>\n",
       "    </tr>\n",
       "    <tr>\n",
       "      <th>4</th>\n",
       "      <td>Hip-Hop</td>\n",
       "      <td>0.561</td>\n",
       "      <td>0.520</td>\n",
       "      <td>11</td>\n",
       "      <td>-9.342</td>\n",
       "      <td>0</td>\n",
       "      <td>0.2440</td>\n",
       "      <td>0.0503</td>\n",
       "      <td>0.000002</td>\n",
       "      <td>0.3550</td>\n",
       "      <td>0.424</td>\n",
       "      <td>153.150</td>\n",
       "      <td>239360</td>\n",
       "    </tr>\n",
       "  </tbody>\n",
       "</table>\n",
       "</div>"
      ],
      "text/plain": [
       "  genre_name  danceability  energy  key  loudness  mode  speechiness   \n",
       "0    Hip-Hop         0.817   0.440   10    -8.482     0       0.0734  \\\n",
       "1    Hip-Hop         0.558   0.559    6    -9.222     1       0.0959   \n",
       "2    Hip-Hop         0.715   0.620    1    -6.005     0       0.0484   \n",
       "3    Hip-Hop         0.690   0.521   10    -8.492     0       0.3390   \n",
       "4    Hip-Hop         0.561   0.520   11    -9.342     0       0.2440   \n",
       "\n",
       "   acousticness  instrumentalness  liveness  valence    tempo  duration_ms  \n",
       "0        0.0603          0.000001    0.3300    0.544  142.024       272113  \n",
       "1        0.3710          0.000007    0.1090    0.620   78.558       180387  \n",
       "2        0.4170          0.000000    0.0822    0.172   97.950       221520  \n",
       "3        0.3240          0.000000    0.0534    0.494  100.028       292799  \n",
       "4        0.0503          0.000002    0.3550    0.424  153.150       239360  "
      ]
     },
     "execution_count": 448,
     "metadata": {},
     "output_type": "execute_result"
    }
   ],
   "source": [
    "ML_df = df.drop(['artist_name', 'track_name', 'track_id', 'artist_href', 'track_href'], axis=1)\n",
    "ML_df.head()"
   ]
  },
  {
   "cell_type": "code",
   "execution_count": 449,
   "metadata": {
    "colab": {
     "base_uri": "https://localhost:8080/",
     "height": 204
    },
    "colab_type": "code",
    "id": "zfrGYG8TytnE",
    "outputId": "a59bc635-c715-4689-9c63-3d8d0e03754d"
   },
   "outputs": [
    {
     "data": {
      "text/html": [
       "<div>\n",
       "<style scoped>\n",
       "    .dataframe tbody tr th:only-of-type {\n",
       "        vertical-align: middle;\n",
       "    }\n",
       "\n",
       "    .dataframe tbody tr th {\n",
       "        vertical-align: top;\n",
       "    }\n",
       "\n",
       "    .dataframe thead th {\n",
       "        text-align: right;\n",
       "    }\n",
       "</style>\n",
       "<table border=\"1\" class=\"dataframe\">\n",
       "  <thead>\n",
       "    <tr style=\"text-align: right;\">\n",
       "      <th></th>\n",
       "      <th>danceability</th>\n",
       "      <th>energy</th>\n",
       "      <th>key</th>\n",
       "      <th>loudness</th>\n",
       "      <th>mode</th>\n",
       "      <th>speechiness</th>\n",
       "      <th>acousticness</th>\n",
       "      <th>instrumentalness</th>\n",
       "      <th>liveness</th>\n",
       "      <th>valence</th>\n",
       "      <th>tempo</th>\n",
       "      <th>duration_ms</th>\n",
       "    </tr>\n",
       "  </thead>\n",
       "  <tbody>\n",
       "    <tr>\n",
       "      <th>0</th>\n",
       "      <td>0.817</td>\n",
       "      <td>0.440</td>\n",
       "      <td>10</td>\n",
       "      <td>-8.482</td>\n",
       "      <td>0</td>\n",
       "      <td>0.0734</td>\n",
       "      <td>0.0603</td>\n",
       "      <td>0.000001</td>\n",
       "      <td>0.3300</td>\n",
       "      <td>0.544</td>\n",
       "      <td>142.024</td>\n",
       "      <td>272113</td>\n",
       "    </tr>\n",
       "    <tr>\n",
       "      <th>1</th>\n",
       "      <td>0.558</td>\n",
       "      <td>0.559</td>\n",
       "      <td>6</td>\n",
       "      <td>-9.222</td>\n",
       "      <td>1</td>\n",
       "      <td>0.0959</td>\n",
       "      <td>0.3710</td>\n",
       "      <td>0.000007</td>\n",
       "      <td>0.1090</td>\n",
       "      <td>0.620</td>\n",
       "      <td>78.558</td>\n",
       "      <td>180387</td>\n",
       "    </tr>\n",
       "    <tr>\n",
       "      <th>2</th>\n",
       "      <td>0.715</td>\n",
       "      <td>0.620</td>\n",
       "      <td>1</td>\n",
       "      <td>-6.005</td>\n",
       "      <td>0</td>\n",
       "      <td>0.0484</td>\n",
       "      <td>0.4170</td>\n",
       "      <td>0.000000</td>\n",
       "      <td>0.0822</td>\n",
       "      <td>0.172</td>\n",
       "      <td>97.950</td>\n",
       "      <td>221520</td>\n",
       "    </tr>\n",
       "    <tr>\n",
       "      <th>3</th>\n",
       "      <td>0.690</td>\n",
       "      <td>0.521</td>\n",
       "      <td>10</td>\n",
       "      <td>-8.492</td>\n",
       "      <td>0</td>\n",
       "      <td>0.3390</td>\n",
       "      <td>0.3240</td>\n",
       "      <td>0.000000</td>\n",
       "      <td>0.0534</td>\n",
       "      <td>0.494</td>\n",
       "      <td>100.028</td>\n",
       "      <td>292799</td>\n",
       "    </tr>\n",
       "    <tr>\n",
       "      <th>4</th>\n",
       "      <td>0.561</td>\n",
       "      <td>0.520</td>\n",
       "      <td>11</td>\n",
       "      <td>-9.342</td>\n",
       "      <td>0</td>\n",
       "      <td>0.2440</td>\n",
       "      <td>0.0503</td>\n",
       "      <td>0.000002</td>\n",
       "      <td>0.3550</td>\n",
       "      <td>0.424</td>\n",
       "      <td>153.150</td>\n",
       "      <td>239360</td>\n",
       "    </tr>\n",
       "  </tbody>\n",
       "</table>\n",
       "</div>"
      ],
      "text/plain": [
       "   danceability  energy  key  loudness  mode  speechiness  acousticness   \n",
       "0         0.817   0.440   10    -8.482     0       0.0734        0.0603  \\\n",
       "1         0.558   0.559    6    -9.222     1       0.0959        0.3710   \n",
       "2         0.715   0.620    1    -6.005     0       0.0484        0.4170   \n",
       "3         0.690   0.521   10    -8.492     0       0.3390        0.3240   \n",
       "4         0.561   0.520   11    -9.342     0       0.2440        0.0503   \n",
       "\n",
       "   instrumentalness  liveness  valence    tempo  duration_ms  \n",
       "0          0.000001    0.3300    0.544  142.024       272113  \n",
       "1          0.000007    0.1090    0.620   78.558       180387  \n",
       "2          0.000000    0.0822    0.172   97.950       221520  \n",
       "3          0.000000    0.0534    0.494  100.028       292799  \n",
       "4          0.000002    0.3550    0.424  153.150       239360  "
      ]
     },
     "execution_count": 449,
     "metadata": {},
     "output_type": "execute_result"
    }
   ],
   "source": [
    "y = ML_df[\"genre_name\"]\n",
    "X = ML_df.drop(\"genre_name\", axis=1)\n",
    "X.head()"
   ]
  },
  {
   "cell_type": "code",
   "execution_count": 450,
   "metadata": {
    "colab": {},
    "colab_type": "code",
    "id": "xUbWi7N2yyAK"
   },
   "outputs": [],
   "source": [
    "from sklearn.model_selection import train_test_split\n",
    "X_train, X_test, y_train, y_test = train_test_split(X, y)"
   ]
  },
  {
   "cell_type": "code",
   "execution_count": null,
   "metadata": {
    "colab": {
     "base_uri": "https://localhost:8080/",
     "height": 449
    },
    "colab_type": "code",
    "id": "I-1f2r7tyzfU",
    "outputId": "79e63f19-78da-4611-f94b-64817e78ca3d"
   },
   "outputs": [],
   "source": []
  },
  {
   "cell_type": "code",
   "execution_count": 451,
   "metadata": {},
   "outputs": [
    {
     "name": "stdout",
     "output_type": "stream",
     "text": [
      "k: 1, Train/Test Accuracy: 1.000/0.126, 1.126\n",
      "k: 3, Train/Test Accuracy: 0.450/0.109, 0.559\n",
      "k: 5, Train/Test Accuracy: 0.360/0.112, 0.472\n",
      "k: 7, Train/Test Accuracy: 0.317/0.120, 0.437\n",
      "k: 9, Train/Test Accuracy: 0.290/0.118, 0.408\n",
      "k: 11, Train/Test Accuracy: 0.276/0.123, 0.399\n",
      "k: 13, Train/Test Accuracy: 0.263/0.115, 0.378\n",
      "k: 15, Train/Test Accuracy: 0.245/0.124, 0.369\n",
      "k: 17, Train/Test Accuracy: 0.239/0.122, 0.361\n",
      "k: 19, Train/Test Accuracy: 0.235/0.128, 0.363\n"
     ]
    },
    {
     "data": {
      "image/png": "[encoded data removed]",
      "text/plain": [
       "<Figure size 640x480 with 1 Axes>"
      ]
     },
     "metadata": {},
     "output_type": "display_data"
    }
   ],
   "source": [
    "train_acc = []\n",
    "test_acc = []\n",
    "for k in range(1, 20, 2):\n",
    "    knn = KNeighborsClassifier(n_neighbors=k)\n",
    "    knn.fit(X_train, y_train)\n",
    "    train_accuracy = knn.score(X_train, y_train)\n",
    "    test_accuracy = knn.score(X_test, y_test)\n",
    "    all_accuracy = train_accuracy + test_accuracy\n",
    "    train_acc.append(train_accuracy)\n",
    "    test_acc.append(test_accuracy)\n",
    "    print(f\"k: {k}, Train/Test Accuracy: {train_accuracy:.3f}/{test_accuracy:.3f}, {all_accuracy:.3f}\")\n",
    "    \n",
    "plt.plot(range(1, 20, 2), train_acc, marker='o')\n",
    "plt.plot(range(1, 20, 2), test_acc, marker=\"x\")\n",
    "plt.xlabel(\"k neighbors\")\n",
    "plt.ylabel(\"Accuracy Score\")\n",
    "plt.show()\n"
   ]
  },
  {
   "cell_type": "markdown",
   "metadata": {
    "colab_type": "text",
    "id": "OHRl7wsFX8YS"
   },
   "source": [
    "# Feature Selection Analysis\n"
   ]
  },
  {
   "cell_type": "code",
   "execution_count": 452,
   "metadata": {
    "colab": {
     "base_uri": "https://localhost:8080/",
     "height": 71
    },
    "colab_type": "code",
    "id": "UVFjuaiXZkEh",
    "outputId": "992ed7d4-5c95-4040-c282-7e82299737c6"
   },
   "outputs": [],
   "source": [
    "import matplotlib.pyplot as plt\n",
    "import numpy as np\n",
    "import scipy.stats as st\n",
    "import seaborn as sn\n",
    "\n",
    "from scipy.stats import linregress"
   ]
  },
  {
   "cell_type": "code",
   "execution_count": 453,
   "metadata": {
    "colab": {
     "base_uri": "https://localhost:8080/",
     "height": 585
    },
    "colab_type": "code",
    "id": "bb5QK96wYAUL",
    "outputId": "85e20376-11df-4a08-872b-61c535458101"
   },
   "outputs": [
    {
     "data": {
      "image/png": "[encoded data removed]",
      "text/plain": [
       "<Figure size 1000x800 with 2 Axes>"
      ]
     },
     "metadata": {},
     "output_type": "display_data"
    }
   ],
   "source": [
    "all_features = pd.DataFrame(ML_df, columns=['danceability',\n",
    "                            'energy',\n",
    "                            'key',\n",
    "                            'loudness',\n",
    "                            'mode', \n",
    "                            'speechiness', \n",
    "                            'acousticness', \n",
    "                            'instrumentalness', \n",
    "                            'liveness', \n",
    "                            'valence', \n",
    "                            'tempo'],)\n",
    "corrMatrix = all_features.corr()\n",
    "plt.figure(figsize=(10,8))\n",
    "sn.heatmap(corrMatrix, cmap='seismic', annot=True)\n",
    "fig_name = \"all_features\"\n",
    "plt.tight_layout()\n",
    "plt.show()"
   ]
  },
  {
   "cell_type": "code",
   "execution_count": 454,
   "metadata": {
    "colab": {
     "base_uri": "https://localhost:8080/",
     "height": 585
    },
    "colab_type": "code",
    "id": "g4w67X2kZV2f",
    "outputId": "5f04e1f2-c943-4ff7-88e3-5a9db4b12561"
   },
   "outputs": [
    {
     "data": {
      "image/png": "[encoded data removed]",
      "text/plain": [
       "<Figure size 1000x800 with 2 Axes>"
      ]
     },
     "metadata": {},
     "output_type": "display_data"
    }
   ],
   "source": [
    "features_set_1 = pd.DataFrame(ML_df, columns=['danceability',\n",
    "                            'energy',\n",
    "                            'loudness', \n",
    "                            'valence', \n",
    "                            ],)\n",
    "corrMatrix = features_set_1.corr()\n",
    "plt.figure(figsize=(10,8))\n",
    "sn.heatmap(corrMatrix, cmap='seismic', annot=True)\n",
    "plt.tight_layout()\n",
    "plt.show()"
   ]
  },
  {
   "cell_type": "code",
   "execution_count": 455,
   "metadata": {
    "colab": {
     "base_uri": "https://localhost:8080/",
     "height": 585
    },
    "colab_type": "code",
    "id": "LsQfuCAgaSdl",
    "outputId": "a80f0cac-5b3f-4d77-ae00-c539cc8cf603"
   },
   "outputs": [
    {
     "data": {
      "image/png": "[encoded data removed]",
      "text/plain": [
       "<Figure size 1000x800 with 2 Axes>"
      ]
     },
     "metadata": {},
     "output_type": "display_data"
    }
   ],
   "source": [
    "features_set_2 = pd.DataFrame(ML_df, columns=['danceability',\n",
    "                            'energy'\n",
    "                            ],)\n",
    "corrMatrix = features_set_2.corr()\n",
    "plt.figure(figsize=(10,8))\n",
    "sn.heatmap(corrMatrix, cmap='seismic', annot=True)\n",
    "plt.tight_layout()\n",
    "plt.show()"
   ]
  },
  {
   "cell_type": "code",
   "execution_count": null,
   "metadata": {
    "colab": {},
    "colab_type": "code",
    "id": "oFHJF8BFbENy"
   },
   "outputs": [],
   "source": []
  },
  {
   "cell_type": "markdown",
   "metadata": {
    "colab_type": "text",
    "id": "F6vhryxTekFZ"
   },
   "source": [
    "Changing Genre Dataframe - Considering top 10 Grammy Genres"
   ]
  },
  {
   "cell_type": "code",
   "execution_count": 456,
   "metadata": {
    "colab": {
     "base_uri": "https://localhost:8080/",
     "height": 445
    },
    "colab_type": "code",
    "id": "OMclXYQ5nBAG",
    "outputId": "52c7f83b-873f-4445-913a-06172e999e98"
   },
   "outputs": [
    {
     "data": {
      "text/html": [
       "<div>\n",
       "<style scoped>\n",
       "    .dataframe tbody tr th:only-of-type {\n",
       "        vertical-align: middle;\n",
       "    }\n",
       "\n",
       "    .dataframe tbody tr th {\n",
       "        vertical-align: top;\n",
       "    }\n",
       "\n",
       "    .dataframe thead th {\n",
       "        text-align: right;\n",
       "    }\n",
       "</style>\n",
       "<table border=\"1\" class=\"dataframe\">\n",
       "  <thead>\n",
       "    <tr style=\"text-align: right;\">\n",
       "      <th></th>\n",
       "      <th>artist_name</th>\n",
       "      <th>track_name</th>\n",
       "      <th>track_id</th>\n",
       "      <th>artist_href</th>\n",
       "      <th>track_href</th>\n",
       "      <th>genre_name</th>\n",
       "      <th>danceability</th>\n",
       "      <th>energy</th>\n",
       "      <th>key</th>\n",
       "      <th>loudness</th>\n",
       "      <th>mode</th>\n",
       "      <th>speechiness</th>\n",
       "      <th>acousticness</th>\n",
       "      <th>instrumentalness</th>\n",
       "      <th>liveness</th>\n",
       "      <th>valence</th>\n",
       "      <th>tempo</th>\n",
       "      <th>duration_ms</th>\n",
       "    </tr>\n",
       "  </thead>\n",
       "  <tbody>\n",
       "    <tr>\n",
       "      <th>0</th>\n",
       "      <td>miley cyrus</td>\n",
       "      <td>flowers</td>\n",
       "      <td>0yLdNVWF3Srea0uzk55zFn</td>\n",
       "      <td>https://open.spotify.com/artist/5YGY8feqx7naU7...</td>\n",
       "      <td>https://open.spotify.com/track/0yLdNVWF3Srea0u...</td>\n",
       "      <td>Pop</td>\n",
       "      <td>0.707</td>\n",
       "      <td>0.681</td>\n",
       "      <td>0</td>\n",
       "      <td>-4.325</td>\n",
       "      <td>1</td>\n",
       "      <td>0.0668</td>\n",
       "      <td>0.0632</td>\n",
       "      <td>0.000005</td>\n",
       "      <td>0.0322</td>\n",
       "      <td>0.646</td>\n",
       "      <td>117.999</td>\n",
       "      <td>200455</td>\n",
       "    </tr>\n",
       "    <tr>\n",
       "      <th>1</th>\n",
       "      <td>sza</td>\n",
       "      <td>kill bill</td>\n",
       "      <td>1Qrg8KqiBpW07V7PNxwwwL</td>\n",
       "      <td>https://open.spotify.com/artist/7tYKF4w9nC0nq9...</td>\n",
       "      <td>https://open.spotify.com/track/1Qrg8KqiBpW07V7...</td>\n",
       "      <td>Pop</td>\n",
       "      <td>0.644</td>\n",
       "      <td>0.735</td>\n",
       "      <td>8</td>\n",
       "      <td>-5.747</td>\n",
       "      <td>1</td>\n",
       "      <td>0.0391</td>\n",
       "      <td>0.0521</td>\n",
       "      <td>0.144000</td>\n",
       "      <td>0.1610</td>\n",
       "      <td>0.418</td>\n",
       "      <td>88.980</td>\n",
       "      <td>153947</td>\n",
       "    </tr>\n",
       "    <tr>\n",
       "      <th>2</th>\n",
       "      <td>taylor swift</td>\n",
       "      <td>anti-hero</td>\n",
       "      <td>0V3wPSX9ygBnCm8psDIegu</td>\n",
       "      <td>https://open.spotify.com/artist/06HL4z0CvFAxyc...</td>\n",
       "      <td>https://open.spotify.com/track/0V3wPSX9ygBnCm8...</td>\n",
       "      <td>Pop</td>\n",
       "      <td>0.637</td>\n",
       "      <td>0.643</td>\n",
       "      <td>4</td>\n",
       "      <td>-6.571</td>\n",
       "      <td>1</td>\n",
       "      <td>0.0519</td>\n",
       "      <td>0.1300</td>\n",
       "      <td>0.000002</td>\n",
       "      <td>0.1420</td>\n",
       "      <td>0.533</td>\n",
       "      <td>97.008</td>\n",
       "      <td>200690</td>\n",
       "    </tr>\n",
       "    <tr>\n",
       "      <th>3</th>\n",
       "      <td>drake</td>\n",
       "      <td>search &amp; rescue</td>\n",
       "      <td>7aRCf5cLOFN1U7kvtChY1G</td>\n",
       "      <td>https://open.spotify.com/artist/3TVXtAsR1Inumw...</td>\n",
       "      <td>https://open.spotify.com/track/7aRCf5cLOFN1U7k...</td>\n",
       "      <td>Pop</td>\n",
       "      <td>0.817</td>\n",
       "      <td>0.440</td>\n",
       "      <td>10</td>\n",
       "      <td>-8.482</td>\n",
       "      <td>0</td>\n",
       "      <td>0.0734</td>\n",
       "      <td>0.0603</td>\n",
       "      <td>0.000001</td>\n",
       "      <td>0.3300</td>\n",
       "      <td>0.544</td>\n",
       "      <td>142.024</td>\n",
       "      <td>272113</td>\n",
       "    </tr>\n",
       "    <tr>\n",
       "      <th>4</th>\n",
       "      <td>fifty fifty</td>\n",
       "      <td>cupid - twin ver.</td>\n",
       "      <td>7FbrGaHYVDmfr7KoLIZnQ7</td>\n",
       "      <td>https://open.spotify.com/artist/4GJ6xDCF5jaUqD...</td>\n",
       "      <td>https://open.spotify.com/track/7FbrGaHYVDmfr7K...</td>\n",
       "      <td>Pop</td>\n",
       "      <td>0.783</td>\n",
       "      <td>0.592</td>\n",
       "      <td>11</td>\n",
       "      <td>-8.332</td>\n",
       "      <td>0</td>\n",
       "      <td>0.0331</td>\n",
       "      <td>0.4350</td>\n",
       "      <td>0.000004</td>\n",
       "      <td>0.3470</td>\n",
       "      <td>0.726</td>\n",
       "      <td>120.018</td>\n",
       "      <td>174253</td>\n",
       "    </tr>\n",
       "  </tbody>\n",
       "</table>\n",
       "</div>"
      ],
      "text/plain": [
       "    artist_name         track_name                track_id   \n",
       "0   miley cyrus            flowers  0yLdNVWF3Srea0uzk55zFn  \\\n",
       "1           sza          kill bill  1Qrg8KqiBpW07V7PNxwwwL   \n",
       "2  taylor swift          anti-hero  0V3wPSX9ygBnCm8psDIegu   \n",
       "3         drake    search & rescue  7aRCf5cLOFN1U7kvtChY1G   \n",
       "4   fifty fifty  cupid - twin ver.  7FbrGaHYVDmfr7KoLIZnQ7   \n",
       "\n",
       "                                         artist_href   \n",
       "0  https://open.spotify.com/artist/5YGY8feqx7naU7...  \\\n",
       "1  https://open.spotify.com/artist/7tYKF4w9nC0nq9...   \n",
       "2  https://open.spotify.com/artist/06HL4z0CvFAxyc...   \n",
       "3  https://open.spotify.com/artist/3TVXtAsR1Inumw...   \n",
       "4  https://open.spotify.com/artist/4GJ6xDCF5jaUqD...   \n",
       "\n",
       "                                          track_href genre_name  danceability   \n",
       "0  https://open.spotify.com/track/0yLdNVWF3Srea0u...        Pop         0.707  \\\n",
       "1  https://open.spotify.com/track/1Qrg8KqiBpW07V7...        Pop         0.644   \n",
       "2  https://open.spotify.com/track/0V3wPSX9ygBnCm8...        Pop         0.637   \n",
       "3  https://open.spotify.com/track/7aRCf5cLOFN1U7k...        Pop         0.817   \n",
       "4  https://open.spotify.com/track/7FbrGaHYVDmfr7K...        Pop         0.783   \n",
       "\n",
       "   energy  key  loudness  mode  speechiness  acousticness  instrumentalness   \n",
       "0   0.681    0    -4.325     1       0.0668        0.0632          0.000005  \\\n",
       "1   0.735    8    -5.747     1       0.0391        0.0521          0.144000   \n",
       "2   0.643    4    -6.571     1       0.0519        0.1300          0.000002   \n",
       "3   0.440   10    -8.482     0       0.0734        0.0603          0.000001   \n",
       "4   0.592   11    -8.332     0       0.0331        0.4350          0.000004   \n",
       "\n",
       "   liveness  valence    tempo  duration_ms  \n",
       "0    0.0322    0.646  117.999       200455  \n",
       "1    0.1610    0.418   88.980       153947  \n",
       "2    0.1420    0.533   97.008       200690  \n",
       "3    0.3300    0.544  142.024       272113  \n",
       "4    0.3470    0.726  120.018       174253  "
      ]
     },
     "execution_count": 456,
     "metadata": {},
     "output_type": "execute_result"
    }
   ],
   "source": [
    "df = pd.read_csv(os.path.join(\"Downloads/spotify_df_Top10GrammyGenre.csv\"))\n",
    "df.head()"
   ]
  },
  {
   "cell_type": "code",
   "execution_count": 457,
   "metadata": {
    "colab": {
     "base_uri": "https://localhost:8080/",
     "height": 204
    },
    "colab_type": "code",
    "id": "07mxPjI_nF0A",
    "outputId": "2e5890aa-2be7-460d-a2af-15afdf26c7ca"
   },
   "outputs": [
    {
     "data": {
      "text/html": [
       "<div>\n",
       "<style scoped>\n",
       "    .dataframe tbody tr th:only-of-type {\n",
       "        vertical-align: middle;\n",
       "    }\n",
       "\n",
       "    .dataframe tbody tr th {\n",
       "        vertical-align: top;\n",
       "    }\n",
       "\n",
       "    .dataframe thead th {\n",
       "        text-align: right;\n",
       "    }\n",
       "</style>\n",
       "<table border=\"1\" class=\"dataframe\">\n",
       "  <thead>\n",
       "    <tr style=\"text-align: right;\">\n",
       "      <th></th>\n",
       "      <th>genre_name</th>\n",
       "      <th>danceability</th>\n",
       "      <th>energy</th>\n",
       "      <th>key</th>\n",
       "      <th>loudness</th>\n",
       "      <th>mode</th>\n",
       "      <th>speechiness</th>\n",
       "      <th>acousticness</th>\n",
       "      <th>instrumentalness</th>\n",
       "      <th>liveness</th>\n",
       "      <th>valence</th>\n",
       "      <th>tempo</th>\n",
       "      <th>duration_ms</th>\n",
       "    </tr>\n",
       "  </thead>\n",
       "  <tbody>\n",
       "    <tr>\n",
       "      <th>0</th>\n",
       "      <td>Pop</td>\n",
       "      <td>0.707</td>\n",
       "      <td>0.681</td>\n",
       "      <td>0</td>\n",
       "      <td>-4.325</td>\n",
       "      <td>1</td>\n",
       "      <td>0.0668</td>\n",
       "      <td>0.0632</td>\n",
       "      <td>0.000005</td>\n",
       "      <td>0.0322</td>\n",
       "      <td>0.646</td>\n",
       "      <td>117.999</td>\n",
       "      <td>200455</td>\n",
       "    </tr>\n",
       "    <tr>\n",
       "      <th>1</th>\n",
       "      <td>Pop</td>\n",
       "      <td>0.644</td>\n",
       "      <td>0.735</td>\n",
       "      <td>8</td>\n",
       "      <td>-5.747</td>\n",
       "      <td>1</td>\n",
       "      <td>0.0391</td>\n",
       "      <td>0.0521</td>\n",
       "      <td>0.144000</td>\n",
       "      <td>0.1610</td>\n",
       "      <td>0.418</td>\n",
       "      <td>88.980</td>\n",
       "      <td>153947</td>\n",
       "    </tr>\n",
       "    <tr>\n",
       "      <th>2</th>\n",
       "      <td>Pop</td>\n",
       "      <td>0.637</td>\n",
       "      <td>0.643</td>\n",
       "      <td>4</td>\n",
       "      <td>-6.571</td>\n",
       "      <td>1</td>\n",
       "      <td>0.0519</td>\n",
       "      <td>0.1300</td>\n",
       "      <td>0.000002</td>\n",
       "      <td>0.1420</td>\n",
       "      <td>0.533</td>\n",
       "      <td>97.008</td>\n",
       "      <td>200690</td>\n",
       "    </tr>\n",
       "    <tr>\n",
       "      <th>3</th>\n",
       "      <td>Pop</td>\n",
       "      <td>0.817</td>\n",
       "      <td>0.440</td>\n",
       "      <td>10</td>\n",
       "      <td>-8.482</td>\n",
       "      <td>0</td>\n",
       "      <td>0.0734</td>\n",
       "      <td>0.0603</td>\n",
       "      <td>0.000001</td>\n",
       "      <td>0.3300</td>\n",
       "      <td>0.544</td>\n",
       "      <td>142.024</td>\n",
       "      <td>272113</td>\n",
       "    </tr>\n",
       "    <tr>\n",
       "      <th>4</th>\n",
       "      <td>Pop</td>\n",
       "      <td>0.783</td>\n",
       "      <td>0.592</td>\n",
       "      <td>11</td>\n",
       "      <td>-8.332</td>\n",
       "      <td>0</td>\n",
       "      <td>0.0331</td>\n",
       "      <td>0.4350</td>\n",
       "      <td>0.000004</td>\n",
       "      <td>0.3470</td>\n",
       "      <td>0.726</td>\n",
       "      <td>120.018</td>\n",
       "      <td>174253</td>\n",
       "    </tr>\n",
       "  </tbody>\n",
       "</table>\n",
       "</div>"
      ],
      "text/plain": [
       "  genre_name  danceability  energy  key  loudness  mode  speechiness   \n",
       "0        Pop         0.707   0.681    0    -4.325     1       0.0668  \\\n",
       "1        Pop         0.644   0.735    8    -5.747     1       0.0391   \n",
       "2        Pop         0.637   0.643    4    -6.571     1       0.0519   \n",
       "3        Pop         0.817   0.440   10    -8.482     0       0.0734   \n",
       "4        Pop         0.783   0.592   11    -8.332     0       0.0331   \n",
       "\n",
       "   acousticness  instrumentalness  liveness  valence    tempo  duration_ms  \n",
       "0        0.0632          0.000005    0.0322    0.646  117.999       200455  \n",
       "1        0.0521          0.144000    0.1610    0.418   88.980       153947  \n",
       "2        0.1300          0.000002    0.1420    0.533   97.008       200690  \n",
       "3        0.0603          0.000001    0.3300    0.544  142.024       272113  \n",
       "4        0.4350          0.000004    0.3470    0.726  120.018       174253  "
      ]
     },
     "execution_count": 457,
     "metadata": {},
     "output_type": "execute_result"
    }
   ],
   "source": [
    "ML_df = df.drop(['artist_name', 'track_name', 'track_id', 'artist_href', 'track_href'], axis=1)\n",
    "ML_df.head()"
   ]
  },
  {
   "cell_type": "markdown",
   "metadata": {
    "colab_type": "text",
    "id": "GHE4s-oTn0Nt"
   },
   "source": [
    "trying with KNN"
   ]
  },
  {
   "cell_type": "code",
   "execution_count": 458,
   "metadata": {
    "colab": {
     "base_uri": "https://localhost:8080/",
     "height": 204
    },
    "colab_type": "code",
    "id": "yWGy5YSLnKMY",
    "outputId": "bdd70c27-888c-43dc-f7ae-91c68a928ec9"
   },
   "outputs": [
    {
     "data": {
      "text/html": [
       "<div>\n",
       "<style scoped>\n",
       "    .dataframe tbody tr th:only-of-type {\n",
       "        vertical-align: middle;\n",
       "    }\n",
       "\n",
       "    .dataframe tbody tr th {\n",
       "        vertical-align: top;\n",
       "    }\n",
       "\n",
       "    .dataframe thead th {\n",
       "        text-align: right;\n",
       "    }\n",
       "</style>\n",
       "<table border=\"1\" class=\"dataframe\">\n",
       "  <thead>\n",
       "    <tr style=\"text-align: right;\">\n",
       "      <th></th>\n",
       "      <th>danceability</th>\n",
       "      <th>energy</th>\n",
       "      <th>key</th>\n",
       "      <th>loudness</th>\n",
       "      <th>mode</th>\n",
       "      <th>speechiness</th>\n",
       "      <th>acousticness</th>\n",
       "      <th>instrumentalness</th>\n",
       "      <th>liveness</th>\n",
       "      <th>valence</th>\n",
       "      <th>tempo</th>\n",
       "      <th>duration_ms</th>\n",
       "    </tr>\n",
       "  </thead>\n",
       "  <tbody>\n",
       "    <tr>\n",
       "      <th>0</th>\n",
       "      <td>0.707</td>\n",
       "      <td>0.681</td>\n",
       "      <td>0</td>\n",
       "      <td>-4.325</td>\n",
       "      <td>1</td>\n",
       "      <td>0.0668</td>\n",
       "      <td>0.0632</td>\n",
       "      <td>0.000005</td>\n",
       "      <td>0.0322</td>\n",
       "      <td>0.646</td>\n",
       "      <td>117.999</td>\n",
       "      <td>200455</td>\n",
       "    </tr>\n",
       "    <tr>\n",
       "      <th>1</th>\n",
       "      <td>0.644</td>\n",
       "      <td>0.735</td>\n",
       "      <td>8</td>\n",
       "      <td>-5.747</td>\n",
       "      <td>1</td>\n",
       "      <td>0.0391</td>\n",
       "      <td>0.0521</td>\n",
       "      <td>0.144000</td>\n",
       "      <td>0.1610</td>\n",
       "      <td>0.418</td>\n",
       "      <td>88.980</td>\n",
       "      <td>153947</td>\n",
       "    </tr>\n",
       "    <tr>\n",
       "      <th>2</th>\n",
       "      <td>0.637</td>\n",
       "      <td>0.643</td>\n",
       "      <td>4</td>\n",
       "      <td>-6.571</td>\n",
       "      <td>1</td>\n",
       "      <td>0.0519</td>\n",
       "      <td>0.1300</td>\n",
       "      <td>0.000002</td>\n",
       "      <td>0.1420</td>\n",
       "      <td>0.533</td>\n",
       "      <td>97.008</td>\n",
       "      <td>200690</td>\n",
       "    </tr>\n",
       "    <tr>\n",
       "      <th>3</th>\n",
       "      <td>0.817</td>\n",
       "      <td>0.440</td>\n",
       "      <td>10</td>\n",
       "      <td>-8.482</td>\n",
       "      <td>0</td>\n",
       "      <td>0.0734</td>\n",
       "      <td>0.0603</td>\n",
       "      <td>0.000001</td>\n",
       "      <td>0.3300</td>\n",
       "      <td>0.544</td>\n",
       "      <td>142.024</td>\n",
       "      <td>272113</td>\n",
       "    </tr>\n",
       "    <tr>\n",
       "      <th>4</th>\n",
       "      <td>0.783</td>\n",
       "      <td>0.592</td>\n",
       "      <td>11</td>\n",
       "      <td>-8.332</td>\n",
       "      <td>0</td>\n",
       "      <td>0.0331</td>\n",
       "      <td>0.4350</td>\n",
       "      <td>0.000004</td>\n",
       "      <td>0.3470</td>\n",
       "      <td>0.726</td>\n",
       "      <td>120.018</td>\n",
       "      <td>174253</td>\n",
       "    </tr>\n",
       "  </tbody>\n",
       "</table>\n",
       "</div>"
      ],
      "text/plain": [
       "   danceability  energy  key  loudness  mode  speechiness  acousticness   \n",
       "0         0.707   0.681    0    -4.325     1       0.0668        0.0632  \\\n",
       "1         0.644   0.735    8    -5.747     1       0.0391        0.0521   \n",
       "2         0.637   0.643    4    -6.571     1       0.0519        0.1300   \n",
       "3         0.817   0.440   10    -8.482     0       0.0734        0.0603   \n",
       "4         0.783   0.592   11    -8.332     0       0.0331        0.4350   \n",
       "\n",
       "   instrumentalness  liveness  valence    tempo  duration_ms  \n",
       "0          0.000005    0.0322    0.646  117.999       200455  \n",
       "1          0.144000    0.1610    0.418   88.980       153947  \n",
       "2          0.000002    0.1420    0.533   97.008       200690  \n",
       "3          0.000001    0.3300    0.544  142.024       272113  \n",
       "4          0.000004    0.3470    0.726  120.018       174253  "
      ]
     },
     "execution_count": 458,
     "metadata": {},
     "output_type": "execute_result"
    }
   ],
   "source": [
    "y = ML_df[\"genre_name\"]\n",
    "X = ML_df.drop(\"genre_name\", axis=1)\n",
    "X.head()"
   ]
  },
  {
   "cell_type": "code",
   "execution_count": 459,
   "metadata": {
    "colab": {},
    "colab_type": "code",
    "id": "vm403IBhnKTB"
   },
   "outputs": [],
   "source": [
    "from sklearn.model_selection import train_test_split\n",
    "X_train, X_test, y_train, y_test = train_test_split(X, y)"
   ]
  },
  {
   "cell_type": "code",
   "execution_count": null,
   "metadata": {
    "colab": {
     "base_uri": "https://localhost:8080/",
     "height": 449
    },
    "colab_type": "code",
    "id": "DVwljjKBnKCi",
    "outputId": "6b95d72d-04f9-47fb-e992-f1e682f3faca"
   },
   "outputs": [],
   "source": []
  },
  {
   "cell_type": "code",
   "execution_count": 461,
   "metadata": {},
   "outputs": [
    {
     "name": "stdout",
     "output_type": "stream",
     "text": [
      "k: 1, Train/Test Accuracy Score: 1.000/0.140, 1.140\n",
      "k: 3, Train/Test Accuracy Score: 0.487/0.148, 0.635\n",
      "k: 5, Train/Test Accuracy Score: 0.422/0.142, 0.563\n",
      "k: 7, Train/Test Accuracy Score: 0.374/0.164, 0.538\n",
      "k: 9, Train/Test Accuracy Score: 0.347/0.170, 0.517\n",
      "k: 11, Train/Test Accuracy Score: 0.325/0.175, 0.499\n",
      "k: 13, Train/Test Accuracy Score: 0.320/0.181, 0.501\n",
      "k: 15, Train/Test Accuracy Score: 0.308/0.190, 0.497\n",
      "k: 17, Train/Test Accuracy Score: 0.294/0.184, 0.478\n",
      "k: 19, Train/Test Accuracy Score: 0.284/0.187, 0.471\n"
     ]
    },
    {
     "data": {
      "image/png": "[encoded data removed]",
      "text/plain": [
       "<Figure size 640x480 with 1 Axes>"
      ]
     },
     "metadata": {},
     "output_type": "display_data"
    }
   ],
   "source": [
    "train_acc_scores = []\n",
    "test_acc_scores = []\n",
    "\n",
    "for n in range(1, 20, 2):\n",
    "    knn = KNeighborsClassifier(n_neighbors=n)\n",
    "    knn.fit(X_train, y_train)\n",
    "    train_acc = knn.score(X_train, y_train)\n",
    "    test_acc = knn.score(X_test, y_test)\n",
    "    total_acc = train_acc + test_acc\n",
    "    train_acc_scores.append(train_acc)\n",
    "    test_acc_scores.append(test_acc)\n",
    "    print(f\"k: {n}, Train/Test Accuracy Score: {train_acc:.3f}/{test_acc:.3f}, {total_acc:.3f}\")\n",
    "\n",
    "plt.plot(range(1, 20, 2), train_acc_scores, marker='o')\n",
    "plt.plot(range(1, 20, 2), test_acc_scores, marker=\"x\")\n",
    "plt.xlabel(\"Number of Neighbors\")\n",
    "plt.ylabel(\"Accuracy Score\")\n",
    "plt.show()\n"
   ]
  },
  {
   "cell_type": "markdown",
   "metadata": {
    "colab_type": "text",
    "id": "thGPO-y8n5gK"
   },
   "source": [
    "## Now trying with neural networks"
   ]
  },
  {
   "cell_type": "code",
   "execution_count": 462,
   "metadata": {
    "colab": {},
    "colab_type": "code",
    "id": "pl4Kx59PpGHm"
   },
   "outputs": [],
   "source": [
    "from sklearn.model_selection import train_test_split\n",
    "from sklearn.preprocessing import LabelEncoder, MinMaxScaler\n",
    "from tensorflow.keras.utils import to_categorical"
   ]
  },
  {
   "cell_type": "code",
   "execution_count": 463,
   "metadata": {
    "colab": {
     "base_uri": "https://localhost:8080/",
     "height": 34
    },
    "colab_type": "code",
    "id": "djZlmHnoorUK",
    "outputId": "cc5b6509-944d-42c4-c148-4c4c0d63ead8"
   },
   "outputs": [
    {
     "name": "stdout",
     "output_type": "stream",
     "text": [
      "(2654, 12) (2654,)\n"
     ]
    }
   ],
   "source": [
    "X = ML_df.drop(\"genre_name\", axis=1)\n",
    "y = ML_df[\"genre_name\"]\n",
    "print(X.shape, y.shape)"
   ]
  },
  {
   "cell_type": "code",
   "execution_count": 464,
   "metadata": {
    "colab": {},
    "colab_type": "code",
    "id": "Z3B1c53dn9B-"
   },
   "outputs": [],
   "source": [
    "X_train, X_test, y_train, y_test = train_test_split(\n",
    "    X, y, stratify=y)"
   ]
  },
  {
   "cell_type": "code",
   "execution_count": 465,
   "metadata": {
    "colab": {},
    "colab_type": "code",
    "id": "1sImtFVBoFHC"
   },
   "outputs": [],
   "source": [
    "X_scaler = MinMaxScaler().fit(X_train)\n",
    "X_train_scaled = X_scaler.transform(X_train)\n",
    "X_test_scaled = X_scaler.transform(X_test)"
   ]
  },
  {
   "cell_type": "code",
   "execution_count": 466,
   "metadata": {
    "colab": {},
    "colab_type": "code",
    "id": "gO5HIXcroFNI"
   },
   "outputs": [],
   "source": [
    "# Step 1: Label-encode data set\n",
    "label_encoder = LabelEncoder()\n",
    "label_encoder.fit(y_train)\n",
    "encoded_y_train = label_encoder.transform(y_train)\n",
    "encoded_y_test = label_encoder.transform(y_test)"
   ]
  },
  {
   "cell_type": "code",
   "execution_count": 467,
   "metadata": {
    "colab": {},
    "colab_type": "code",
    "id": "HmuXi8nDoFrD"
   },
   "outputs": [],
   "source": [
    "# Step 2: Convert encoded labels to one-hot-encoding\n",
    "y_train_categorical = to_categorical(encoded_y_train)\n",
    "y_test_categorical = to_categorical(encoded_y_test)"
   ]
  },
  {
   "cell_type": "code",
   "execution_count": 468,
   "metadata": {
    "colab": {},
    "colab_type": "code",
    "id": "iiq6zRygoFfG"
   },
   "outputs": [],
   "source": [
    "from tensorflow.keras.models import Sequential\n",
    "from tensorflow.keras.layers import Dense"
   ]
  },
  {
   "cell_type": "code",
   "execution_count": 469,
   "metadata": {
    "colab": {},
    "colab_type": "code",
    "id": "EfWnQgjeoFKE"
   },
   "outputs": [],
   "source": [
    "# Create model and add layers\n",
    "model = Sequential()\n",
    "model.add(Dense(units=10, activation='relu', input_dim=12))\n",
    "# model.add(Dense(units=9, activation='sigmoid'))\n",
    "# model.add(Dense(units=9, activation='sigmoid'))\n",
    "# model.add(Dense(units=9, activation='sigmoid'))\n",
    "model.add(Dense(units=10, activation='relu'))\n",
    "model.add(Dense(units=10, activation='relu'))\n",
    "model.add(Dense(units=10, activation='relu'))\n",
    "# model.add(Dense(units=9, activation='relu'))\n",
    "# model.add(Dense(units=9, activation='relu'))\n",
    "model.add(Dense(units=10, activation='softmax'))"
   ]
  },
  {
   "cell_type": "code",
   "execution_count": 470,
   "metadata": {
    "colab": {},
    "colab_type": "code",
    "id": "QtRppQARoFEP"
   },
   "outputs": [],
   "source": [
    "# Compile and fit the model\n",
    "model.compile(optimizer='adam',\n",
    "              loss='categorical_crossentropy',\n",
    "              metrics=['accuracy'])"
   ]
  },
  {
   "cell_type": "code",
   "execution_count": 471,
   "metadata": {
    "colab": {
     "base_uri": "https://localhost:8080/",
     "height": 323
    },
    "colab_type": "code",
    "id": "LEHYVTYeobvj",
    "outputId": "022260d1-9912-4238-a672-34fbf28c9d78"
   },
   "outputs": [
    {
     "name": "stdout",
     "output_type": "stream",
     "text": [
      "Model: \"sequential_32\"\n",
      "_________________________________________________________________\n",
      " Layer (type)                Output Shape              Param #   \n",
      "=================================================================\n",
      " dense_136 (Dense)           (None, 10)                130       \n",
      "                                                                 \n",
      " dense_137 (Dense)           (None, 10)                110       \n",
      "                                                                 \n",
      " dense_138 (Dense)           (None, 10)                110       \n",
      "                                                                 \n",
      " dense_139 (Dense)           (None, 10)                110       \n",
      "                                                                 \n",
      " dense_140 (Dense)           (None, 10)                110       \n",
      "                                                                 \n",
      "=================================================================\n",
      "Total params: 570\n",
      "Trainable params: 570\n",
      "Non-trainable params: 0\n",
      "_________________________________________________________________\n"
     ]
    }
   ],
   "source": [
    "model.summary()"
   ]
  },
  {
   "cell_type": "code",
   "execution_count": 472,
   "metadata": {
    "colab": {
     "base_uri": "https://localhost:8080/",
     "height": 374
    },
    "colab_type": "code",
    "id": "nAU-l4BsoblM",
    "outputId": "cb082c72-4502-4729-912f-81b850bf6d8a"
   },
   "outputs": [
    {
     "name": "stdout",
     "output_type": "stream",
     "text": [
      "Epoch 1/10\n",
      "63/63 - 1s - loss: 2.2902 - accuracy: 0.1588 - 775ms/epoch - 12ms/step\n",
      "Epoch 2/10\n",
      "63/63 - 0s - loss: 2.2522 - accuracy: 0.1819 - 75ms/epoch - 1ms/step\n",
      "Epoch 3/10\n",
      "63/63 - 0s - loss: 2.1757 - accuracy: 0.1839 - 74ms/epoch - 1ms/step\n",
      "Epoch 4/10\n",
      "63/63 - 0s - loss: 2.1069 - accuracy: 0.2126 - 67ms/epoch - 1ms/step\n",
      "Epoch 5/10\n",
      "63/63 - 0s - loss: 2.0621 - accuracy: 0.2266 - 67ms/epoch - 1ms/step\n",
      "Epoch 6/10\n",
      "63/63 - 0s - loss: 2.0200 - accuracy: 0.2528 - 75ms/epoch - 1ms/step\n",
      "Epoch 7/10\n",
      "63/63 - 0s - loss: 1.9802 - accuracy: 0.2588 - 75ms/epoch - 1ms/step\n",
      "Epoch 8/10\n",
      "63/63 - 0s - loss: 1.9386 - accuracy: 0.2744 - 82ms/epoch - 1ms/step\n",
      "Epoch 9/10\n",
      "63/63 - 0s - loss: 1.9038 - accuracy: 0.2854 - 67ms/epoch - 1ms/step\n",
      "Epoch 10/10\n",
      "63/63 - 0s - loss: 1.8708 - accuracy: 0.2975 - 58ms/epoch - 922us/step\n"
     ]
    },
    {
     "data": {
      "text/plain": [
       "<keras.callbacks.History at 0x279b099a590>"
      ]
     },
     "execution_count": 472,
     "metadata": {},
     "output_type": "execute_result"
    }
   ],
   "source": [
    "model.fit(\n",
    "    X_train_scaled,\n",
    "    y_train_categorical,\n",
    "    epochs=10,\n",
    "    shuffle=True,\n",
    "    verbose=2\n",
    ")"
   ]
  },
  {
   "cell_type": "code",
   "execution_count": 473,
   "metadata": {
    "colab": {
     "base_uri": "https://localhost:8080/",
     "height": 51
    },
    "colab_type": "code",
    "id": "p-ueuOYOon3F",
    "outputId": "0f947f1b-c69b-4082-861f-d0456e1be1e8"
   },
   "outputs": [
    {
     "name": "stdout",
     "output_type": "stream",
     "text": [
      "21/21 - 0s - loss: 1.9141 - accuracy: 0.2967 - 116ms/epoch - 6ms/step\n",
      "Normal Neural Network - Loss: 1.9141441583633423, Accuracy: 0.29668673872947693\n"
     ]
    }
   ],
   "source": [
    "model_loss, model_accuracy = model.evaluate(\n",
    "    X_test_scaled, y_test_categorical, verbose=2)\n",
    "print(\n",
    "    f\"Normal Neural Network - Loss: {model_loss}, Accuracy: {model_accuracy}\")"
   ]
  },
  {
   "cell_type": "markdown",
   "metadata": {
    "colab_type": "text",
    "id": "AW_xUTylsMgC"
   },
   "source": [
    "## Now trying it with less features"
   ]
  },
  {
   "cell_type": "code",
   "execution_count": 474,
   "metadata": {
    "colab": {
     "base_uri": "https://localhost:8080/",
     "height": 359
    },
    "colab_type": "code",
    "id": "5H9VCuUTqLd8",
    "outputId": "36dc394b-7353-4501-b219-480030e8fdfc"
   },
   "outputs": [
    {
     "data": {
      "text/html": [
       "<div>\n",
       "<style scoped>\n",
       "    .dataframe tbody tr th:only-of-type {\n",
       "        vertical-align: middle;\n",
       "    }\n",
       "\n",
       "    .dataframe tbody tr th {\n",
       "        vertical-align: top;\n",
       "    }\n",
       "\n",
       "    .dataframe thead th {\n",
       "        text-align: right;\n",
       "    }\n",
       "</style>\n",
       "<table border=\"1\" class=\"dataframe\">\n",
       "  <thead>\n",
       "    <tr style=\"text-align: right;\">\n",
       "      <th></th>\n",
       "      <th>genre_name</th>\n",
       "      <th>danceability</th>\n",
       "      <th>energy</th>\n",
       "      <th>loudness</th>\n",
       "      <th>valence</th>\n",
       "      <th>tempo</th>\n",
       "      <th>duration_ms</th>\n",
       "    </tr>\n",
       "  </thead>\n",
       "  <tbody>\n",
       "    <tr>\n",
       "      <th>3</th>\n",
       "      <td>Pop</td>\n",
       "      <td>0.817</td>\n",
       "      <td>0.440</td>\n",
       "      <td>-8.482</td>\n",
       "      <td>0.544</td>\n",
       "      <td>142.024</td>\n",
       "      <td>272113</td>\n",
       "    </tr>\n",
       "    <tr>\n",
       "      <th>4</th>\n",
       "      <td>Pop</td>\n",
       "      <td>0.783</td>\n",
       "      <td>0.592</td>\n",
       "      <td>-8.332</td>\n",
       "      <td>0.726</td>\n",
       "      <td>120.018</td>\n",
       "      <td>174253</td>\n",
       "    </tr>\n",
       "    <tr>\n",
       "      <th>5</th>\n",
       "      <td>Pop</td>\n",
       "      <td>0.801</td>\n",
       "      <td>0.806</td>\n",
       "      <td>-5.206</td>\n",
       "      <td>0.802</td>\n",
       "      <td>106.999</td>\n",
       "      <td>239318</td>\n",
       "    </tr>\n",
       "    <tr>\n",
       "      <th>6</th>\n",
       "      <td>Pop</td>\n",
       "      <td>0.571</td>\n",
       "      <td>0.544</td>\n",
       "      <td>-10.613</td>\n",
       "      <td>0.216</td>\n",
       "      <td>132.052</td>\n",
       "      <td>132631</td>\n",
       "    </tr>\n",
       "    <tr>\n",
       "      <th>7</th>\n",
       "      <td>Pop</td>\n",
       "      <td>0.559</td>\n",
       "      <td>0.551</td>\n",
       "      <td>-7.231</td>\n",
       "      <td>0.392</td>\n",
       "      <td>143.008</td>\n",
       "      <td>201800</td>\n",
       "    </tr>\n",
       "    <tr>\n",
       "      <th>8</th>\n",
       "      <td>Pop</td>\n",
       "      <td>0.369</td>\n",
       "      <td>0.192</td>\n",
       "      <td>-12.151</td>\n",
       "      <td>0.148</td>\n",
       "      <td>175.212</td>\n",
       "      <td>228013</td>\n",
       "    </tr>\n",
       "    <tr>\n",
       "      <th>9</th>\n",
       "      <td>Pop</td>\n",
       "      <td>0.552</td>\n",
       "      <td>0.702</td>\n",
       "      <td>-5.707</td>\n",
       "      <td>0.564</td>\n",
       "      <td>169.994</td>\n",
       "      <td>178427</td>\n",
       "    </tr>\n",
       "    <tr>\n",
       "      <th>10</th>\n",
       "      <td>Pop</td>\n",
       "      <td>0.561</td>\n",
       "      <td>0.520</td>\n",
       "      <td>-9.342</td>\n",
       "      <td>0.424</td>\n",
       "      <td>153.150</td>\n",
       "      <td>239360</td>\n",
       "    </tr>\n",
       "    <tr>\n",
       "      <th>11</th>\n",
       "      <td>Pop</td>\n",
       "      <td>0.574</td>\n",
       "      <td>0.469</td>\n",
       "      <td>-8.209</td>\n",
       "      <td>0.288</td>\n",
       "      <td>132.023</td>\n",
       "      <td>242485</td>\n",
       "    </tr>\n",
       "    <tr>\n",
       "      <th>12</th>\n",
       "      <td>Pop</td>\n",
       "      <td>0.582</td>\n",
       "      <td>0.568</td>\n",
       "      <td>-7.300</td>\n",
       "      <td>0.394</td>\n",
       "      <td>121.991</td>\n",
       "      <td>207541</td>\n",
       "    </tr>\n",
       "  </tbody>\n",
       "</table>\n",
       "</div>"
      ],
      "text/plain": [
       "   genre_name  danceability  energy  loudness  valence    tempo  duration_ms\n",
       "3         Pop         0.817   0.440    -8.482    0.544  142.024       272113\n",
       "4         Pop         0.783   0.592    -8.332    0.726  120.018       174253\n",
       "5         Pop         0.801   0.806    -5.206    0.802  106.999       239318\n",
       "6         Pop         0.571   0.544   -10.613    0.216  132.052       132631\n",
       "7         Pop         0.559   0.551    -7.231    0.392  143.008       201800\n",
       "8         Pop         0.369   0.192   -12.151    0.148  175.212       228013\n",
       "9         Pop         0.552   0.702    -5.707    0.564  169.994       178427\n",
       "10        Pop         0.561   0.520    -9.342    0.424  153.150       239360\n",
       "11        Pop         0.574   0.469    -8.209    0.288  132.023       242485\n",
       "12        Pop         0.582   0.568    -7.300    0.394  121.991       207541"
      ]
     },
     "execution_count": 474,
     "metadata": {},
     "output_type": "execute_result"
    }
   ],
   "source": [
    "droppedML_df = ML_df.drop([\n",
    "                            'key',\n",
    "                            \n",
    "                            'mode', \n",
    "                            'speechiness', \n",
    "                            'acousticness', \n",
    "                            'instrumentalness', \n",
    "                            'liveness', \n",
    "                            ],\n",
    "                           axis=1)\n",
    "\n",
    "# dropped_ML_df()\n",
    "# print(dropped_ML_df)\n",
    "droppedML_df.iloc[3:13]"
   ]
  },
  {
   "cell_type": "code",
   "execution_count": 475,
   "metadata": {
    "colab": {
     "base_uri": "https://localhost:8080/",
     "height": 34
    },
    "colab_type": "code",
    "id": "A_U-erbmsnbh",
    "outputId": "0abbfe02-810e-480b-9d83-7e9a5cc0f75e"
   },
   "outputs": [
    {
     "name": "stdout",
     "output_type": "stream",
     "text": [
      "(2654, 6) (2654,)\n"
     ]
    }
   ],
   "source": [
    "X = droppedML_df.drop(\"genre_name\", axis=1)\n",
    "y = droppedML_df[\"genre_name\"]\n",
    "print(X.shape, y.shape)"
   ]
  },
  {
   "cell_type": "code",
   "execution_count": 476,
   "metadata": {
    "colab": {},
    "colab_type": "code",
    "id": "DQKgxiFZtHgc"
   },
   "outputs": [],
   "source": [
    "X_train, X_test, y_train, y_test = train_test_split(\n",
    "    X, y, stratify=y)"
   ]
  },
  {
   "cell_type": "code",
   "execution_count": 477,
   "metadata": {
    "colab": {},
    "colab_type": "code",
    "id": "wq6w4fr3tK57"
   },
   "outputs": [],
   "source": [
    "X_scaler = MinMaxScaler().fit(X_train)\n",
    "X_train_scaled = X_scaler.transform(X_train)\n",
    "X_test_scaled = X_scaler.transform(X_test)"
   ]
  },
  {
   "cell_type": "code",
   "execution_count": 478,
   "metadata": {
    "colab": {},
    "colab_type": "code",
    "id": "_K88fvUctM_h"
   },
   "outputs": [],
   "source": [
    "# Step 1: Label-encode data set\n",
    "label_encoder = LabelEncoder()\n",
    "label_encoder.fit(y_train)\n",
    "encoded_y_train = label_encoder.transform(y_train)\n",
    "encoded_y_test = label_encoder.transform(y_test)"
   ]
  },
  {
   "cell_type": "code",
   "execution_count": 479,
   "metadata": {
    "colab": {},
    "colab_type": "code",
    "id": "CJsHPCJttP82"
   },
   "outputs": [],
   "source": [
    "# Step 2: Convert encoded labels to one-hot-encoding\n",
    "y_train_categorical = to_categorical(encoded_y_train)\n",
    "y_test_categorical = to_categorical(encoded_y_test)"
   ]
  },
  {
   "cell_type": "code",
   "execution_count": null,
   "metadata": {
    "colab": {},
    "colab_type": "code",
    "id": "kE3rx_2Rta-p"
   },
   "outputs": [],
   "source": []
  },
  {
   "cell_type": "code",
   "execution_count": 480,
   "metadata": {
    "colab": {},
    "colab_type": "code",
    "id": "6TXtyHSitbt1"
   },
   "outputs": [],
   "source": [
    "# Create model and add layers\n",
    "model = Sequential()\n",
    "model.add(Dense(units=10, activation='relu', input_dim=6))\n",
    "# model.add(Dense(units=10, activation='sigmoid'))\n",
    "# model.add(Dense(units=10, activation='sigmoid'))\n",
    "# model.add(Dense(units=10, activation='sigmoid'))\n",
    "model.add(Dense(units=10, activation='relu'))\n",
    "# model.add(Dense(units=10, activation='relu'))\n",
    "# model.add(Dense(units=10, activation='relu'))\n",
    "# model.add(Dense(units=10, activation='relu'))\n",
    "# model.add(Dense(units=10, activation='relu'))\n",
    "model.add(Dense(units=10, activation='softmax'))"
   ]
  },
  {
   "cell_type": "code",
   "execution_count": 481,
   "metadata": {
    "colab": {},
    "colab_type": "code",
    "id": "1m0aP3wPtbmm"
   },
   "outputs": [],
   "source": [
    "# Compile and fit the model\n",
    "model.compile(optimizer='adam',\n",
    "              loss='categorical_crossentropy',\n",
    "              metrics=['accuracy'])"
   ]
  },
  {
   "cell_type": "code",
   "execution_count": 482,
   "metadata": {
    "colab": {
     "base_uri": "https://localhost:8080/",
     "height": 255
    },
    "colab_type": "code",
    "id": "RTDjDJ5puVLk",
    "outputId": "b5fbfeed-091b-4839-83ab-1785ae8789bb"
   },
   "outputs": [
    {
     "name": "stdout",
     "output_type": "stream",
     "text": [
      "Model: \"sequential_33\"\n",
      "_________________________________________________________________\n",
      " Layer (type)                Output Shape              Param #   \n",
      "=================================================================\n",
      " dense_141 (Dense)           (None, 10)                70        \n",
      "                                                                 \n",
      " dense_142 (Dense)           (None, 10)                110       \n",
      "                                                                 \n",
      " dense_143 (Dense)           (None, 10)                110       \n",
      "                                                                 \n",
      "=================================================================\n",
      "Total params: 290\n",
      "Trainable params: 290\n",
      "Non-trainable params: 0\n",
      "_________________________________________________________________\n"
     ]
    }
   ],
   "source": [
    "model.summary()"
   ]
  },
  {
   "cell_type": "code",
   "execution_count": 483,
   "metadata": {
    "colab": {
     "base_uri": "https://localhost:8080/",
     "height": 374
    },
    "colab_type": "code",
    "id": "cPSXJHltubXb",
    "outputId": "5bfbcbb1-44f2-4fb3-eefb-f9c3af323e4c"
   },
   "outputs": [
    {
     "name": "stdout",
     "output_type": "stream",
     "text": [
      "Epoch 1/10\n",
      "63/63 - 0s - loss: 2.3010 - accuracy: 0.1010 - 463ms/epoch - 7ms/step\n",
      "Epoch 2/10\n",
      "63/63 - 0s - loss: 2.2860 - accuracy: 0.1417 - 80ms/epoch - 1ms/step\n",
      "Epoch 3/10\n",
      "63/63 - 0s - loss: 2.2723 - accuracy: 0.1492 - 58ms/epoch - 916us/step\n",
      "Epoch 4/10\n",
      "63/63 - 0s - loss: 2.2573 - accuracy: 0.1729 - 61ms/epoch - 976us/step\n",
      "Epoch 5/10\n",
      "63/63 - 0s - loss: 2.2439 - accuracy: 0.2060 - 83ms/epoch - 1ms/step\n",
      "Epoch 6/10\n",
      "63/63 - 0s - loss: 2.2289 - accuracy: 0.2176 - 68ms/epoch - 1ms/step\n",
      "Epoch 7/10\n",
      "63/63 - 0s - loss: 2.2099 - accuracy: 0.2286 - 67ms/epoch - 1ms/step\n",
      "Epoch 8/10\n",
      "63/63 - 0s - loss: 2.1880 - accuracy: 0.2447 - 66ms/epoch - 1ms/step\n",
      "Epoch 9/10\n",
      "63/63 - 0s - loss: 2.1673 - accuracy: 0.2482 - 73ms/epoch - 1ms/step\n",
      "Epoch 10/10\n",
      "63/63 - 0s - loss: 2.1451 - accuracy: 0.2472 - 77ms/epoch - 1ms/step\n"
     ]
    },
    {
     "data": {
      "text/plain": [
       "<keras.callbacks.History at 0x279b0e69850>"
      ]
     },
     "execution_count": 483,
     "metadata": {},
     "output_type": "execute_result"
    }
   ],
   "source": [
    "model.fit(\n",
    "    X_train_scaled,\n",
    "    y_train_categorical,\n",
    "    epochs=10,\n",
    "    shuffle=True,\n",
    "    verbose=2\n",
    ")"
   ]
  },
  {
   "cell_type": "code",
   "execution_count": 484,
   "metadata": {
    "colab": {
     "base_uri": "https://localhost:8080/",
     "height": 51
    },
    "colab_type": "code",
    "id": "ZtxSc_jIuXWY",
    "outputId": "1ca7d664-8744-430d-b402-8492f53e8fc2"
   },
   "outputs": [
    {
     "name": "stdout",
     "output_type": "stream",
     "text": [
      "21/21 - 0s - loss: 2.1814 - accuracy: 0.2395 - 115ms/epoch - 5ms/step\n",
      "Normal Neural Network - Loss: 2.1813647747039795, Accuracy: 0.23945783078670502\n"
     ]
    }
   ],
   "source": [
    "model_loss, model_accuracy = model.evaluate(\n",
    "    X_test_scaled, y_test_categorical, verbose=2)\n",
    "print(\n",
    "    f\"Normal Neural Network - Loss: {model_loss}, Accuracy: {model_accuracy}\")"
   ]
  },
  {
   "cell_type": "markdown",
   "metadata": {
    "colab_type": "text",
    "id": "G8mRbgI7xFoI"
   },
   "source": [
    "Changing Genre Dataframe Changed - Considering Top 7Grammy Genres "
   ]
  },
  {
   "cell_type": "code",
   "execution_count": 485,
   "metadata": {
    "colab": {
     "base_uri": "https://localhost:8080/",
     "height": 434
    },
    "colab_type": "code",
    "id": "VO1b3B8VRBXI",
    "outputId": "a3a7e43e-9051-411d-ef9e-182c68e40a25"
   },
   "outputs": [
    {
     "data": {
      "text/html": [
       "<div>\n",
       "<style scoped>\n",
       "    .dataframe tbody tr th:only-of-type {\n",
       "        vertical-align: middle;\n",
       "    }\n",
       "\n",
       "    .dataframe tbody tr th {\n",
       "        vertical-align: top;\n",
       "    }\n",
       "\n",
       "    .dataframe thead th {\n",
       "        text-align: right;\n",
       "    }\n",
       "</style>\n",
       "<table border=\"1\" class=\"dataframe\">\n",
       "  <thead>\n",
       "    <tr style=\"text-align: right;\">\n",
       "      <th></th>\n",
       "      <th>artist_name</th>\n",
       "      <th>track_name</th>\n",
       "      <th>track_id</th>\n",
       "      <th>artist_href</th>\n",
       "      <th>track_href</th>\n",
       "      <th>genre_name</th>\n",
       "      <th>danceability</th>\n",
       "      <th>energy</th>\n",
       "      <th>key</th>\n",
       "      <th>loudness</th>\n",
       "      <th>mode</th>\n",
       "      <th>speechiness</th>\n",
       "      <th>acousticness</th>\n",
       "      <th>instrumentalness</th>\n",
       "      <th>liveness</th>\n",
       "      <th>valence</th>\n",
       "      <th>tempo</th>\n",
       "      <th>duration_ms</th>\n",
       "    </tr>\n",
       "  </thead>\n",
       "  <tbody>\n",
       "    <tr>\n",
       "      <th>0</th>\n",
       "      <td>miley cyrus</td>\n",
       "      <td>flowers</td>\n",
       "      <td>0yLdNVWF3Srea0uzk55zFn</td>\n",
       "      <td>https://open.spotify.com/artist/5YGY8feqx7naU7...</td>\n",
       "      <td>https://open.spotify.com/track/0yLdNVWF3Srea0u...</td>\n",
       "      <td>Pop</td>\n",
       "      <td>0.707</td>\n",
       "      <td>0.681</td>\n",
       "      <td>0</td>\n",
       "      <td>-4.325</td>\n",
       "      <td>1</td>\n",
       "      <td>0.0668</td>\n",
       "      <td>0.0632</td>\n",
       "      <td>0.000005</td>\n",
       "      <td>0.0322</td>\n",
       "      <td>0.646</td>\n",
       "      <td>117.999</td>\n",
       "      <td>200455</td>\n",
       "    </tr>\n",
       "    <tr>\n",
       "      <th>1</th>\n",
       "      <td>sza</td>\n",
       "      <td>kill bill</td>\n",
       "      <td>1Qrg8KqiBpW07V7PNxwwwL</td>\n",
       "      <td>https://open.spotify.com/artist/7tYKF4w9nC0nq9...</td>\n",
       "      <td>https://open.spotify.com/track/1Qrg8KqiBpW07V7...</td>\n",
       "      <td>Pop</td>\n",
       "      <td>0.644</td>\n",
       "      <td>0.735</td>\n",
       "      <td>8</td>\n",
       "      <td>-5.747</td>\n",
       "      <td>1</td>\n",
       "      <td>0.0391</td>\n",
       "      <td>0.0521</td>\n",
       "      <td>0.144000</td>\n",
       "      <td>0.1610</td>\n",
       "      <td>0.418</td>\n",
       "      <td>88.980</td>\n",
       "      <td>153947</td>\n",
       "    </tr>\n",
       "    <tr>\n",
       "      <th>2</th>\n",
       "      <td>taylor swift</td>\n",
       "      <td>anti-hero</td>\n",
       "      <td>0V3wPSX9ygBnCm8psDIegu</td>\n",
       "      <td>https://open.spotify.com/artist/06HL4z0CvFAxyc...</td>\n",
       "      <td>https://open.spotify.com/track/0V3wPSX9ygBnCm8...</td>\n",
       "      <td>Pop</td>\n",
       "      <td>0.637</td>\n",
       "      <td>0.643</td>\n",
       "      <td>4</td>\n",
       "      <td>-6.571</td>\n",
       "      <td>1</td>\n",
       "      <td>0.0519</td>\n",
       "      <td>0.1300</td>\n",
       "      <td>0.000002</td>\n",
       "      <td>0.1420</td>\n",
       "      <td>0.533</td>\n",
       "      <td>97.008</td>\n",
       "      <td>200690</td>\n",
       "    </tr>\n",
       "    <tr>\n",
       "      <th>3</th>\n",
       "      <td>drake</td>\n",
       "      <td>search &amp; rescue</td>\n",
       "      <td>7aRCf5cLOFN1U7kvtChY1G</td>\n",
       "      <td>https://open.spotify.com/artist/3TVXtAsR1Inumw...</td>\n",
       "      <td>https://open.spotify.com/track/7aRCf5cLOFN1U7k...</td>\n",
       "      <td>Pop</td>\n",
       "      <td>0.817</td>\n",
       "      <td>0.440</td>\n",
       "      <td>10</td>\n",
       "      <td>-8.482</td>\n",
       "      <td>0</td>\n",
       "      <td>0.0734</td>\n",
       "      <td>0.0603</td>\n",
       "      <td>0.000001</td>\n",
       "      <td>0.3300</td>\n",
       "      <td>0.544</td>\n",
       "      <td>142.024</td>\n",
       "      <td>272113</td>\n",
       "    </tr>\n",
       "    <tr>\n",
       "      <th>4</th>\n",
       "      <td>fifty fifty</td>\n",
       "      <td>cupid - twin ver.</td>\n",
       "      <td>7FbrGaHYVDmfr7KoLIZnQ7</td>\n",
       "      <td>https://open.spotify.com/artist/4GJ6xDCF5jaUqD...</td>\n",
       "      <td>https://open.spotify.com/track/7FbrGaHYVDmfr7K...</td>\n",
       "      <td>Pop</td>\n",
       "      <td>0.783</td>\n",
       "      <td>0.592</td>\n",
       "      <td>11</td>\n",
       "      <td>-8.332</td>\n",
       "      <td>0</td>\n",
       "      <td>0.0331</td>\n",
       "      <td>0.4350</td>\n",
       "      <td>0.000004</td>\n",
       "      <td>0.3470</td>\n",
       "      <td>0.726</td>\n",
       "      <td>120.018</td>\n",
       "      <td>174253</td>\n",
       "    </tr>\n",
       "  </tbody>\n",
       "</table>\n",
       "</div>"
      ],
      "text/plain": [
       "    artist_name         track_name                track_id   \n",
       "0   miley cyrus            flowers  0yLdNVWF3Srea0uzk55zFn  \\\n",
       "1           sza          kill bill  1Qrg8KqiBpW07V7PNxwwwL   \n",
       "2  taylor swift          anti-hero  0V3wPSX9ygBnCm8psDIegu   \n",
       "3         drake    search & rescue  7aRCf5cLOFN1U7kvtChY1G   \n",
       "4   fifty fifty  cupid - twin ver.  7FbrGaHYVDmfr7KoLIZnQ7   \n",
       "\n",
       "                                         artist_href   \n",
       "0  https://open.spotify.com/artist/5YGY8feqx7naU7...  \\\n",
       "1  https://open.spotify.com/artist/7tYKF4w9nC0nq9...   \n",
       "2  https://open.spotify.com/artist/06HL4z0CvFAxyc...   \n",
       "3  https://open.spotify.com/artist/3TVXtAsR1Inumw...   \n",
       "4  https://open.spotify.com/artist/4GJ6xDCF5jaUqD...   \n",
       "\n",
       "                                          track_href genre_name  danceability   \n",
       "0  https://open.spotify.com/track/0yLdNVWF3Srea0u...        Pop         0.707  \\\n",
       "1  https://open.spotify.com/track/1Qrg8KqiBpW07V7...        Pop         0.644   \n",
       "2  https://open.spotify.com/track/0V3wPSX9ygBnCm8...        Pop         0.637   \n",
       "3  https://open.spotify.com/track/7aRCf5cLOFN1U7k...        Pop         0.817   \n",
       "4  https://open.spotify.com/track/7FbrGaHYVDmfr7K...        Pop         0.783   \n",
       "\n",
       "   energy  key  loudness  mode  speechiness  acousticness  instrumentalness   \n",
       "0   0.681    0    -4.325     1       0.0668        0.0632          0.000005  \\\n",
       "1   0.735    8    -5.747     1       0.0391        0.0521          0.144000   \n",
       "2   0.643    4    -6.571     1       0.0519        0.1300          0.000002   \n",
       "3   0.440   10    -8.482     0       0.0734        0.0603          0.000001   \n",
       "4   0.592   11    -8.332     0       0.0331        0.4350          0.000004   \n",
       "\n",
       "   liveness  valence    tempo  duration_ms  \n",
       "0    0.0322    0.646  117.999       200455  \n",
       "1    0.1610    0.418   88.980       153947  \n",
       "2    0.1420    0.533   97.008       200690  \n",
       "3    0.3300    0.544  142.024       272113  \n",
       "4    0.3470    0.726  120.018       174253  "
      ]
     },
     "execution_count": 485,
     "metadata": {},
     "output_type": "execute_result"
    }
   ],
   "source": [
    "df = pd.read_csv(os.path.join(\"Downloads/spotify_df_Top7GrammyGenre.csv\"))\n",
    "df.head()"
   ]
  },
  {
   "cell_type": "code",
   "execution_count": 488,
   "metadata": {
    "colab": {
     "base_uri": "https://localhost:8080/",
     "height": 265
    },
    "colab_type": "code",
    "id": "A2Zv2DETxOfa",
    "outputId": "f0c580a7-e86e-4c4c-a851-b2e792487178"
   },
   "outputs": [
    {
     "data": {
      "text/html": [
       "<div>\n",
       "<style scoped>\n",
       "    .dataframe tbody tr th:only-of-type {\n",
       "        vertical-align: middle;\n",
       "    }\n",
       "\n",
       "    .dataframe tbody tr th {\n",
       "        vertical-align: top;\n",
       "    }\n",
       "\n",
       "    .dataframe thead th {\n",
       "        text-align: right;\n",
       "    }\n",
       "</style>\n",
       "<table border=\"1\" class=\"dataframe\">\n",
       "  <thead>\n",
       "    <tr style=\"text-align: right;\">\n",
       "      <th></th>\n",
       "      <th>genre_name</th>\n",
       "      <th>danceability</th>\n",
       "      <th>energy</th>\n",
       "      <th>key</th>\n",
       "      <th>loudness</th>\n",
       "      <th>mode</th>\n",
       "      <th>speechiness</th>\n",
       "      <th>acousticness</th>\n",
       "      <th>instrumentalness</th>\n",
       "      <th>liveness</th>\n",
       "      <th>valence</th>\n",
       "      <th>tempo</th>\n",
       "      <th>duration_ms</th>\n",
       "    </tr>\n",
       "  </thead>\n",
       "  <tbody>\n",
       "    <tr>\n",
       "      <th>0</th>\n",
       "      <td>Pop</td>\n",
       "      <td>0.707</td>\n",
       "      <td>0.681</td>\n",
       "      <td>0</td>\n",
       "      <td>-4.325</td>\n",
       "      <td>1</td>\n",
       "      <td>0.0668</td>\n",
       "      <td>0.063200</td>\n",
       "      <td>0.000005</td>\n",
       "      <td>0.0322</td>\n",
       "      <td>0.646</td>\n",
       "      <td>117.999</td>\n",
       "      <td>200455</td>\n",
       "    </tr>\n",
       "    <tr>\n",
       "      <th>1</th>\n",
       "      <td>Pop</td>\n",
       "      <td>0.644</td>\n",
       "      <td>0.735</td>\n",
       "      <td>8</td>\n",
       "      <td>-5.747</td>\n",
       "      <td>1</td>\n",
       "      <td>0.0391</td>\n",
       "      <td>0.052100</td>\n",
       "      <td>0.144000</td>\n",
       "      <td>0.1610</td>\n",
       "      <td>0.418</td>\n",
       "      <td>88.980</td>\n",
       "      <td>153947</td>\n",
       "    </tr>\n",
       "    <tr>\n",
       "      <th>2</th>\n",
       "      <td>Pop</td>\n",
       "      <td>0.637</td>\n",
       "      <td>0.643</td>\n",
       "      <td>4</td>\n",
       "      <td>-6.571</td>\n",
       "      <td>1</td>\n",
       "      <td>0.0519</td>\n",
       "      <td>0.130000</td>\n",
       "      <td>0.000002</td>\n",
       "      <td>0.1420</td>\n",
       "      <td>0.533</td>\n",
       "      <td>97.008</td>\n",
       "      <td>200690</td>\n",
       "    </tr>\n",
       "    <tr>\n",
       "      <th>3</th>\n",
       "      <td>Pop</td>\n",
       "      <td>0.817</td>\n",
       "      <td>0.440</td>\n",
       "      <td>10</td>\n",
       "      <td>-8.482</td>\n",
       "      <td>0</td>\n",
       "      <td>0.0734</td>\n",
       "      <td>0.060300</td>\n",
       "      <td>0.000001</td>\n",
       "      <td>0.3300</td>\n",
       "      <td>0.544</td>\n",
       "      <td>142.024</td>\n",
       "      <td>272113</td>\n",
       "    </tr>\n",
       "    <tr>\n",
       "      <th>4</th>\n",
       "      <td>Pop</td>\n",
       "      <td>0.783</td>\n",
       "      <td>0.592</td>\n",
       "      <td>11</td>\n",
       "      <td>-8.332</td>\n",
       "      <td>0</td>\n",
       "      <td>0.0331</td>\n",
       "      <td>0.435000</td>\n",
       "      <td>0.000004</td>\n",
       "      <td>0.3470</td>\n",
       "      <td>0.726</td>\n",
       "      <td>120.018</td>\n",
       "      <td>174253</td>\n",
       "    </tr>\n",
       "    <tr>\n",
       "      <th>...</th>\n",
       "      <td>...</td>\n",
       "      <td>...</td>\n",
       "      <td>...</td>\n",
       "      <td>...</td>\n",
       "      <td>...</td>\n",
       "      <td>...</td>\n",
       "      <td>...</td>\n",
       "      <td>...</td>\n",
       "      <td>...</td>\n",
       "      <td>...</td>\n",
       "      <td>...</td>\n",
       "      <td>...</td>\n",
       "      <td>...</td>\n",
       "    </tr>\n",
       "    <tr>\n",
       "      <th>1832</th>\n",
       "      <td>New Age</td>\n",
       "      <td>0.352</td>\n",
       "      <td>0.796</td>\n",
       "      <td>7</td>\n",
       "      <td>-6.879</td>\n",
       "      <td>1</td>\n",
       "      <td>0.0352</td>\n",
       "      <td>0.000255</td>\n",
       "      <td>0.000058</td>\n",
       "      <td>0.3050</td>\n",
       "      <td>0.426</td>\n",
       "      <td>179.379</td>\n",
       "      <td>179240</td>\n",
       "    </tr>\n",
       "    <tr>\n",
       "      <th>1833</th>\n",
       "      <td>New Age</td>\n",
       "      <td>0.603</td>\n",
       "      <td>0.740</td>\n",
       "      <td>5</td>\n",
       "      <td>-12.128</td>\n",
       "      <td>0</td>\n",
       "      <td>0.0358</td>\n",
       "      <td>0.191000</td>\n",
       "      <td>0.969000</td>\n",
       "      <td>0.1100</td>\n",
       "      <td>0.102</td>\n",
       "      <td>123.997</td>\n",
       "      <td>379083</td>\n",
       "    </tr>\n",
       "    <tr>\n",
       "      <th>1834</th>\n",
       "      <td>New Age</td>\n",
       "      <td>0.555</td>\n",
       "      <td>0.501</td>\n",
       "      <td>5</td>\n",
       "      <td>-14.892</td>\n",
       "      <td>1</td>\n",
       "      <td>0.9330</td>\n",
       "      <td>0.793000</td>\n",
       "      <td>0.000000</td>\n",
       "      <td>0.9100</td>\n",
       "      <td>0.322</td>\n",
       "      <td>64.438</td>\n",
       "      <td>152125</td>\n",
       "    </tr>\n",
       "    <tr>\n",
       "      <th>1835</th>\n",
       "      <td>New Age</td>\n",
       "      <td>0.603</td>\n",
       "      <td>0.409</td>\n",
       "      <td>5</td>\n",
       "      <td>-14.871</td>\n",
       "      <td>1</td>\n",
       "      <td>0.0310</td>\n",
       "      <td>0.394000</td>\n",
       "      <td>0.490000</td>\n",
       "      <td>0.0633</td>\n",
       "      <td>0.141</td>\n",
       "      <td>97.188</td>\n",
       "      <td>354667</td>\n",
       "    </tr>\n",
       "    <tr>\n",
       "      <th>1836</th>\n",
       "      <td>New Age</td>\n",
       "      <td>0.631</td>\n",
       "      <td>0.926</td>\n",
       "      <td>10</td>\n",
       "      <td>-13.634</td>\n",
       "      <td>0</td>\n",
       "      <td>0.0441</td>\n",
       "      <td>0.000021</td>\n",
       "      <td>0.879000</td>\n",
       "      <td>0.0471</td>\n",
       "      <td>0.942</td>\n",
       "      <td>131.230</td>\n",
       "      <td>305333</td>\n",
       "    </tr>\n",
       "  </tbody>\n",
       "</table>\n",
       "<p>1837 rows × 13 columns</p>\n",
       "</div>"
      ],
      "text/plain": [
       "     genre_name  danceability  energy  key  loudness  mode  speechiness   \n",
       "0           Pop         0.707   0.681    0    -4.325     1       0.0668  \\\n",
       "1           Pop         0.644   0.735    8    -5.747     1       0.0391   \n",
       "2           Pop         0.637   0.643    4    -6.571     1       0.0519   \n",
       "3           Pop         0.817   0.440   10    -8.482     0       0.0734   \n",
       "4           Pop         0.783   0.592   11    -8.332     0       0.0331   \n",
       "...         ...           ...     ...  ...       ...   ...          ...   \n",
       "1832    New Age         0.352   0.796    7    -6.879     1       0.0352   \n",
       "1833    New Age         0.603   0.740    5   -12.128     0       0.0358   \n",
       "1834    New Age         0.555   0.501    5   -14.892     1       0.9330   \n",
       "1835    New Age         0.603   0.409    5   -14.871     1       0.0310   \n",
       "1836    New Age         0.631   0.926   10   -13.634     0       0.0441   \n",
       "\n",
       "      acousticness  instrumentalness  liveness  valence    tempo  duration_ms  \n",
       "0         0.063200          0.000005    0.0322    0.646  117.999       200455  \n",
       "1         0.052100          0.144000    0.1610    0.418   88.980       153947  \n",
       "2         0.130000          0.000002    0.1420    0.533   97.008       200690  \n",
       "3         0.060300          0.000001    0.3300    0.544  142.024       272113  \n",
       "4         0.435000          0.000004    0.3470    0.726  120.018       174253  \n",
       "...            ...               ...       ...      ...      ...          ...  \n",
       "1832      0.000255          0.000058    0.3050    0.426  179.379       179240  \n",
       "1833      0.191000          0.969000    0.1100    0.102  123.997       379083  \n",
       "1834      0.793000          0.000000    0.9100    0.322   64.438       152125  \n",
       "1835      0.394000          0.490000    0.0633    0.141   97.188       354667  \n",
       "1836      0.000021          0.879000    0.0471    0.942  131.230       305333  \n",
       "\n",
       "[1837 rows x 13 columns]"
      ]
     },
     "execution_count": 488,
     "metadata": {},
     "output_type": "execute_result"
    }
   ],
   "source": [
    "ML_df = df.drop(['artist_name', 'track_name', 'track_id', 'artist_href', 'track_href'], axis=1)\n",
    "ML_df = ML_df.reset_index(drop=True)\n",
    "\n",
    "ML_df"
   ]
  },
  {
   "cell_type": "code",
   "execution_count": 489,
   "metadata": {
    "colab": {
     "base_uri": "https://localhost:8080/",
     "height": 372
    },
    "colab_type": "code",
    "id": "Rsw2oCcJ1sdl",
    "outputId": "7a7699e8-ffce-40fc-d8cb-f1e1b1e63cf2"
   },
   "outputs": [
    {
     "name": "stdout",
     "output_type": "stream",
     "text": [
      "<class 'pandas.core.frame.DataFrame'>\n",
      "RangeIndex: 1837 entries, 0 to 1836\n",
      "Data columns (total 13 columns):\n",
      " #   Column            Non-Null Count  Dtype  \n",
      "---  ------            --------------  -----  \n",
      " 0   genre_name        1837 non-null   object \n",
      " 1   danceability      1837 non-null   float64\n",
      " 2   energy            1837 non-null   float64\n",
      " 3   key               1837 non-null   int64  \n",
      " 4   loudness          1837 non-null   float64\n",
      " 5   mode              1837 non-null   int64  \n",
      " 6   speechiness       1837 non-null   float64\n",
      " 7   acousticness      1837 non-null   float64\n",
      " 8   instrumentalness  1837 non-null   float64\n",
      " 9   liveness          1837 non-null   float64\n",
      " 10  valence           1837 non-null   float64\n",
      " 11  tempo             1837 non-null   float64\n",
      " 12  duration_ms       1837 non-null   int64  \n",
      "dtypes: float64(9), int64(3), object(1)\n",
      "memory usage: 186.7+ KB\n"
     ]
    }
   ],
   "source": [
    "ML_df.info()"
   ]
  },
  {
   "cell_type": "markdown",
   "metadata": {
    "colab_type": "text",
    "id": "Db7nt_xpxfwQ"
   },
   "source": [
    "## Now trying with KNN"
   ]
  },
  {
   "cell_type": "code",
   "execution_count": 490,
   "metadata": {
    "colab": {
     "base_uri": "https://localhost:8080/",
     "height": 406
    },
    "colab_type": "code",
    "id": "Q_PDTooPxhWf",
    "outputId": "ca01437c-d851-4379-cde7-a4947a98e41e"
   },
   "outputs": [
    {
     "data": {
      "text/html": [
       "<div>\n",
       "<style scoped>\n",
       "    .dataframe tbody tr th:only-of-type {\n",
       "        vertical-align: middle;\n",
       "    }\n",
       "\n",
       "    .dataframe tbody tr th {\n",
       "        vertical-align: top;\n",
       "    }\n",
       "\n",
       "    .dataframe thead th {\n",
       "        text-align: right;\n",
       "    }\n",
       "</style>\n",
       "<table border=\"1\" class=\"dataframe\">\n",
       "  <thead>\n",
       "    <tr style=\"text-align: right;\">\n",
       "      <th></th>\n",
       "      <th>danceability</th>\n",
       "      <th>energy</th>\n",
       "      <th>key</th>\n",
       "      <th>loudness</th>\n",
       "      <th>mode</th>\n",
       "      <th>speechiness</th>\n",
       "      <th>acousticness</th>\n",
       "      <th>instrumentalness</th>\n",
       "      <th>liveness</th>\n",
       "      <th>valence</th>\n",
       "      <th>tempo</th>\n",
       "      <th>duration_ms</th>\n",
       "    </tr>\n",
       "  </thead>\n",
       "  <tbody>\n",
       "    <tr>\n",
       "      <th>0</th>\n",
       "      <td>0.707</td>\n",
       "      <td>0.681</td>\n",
       "      <td>0</td>\n",
       "      <td>-4.325</td>\n",
       "      <td>1</td>\n",
       "      <td>0.0668</td>\n",
       "      <td>0.06320</td>\n",
       "      <td>0.000005</td>\n",
       "      <td>0.0322</td>\n",
       "      <td>0.646</td>\n",
       "      <td>117.999</td>\n",
       "      <td>200455</td>\n",
       "    </tr>\n",
       "    <tr>\n",
       "      <th>1</th>\n",
       "      <td>0.644</td>\n",
       "      <td>0.735</td>\n",
       "      <td>8</td>\n",
       "      <td>-5.747</td>\n",
       "      <td>1</td>\n",
       "      <td>0.0391</td>\n",
       "      <td>0.05210</td>\n",
       "      <td>0.144000</td>\n",
       "      <td>0.1610</td>\n",
       "      <td>0.418</td>\n",
       "      <td>88.980</td>\n",
       "      <td>153947</td>\n",
       "    </tr>\n",
       "    <tr>\n",
       "      <th>2</th>\n",
       "      <td>0.637</td>\n",
       "      <td>0.643</td>\n",
       "      <td>4</td>\n",
       "      <td>-6.571</td>\n",
       "      <td>1</td>\n",
       "      <td>0.0519</td>\n",
       "      <td>0.13000</td>\n",
       "      <td>0.000002</td>\n",
       "      <td>0.1420</td>\n",
       "      <td>0.533</td>\n",
       "      <td>97.008</td>\n",
       "      <td>200690</td>\n",
       "    </tr>\n",
       "    <tr>\n",
       "      <th>3</th>\n",
       "      <td>0.817</td>\n",
       "      <td>0.440</td>\n",
       "      <td>10</td>\n",
       "      <td>-8.482</td>\n",
       "      <td>0</td>\n",
       "      <td>0.0734</td>\n",
       "      <td>0.06030</td>\n",
       "      <td>0.000001</td>\n",
       "      <td>0.3300</td>\n",
       "      <td>0.544</td>\n",
       "      <td>142.024</td>\n",
       "      <td>272113</td>\n",
       "    </tr>\n",
       "    <tr>\n",
       "      <th>4</th>\n",
       "      <td>0.783</td>\n",
       "      <td>0.592</td>\n",
       "      <td>11</td>\n",
       "      <td>-8.332</td>\n",
       "      <td>0</td>\n",
       "      <td>0.0331</td>\n",
       "      <td>0.43500</td>\n",
       "      <td>0.000004</td>\n",
       "      <td>0.3470</td>\n",
       "      <td>0.726</td>\n",
       "      <td>120.018</td>\n",
       "      <td>174253</td>\n",
       "    </tr>\n",
       "    <tr>\n",
       "      <th>...</th>\n",
       "      <td>...</td>\n",
       "      <td>...</td>\n",
       "      <td>...</td>\n",
       "      <td>...</td>\n",
       "      <td>...</td>\n",
       "      <td>...</td>\n",
       "      <td>...</td>\n",
       "      <td>...</td>\n",
       "      <td>...</td>\n",
       "      <td>...</td>\n",
       "      <td>...</td>\n",
       "      <td>...</td>\n",
       "    </tr>\n",
       "    <tr>\n",
       "      <th>95</th>\n",
       "      <td>0.726</td>\n",
       "      <td>0.698</td>\n",
       "      <td>5</td>\n",
       "      <td>-4.165</td>\n",
       "      <td>1</td>\n",
       "      <td>0.0431</td>\n",
       "      <td>0.04900</td>\n",
       "      <td>0.000000</td>\n",
       "      <td>0.3090</td>\n",
       "      <td>0.867</td>\n",
       "      <td>143.994</td>\n",
       "      <td>233478</td>\n",
       "    </tr>\n",
       "    <tr>\n",
       "      <th>96</th>\n",
       "      <td>0.509</td>\n",
       "      <td>0.637</td>\n",
       "      <td>4</td>\n",
       "      <td>-4.830</td>\n",
       "      <td>0</td>\n",
       "      <td>0.0471</td>\n",
       "      <td>0.07170</td>\n",
       "      <td>0.000011</td>\n",
       "      <td>0.0789</td>\n",
       "      <td>0.378</td>\n",
       "      <td>172.006</td>\n",
       "      <td>224000</td>\n",
       "    </tr>\n",
       "    <tr>\n",
       "      <th>97</th>\n",
       "      <td>0.696</td>\n",
       "      <td>0.559</td>\n",
       "      <td>7</td>\n",
       "      <td>-9.190</td>\n",
       "      <td>1</td>\n",
       "      <td>0.0693</td>\n",
       "      <td>0.06180</td>\n",
       "      <td>0.000056</td>\n",
       "      <td>0.0887</td>\n",
       "      <td>0.433</td>\n",
       "      <td>163.999</td>\n",
       "      <td>194166</td>\n",
       "    </tr>\n",
       "    <tr>\n",
       "      <th>98</th>\n",
       "      <td>0.609</td>\n",
       "      <td>0.692</td>\n",
       "      <td>1</td>\n",
       "      <td>-2.958</td>\n",
       "      <td>1</td>\n",
       "      <td>0.0259</td>\n",
       "      <td>0.01570</td>\n",
       "      <td>0.000000</td>\n",
       "      <td>0.0864</td>\n",
       "      <td>0.454</td>\n",
       "      <td>116.959</td>\n",
       "      <td>233720</td>\n",
       "    </tr>\n",
       "    <tr>\n",
       "      <th>99</th>\n",
       "      <td>0.474</td>\n",
       "      <td>0.921</td>\n",
       "      <td>9</td>\n",
       "      <td>-10.431</td>\n",
       "      <td>0</td>\n",
       "      <td>0.0457</td>\n",
       "      <td>0.00491</td>\n",
       "      <td>0.850000</td>\n",
       "      <td>0.4760</td>\n",
       "      <td>0.696</td>\n",
       "      <td>93.010</td>\n",
       "      <td>122339</td>\n",
       "    </tr>\n",
       "  </tbody>\n",
       "</table>\n",
       "<p>100 rows × 12 columns</p>\n",
       "</div>"
      ],
      "text/plain": [
       "    danceability  energy  key  loudness  mode  speechiness  acousticness   \n",
       "0          0.707   0.681    0    -4.325     1       0.0668       0.06320  \\\n",
       "1          0.644   0.735    8    -5.747     1       0.0391       0.05210   \n",
       "2          0.637   0.643    4    -6.571     1       0.0519       0.13000   \n",
       "3          0.817   0.440   10    -8.482     0       0.0734       0.06030   \n",
       "4          0.783   0.592   11    -8.332     0       0.0331       0.43500   \n",
       "..           ...     ...  ...       ...   ...          ...           ...   \n",
       "95         0.726   0.698    5    -4.165     1       0.0431       0.04900   \n",
       "96         0.509   0.637    4    -4.830     0       0.0471       0.07170   \n",
       "97         0.696   0.559    7    -9.190     1       0.0693       0.06180   \n",
       "98         0.609   0.692    1    -2.958     1       0.0259       0.01570   \n",
       "99         0.474   0.921    9   -10.431     0       0.0457       0.00491   \n",
       "\n",
       "    instrumentalness  liveness  valence    tempo  duration_ms  \n",
       "0           0.000005    0.0322    0.646  117.999       200455  \n",
       "1           0.144000    0.1610    0.418   88.980       153947  \n",
       "2           0.000002    0.1420    0.533   97.008       200690  \n",
       "3           0.000001    0.3300    0.544  142.024       272113  \n",
       "4           0.000004    0.3470    0.726  120.018       174253  \n",
       "..               ...       ...      ...      ...          ...  \n",
       "95          0.000000    0.3090    0.867  143.994       233478  \n",
       "96          0.000011    0.0789    0.378  172.006       224000  \n",
       "97          0.000056    0.0887    0.433  163.999       194166  \n",
       "98          0.000000    0.0864    0.454  116.959       233720  \n",
       "99          0.850000    0.4760    0.696   93.010       122339  \n",
       "\n",
       "[100 rows x 12 columns]"
      ]
     },
     "execution_count": 490,
     "metadata": {},
     "output_type": "execute_result"
    }
   ],
   "source": [
    "y = ML_df[\"genre_name\"]\n",
    "X = ML_df.drop(\"genre_name\", axis=1)\n",
    "X.head(100)"
   ]
  },
  {
   "cell_type": "code",
   "execution_count": 491,
   "metadata": {
    "colab": {
     "base_uri": "https://localhost:8080/",
     "height": 406
    },
    "colab_type": "code",
    "id": "hs54HyZuxjMG",
    "outputId": "df9d0a3b-5881-4f71-a814-d040f14de21b"
   },
   "outputs": [
    {
     "data": {
      "text/html": [
       "<div>\n",
       "<style scoped>\n",
       "    .dataframe tbody tr th:only-of-type {\n",
       "        vertical-align: middle;\n",
       "    }\n",
       "\n",
       "    .dataframe tbody tr th {\n",
       "        vertical-align: top;\n",
       "    }\n",
       "\n",
       "    .dataframe thead th {\n",
       "        text-align: right;\n",
       "    }\n",
       "</style>\n",
       "<table border=\"1\" class=\"dataframe\">\n",
       "  <thead>\n",
       "    <tr style=\"text-align: right;\">\n",
       "      <th></th>\n",
       "      <th>danceability</th>\n",
       "      <th>energy</th>\n",
       "      <th>key</th>\n",
       "      <th>loudness</th>\n",
       "      <th>mode</th>\n",
       "      <th>speechiness</th>\n",
       "      <th>acousticness</th>\n",
       "      <th>instrumentalness</th>\n",
       "      <th>liveness</th>\n",
       "      <th>valence</th>\n",
       "      <th>tempo</th>\n",
       "      <th>duration_ms</th>\n",
       "    </tr>\n",
       "  </thead>\n",
       "  <tbody>\n",
       "    <tr>\n",
       "      <th>936</th>\n",
       "      <td>0.760</td>\n",
       "      <td>0.479</td>\n",
       "      <td>2</td>\n",
       "      <td>-5.574</td>\n",
       "      <td>1</td>\n",
       "      <td>0.0466</td>\n",
       "      <td>0.55600</td>\n",
       "      <td>0.000000</td>\n",
       "      <td>0.0703</td>\n",
       "      <td>0.9130</td>\n",
       "      <td>89.911</td>\n",
       "      <td>158040</td>\n",
       "    </tr>\n",
       "    <tr>\n",
       "      <th>1060</th>\n",
       "      <td>0.633</td>\n",
       "      <td>0.548</td>\n",
       "      <td>5</td>\n",
       "      <td>-5.634</td>\n",
       "      <td>0</td>\n",
       "      <td>0.0467</td>\n",
       "      <td>0.26900</td>\n",
       "      <td>0.000000</td>\n",
       "      <td>0.1600</td>\n",
       "      <td>0.3500</td>\n",
       "      <td>160.011</td>\n",
       "      <td>192000</td>\n",
       "    </tr>\n",
       "    <tr>\n",
       "      <th>111</th>\n",
       "      <td>0.553</td>\n",
       "      <td>0.587</td>\n",
       "      <td>5</td>\n",
       "      <td>-6.829</td>\n",
       "      <td>1</td>\n",
       "      <td>0.0277</td>\n",
       "      <td>0.34500</td>\n",
       "      <td>0.100000</td>\n",
       "      <td>0.2560</td>\n",
       "      <td>0.3460</td>\n",
       "      <td>90.018</td>\n",
       "      <td>242293</td>\n",
       "    </tr>\n",
       "    <tr>\n",
       "      <th>939</th>\n",
       "      <td>0.901</td>\n",
       "      <td>0.464</td>\n",
       "      <td>5</td>\n",
       "      <td>-9.789</td>\n",
       "      <td>0</td>\n",
       "      <td>0.0645</td>\n",
       "      <td>0.36800</td>\n",
       "      <td>0.000017</td>\n",
       "      <td>0.2380</td>\n",
       "      <td>0.6380</td>\n",
       "      <td>109.004</td>\n",
       "      <td>203267</td>\n",
       "    </tr>\n",
       "    <tr>\n",
       "      <th>613</th>\n",
       "      <td>0.470</td>\n",
       "      <td>0.809</td>\n",
       "      <td>8</td>\n",
       "      <td>-6.740</td>\n",
       "      <td>1</td>\n",
       "      <td>0.0495</td>\n",
       "      <td>0.27200</td>\n",
       "      <td>0.006710</td>\n",
       "      <td>0.0491</td>\n",
       "      <td>0.4900</td>\n",
       "      <td>151.836</td>\n",
       "      <td>363240</td>\n",
       "    </tr>\n",
       "    <tr>\n",
       "      <th>...</th>\n",
       "      <td>...</td>\n",
       "      <td>...</td>\n",
       "      <td>...</td>\n",
       "      <td>...</td>\n",
       "      <td>...</td>\n",
       "      <td>...</td>\n",
       "      <td>...</td>\n",
       "      <td>...</td>\n",
       "      <td>...</td>\n",
       "      <td>...</td>\n",
       "      <td>...</td>\n",
       "      <td>...</td>\n",
       "    </tr>\n",
       "    <tr>\n",
       "      <th>342</th>\n",
       "      <td>0.720</td>\n",
       "      <td>0.978</td>\n",
       "      <td>9</td>\n",
       "      <td>-4.495</td>\n",
       "      <td>0</td>\n",
       "      <td>0.0595</td>\n",
       "      <td>0.00147</td>\n",
       "      <td>0.819000</td>\n",
       "      <td>0.0283</td>\n",
       "      <td>0.1960</td>\n",
       "      <td>127.984</td>\n",
       "      <td>210000</td>\n",
       "    </tr>\n",
       "    <tr>\n",
       "      <th>716</th>\n",
       "      <td>0.451</td>\n",
       "      <td>0.962</td>\n",
       "      <td>0</td>\n",
       "      <td>-3.947</td>\n",
       "      <td>1</td>\n",
       "      <td>0.0734</td>\n",
       "      <td>0.01880</td>\n",
       "      <td>0.000003</td>\n",
       "      <td>0.2770</td>\n",
       "      <td>0.3770</td>\n",
       "      <td>131.435</td>\n",
       "      <td>323707</td>\n",
       "    </tr>\n",
       "    <tr>\n",
       "      <th>1610</th>\n",
       "      <td>0.139</td>\n",
       "      <td>0.331</td>\n",
       "      <td>4</td>\n",
       "      <td>-13.226</td>\n",
       "      <td>0</td>\n",
       "      <td>0.0372</td>\n",
       "      <td>0.56900</td>\n",
       "      <td>0.876000</td>\n",
       "      <td>0.0959</td>\n",
       "      <td>0.0357</td>\n",
       "      <td>67.393</td>\n",
       "      <td>170333</td>\n",
       "    </tr>\n",
       "    <tr>\n",
       "      <th>1581</th>\n",
       "      <td>0.380</td>\n",
       "      <td>0.835</td>\n",
       "      <td>11</td>\n",
       "      <td>-9.627</td>\n",
       "      <td>0</td>\n",
       "      <td>0.0296</td>\n",
       "      <td>0.19200</td>\n",
       "      <td>0.837000</td>\n",
       "      <td>0.0965</td>\n",
       "      <td>0.7430</td>\n",
       "      <td>133.849</td>\n",
       "      <td>300000</td>\n",
       "    </tr>\n",
       "    <tr>\n",
       "      <th>464</th>\n",
       "      <td>0.528</td>\n",
       "      <td>0.782</td>\n",
       "      <td>4</td>\n",
       "      <td>-6.170</td>\n",
       "      <td>0</td>\n",
       "      <td>0.0314</td>\n",
       "      <td>0.00928</td>\n",
       "      <td>0.000022</td>\n",
       "      <td>0.1790</td>\n",
       "      <td>0.7190</td>\n",
       "      <td>120.311</td>\n",
       "      <td>276508</td>\n",
       "    </tr>\n",
       "  </tbody>\n",
       "</table>\n",
       "<p>1377 rows × 12 columns</p>\n",
       "</div>"
      ],
      "text/plain": [
       "      danceability  energy  key  loudness  mode  speechiness  acousticness   \n",
       "936          0.760   0.479    2    -5.574     1       0.0466       0.55600  \\\n",
       "1060         0.633   0.548    5    -5.634     0       0.0467       0.26900   \n",
       "111          0.553   0.587    5    -6.829     1       0.0277       0.34500   \n",
       "939          0.901   0.464    5    -9.789     0       0.0645       0.36800   \n",
       "613          0.470   0.809    8    -6.740     1       0.0495       0.27200   \n",
       "...            ...     ...  ...       ...   ...          ...           ...   \n",
       "342          0.720   0.978    9    -4.495     0       0.0595       0.00147   \n",
       "716          0.451   0.962    0    -3.947     1       0.0734       0.01880   \n",
       "1610         0.139   0.331    4   -13.226     0       0.0372       0.56900   \n",
       "1581         0.380   0.835   11    -9.627     0       0.0296       0.19200   \n",
       "464          0.528   0.782    4    -6.170     0       0.0314       0.00928   \n",
       "\n",
       "      instrumentalness  liveness  valence    tempo  duration_ms  \n",
       "936           0.000000    0.0703   0.9130   89.911       158040  \n",
       "1060          0.000000    0.1600   0.3500  160.011       192000  \n",
       "111           0.100000    0.2560   0.3460   90.018       242293  \n",
       "939           0.000017    0.2380   0.6380  109.004       203267  \n",
       "613           0.006710    0.0491   0.4900  151.836       363240  \n",
       "...                ...       ...      ...      ...          ...  \n",
       "342           0.819000    0.0283   0.1960  127.984       210000  \n",
       "716           0.000003    0.2770   0.3770  131.435       323707  \n",
       "1610          0.876000    0.0959   0.0357   67.393       170333  \n",
       "1581          0.837000    0.0965   0.7430  133.849       300000  \n",
       "464           0.000022    0.1790   0.7190  120.311       276508  \n",
       "\n",
       "[1377 rows x 12 columns]"
      ]
     },
     "execution_count": 491,
     "metadata": {},
     "output_type": "execute_result"
    }
   ],
   "source": [
    "from sklearn.model_selection import train_test_split\n",
    "X_train, X_test, y_train, y_test = train_test_split(X, y)\n",
    "X_train"
   ]
  },
  {
   "cell_type": "markdown",
   "metadata": {
    "colab_type": "text",
    "id": "ELupJQM4d0DU"
   },
   "source": [
    "### Baseline Accuracy\n"
   ]
  },
  {
   "cell_type": "code",
   "execution_count": 492,
   "metadata": {
    "colab": {},
    "colab_type": "code",
    "id": "PtdXpQfycXgK"
   },
   "outputs": [],
   "source": [
    "from sklearn.dummy import DummyClassifier\n",
    "\n",
    "dummy_clf = DummyClassifier()"
   ]
  },
  {
   "cell_type": "code",
   "execution_count": 493,
   "metadata": {
    "colab": {
     "base_uri": "https://localhost:8080/",
     "height": 90
    },
    "colab_type": "code",
    "id": "DHG-P_4ycXpK",
    "outputId": "e5124270-9a98-412e-9aa5-824c331cb0e9"
   },
   "outputs": [
    {
     "data": {
      "text/html": [
       "<style>#sk-container-id-17 {color: black;background-color: white;}#sk-container-id-17 pre{padding: 0;}#sk-container-id-17 div.sk-toggleable {background-color: white;}#sk-container-id-17 label.sk-toggleable__label {cursor: pointer;display: block;width: 100%;margin-bottom: 0;padding: 0.3em;box-sizing: border-box;text-align: center;}#sk-container-id-17 label.sk-toggleable__label-arrow:before {content: \"▸\";float: left;margin-right: 0.25em;color: #696969;}#sk-container-id-17 label.sk-toggleable__label-arrow:hover:before {color: black;}#sk-container-id-17 div.sk-estimator:hover label.sk-toggleable__label-arrow:before {color: black;}#sk-container-id-17 div.sk-toggleable__content {max-height: 0;max-width: 0;overflow: hidden;text-align: left;background-color: #f0f8ff;}#sk-container-id-17 div.sk-toggleable__content pre {margin: 0.2em;color: black;border-radius: 0.25em;background-color: #f0f8ff;}#sk-container-id-17 input.sk-toggleable__control:checked~div.sk-toggleable__content {max-height: 200px;max-width: 100%;overflow: auto;}#sk-container-id-17 input.sk-toggleable__control:checked~label.sk-toggleable__label-arrow:before {content: \"▾\";}#sk-container-id-17 div.sk-estimator input.sk-toggleable__control:checked~label.sk-toggleable__label {background-color: #d4ebff;}#sk-container-id-17 div.sk-label input.sk-toggleable__control:checked~label.sk-toggleable__label {background-color: #d4ebff;}#sk-container-id-17 input.sk-hidden--visually {border: 0;clip: rect(1px 1px 1px 1px);clip: rect(1px, 1px, 1px, 1px);height: 1px;margin: -1px;overflow: hidden;padding: 0;position: absolute;width: 1px;}#sk-container-id-17 div.sk-estimator {font-family: monospace;background-color: #f0f8ff;border: 1px dotted black;border-radius: 0.25em;box-sizing: border-box;margin-bottom: 0.5em;}#sk-container-id-17 div.sk-estimator:hover {background-color: #d4ebff;}#sk-container-id-17 div.sk-parallel-item::after {content: \"\";width: 100%;border-bottom: 1px solid gray;flex-grow: 1;}#sk-container-id-17 div.sk-label:hover label.sk-toggleable__label {background-color: #d4ebff;}#sk-container-id-17 div.sk-serial::before {content: \"\";position: absolute;border-left: 1px solid gray;box-sizing: border-box;top: 0;bottom: 0;left: 50%;z-index: 0;}#sk-container-id-17 div.sk-serial {display: flex;flex-direction: column;align-items: center;background-color: white;padding-right: 0.2em;padding-left: 0.2em;position: relative;}#sk-container-id-17 div.sk-item {position: relative;z-index: 1;}#sk-container-id-17 div.sk-parallel {display: flex;align-items: stretch;justify-content: center;background-color: white;position: relative;}#sk-container-id-17 div.sk-item::before, #sk-container-id-17 div.sk-parallel-item::before {content: \"\";position: absolute;border-left: 1px solid gray;box-sizing: border-box;top: 0;bottom: 0;left: 50%;z-index: -1;}#sk-container-id-17 div.sk-parallel-item {display: flex;flex-direction: column;z-index: 1;position: relative;background-color: white;}#sk-container-id-17 div.sk-parallel-item:first-child::after {align-self: flex-end;width: 50%;}#sk-container-id-17 div.sk-parallel-item:last-child::after {align-self: flex-start;width: 50%;}#sk-container-id-17 div.sk-parallel-item:only-child::after {width: 0;}#sk-container-id-17 div.sk-dashed-wrapped {border: 1px dashed gray;margin: 0 0.4em 0.5em 0.4em;box-sizing: border-box;padding-bottom: 0.4em;background-color: white;}#sk-container-id-17 div.sk-label label {font-family: monospace;font-weight: bold;display: inline-block;line-height: 1.2em;}#sk-container-id-17 div.sk-label-container {text-align: center;}#sk-container-id-17 div.sk-container {/* jupyter's `normalize.less` sets `[hidden] { display: none; }` but bootstrap.min.css set `[hidden] { display: none !important; }` so we also need the `!important` here to be able to override the default hidden behavior on the sphinx rendered scikit-learn.org. See: https://github.com/scikit-learn/scikit-learn/issues/21755 */display: inline-block !important;position: relative;}#sk-container-id-17 div.sk-text-repr-fallback {display: none;}</style><div id=\"sk-container-id-17\" class=\"sk-top-container\"><div class=\"sk-text-repr-fallback\"><pre>DummyClassifier()</pre><b>In a Jupyter environment, please rerun this cell to show the HTML representation or trust the notebook. <br />On GitHub, the HTML representation is unable to render, please try loading this page with nbviewer.org.</b></div><div class=\"sk-container\" hidden><div class=\"sk-item\"><div class=\"sk-estimator sk-toggleable\"><input class=\"sk-toggleable__control sk-hidden--visually\" id=\"sk-estimator-id-17\" type=\"checkbox\" checked><label for=\"sk-estimator-id-17\" class=\"sk-toggleable__label sk-toggleable__label-arrow\">DummyClassifier</label><div class=\"sk-toggleable__content\"><pre>DummyClassifier()</pre></div></div></div></div></div>"
      ],
      "text/plain": [
       "DummyClassifier()"
      ]
     },
     "execution_count": 493,
     "metadata": {},
     "output_type": "execute_result"
    }
   ],
   "source": [
    "dummy_clf.fit(X_train, y_train)"
   ]
  },
  {
   "cell_type": "code",
   "execution_count": 495,
   "metadata": {
    "colab": {
     "base_uri": "https://localhost:8080/",
     "height": 34
    },
    "colab_type": "code",
    "id": "aSSVyvG4cXW5",
    "outputId": "46dc6942-1be8-4d72-f44d-5ffd248a7c75"
   },
   "outputs": [],
   "source": [
    "y_pred = dummy_clf.predict(X_test)\n",
    "# print(y_pred)\n"
   ]
  },
  {
   "cell_type": "code",
   "execution_count": 496,
   "metadata": {
    "colab": {
     "base_uri": "https://localhost:8080/",
     "height": 34
    },
    "colab_type": "code",
    "id": "14zFL4tXciJ2",
    "outputId": "61a3a31c-bc01-48ca-e55d-d3d9663f394a"
   },
   "outputs": [
    {
     "name": "stdout",
     "output_type": "stream",
     "text": [
      "0.13695652173913042\n"
     ]
    }
   ],
   "source": [
    "dummy_score = dummy_clf.score(X_test, y_test)\n",
    "print(dummy_score)"
   ]
  },
  {
   "cell_type": "code",
   "execution_count": 497,
   "metadata": {
    "colab": {
     "base_uri": "https://localhost:8080/",
     "height": 34
    },
    "colab_type": "code",
    "id": "SZ82ExY5wTn1",
    "outputId": "67f0d562-8fad-439b-e62f-8d5c8b4454c1"
   },
   "outputs": [
    {
     "data": {
      "text/html": [
       "<style>#sk-container-id-18 {color: black;background-color: white;}#sk-container-id-18 pre{padding: 0;}#sk-container-id-18 div.sk-toggleable {background-color: white;}#sk-container-id-18 label.sk-toggleable__label {cursor: pointer;display: block;width: 100%;margin-bottom: 0;padding: 0.3em;box-sizing: border-box;text-align: center;}#sk-container-id-18 label.sk-toggleable__label-arrow:before {content: \"▸\";float: left;margin-right: 0.25em;color: #696969;}#sk-container-id-18 label.sk-toggleable__label-arrow:hover:before {color: black;}#sk-container-id-18 div.sk-estimator:hover label.sk-toggleable__label-arrow:before {color: black;}#sk-container-id-18 div.sk-toggleable__content {max-height: 0;max-width: 0;overflow: hidden;text-align: left;background-color: #f0f8ff;}#sk-container-id-18 div.sk-toggleable__content pre {margin: 0.2em;color: black;border-radius: 0.25em;background-color: #f0f8ff;}#sk-container-id-18 input.sk-toggleable__control:checked~div.sk-toggleable__content {max-height: 200px;max-width: 100%;overflow: auto;}#sk-container-id-18 input.sk-toggleable__control:checked~label.sk-toggleable__label-arrow:before {content: \"▾\";}#sk-container-id-18 div.sk-estimator input.sk-toggleable__control:checked~label.sk-toggleable__label {background-color: #d4ebff;}#sk-container-id-18 div.sk-label input.sk-toggleable__control:checked~label.sk-toggleable__label {background-color: #d4ebff;}#sk-container-id-18 input.sk-hidden--visually {border: 0;clip: rect(1px 1px 1px 1px);clip: rect(1px, 1px, 1px, 1px);height: 1px;margin: -1px;overflow: hidden;padding: 0;position: absolute;width: 1px;}#sk-container-id-18 div.sk-estimator {font-family: monospace;background-color: #f0f8ff;border: 1px dotted black;border-radius: 0.25em;box-sizing: border-box;margin-bottom: 0.5em;}#sk-container-id-18 div.sk-estimator:hover {background-color: #d4ebff;}#sk-container-id-18 div.sk-parallel-item::after {content: \"\";width: 100%;border-bottom: 1px solid gray;flex-grow: 1;}#sk-container-id-18 div.sk-label:hover label.sk-toggleable__label {background-color: #d4ebff;}#sk-container-id-18 div.sk-serial::before {content: \"\";position: absolute;border-left: 1px solid gray;box-sizing: border-box;top: 0;bottom: 0;left: 50%;z-index: 0;}#sk-container-id-18 div.sk-serial {display: flex;flex-direction: column;align-items: center;background-color: white;padding-right: 0.2em;padding-left: 0.2em;position: relative;}#sk-container-id-18 div.sk-item {position: relative;z-index: 1;}#sk-container-id-18 div.sk-parallel {display: flex;align-items: stretch;justify-content: center;background-color: white;position: relative;}#sk-container-id-18 div.sk-item::before, #sk-container-id-18 div.sk-parallel-item::before {content: \"\";position: absolute;border-left: 1px solid gray;box-sizing: border-box;top: 0;bottom: 0;left: 50%;z-index: -1;}#sk-container-id-18 div.sk-parallel-item {display: flex;flex-direction: column;z-index: 1;position: relative;background-color: white;}#sk-container-id-18 div.sk-parallel-item:first-child::after {align-self: flex-end;width: 50%;}#sk-container-id-18 div.sk-parallel-item:last-child::after {align-self: flex-start;width: 50%;}#sk-container-id-18 div.sk-parallel-item:only-child::after {width: 0;}#sk-container-id-18 div.sk-dashed-wrapped {border: 1px dashed gray;margin: 0 0.4em 0.5em 0.4em;box-sizing: border-box;padding-bottom: 0.4em;background-color: white;}#sk-container-id-18 div.sk-label label {font-family: monospace;font-weight: bold;display: inline-block;line-height: 1.2em;}#sk-container-id-18 div.sk-label-container {text-align: center;}#sk-container-id-18 div.sk-container {/* jupyter's `normalize.less` sets `[hidden] { display: none; }` but bootstrap.min.css set `[hidden] { display: none !important; }` so we also need the `!important` here to be able to override the default hidden behavior on the sphinx rendered scikit-learn.org. See: https://github.com/scikit-learn/scikit-learn/issues/21755 */display: inline-block !important;position: relative;}#sk-container-id-18 div.sk-text-repr-fallback {display: none;}</style><div id=\"sk-container-id-18\" class=\"sk-top-container\"><div class=\"sk-text-repr-fallback\"><pre>StandardScaler()</pre><b>In a Jupyter environment, please rerun this cell to show the HTML representation or trust the notebook. <br />On GitHub, the HTML representation is unable to render, please try loading this page with nbviewer.org.</b></div><div class=\"sk-container\" hidden><div class=\"sk-item\"><div class=\"sk-estimator sk-toggleable\"><input class=\"sk-toggleable__control sk-hidden--visually\" id=\"sk-estimator-id-18\" type=\"checkbox\" checked><label for=\"sk-estimator-id-18\" class=\"sk-toggleable__label sk-toggleable__label-arrow\">StandardScaler</label><div class=\"sk-toggleable__content\"><pre>StandardScaler()</pre></div></div></div></div></div>"
      ],
      "text/plain": [
       "StandardScaler()"
      ]
     },
     "execution_count": 497,
     "metadata": {},
     "output_type": "execute_result"
    }
   ],
   "source": [
    "from sklearn.preprocessing import StandardScaler\n",
    "\n",
    "# Creating a StandardScater model and fit it to the training data\n",
    "X_scaler = StandardScaler().fit(X_train)\n",
    "X_scaler"
   ]
  },
  {
   "cell_type": "code",
   "execution_count": 498,
   "metadata": {
    "colab": {
     "base_uri": "https://localhost:8080/",
     "height": 426
    },
    "colab_type": "code",
    "id": "ajL-L9qKXooa",
    "outputId": "bf27a209-68c1-48f1-c1c7-008ac2a87e28"
   },
   "outputs": [
    {
     "data": {
      "text/html": [
       "<div>\n",
       "<style scoped>\n",
       "    .dataframe tbody tr th:only-of-type {\n",
       "        vertical-align: middle;\n",
       "    }\n",
       "\n",
       "    .dataframe tbody tr th {\n",
       "        vertical-align: top;\n",
       "    }\n",
       "\n",
       "    .dataframe thead th {\n",
       "        text-align: right;\n",
       "    }\n",
       "</style>\n",
       "<table border=\"1\" class=\"dataframe\">\n",
       "  <thead>\n",
       "    <tr style=\"text-align: right;\">\n",
       "      <th></th>\n",
       "      <th>danceability</th>\n",
       "      <th>energy</th>\n",
       "      <th>key</th>\n",
       "      <th>loudness</th>\n",
       "      <th>mode</th>\n",
       "      <th>speechiness</th>\n",
       "      <th>acousticness</th>\n",
       "      <th>instrumentalness</th>\n",
       "      <th>liveness</th>\n",
       "      <th>valence</th>\n",
       "      <th>tempo</th>\n",
       "      <th>duration_ms</th>\n",
       "    </tr>\n",
       "  </thead>\n",
       "  <tbody>\n",
       "    <tr>\n",
       "      <th>20</th>\n",
       "      <td>0.698</td>\n",
       "      <td>0.546</td>\n",
       "      <td>0</td>\n",
       "      <td>-7.234</td>\n",
       "      <td>0</td>\n",
       "      <td>0.0559</td>\n",
       "      <td>0.42500</td>\n",
       "      <td>0.003140</td>\n",
       "      <td>0.160</td>\n",
       "      <td>0.335</td>\n",
       "      <td>145.044</td>\n",
       "      <td>181080</td>\n",
       "    </tr>\n",
       "    <tr>\n",
       "      <th>229</th>\n",
       "      <td>0.575</td>\n",
       "      <td>0.568</td>\n",
       "      <td>9</td>\n",
       "      <td>-5.509</td>\n",
       "      <td>0</td>\n",
       "      <td>0.0300</td>\n",
       "      <td>0.04840</td>\n",
       "      <td>0.000417</td>\n",
       "      <td>0.286</td>\n",
       "      <td>0.370</td>\n",
       "      <td>93.986</td>\n",
       "      <td>206280</td>\n",
       "    </tr>\n",
       "    <tr>\n",
       "      <th>1003</th>\n",
       "      <td>0.825</td>\n",
       "      <td>0.572</td>\n",
       "      <td>6</td>\n",
       "      <td>-6.067</td>\n",
       "      <td>0</td>\n",
       "      <td>0.0864</td>\n",
       "      <td>0.00790</td>\n",
       "      <td>0.000000</td>\n",
       "      <td>0.113</td>\n",
       "      <td>0.568</td>\n",
       "      <td>141.991</td>\n",
       "      <td>175954</td>\n",
       "    </tr>\n",
       "    <tr>\n",
       "      <th>436</th>\n",
       "      <td>0.774</td>\n",
       "      <td>0.794</td>\n",
       "      <td>5</td>\n",
       "      <td>-4.446</td>\n",
       "      <td>0</td>\n",
       "      <td>0.0358</td>\n",
       "      <td>0.00824</td>\n",
       "      <td>0.003170</td>\n",
       "      <td>0.080</td>\n",
       "      <td>0.724</td>\n",
       "      <td>120.002</td>\n",
       "      <td>347880</td>\n",
       "    </tr>\n",
       "    <tr>\n",
       "      <th>865</th>\n",
       "      <td>0.684</td>\n",
       "      <td>0.671</td>\n",
       "      <td>7</td>\n",
       "      <td>-4.392</td>\n",
       "      <td>0</td>\n",
       "      <td>0.0464</td>\n",
       "      <td>0.18900</td>\n",
       "      <td>0.000024</td>\n",
       "      <td>0.122</td>\n",
       "      <td>0.156</td>\n",
       "      <td>88.048</td>\n",
       "      <td>199920</td>\n",
       "    </tr>\n",
       "    <tr>\n",
       "      <th>...</th>\n",
       "      <td>...</td>\n",
       "      <td>...</td>\n",
       "      <td>...</td>\n",
       "      <td>...</td>\n",
       "      <td>...</td>\n",
       "      <td>...</td>\n",
       "      <td>...</td>\n",
       "      <td>...</td>\n",
       "      <td>...</td>\n",
       "      <td>...</td>\n",
       "      <td>...</td>\n",
       "      <td>...</td>\n",
       "    </tr>\n",
       "    <tr>\n",
       "      <th>7</th>\n",
       "      <td>0.559</td>\n",
       "      <td>0.551</td>\n",
       "      <td>5</td>\n",
       "      <td>-7.231</td>\n",
       "      <td>1</td>\n",
       "      <td>0.1320</td>\n",
       "      <td>0.14100</td>\n",
       "      <td>0.000000</td>\n",
       "      <td>0.110</td>\n",
       "      <td>0.392</td>\n",
       "      <td>143.008</td>\n",
       "      <td>201800</td>\n",
       "    </tr>\n",
       "    <tr>\n",
       "      <th>838</th>\n",
       "      <td>0.558</td>\n",
       "      <td>0.559</td>\n",
       "      <td>6</td>\n",
       "      <td>-9.222</td>\n",
       "      <td>1</td>\n",
       "      <td>0.0959</td>\n",
       "      <td>0.37100</td>\n",
       "      <td>0.000007</td>\n",
       "      <td>0.109</td>\n",
       "      <td>0.620</td>\n",
       "      <td>78.558</td>\n",
       "      <td>180387</td>\n",
       "    </tr>\n",
       "    <tr>\n",
       "      <th>1652</th>\n",
       "      <td>0.702</td>\n",
       "      <td>0.915</td>\n",
       "      <td>3</td>\n",
       "      <td>-6.187</td>\n",
       "      <td>0</td>\n",
       "      <td>0.2010</td>\n",
       "      <td>0.03750</td>\n",
       "      <td>0.000002</td>\n",
       "      <td>0.059</td>\n",
       "      <td>0.722</td>\n",
       "      <td>90.022</td>\n",
       "      <td>176592</td>\n",
       "    </tr>\n",
       "    <tr>\n",
       "      <th>1537</th>\n",
       "      <td>0.661</td>\n",
       "      <td>0.633</td>\n",
       "      <td>7</td>\n",
       "      <td>-5.986</td>\n",
       "      <td>1</td>\n",
       "      <td>0.0348</td>\n",
       "      <td>0.03800</td>\n",
       "      <td>0.000003</td>\n",
       "      <td>0.124</td>\n",
       "      <td>0.613</td>\n",
       "      <td>81.984</td>\n",
       "      <td>209760</td>\n",
       "    </tr>\n",
       "    <tr>\n",
       "      <th>1136</th>\n",
       "      <td>0.625</td>\n",
       "      <td>0.576</td>\n",
       "      <td>11</td>\n",
       "      <td>-5.693</td>\n",
       "      <td>0</td>\n",
       "      <td>0.1750</td>\n",
       "      <td>0.05430</td>\n",
       "      <td>0.000041</td>\n",
       "      <td>0.187</td>\n",
       "      <td>0.235</td>\n",
       "      <td>179.063</td>\n",
       "      <td>193147</td>\n",
       "    </tr>\n",
       "  </tbody>\n",
       "</table>\n",
       "<p>460 rows × 12 columns</p>\n",
       "</div>"
      ],
      "text/plain": [
       "      danceability  energy  key  loudness  mode  speechiness  acousticness   \n",
       "20           0.698   0.546    0    -7.234     0       0.0559       0.42500  \\\n",
       "229          0.575   0.568    9    -5.509     0       0.0300       0.04840   \n",
       "1003         0.825   0.572    6    -6.067     0       0.0864       0.00790   \n",
       "436          0.774   0.794    5    -4.446     0       0.0358       0.00824   \n",
       "865          0.684   0.671    7    -4.392     0       0.0464       0.18900   \n",
       "...            ...     ...  ...       ...   ...          ...           ...   \n",
       "7            0.559   0.551    5    -7.231     1       0.1320       0.14100   \n",
       "838          0.558   0.559    6    -9.222     1       0.0959       0.37100   \n",
       "1652         0.702   0.915    3    -6.187     0       0.2010       0.03750   \n",
       "1537         0.661   0.633    7    -5.986     1       0.0348       0.03800   \n",
       "1136         0.625   0.576   11    -5.693     0       0.1750       0.05430   \n",
       "\n",
       "      instrumentalness  liveness  valence    tempo  duration_ms  \n",
       "20            0.003140     0.160    0.335  145.044       181080  \n",
       "229           0.000417     0.286    0.370   93.986       206280  \n",
       "1003          0.000000     0.113    0.568  141.991       175954  \n",
       "436           0.003170     0.080    0.724  120.002       347880  \n",
       "865           0.000024     0.122    0.156   88.048       199920  \n",
       "...                ...       ...      ...      ...          ...  \n",
       "7             0.000000     0.110    0.392  143.008       201800  \n",
       "838           0.000007     0.109    0.620   78.558       180387  \n",
       "1652          0.000002     0.059    0.722   90.022       176592  \n",
       "1537          0.000003     0.124    0.613   81.984       209760  \n",
       "1136          0.000041     0.187    0.235  179.063       193147  \n",
       "\n",
       "[460 rows x 12 columns]"
      ]
     },
     "execution_count": 498,
     "metadata": {},
     "output_type": "execute_result"
    }
   ],
   "source": [
    "X_test\n"
   ]
  },
  {
   "cell_type": "code",
   "execution_count": 499,
   "metadata": {
    "colab": {
     "base_uri": "https://localhost:8080/",
     "height": 70
    },
    "colab_type": "code",
    "id": "p9D36CfmwSRf",
    "outputId": "16f6c012-5905-49ea-e337-a83660db86d8"
   },
   "outputs": [
    {
     "data": {
      "text/plain": [
       "array([-0.86270755,  1.07231145,  1.33160906,  0.81931649, -1.38692714,\n",
       "       -0.55912542, -0.68932919, -0.07061185, -0.38835896, -0.09233465,\n",
       "       -1.25278035,  0.13690747])"
      ]
     },
     "execution_count": 499,
     "metadata": {},
     "output_type": "execute_result"
    }
   ],
   "source": [
    "\n",
    "X_train_scaled = X_scaler.transform(X_train)\n",
    "X_test_scaled = X_scaler.transform(X_test)\n",
    "X_test_scaled[11]"
   ]
  },
  {
   "cell_type": "code",
   "execution_count": null,
   "metadata": {
    "colab": {
     "base_uri": "https://localhost:8080/",
     "height": 545
    },
    "colab_type": "code",
    "id": "lLaaHxlgxnZ6",
    "outputId": "56280f7c-ef38-4d01-dc1c-4fd199c42662"
   },
   "outputs": [],
   "source": []
  },
  {
   "cell_type": "code",
   "execution_count": 501,
   "metadata": {},
   "outputs": [
    {
     "name": "stdout",
     "output_type": "stream",
     "text": [
      "k: 1, Train/Test Accuracy: 1.000/0.183, 1.183\n",
      "k: 3, Train/Test Accuracy: 0.500/0.159, 0.658\n",
      "k: 5, Train/Test Accuracy: 0.426/0.200, 0.626\n",
      "k: 7, Train/Test Accuracy: 0.386/0.222, 0.607\n",
      "k: 9, Train/Test Accuracy: 0.363/0.222, 0.585\n",
      "k: 11, Train/Test Accuracy: 0.351/0.222, 0.573\n",
      "k: 13, Train/Test Accuracy: 0.344/0.217, 0.562\n",
      "k: 15, Train/Test Accuracy: 0.335/0.237, 0.572\n",
      "k: 17, Train/Test Accuracy: 0.330/0.228, 0.558\n",
      "k: 19, Train/Test Accuracy: 0.325/0.222, 0.546\n",
      "k: 21, Train/Test Accuracy: 0.314/0.200, 0.514\n",
      "k: 23, Train/Test Accuracy: 0.300/0.226, 0.526\n",
      "k: 25, Train/Test Accuracy: 0.303/0.226, 0.529\n",
      "k: 27, Train/Test Accuracy: 0.300/0.220, 0.519\n",
      "k: 29, Train/Test Accuracy: 0.301/0.228, 0.529\n"
     ]
    },
    {
     "data": {
      "image/png": "[encoded data removed]",
      "text/plain": [
       "<Figure size 640x480 with 1 Axes>"
      ]
     },
     "metadata": {},
     "output_type": "display_data"
    }
   ],
   "source": [
    "train_accs = []\n",
    "test_accs = []\n",
    "\n",
    "for n in range(1, 30, 2):\n",
    "    knn = KNeighborsClassifier(n_neighbors=n)\n",
    "    knn.fit(X_train, y_train)\n",
    "    train_acc = knn.score(X_train, y_train)\n",
    "    test_acc = knn.score(X_test, y_test)\n",
    "    avg_acc = train_acc + test_acc\n",
    "    train_accs.append(train_acc)\n",
    "    test_accs.append(test_acc)\n",
    "    print(f\"k: {n}, Train/Test Accuracy: {train_acc:.3f}/{test_acc:.3f}, {avg_acc:.3f}\")\n",
    "\n",
    "plt.plot(range(1, 30, 2), train_accs, marker='o')\n",
    "plt.plot(range(1, 30, 2), test_accs, marker='x')\n",
    "plt.xlabel(\"Number of neighbors (n)\")\n",
    "plt.ylabel(\"Accuracy Score\")\n",
    "plt.show()\n"
   ]
  },
  {
   "cell_type": "markdown",
   "metadata": {},
   "source": [
    "creating a KNN (k-Nearest Neighbors) classifier with k=19, fitting the classifier on the training data, and then calculating the accuracy score on the test data.  then defining several new data points and predicting their classes using the trained classifier. "
   ]
  },
  {
   "cell_type": "code",
   "execution_count": 502,
   "metadata": {
    "colab": {
     "base_uri": "https://localhost:8080/",
     "height": 34
    },
    "colab_type": "code",
    "id": "hQ_f7hk2wK15",
    "outputId": "4a9d83a9-b2f2-4e45-f351-005dc4b5e92a"
   },
   "outputs": [
    {
     "name": "stdout",
     "output_type": "stream",
     "text": [
      "k=19 Test Acc: 0.435\n"
     ]
    }
   ],
   "source": [
    "knn = KNeighborsClassifier(n_neighbors=19)\n",
    "knn.fit(X_train_scaled, y_train)\n",
    "print('k=19 Test Acc: %.3f' % knn.score(X_test_scaled, y_test))"
   ]
  },
  {
   "cell_type": "code",
   "execution_count": 503,
   "metadata": {
    "colab": {},
    "colab_type": "code",
    "id": "6rxEQR54XXm3"
   },
   "outputs": [],
   "source": [
    "snew_data = 0.2, 0.2, 10, -30, 1, 0.05, 0.8, 0.8, 0.5, 0.2, 0.1, 222222\n"
   ]
  },
  {
   "cell_type": "code",
   "execution_count": 504,
   "metadata": {
    "colab": {
     "base_uri": "https://localhost:8080/",
     "height": 34
    },
    "colab_type": "code",
    "id": "6IyaQn39KVto",
    "outputId": "54cd6505-9b40-4c1f-ff02-6af908d75eef"
   },
   "outputs": [
    {
     "name": "stdout",
     "output_type": "stream",
     "text": [
      "['Rap' 'Dance/Electronic' 'Rap' 'Dance/Electronic' 'Dance/Electronic'\n",
      " 'Dance/Electronic' 'New Age' 'Country' 'New Age' 'Pop' 'Country' 'Rock'\n",
      " 'Rap' 'Country' 'Dance/Electronic' 'R&B' 'New Age' 'Pop' 'Country'\n",
      " 'Country' 'Dance/Electronic' 'Country' 'Dance/Electronic'\n",
      " 'Dance/Electronic' 'Country' 'Rap' 'Pop' 'Pop' 'Country' 'Pop' 'Pop'\n",
      " 'Rock' 'R&B' 'Country' 'Pop' 'Dance/Electronic' 'Dance/Electronic'\n",
      " 'Dance/Electronic' 'Pop' 'Rap' 'Rock' 'Rap' 'Rap' 'Rock'\n",
      " 'Dance/Electronic' 'Rap' 'Rap' 'Country' 'New Age' 'New Age' 'Rock'\n",
      " 'Rock' 'Rock' 'Rap' 'Dance/Electronic' 'Dance/Electronic' 'Country'\n",
      " 'New Age' 'New Age' 'Country' 'Country' 'Country' 'Rap' 'Pop' 'Pop' 'Pop'\n",
      " 'Rock' 'Pop' 'Rock' 'Rock' 'New Age' 'Country' 'Country' 'Rap' 'Rap'\n",
      " 'Country' 'Country' 'Country' 'New Age' 'Country' 'Dance/Electronic'\n",
      " 'Country' 'New Age' 'R&B' 'Dance/Electronic' 'Country' 'New Age'\n",
      " 'Dance/Electronic' 'Rap' 'Pop' 'Country' 'Country' 'Rap' 'Country' 'Rock'\n",
      " 'Rock' 'Dance/Electronic' 'Dance/Electronic' 'Rock' 'Pop' 'Rap' 'R&B'\n",
      " 'Pop' 'Dance/Electronic' 'Dance/Electronic' 'Country' 'Pop' 'Country'\n",
      " 'Rock' 'Rock' 'Rap' 'Country' 'New Age' 'Dance/Electronic'\n",
      " 'Dance/Electronic' 'Country' 'Dance/Electronic' 'R&B' 'Country' 'Rock'\n",
      " 'R&B' 'R&B' 'Country' 'Country' 'Country' 'Rock' 'New Age' 'New Age'\n",
      " 'Country' 'Country' 'Country' 'Dance/Electronic' 'R&B' 'Country'\n",
      " 'Country' 'Country' 'Rap' 'R&B' 'New Age' 'Dance/Electronic' 'New Age'\n",
      " 'Pop' 'New Age' 'New Age' 'Dance/Electronic' 'Dance/Electronic' 'Country'\n",
      " 'Pop' 'Pop' 'Pop' 'R&B' 'Rap' 'Dance/Electronic' 'Country' 'Country'\n",
      " 'Pop' 'Country' 'Pop' 'Rap' 'Rock' 'Pop' 'Rock' 'New Age' 'Country' 'Pop'\n",
      " 'Country' 'Pop' 'Country' 'Rock' 'Country' 'Country' 'Pop' 'Pop'\n",
      " 'Country' 'Rap' 'Country' 'Country' 'Country' 'Rock' 'Pop' 'Country'\n",
      " 'Country' 'R&B' 'Dance/Electronic' 'Country' 'R&B' 'Rap' 'Country'\n",
      " 'Country' 'Country' 'Country' 'Dance/Electronic' 'Dance/Electronic'\n",
      " 'Country' 'Country' 'Country' 'Rap' 'Dance/Electronic' 'Country' 'R&B'\n",
      " 'Country' 'Country' 'Rap' 'New Age' 'Pop' 'R&B' 'Pop' 'New Age' 'New Age'\n",
      " 'Rock' 'Rock' 'Country' 'Dance/Electronic' 'Dance/Electronic' 'Country'\n",
      " 'Rock' 'R&B' 'Rock' 'Country' 'Country' 'Country' 'R&B' 'R&B' 'Country'\n",
      " 'Rap' 'Rock' 'New Age' 'R&B' 'Rap' 'Pop' 'Rock' 'Dance/Electronic' 'Rap'\n",
      " 'Pop' 'Dance/Electronic' 'Pop' 'Dance/Electronic' 'Country' 'Country'\n",
      " 'New Age' 'Rap' 'Dance/Electronic' 'Dance/Electronic' 'Rock' 'Country'\n",
      " 'R&B' 'Rap' 'R&B' 'New Age' 'Rap' 'R&B' 'Rap' 'Country' 'Pop' 'Rock'\n",
      " 'Dance/Electronic' 'Country' 'Country' 'Pop' 'R&B' 'Country'\n",
      " 'Dance/Electronic' 'Dance/Electronic' 'Rock' 'Pop' 'Country' 'New Age'\n",
      " 'Rap' 'New Age' 'Pop' 'Country' 'Dance/Electronic' 'Country'\n",
      " 'Dance/Electronic' 'New Age' 'Pop' 'Dance/Electronic' 'Rap' 'Rap'\n",
      " 'New Age' 'New Age' 'New Age' 'Pop' 'Country' 'Pop' 'Rock' 'Country'\n",
      " 'Country' 'New Age' 'Rap' 'Rap' 'R&B' 'Rap' 'Rock' 'Pop' 'Rap'\n",
      " 'Dance/Electronic' 'New Age' 'Country' 'Pop' 'Country' 'Pop' 'Pop'\n",
      " 'Dance/Electronic' 'Pop' 'Country' 'Rock' 'New Age' 'Country' 'Pop' 'Pop'\n",
      " 'Country' 'Dance/Electronic' 'Country' 'Dance/Electronic' 'Rap' 'Rock'\n",
      " 'Rap' 'New Age' 'Rap' 'Rap' 'Dance/Electronic' 'Country' 'Country'\n",
      " 'Country' 'R&B' 'New Age' 'Rock' 'R&B' 'R&B' 'Country' 'Pop' 'R&B'\n",
      " 'Dance/Electronic' 'New Age' 'Dance/Electronic' 'Country' 'Rap'\n",
      " 'Dance/Electronic' 'Rap' 'Pop' 'Rap' 'Rap' 'Country' 'New Age' 'New Age'\n",
      " 'New Age' 'Pop' 'R&B' 'Pop' 'Rock' 'Country' 'Rap' 'Country' 'R&B' 'Rap'\n",
      " 'Country' 'Dance/Electronic' 'Rap' 'Country' 'Country' 'Pop' 'Rap' 'Pop'\n",
      " 'R&B' 'New Age' 'Country' 'Rap' 'Rap' 'Rock' 'Rap' 'New Age'\n",
      " 'Dance/Electronic' 'Rap' 'Rap' 'Rap' 'Pop' 'New Age' 'Rap' 'Rap'\n",
      " 'Dance/Electronic' 'Pop' 'Rock' 'Country' 'Dance/Electronic' 'Rock'\n",
      " 'New Age' 'Pop' 'Pop' 'Pop' 'Dance/Electronic' 'Country' 'Pop' 'Pop'\n",
      " 'Country' 'Rap' 'New Age' 'R&B' 'Pop' 'Country' 'Pop' 'Rap' 'New Age'\n",
      " 'Country' 'Country' 'Pop' 'R&B' 'Rock' 'Country' 'Dance/Electronic'\n",
      " 'New Age' 'Dance/Electronic' 'Dance/Electronic' 'Pop' 'Rock' 'R&B' 'Pop'\n",
      " 'Rock' 'Dance/Electronic' 'New Age' 'Country' 'Rock' 'Rap' 'Rap' 'Rap'\n",
      " 'Pop' 'Rock' 'Rock' 'New Age' 'Pop' 'Dance/Electronic' 'Country' 'Rap'\n",
      " 'New Age' 'Pop' 'New Age' 'Rock' 'Pop' 'Rap' 'Country' 'Pop' 'New Age'\n",
      " 'R&B' 'Rock' 'Country' 'Rock' 'Pop' 'Country' 'R&B' 'Rap' 'Country' 'Rap'\n",
      " 'Dance/Electronic' 'Country' 'Country' 'Pop' 'Country' 'Rock' 'Country'\n",
      " 'Rap']\n"
     ]
    }
   ],
   "source": [
    "\n",
    "new_data = [[0.765, 0.307, 11, -10.472, 1, 0.0328, 0.727, .00000215,0.109,0.257,119.836, 206109]]\n",
    "new_data_1 = [[0.111, 0.777, 2, -2, 0, 0.0111, 0.111, .00111, 0.9, 0.9, 50, 333333]]\n",
    "new_data_2 = [[0.2, 0.2, 10, -30, 1, 0.05, 0.8, 0.8, 0.5, 0.2, 0.1, 222222]]\n",
    "new_data_3 = [[0.79317033,0.91557169,1.06375534,0.73925307,0.67278438,2.26520775,-1.03279864,-0.48199241,-0.35157953,-1.57235678,-0.91074136,-0.63348198]]\n",
    "new_data_4 = [[-1.14087944,1.24642326,1.06375534,0.41127868,0.67278438,-0.47284276,-1.07621207,1.42227523,0.16892679,-0.22550447,-0.98815799,0.81730637]]\n",
    "new_data_5 = [[0.446,0.239,0,-13.945,1,0.0316,0.5510,0.000004,0.0697,0.298,189.507,336453]]\n",
    "predicted_class = knn.predict(X_test_scaled)\n",
    "print(predicted_class)"
   ]
  },
  {
   "cell_type": "code",
   "execution_count": 505,
   "metadata": {
    "colab": {
     "base_uri": "https://localhost:8080/",
     "height": 34
    },
    "colab_type": "code",
    "id": "MDWqZGNKTWoC",
    "outputId": "0149c68c-2f69-4c44-9be6-514c59d4fd68"
   },
   "outputs": [
    {
     "name": "stdout",
     "output_type": "stream",
     "text": [
      "0.43478260869565216\n"
     ]
    }
   ],
   "source": [
    "import pickle\n",
    "# save the model to disk\n",
    "filename = 'audio_features_model.csv'\n",
    "pickle.dump(knn, open(filename, 'wb')) \n",
    "\n",
    "# save scalar\n",
    "pickle.dump(X_scaler, open(\"scaler.pickle\", \"wb\"))\n",
    "\n",
    "# load the model from disk\n",
    "loaded_model = pickle.load(open(filename, 'rb'))\n",
    "result = loaded_model.score(X_test_scaled, y_test)\n",
    "print(result)"
   ]
  },
  {
   "cell_type": "markdown",
   "metadata": {
    "colab_type": "text",
    "id": "1mnP1kesx1ht"
   },
   "source": [
    "## Now trying with neural networks"
   ]
  },
  {
   "cell_type": "code",
   "execution_count": 506,
   "metadata": {
    "colab": {},
    "colab_type": "code",
    "id": "wIA9VOfOx52z"
   },
   "outputs": [],
   "source": [
    "from sklearn.model_selection import train_test_split\n",
    "from sklearn.preprocessing import LabelEncoder, MinMaxScaler\n",
    "from tensorflow.keras.utils import to_categorical"
   ]
  },
  {
   "cell_type": "code",
   "execution_count": 507,
   "metadata": {
    "colab": {
     "base_uri": "https://localhost:8080/",
     "height": 34
    },
    "colab_type": "code",
    "id": "M54bTWuux9F5",
    "outputId": "fc99bc7c-e45b-4ee7-f123-353eb5ac1009"
   },
   "outputs": [
    {
     "name": "stdout",
     "output_type": "stream",
     "text": [
      "(1837, 12) (1837,)\n"
     ]
    }
   ],
   "source": [
    "X = ML_df.drop(\"genre_name\", axis=1)\n",
    "y = ML_df[\"genre_name\"]\n",
    "print(X.shape, y.shape)"
   ]
  },
  {
   "cell_type": "code",
   "execution_count": 508,
   "metadata": {
    "colab": {},
    "colab_type": "code",
    "id": "YyU3ozfqx9xW"
   },
   "outputs": [],
   "source": [
    "X_train, X_test, y_train, y_test = train_test_split(\n",
    "    X, y, stratify=y)"
   ]
  },
  {
   "cell_type": "code",
   "execution_count": 509,
   "metadata": {
    "colab": {
     "base_uri": "https://localhost:8080/",
     "height": 439
    },
    "colab_type": "code",
    "id": "QmZtnAHCnIK9",
    "outputId": "05d5ea3c-13b6-463f-922d-6ac958a30f6e"
   },
   "outputs": [
    {
     "data": {
      "text/html": [
       "<div>\n",
       "<style scoped>\n",
       "    .dataframe tbody tr th:only-of-type {\n",
       "        vertical-align: middle;\n",
       "    }\n",
       "\n",
       "    .dataframe tbody tr th {\n",
       "        vertical-align: top;\n",
       "    }\n",
       "\n",
       "    .dataframe thead th {\n",
       "        text-align: right;\n",
       "    }\n",
       "</style>\n",
       "<table border=\"1\" class=\"dataframe\">\n",
       "  <thead>\n",
       "    <tr style=\"text-align: right;\">\n",
       "      <th></th>\n",
       "      <th>danceability</th>\n",
       "      <th>energy</th>\n",
       "      <th>key</th>\n",
       "      <th>loudness</th>\n",
       "      <th>mode</th>\n",
       "      <th>speechiness</th>\n",
       "      <th>acousticness</th>\n",
       "      <th>instrumentalness</th>\n",
       "      <th>liveness</th>\n",
       "      <th>valence</th>\n",
       "      <th>tempo</th>\n",
       "      <th>duration_ms</th>\n",
       "    </tr>\n",
       "  </thead>\n",
       "  <tbody>\n",
       "    <tr>\n",
       "      <th>856</th>\n",
       "      <td>0.617</td>\n",
       "      <td>0.378</td>\n",
       "      <td>9</td>\n",
       "      <td>-8.540</td>\n",
       "      <td>1</td>\n",
       "      <td>0.0315</td>\n",
       "      <td>0.4280</td>\n",
       "      <td>0.000092</td>\n",
       "      <td>0.110</td>\n",
       "      <td>0.2200</td>\n",
       "      <td>141.967</td>\n",
       "      <td>216063</td>\n",
       "    </tr>\n",
       "    <tr>\n",
       "      <th>927</th>\n",
       "      <td>0.883</td>\n",
       "      <td>0.657</td>\n",
       "      <td>8</td>\n",
       "      <td>-5.748</td>\n",
       "      <td>1</td>\n",
       "      <td>0.3050</td>\n",
       "      <td>0.0603</td>\n",
       "      <td>0.000000</td>\n",
       "      <td>0.128</td>\n",
       "      <td>0.2840</td>\n",
       "      <td>124.992</td>\n",
       "      <td>172933</td>\n",
       "    </tr>\n",
       "    <tr>\n",
       "      <th>444</th>\n",
       "      <td>0.773</td>\n",
       "      <td>0.955</td>\n",
       "      <td>2</td>\n",
       "      <td>-6.461</td>\n",
       "      <td>1</td>\n",
       "      <td>0.0413</td>\n",
       "      <td>0.0273</td>\n",
       "      <td>0.827000</td>\n",
       "      <td>0.125</td>\n",
       "      <td>0.3040</td>\n",
       "      <td>130.003</td>\n",
       "      <td>329792</td>\n",
       "    </tr>\n",
       "    <tr>\n",
       "      <th>860</th>\n",
       "      <td>0.538</td>\n",
       "      <td>0.471</td>\n",
       "      <td>4</td>\n",
       "      <td>-9.840</td>\n",
       "      <td>0</td>\n",
       "      <td>0.0955</td>\n",
       "      <td>0.0946</td>\n",
       "      <td>0.018500</td>\n",
       "      <td>0.116</td>\n",
       "      <td>0.3070</td>\n",
       "      <td>93.070</td>\n",
       "      <td>142000</td>\n",
       "    </tr>\n",
       "    <tr>\n",
       "      <th>846</th>\n",
       "      <td>0.790</td>\n",
       "      <td>0.647</td>\n",
       "      <td>10</td>\n",
       "      <td>-5.983</td>\n",
       "      <td>0</td>\n",
       "      <td>0.1360</td>\n",
       "      <td>0.0515</td>\n",
       "      <td>0.000000</td>\n",
       "      <td>0.248</td>\n",
       "      <td>0.6540</td>\n",
       "      <td>87.999</td>\n",
       "      <td>211000</td>\n",
       "    </tr>\n",
       "    <tr>\n",
       "      <th>...</th>\n",
       "      <td>...</td>\n",
       "      <td>...</td>\n",
       "      <td>...</td>\n",
       "      <td>...</td>\n",
       "      <td>...</td>\n",
       "      <td>...</td>\n",
       "      <td>...</td>\n",
       "      <td>...</td>\n",
       "      <td>...</td>\n",
       "      <td>...</td>\n",
       "      <td>...</td>\n",
       "      <td>...</td>\n",
       "    </tr>\n",
       "    <tr>\n",
       "      <th>1253</th>\n",
       "      <td>0.428</td>\n",
       "      <td>0.443</td>\n",
       "      <td>2</td>\n",
       "      <td>-8.955</td>\n",
       "      <td>0</td>\n",
       "      <td>0.1010</td>\n",
       "      <td>0.5250</td>\n",
       "      <td>0.000018</td>\n",
       "      <td>0.219</td>\n",
       "      <td>0.2000</td>\n",
       "      <td>87.934</td>\n",
       "      <td>180954</td>\n",
       "    </tr>\n",
       "    <tr>\n",
       "      <th>1339</th>\n",
       "      <td>0.544</td>\n",
       "      <td>0.826</td>\n",
       "      <td>1</td>\n",
       "      <td>-3.848</td>\n",
       "      <td>1</td>\n",
       "      <td>0.0288</td>\n",
       "      <td>0.0631</td>\n",
       "      <td>0.000015</td>\n",
       "      <td>0.113</td>\n",
       "      <td>0.5960</td>\n",
       "      <td>142.029</td>\n",
       "      <td>205579</td>\n",
       "    </tr>\n",
       "    <tr>\n",
       "      <th>1185</th>\n",
       "      <td>0.770</td>\n",
       "      <td>0.347</td>\n",
       "      <td>2</td>\n",
       "      <td>-10.265</td>\n",
       "      <td>1</td>\n",
       "      <td>0.0623</td>\n",
       "      <td>0.0511</td>\n",
       "      <td>0.000003</td>\n",
       "      <td>0.087</td>\n",
       "      <td>0.0583</td>\n",
       "      <td>84.957</td>\n",
       "      <td>235477</td>\n",
       "    </tr>\n",
       "    <tr>\n",
       "      <th>1769</th>\n",
       "      <td>0.378</td>\n",
       "      <td>0.173</td>\n",
       "      <td>7</td>\n",
       "      <td>-18.001</td>\n",
       "      <td>1</td>\n",
       "      <td>0.0553</td>\n",
       "      <td>0.9890</td>\n",
       "      <td>0.917000</td>\n",
       "      <td>0.113</td>\n",
       "      <td>0.0955</td>\n",
       "      <td>79.903</td>\n",
       "      <td>294760</td>\n",
       "    </tr>\n",
       "    <tr>\n",
       "      <th>1671</th>\n",
       "      <td>0.516</td>\n",
       "      <td>0.330</td>\n",
       "      <td>8</td>\n",
       "      <td>-15.598</td>\n",
       "      <td>1</td>\n",
       "      <td>0.0350</td>\n",
       "      <td>0.5210</td>\n",
       "      <td>0.864000</td>\n",
       "      <td>0.107</td>\n",
       "      <td>0.1090</td>\n",
       "      <td>101.306</td>\n",
       "      <td>278173</td>\n",
       "    </tr>\n",
       "  </tbody>\n",
       "</table>\n",
       "<p>1377 rows × 12 columns</p>\n",
       "</div>"
      ],
      "text/plain": [
       "      danceability  energy  key  loudness  mode  speechiness  acousticness   \n",
       "856          0.617   0.378    9    -8.540     1       0.0315        0.4280  \\\n",
       "927          0.883   0.657    8    -5.748     1       0.3050        0.0603   \n",
       "444          0.773   0.955    2    -6.461     1       0.0413        0.0273   \n",
       "860          0.538   0.471    4    -9.840     0       0.0955        0.0946   \n",
       "846          0.790   0.647   10    -5.983     0       0.1360        0.0515   \n",
       "...            ...     ...  ...       ...   ...          ...           ...   \n",
       "1253         0.428   0.443    2    -8.955     0       0.1010        0.5250   \n",
       "1339         0.544   0.826    1    -3.848     1       0.0288        0.0631   \n",
       "1185         0.770   0.347    2   -10.265     1       0.0623        0.0511   \n",
       "1769         0.378   0.173    7   -18.001     1       0.0553        0.9890   \n",
       "1671         0.516   0.330    8   -15.598     1       0.0350        0.5210   \n",
       "\n",
       "      instrumentalness  liveness  valence    tempo  duration_ms  \n",
       "856           0.000092     0.110   0.2200  141.967       216063  \n",
       "927           0.000000     0.128   0.2840  124.992       172933  \n",
       "444           0.827000     0.125   0.3040  130.003       329792  \n",
       "860           0.018500     0.116   0.3070   93.070       142000  \n",
       "846           0.000000     0.248   0.6540   87.999       211000  \n",
       "...                ...       ...      ...      ...          ...  \n",
       "1253          0.000018     0.219   0.2000   87.934       180954  \n",
       "1339          0.000015     0.113   0.5960  142.029       205579  \n",
       "1185          0.000003     0.087   0.0583   84.957       235477  \n",
       "1769          0.917000     0.113   0.0955   79.903       294760  \n",
       "1671          0.864000     0.107   0.1090  101.306       278173  \n",
       "\n",
       "[1377 rows x 12 columns]"
      ]
     },
     "execution_count": 509,
     "metadata": {},
     "output_type": "execute_result"
    }
   ],
   "source": [
    "X_train"
   ]
  },
  {
   "cell_type": "code",
   "execution_count": 510,
   "metadata": {
    "colab": {},
    "colab_type": "code",
    "id": "DnTDs2EKx9TS"
   },
   "outputs": [],
   "source": [
    "X_scaler = MinMaxScaler().fit(X_train)\n",
    "X_train_scaled = X_scaler.transform(X_train)\n",
    "X_test_scaled = X_scaler.transform(X_test)"
   ]
  },
  {
   "cell_type": "code",
   "execution_count": 511,
   "metadata": {
    "colab": {},
    "colab_type": "code",
    "id": "5LwgbDnUx8uZ"
   },
   "outputs": [],
   "source": [
    "# Step 1: Label-encode data set\n",
    "label_encoder = LabelEncoder()\n",
    "label_encoder.fit(y_train)\n",
    "encoded_y_train = label_encoder.transform(y_train)\n",
    "encoded_y_test = label_encoder.transform(y_test)"
   ]
  },
  {
   "cell_type": "code",
   "execution_count": 512,
   "metadata": {
    "colab": {},
    "colab_type": "code",
    "id": "efwmIlNeyL07"
   },
   "outputs": [],
   "source": [
    "# Step 2: Convert encoded labels to one-hot-encoding\n",
    "y_train_categorical = to_categorical(encoded_y_train)\n",
    "y_test_categorical = to_categorical(encoded_y_test)"
   ]
  },
  {
   "cell_type": "code",
   "execution_count": 513,
   "metadata": {
    "colab": {},
    "colab_type": "code",
    "id": "UFs37xCMyL53"
   },
   "outputs": [],
   "source": [
    "from tensorflow.keras.models import Sequential\n",
    "from tensorflow.keras.layers import Dense"
   ]
  },
  {
   "cell_type": "code",
   "execution_count": 515,
   "metadata": {
    "colab": {},
    "colab_type": "code",
    "id": "n1diB67pyLxn"
   },
   "outputs": [],
   "source": [
    "# Create model and add layers\n",
    "model = Sequential()\n",
    "model.add(Dense(units=7, activation='relu', input_dim=12))\n",
    "# model.add(Dense(units=7, activation='sigmoid'))\n",
    "# model.add(Dense(units=7, activation='sigmoid'))\n",
    "# model.add(Dense(units=, activation='sigmoid'))\n",
    "model.add(Dense(units=7, activation='relu'))\n",
    "# model.add(Dense(units=7, activation='relu'))\n",
    "# model.add(Dense(units=7, activation='relu'))\n",
    "# model.add(Dense(units=7, activation='relu'))\n",
    "# model.add(Dense(units=7, activation='relu'))\n",
    "model.add(Dense(units=7, activation='softmax'))"
   ]
  },
  {
   "cell_type": "code",
   "execution_count": 516,
   "metadata": {
    "colab": {},
    "colab_type": "code",
    "id": "p3unpbV6ySa7"
   },
   "outputs": [],
   "source": [
    "# Compile and fit the model\n",
    "model.compile(optimizer='adam',\n",
    "              loss='categorical_crossentropy',\n",
    "              metrics=['accuracy'])"
   ]
  },
  {
   "cell_type": "code",
   "execution_count": 517,
   "metadata": {
    "colab": {
     "base_uri": "https://localhost:8080/",
     "height": 374
    },
    "colab_type": "code",
    "id": "l5oXr3TIyVFf",
    "outputId": "6175b5a2-bfcc-421e-ff57-43451a1855a2"
   },
   "outputs": [
    {
     "name": "stdout",
     "output_type": "stream",
     "text": [
      "Epoch 1/10\n",
      "44/44 - 0s - loss: 1.9533 - accuracy: 0.1220 - 451ms/epoch - 10ms/step\n",
      "Epoch 2/10\n",
      "44/44 - 0s - loss: 1.9367 - accuracy: 0.1743 - 54ms/epoch - 1ms/step\n",
      "Epoch 3/10\n",
      "44/44 - 0s - loss: 1.9301 - accuracy: 0.2070 - 50ms/epoch - 1ms/step\n",
      "Epoch 4/10\n",
      "44/44 - 0s - loss: 1.9245 - accuracy: 0.2259 - 50ms/epoch - 1ms/step\n",
      "Epoch 5/10\n",
      "44/44 - 0s - loss: 1.9188 - accuracy: 0.2229 - 50ms/epoch - 1ms/step\n",
      "Epoch 6/10\n",
      "44/44 - 0s - loss: 1.9134 - accuracy: 0.2426 - 50ms/epoch - 1ms/step\n",
      "Epoch 7/10\n",
      "44/44 - 0s - loss: 1.9079 - accuracy: 0.2251 - 50ms/epoch - 1ms/step\n",
      "Epoch 8/10\n",
      "44/44 - 0s - loss: 1.9032 - accuracy: 0.2288 - 47ms/epoch - 1ms/step\n",
      "Epoch 9/10\n",
      "44/44 - 0s - loss: 1.8974 - accuracy: 0.2302 - 47ms/epoch - 1ms/step\n",
      "Epoch 10/10\n",
      "44/44 - 0s - loss: 1.8923 - accuracy: 0.2360 - 42ms/epoch - 947us/step\n"
     ]
    },
    {
     "data": {
      "text/plain": [
       "<keras.callbacks.History at 0x279b35a3ad0>"
      ]
     },
     "execution_count": 517,
     "metadata": {},
     "output_type": "execute_result"
    }
   ],
   "source": [
    "model.fit(\n",
    "    X_train_scaled,\n",
    "    y_train_categorical,\n",
    "    epochs=10,\n",
    "    shuffle=True,\n",
    "    verbose=2\n",
    ")"
   ]
  },
  {
   "cell_type": "code",
   "execution_count": 518,
   "metadata": {
    "colab": {
     "base_uri": "https://localhost:8080/",
     "height": 51
    },
    "colab_type": "code",
    "id": "V9KSU-5WyZpf",
    "outputId": "8445c489-fd19-4e7f-9aa0-7c0d0ed5a7c5"
   },
   "outputs": [
    {
     "name": "stdout",
     "output_type": "stream",
     "text": [
      "15/15 - 0s - loss: 1.8940 - accuracy: 0.2196 - 136ms/epoch - 9ms/step\n",
      "Normal Neural Network - Loss: 1.8939695358276367, Accuracy: 0.21956521272659302\n"
     ]
    }
   ],
   "source": [
    "model_loss, model_accuracy = model.evaluate(\n",
    "    X_test_scaled, y_test_categorical, verbose=2)\n",
    "print(\n",
    "    f\"Normal Neural Network - Loss: {model_loss}, Accuracy: {model_accuracy}\")"
   ]
  },
  {
   "cell_type": "code",
   "execution_count": 519,
   "metadata": {
    "colab": {},
    "colab_type": "code",
    "id": "7oc05bYy2ZS8"
   },
   "outputs": [
    {
     "name": "stdout",
     "output_type": "stream",
     "text": [
      "1/1 [==============================] - 0s 54ms/step\n"
     ]
    }
   ],
   "source": [
    "encoded_predictions = model.predict(X_test_scaled[:5]).argmax(axis=-1)\n",
    "prediction_labels = label_encoder.inverse_transform(encoded_predictions)"
   ]
  },
  {
   "cell_type": "code",
   "execution_count": 520,
   "metadata": {
    "colab": {
     "base_uri": "https://localhost:8080/",
     "height": 51
    },
    "colab_type": "code",
    "id": "6rz_Nkv8_9ez",
    "outputId": "0cb3478f-97be-456a-bb26-7073c333dd91"
   },
   "outputs": [
    {
     "name": "stdout",
     "output_type": "stream",
     "text": [
      "Predicted classes: ['Dance/Electronic' 'Country' 'Rock' 'Country' 'Rock']\n",
      "Actual Labels: ['Rock', 'Country', 'New Age', 'Rock', 'Rock']\n"
     ]
    }
   ],
   "source": [
    "print(f\"Predicted classes: {prediction_labels}\")\n",
    "print(f\"Actual Labels: {list(y_test[:5])}\")"
   ]
  },
  {
   "cell_type": "code",
   "execution_count": null,
   "metadata": {
    "colab": {},
    "colab_type": "code",
    "id": "asSyj52MdND-"
   },
   "outputs": [],
   "source": []
  },
  {
   "cell_type": "code",
   "execution_count": null,
   "metadata": {
    "colab": {},
    "colab_type": "code",
    "id": "FW8rTySHdNZJ"
   },
   "outputs": [],
   "source": []
  },
  {
   "cell_type": "code",
   "execution_count": null,
   "metadata": {
    "colab": {},
    "colab_type": "code",
    "id": "tL95p8ScdNLP"
   },
   "outputs": [],
   "source": []
  },
  {
   "cell_type": "code",
   "execution_count": null,
   "metadata": {
    "colab": {},
    "colab_type": "code",
    "id": "M6OBYPsYdMzf"
   },
   "outputs": [],
   "source": []
  },
  {
   "cell_type": "code",
   "execution_count": null,
   "metadata": {
    "colab": {},
    "colab_type": "code",
    "id": "aTKNNDiRdOit"
   },
   "outputs": [],
   "source": []
  },
  {
   "cell_type": "code",
   "execution_count": 231,
   "metadata": {
    "colab": {},
    "colab_type": "code",
    "id": "fZ1icdd1AIbI"
   },
   "outputs": [],
   "source": [
    "# model.save(\"Downloads/audio_features_model.h5\")"
   ]
  },
  {
   "cell_type": "code",
   "execution_count": 521,
   "metadata": {
    "colab": {},
    "colab_type": "code",
    "id": "MIxu40MuAIQO"
   },
   "outputs": [],
   "source": [
    "from tensorflow.keras.models import load_model\n",
    "model = load_model(\"Downloads/audio_features_model.h5\")"
   ]
  },
  {
   "cell_type": "markdown",
   "metadata": {
    "colab_type": "text",
    "id": "GjngLz821shw"
   },
   "source": [
    "Trying with logistic regression"
   ]
  },
  {
   "cell_type": "code",
   "execution_count": 522,
   "metadata": {
    "colab": {},
    "colab_type": "code",
    "id": "DOCxSUCh1upX"
   },
   "outputs": [],
   "source": [
    "%matplotlib inline\n",
    "import matplotlib.pyplot as plt\n",
    "import pandas as pd\n",
    "import os"
   ]
  },
  {
   "cell_type": "code",
   "execution_count": 523,
   "metadata": {
    "colab": {
     "base_uri": "https://localhost:8080/",
     "height": 34
    },
    "colab_type": "code",
    "id": "0jbDUHAi12Fx",
    "outputId": "142509ae-90c8-4a0b-cc16-3a6508d2fc33"
   },
   "outputs": [
    {
     "name": "stdout",
     "output_type": "stream",
     "text": [
      "(1837, 12) (1837,)\n"
     ]
    }
   ],
   "source": [
    "# Assign X (data) and y (target)\n",
    "X = ML_df.drop(\"genre_name\", axis=1)\n",
    "y = ML_df[\"genre_name\"]\n",
    "print(X.shape, y.shape)"
   ]
  },
  {
   "cell_type": "code",
   "execution_count": 524,
   "metadata": {
    "colab": {},
    "colab_type": "code",
    "id": "R2rn7Dha2L5e"
   },
   "outputs": [],
   "source": [
    "from sklearn.model_selection import train_test_split\n",
    "X_train, X_test, y_train, y_test = train_test_split(X, y, stratify=y)"
   ]
  },
  {
   "cell_type": "code",
   "execution_count": 525,
   "metadata": {
    "colab": {
     "base_uri": "https://localhost:8080/",
     "height": 102
    },
    "colab_type": "code",
    "id": "6s5LJjS_2TPH",
    "outputId": "c958fd78-5429-4ec9-cf54-ba1bfc50cd6b",
    "scrolled": true
   },
   "outputs": [
    {
     "data": {
      "text/html": [
       "<style>#sk-container-id-19 {color: black;background-color: white;}#sk-container-id-19 pre{padding: 0;}#sk-container-id-19 div.sk-toggleable {background-color: white;}#sk-container-id-19 label.sk-toggleable__label {cursor: pointer;display: block;width: 100%;margin-bottom: 0;padding: 0.3em;box-sizing: border-box;text-align: center;}#sk-container-id-19 label.sk-toggleable__label-arrow:before {content: \"▸\";float: left;margin-right: 0.25em;color: #696969;}#sk-container-id-19 label.sk-toggleable__label-arrow:hover:before {color: black;}#sk-container-id-19 div.sk-estimator:hover label.sk-toggleable__label-arrow:before {color: black;}#sk-container-id-19 div.sk-toggleable__content {max-height: 0;max-width: 0;overflow: hidden;text-align: left;background-color: #f0f8ff;}#sk-container-id-19 div.sk-toggleable__content pre {margin: 0.2em;color: black;border-radius: 0.25em;background-color: #f0f8ff;}#sk-container-id-19 input.sk-toggleable__control:checked~div.sk-toggleable__content {max-height: 200px;max-width: 100%;overflow: auto;}#sk-container-id-19 input.sk-toggleable__control:checked~label.sk-toggleable__label-arrow:before {content: \"▾\";}#sk-container-id-19 div.sk-estimator input.sk-toggleable__control:checked~label.sk-toggleable__label {background-color: #d4ebff;}#sk-container-id-19 div.sk-label input.sk-toggleable__control:checked~label.sk-toggleable__label {background-color: #d4ebff;}#sk-container-id-19 input.sk-hidden--visually {border: 0;clip: rect(1px 1px 1px 1px);clip: rect(1px, 1px, 1px, 1px);height: 1px;margin: -1px;overflow: hidden;padding: 0;position: absolute;width: 1px;}#sk-container-id-19 div.sk-estimator {font-family: monospace;background-color: #f0f8ff;border: 1px dotted black;border-radius: 0.25em;box-sizing: border-box;margin-bottom: 0.5em;}#sk-container-id-19 div.sk-estimator:hover {background-color: #d4ebff;}#sk-container-id-19 div.sk-parallel-item::after {content: \"\";width: 100%;border-bottom: 1px solid gray;flex-grow: 1;}#sk-container-id-19 div.sk-label:hover label.sk-toggleable__label {background-color: #d4ebff;}#sk-container-id-19 div.sk-serial::before {content: \"\";position: absolute;border-left: 1px solid gray;box-sizing: border-box;top: 0;bottom: 0;left: 50%;z-index: 0;}#sk-container-id-19 div.sk-serial {display: flex;flex-direction: column;align-items: center;background-color: white;padding-right: 0.2em;padding-left: 0.2em;position: relative;}#sk-container-id-19 div.sk-item {position: relative;z-index: 1;}#sk-container-id-19 div.sk-parallel {display: flex;align-items: stretch;justify-content: center;background-color: white;position: relative;}#sk-container-id-19 div.sk-item::before, #sk-container-id-19 div.sk-parallel-item::before {content: \"\";position: absolute;border-left: 1px solid gray;box-sizing: border-box;top: 0;bottom: 0;left: 50%;z-index: -1;}#sk-container-id-19 div.sk-parallel-item {display: flex;flex-direction: column;z-index: 1;position: relative;background-color: white;}#sk-container-id-19 div.sk-parallel-item:first-child::after {align-self: flex-end;width: 50%;}#sk-container-id-19 div.sk-parallel-item:last-child::after {align-self: flex-start;width: 50%;}#sk-container-id-19 div.sk-parallel-item:only-child::after {width: 0;}#sk-container-id-19 div.sk-dashed-wrapped {border: 1px dashed gray;margin: 0 0.4em 0.5em 0.4em;box-sizing: border-box;padding-bottom: 0.4em;background-color: white;}#sk-container-id-19 div.sk-label label {font-family: monospace;font-weight: bold;display: inline-block;line-height: 1.2em;}#sk-container-id-19 div.sk-label-container {text-align: center;}#sk-container-id-19 div.sk-container {/* jupyter's `normalize.less` sets `[hidden] { display: none; }` but bootstrap.min.css set `[hidden] { display: none !important; }` so we also need the `!important` here to be able to override the default hidden behavior on the sphinx rendered scikit-learn.org. See: https://github.com/scikit-learn/scikit-learn/issues/21755 */display: inline-block !important;position: relative;}#sk-container-id-19 div.sk-text-repr-fallback {display: none;}</style><div id=\"sk-container-id-19\" class=\"sk-top-container\"><div class=\"sk-text-repr-fallback\"><pre>LogisticRegression()</pre><b>In a Jupyter environment, please rerun this cell to show the HTML representation or trust the notebook. <br />On GitHub, the HTML representation is unable to render, please try loading this page with nbviewer.org.</b></div><div class=\"sk-container\" hidden><div class=\"sk-item\"><div class=\"sk-estimator sk-toggleable\"><input class=\"sk-toggleable__control sk-hidden--visually\" id=\"sk-estimator-id-19\" type=\"checkbox\" checked><label for=\"sk-estimator-id-19\" class=\"sk-toggleable__label sk-toggleable__label-arrow\">LogisticRegression</label><div class=\"sk-toggleable__content\"><pre>LogisticRegression()</pre></div></div></div></div></div>"
      ],
      "text/plain": [
       "LogisticRegression()"
      ]
     },
     "execution_count": 525,
     "metadata": {},
     "output_type": "execute_result"
    }
   ],
   "source": [
    "from sklearn.linear_model import LogisticRegression\n",
    "classifier = LogisticRegression()\n",
    "classifier"
   ]
  },
  {
   "cell_type": "code",
   "execution_count": 526,
   "metadata": {
    "colab": {
     "base_uri": "https://localhost:8080/",
     "height": 102
    },
    "colab_type": "code",
    "id": "SLKtgu322cUk",
    "outputId": "15397ae9-0a72-4bd4-b346-201c41b4abe7"
   },
   "outputs": [
    {
     "data": {
      "text/html": [
       "<style>#sk-container-id-20 {color: black;background-color: white;}#sk-container-id-20 pre{padding: 0;}#sk-container-id-20 div.sk-toggleable {background-color: white;}#sk-container-id-20 label.sk-toggleable__label {cursor: pointer;display: block;width: 100%;margin-bottom: 0;padding: 0.3em;box-sizing: border-box;text-align: center;}#sk-container-id-20 label.sk-toggleable__label-arrow:before {content: \"▸\";float: left;margin-right: 0.25em;color: #696969;}#sk-container-id-20 label.sk-toggleable__label-arrow:hover:before {color: black;}#sk-container-id-20 div.sk-estimator:hover label.sk-toggleable__label-arrow:before {color: black;}#sk-container-id-20 div.sk-toggleable__content {max-height: 0;max-width: 0;overflow: hidden;text-align: left;background-color: #f0f8ff;}#sk-container-id-20 div.sk-toggleable__content pre {margin: 0.2em;color: black;border-radius: 0.25em;background-color: #f0f8ff;}#sk-container-id-20 input.sk-toggleable__control:checked~div.sk-toggleable__content {max-height: 200px;max-width: 100%;overflow: auto;}#sk-container-id-20 input.sk-toggleable__control:checked~label.sk-toggleable__label-arrow:before {content: \"▾\";}#sk-container-id-20 div.sk-estimator input.sk-toggleable__control:checked~label.sk-toggleable__label {background-color: #d4ebff;}#sk-container-id-20 div.sk-label input.sk-toggleable__control:checked~label.sk-toggleable__label {background-color: #d4ebff;}#sk-container-id-20 input.sk-hidden--visually {border: 0;clip: rect(1px 1px 1px 1px);clip: rect(1px, 1px, 1px, 1px);height: 1px;margin: -1px;overflow: hidden;padding: 0;position: absolute;width: 1px;}#sk-container-id-20 div.sk-estimator {font-family: monospace;background-color: #f0f8ff;border: 1px dotted black;border-radius: 0.25em;box-sizing: border-box;margin-bottom: 0.5em;}#sk-container-id-20 div.sk-estimator:hover {background-color: #d4ebff;}#sk-container-id-20 div.sk-parallel-item::after {content: \"\";width: 100%;border-bottom: 1px solid gray;flex-grow: 1;}#sk-container-id-20 div.sk-label:hover label.sk-toggleable__label {background-color: #d4ebff;}#sk-container-id-20 div.sk-serial::before {content: \"\";position: absolute;border-left: 1px solid gray;box-sizing: border-box;top: 0;bottom: 0;left: 50%;z-index: 0;}#sk-container-id-20 div.sk-serial {display: flex;flex-direction: column;align-items: center;background-color: white;padding-right: 0.2em;padding-left: 0.2em;position: relative;}#sk-container-id-20 div.sk-item {position: relative;z-index: 1;}#sk-container-id-20 div.sk-parallel {display: flex;align-items: stretch;justify-content: center;background-color: white;position: relative;}#sk-container-id-20 div.sk-item::before, #sk-container-id-20 div.sk-parallel-item::before {content: \"\";position: absolute;border-left: 1px solid gray;box-sizing: border-box;top: 0;bottom: 0;left: 50%;z-index: -1;}#sk-container-id-20 div.sk-parallel-item {display: flex;flex-direction: column;z-index: 1;position: relative;background-color: white;}#sk-container-id-20 div.sk-parallel-item:first-child::after {align-self: flex-end;width: 50%;}#sk-container-id-20 div.sk-parallel-item:last-child::after {align-self: flex-start;width: 50%;}#sk-container-id-20 div.sk-parallel-item:only-child::after {width: 0;}#sk-container-id-20 div.sk-dashed-wrapped {border: 1px dashed gray;margin: 0 0.4em 0.5em 0.4em;box-sizing: border-box;padding-bottom: 0.4em;background-color: white;}#sk-container-id-20 div.sk-label label {font-family: monospace;font-weight: bold;display: inline-block;line-height: 1.2em;}#sk-container-id-20 div.sk-label-container {text-align: center;}#sk-container-id-20 div.sk-container {/* jupyter's `normalize.less` sets `[hidden] { display: none; }` but bootstrap.min.css set `[hidden] { display: none !important; }` so we also need the `!important` here to be able to override the default hidden behavior on the sphinx rendered scikit-learn.org. See: https://github.com/scikit-learn/scikit-learn/issues/21755 */display: inline-block !important;position: relative;}#sk-container-id-20 div.sk-text-repr-fallback {display: none;}</style><div id=\"sk-container-id-20\" class=\"sk-top-container\"><div class=\"sk-text-repr-fallback\"><pre>LogisticRegression()</pre><b>In a Jupyter environment, please rerun this cell to show the HTML representation or trust the notebook. <br />On GitHub, the HTML representation is unable to render, please try loading this page with nbviewer.org.</b></div><div class=\"sk-container\" hidden><div class=\"sk-item\"><div class=\"sk-estimator sk-toggleable\"><input class=\"sk-toggleable__control sk-hidden--visually\" id=\"sk-estimator-id-20\" type=\"checkbox\" checked><label for=\"sk-estimator-id-20\" class=\"sk-toggleable__label sk-toggleable__label-arrow\">LogisticRegression</label><div class=\"sk-toggleable__content\"><pre>LogisticRegression()</pre></div></div></div></div></div>"
      ],
      "text/plain": [
       "LogisticRegression()"
      ]
     },
     "execution_count": 526,
     "metadata": {},
     "output_type": "execute_result"
    }
   ],
   "source": [
    "classifier.fit(X_train, y_train)"
   ]
  },
  {
   "cell_type": "code",
   "execution_count": 527,
   "metadata": {
    "colab": {
     "base_uri": "https://localhost:8080/",
     "height": 51
    },
    "colab_type": "code",
    "id": "gYkR_y7J2cCV",
    "outputId": "faaebd73-518f-4eb2-9e00-d4ea1d504852"
   },
   "outputs": [
    {
     "name": "stdout",
     "output_type": "stream",
     "text": [
      "Training Data Score: 0.15468409586056645\n",
      "Testing Data Score: 0.15434782608695652\n"
     ]
    }
   ],
   "source": [
    "print(f\"Training Data Score: {classifier.score(X_train, y_train)}\")\n",
    "print(f\"Testing Data Score: {classifier.score(X_test, y_test)}\")"
   ]
  },
  {
   "cell_type": "code",
   "execution_count": 528,
   "metadata": {
    "colab": {
     "base_uri": "https://localhost:8080/",
     "height": 68
    },
    "colab_type": "code",
    "id": "A_pwYpPV2ub6",
    "outputId": "e214a8b6-96a6-41e1-f9aa-e20a980df258"
   },
   "outputs": [
    {
     "name": "stdout",
     "output_type": "stream",
     "text": [
      "First 10 Predictions:   ['Dance/Electronic' 'Dance/Electronic' 'Dance/Electronic'\n",
      " 'Dance/Electronic' 'Dance/Electronic' 'Dance/Electronic'\n",
      " 'Dance/Electronic' 'Dance/Electronic' 'Dance/Electronic'\n",
      " 'Dance/Electronic']\n",
      "First 10 Actual labels: ['Rap', 'Pop', 'R&B', 'New Age', 'Dance/Electronic', 'Pop', 'R&B', 'Rap', 'Dance/Electronic', 'Rap']\n"
     ]
    }
   ],
   "source": [
    "predictions = classifier.predict(X_test)\n",
    "print(f\"First 10 Predictions:   {predictions[:10]}\")\n",
    "print(f\"First 10 Actual labels: {y_test[:10].tolist()}\")"
   ]
  },
  {
   "cell_type": "code",
   "execution_count": 529,
   "metadata": {
    "colab": {
     "base_uri": "https://localhost:8080/",
     "height": 419
    },
    "colab_type": "code",
    "id": "cXyAslvi27Jr",
    "outputId": "c954feba-5fc7-4ac2-b316-0bfd87112b5d"
   },
   "outputs": [
    {
     "data": {
      "text/html": [
       "<div>\n",
       "<style scoped>\n",
       "    .dataframe tbody tr th:only-of-type {\n",
       "        vertical-align: middle;\n",
       "    }\n",
       "\n",
       "    .dataframe tbody tr th {\n",
       "        vertical-align: top;\n",
       "    }\n",
       "\n",
       "    .dataframe thead th {\n",
       "        text-align: right;\n",
       "    }\n",
       "</style>\n",
       "<table border=\"1\" class=\"dataframe\">\n",
       "  <thead>\n",
       "    <tr style=\"text-align: right;\">\n",
       "      <th></th>\n",
       "      <th>Prediction</th>\n",
       "      <th>Actual</th>\n",
       "    </tr>\n",
       "  </thead>\n",
       "  <tbody>\n",
       "    <tr>\n",
       "      <th>0</th>\n",
       "      <td>Dance/Electronic</td>\n",
       "      <td>Rap</td>\n",
       "    </tr>\n",
       "    <tr>\n",
       "      <th>1</th>\n",
       "      <td>Dance/Electronic</td>\n",
       "      <td>Pop</td>\n",
       "    </tr>\n",
       "    <tr>\n",
       "      <th>2</th>\n",
       "      <td>Dance/Electronic</td>\n",
       "      <td>R&amp;B</td>\n",
       "    </tr>\n",
       "    <tr>\n",
       "      <th>3</th>\n",
       "      <td>Dance/Electronic</td>\n",
       "      <td>New Age</td>\n",
       "    </tr>\n",
       "    <tr>\n",
       "      <th>4</th>\n",
       "      <td>Dance/Electronic</td>\n",
       "      <td>Dance/Electronic</td>\n",
       "    </tr>\n",
       "    <tr>\n",
       "      <th>...</th>\n",
       "      <td>...</td>\n",
       "      <td>...</td>\n",
       "    </tr>\n",
       "    <tr>\n",
       "      <th>455</th>\n",
       "      <td>Dance/Electronic</td>\n",
       "      <td>Pop</td>\n",
       "    </tr>\n",
       "    <tr>\n",
       "      <th>456</th>\n",
       "      <td>Dance/Electronic</td>\n",
       "      <td>R&amp;B</td>\n",
       "    </tr>\n",
       "    <tr>\n",
       "      <th>457</th>\n",
       "      <td>Dance/Electronic</td>\n",
       "      <td>R&amp;B</td>\n",
       "    </tr>\n",
       "    <tr>\n",
       "      <th>458</th>\n",
       "      <td>Dance/Electronic</td>\n",
       "      <td>Rap</td>\n",
       "    </tr>\n",
       "    <tr>\n",
       "      <th>459</th>\n",
       "      <td>Dance/Electronic</td>\n",
       "      <td>Country</td>\n",
       "    </tr>\n",
       "  </tbody>\n",
       "</table>\n",
       "<p>460 rows × 2 columns</p>\n",
       "</div>"
      ],
      "text/plain": [
       "           Prediction            Actual\n",
       "0    Dance/Electronic               Rap\n",
       "1    Dance/Electronic               Pop\n",
       "2    Dance/Electronic               R&B\n",
       "3    Dance/Electronic           New Age\n",
       "4    Dance/Electronic  Dance/Electronic\n",
       "..                ...               ...\n",
       "455  Dance/Electronic               Pop\n",
       "456  Dance/Electronic               R&B\n",
       "457  Dance/Electronic               R&B\n",
       "458  Dance/Electronic               Rap\n",
       "459  Dance/Electronic           Country\n",
       "\n",
       "[460 rows x 2 columns]"
      ]
     },
     "execution_count": 529,
     "metadata": {},
     "output_type": "execute_result"
    }
   ],
   "source": [
    "pd.DataFrame({\"Prediction\": predictions, \"Actual\": y_test}).reset_index(drop=True)"
   ]
  },
  {
   "cell_type": "markdown",
   "metadata": {
    "colab_type": "text",
    "id": "y7J0z_kO0sw7"
   },
   "source": [
    "## Now trying with multiple linear models"
   ]
  },
  {
   "cell_type": "code",
   "execution_count": 530,
   "metadata": {
    "colab": {
     "base_uri": "https://localhost:8080/",
     "height": 241
    },
    "colab_type": "code",
    "id": "tS5IhwXh0y2h",
    "outputId": "31b99267-5eed-48fc-c703-4472514176e9"
   },
   "outputs": [
    {
     "data": {
      "text/html": [
       "<div>\n",
       "<style scoped>\n",
       "    .dataframe tbody tr th:only-of-type {\n",
       "        vertical-align: middle;\n",
       "    }\n",
       "\n",
       "    .dataframe tbody tr th {\n",
       "        vertical-align: top;\n",
       "    }\n",
       "\n",
       "    .dataframe thead th {\n",
       "        text-align: right;\n",
       "    }\n",
       "</style>\n",
       "<table border=\"1\" class=\"dataframe\">\n",
       "  <thead>\n",
       "    <tr style=\"text-align: right;\">\n",
       "      <th></th>\n",
       "      <th>danceability</th>\n",
       "      <th>energy</th>\n",
       "      <th>key</th>\n",
       "      <th>loudness</th>\n",
       "      <th>mode</th>\n",
       "      <th>speechiness</th>\n",
       "      <th>acousticness</th>\n",
       "      <th>instrumentalness</th>\n",
       "      <th>liveness</th>\n",
       "      <th>valence</th>\n",
       "      <th>tempo</th>\n",
       "      <th>duration_ms</th>\n",
       "      <th>genre_name_Country</th>\n",
       "      <th>genre_name_Dance/Electronic</th>\n",
       "      <th>genre_name_New Age</th>\n",
       "      <th>genre_name_Pop</th>\n",
       "      <th>genre_name_R&amp;B</th>\n",
       "      <th>genre_name_Rap</th>\n",
       "      <th>genre_name_Rock</th>\n",
       "    </tr>\n",
       "  </thead>\n",
       "  <tbody>\n",
       "    <tr>\n",
       "      <th>0</th>\n",
       "      <td>0.707</td>\n",
       "      <td>0.681</td>\n",
       "      <td>0</td>\n",
       "      <td>-4.325</td>\n",
       "      <td>1</td>\n",
       "      <td>0.0668</td>\n",
       "      <td>0.0632</td>\n",
       "      <td>0.000005</td>\n",
       "      <td>0.0322</td>\n",
       "      <td>0.646</td>\n",
       "      <td>117.999</td>\n",
       "      <td>200455</td>\n",
       "      <td>False</td>\n",
       "      <td>False</td>\n",
       "      <td>False</td>\n",
       "      <td>True</td>\n",
       "      <td>False</td>\n",
       "      <td>False</td>\n",
       "      <td>False</td>\n",
       "    </tr>\n",
       "    <tr>\n",
       "      <th>1</th>\n",
       "      <td>0.644</td>\n",
       "      <td>0.735</td>\n",
       "      <td>8</td>\n",
       "      <td>-5.747</td>\n",
       "      <td>1</td>\n",
       "      <td>0.0391</td>\n",
       "      <td>0.0521</td>\n",
       "      <td>0.144000</td>\n",
       "      <td>0.1610</td>\n",
       "      <td>0.418</td>\n",
       "      <td>88.980</td>\n",
       "      <td>153947</td>\n",
       "      <td>False</td>\n",
       "      <td>False</td>\n",
       "      <td>False</td>\n",
       "      <td>True</td>\n",
       "      <td>False</td>\n",
       "      <td>False</td>\n",
       "      <td>False</td>\n",
       "    </tr>\n",
       "    <tr>\n",
       "      <th>2</th>\n",
       "      <td>0.637</td>\n",
       "      <td>0.643</td>\n",
       "      <td>4</td>\n",
       "      <td>-6.571</td>\n",
       "      <td>1</td>\n",
       "      <td>0.0519</td>\n",
       "      <td>0.1300</td>\n",
       "      <td>0.000002</td>\n",
       "      <td>0.1420</td>\n",
       "      <td>0.533</td>\n",
       "      <td>97.008</td>\n",
       "      <td>200690</td>\n",
       "      <td>False</td>\n",
       "      <td>False</td>\n",
       "      <td>False</td>\n",
       "      <td>True</td>\n",
       "      <td>False</td>\n",
       "      <td>False</td>\n",
       "      <td>False</td>\n",
       "    </tr>\n",
       "    <tr>\n",
       "      <th>3</th>\n",
       "      <td>0.817</td>\n",
       "      <td>0.440</td>\n",
       "      <td>10</td>\n",
       "      <td>-8.482</td>\n",
       "      <td>0</td>\n",
       "      <td>0.0734</td>\n",
       "      <td>0.0603</td>\n",
       "      <td>0.000001</td>\n",
       "      <td>0.3300</td>\n",
       "      <td>0.544</td>\n",
       "      <td>142.024</td>\n",
       "      <td>272113</td>\n",
       "      <td>False</td>\n",
       "      <td>False</td>\n",
       "      <td>False</td>\n",
       "      <td>True</td>\n",
       "      <td>False</td>\n",
       "      <td>False</td>\n",
       "      <td>False</td>\n",
       "    </tr>\n",
       "    <tr>\n",
       "      <th>4</th>\n",
       "      <td>0.783</td>\n",
       "      <td>0.592</td>\n",
       "      <td>11</td>\n",
       "      <td>-8.332</td>\n",
       "      <td>0</td>\n",
       "      <td>0.0331</td>\n",
       "      <td>0.4350</td>\n",
       "      <td>0.000004</td>\n",
       "      <td>0.3470</td>\n",
       "      <td>0.726</td>\n",
       "      <td>120.018</td>\n",
       "      <td>174253</td>\n",
       "      <td>False</td>\n",
       "      <td>False</td>\n",
       "      <td>False</td>\n",
       "      <td>True</td>\n",
       "      <td>False</td>\n",
       "      <td>False</td>\n",
       "      <td>False</td>\n",
       "    </tr>\n",
       "  </tbody>\n",
       "</table>\n",
       "</div>"
      ],
      "text/plain": [
       "   danceability  energy  key  loudness  mode  speechiness  acousticness   \n",
       "0         0.707   0.681    0    -4.325     1       0.0668        0.0632  \\\n",
       "1         0.644   0.735    8    -5.747     1       0.0391        0.0521   \n",
       "2         0.637   0.643    4    -6.571     1       0.0519        0.1300   \n",
       "3         0.817   0.440   10    -8.482     0       0.0734        0.0603   \n",
       "4         0.783   0.592   11    -8.332     0       0.0331        0.4350   \n",
       "\n",
       "   instrumentalness  liveness  valence    tempo  duration_ms   \n",
       "0          0.000005    0.0322    0.646  117.999       200455  \\\n",
       "1          0.144000    0.1610    0.418   88.980       153947   \n",
       "2          0.000002    0.1420    0.533   97.008       200690   \n",
       "3          0.000001    0.3300    0.544  142.024       272113   \n",
       "4          0.000004    0.3470    0.726  120.018       174253   \n",
       "\n",
       "   genre_name_Country  genre_name_Dance/Electronic  genre_name_New Age   \n",
       "0               False                        False               False  \\\n",
       "1               False                        False               False   \n",
       "2               False                        False               False   \n",
       "3               False                        False               False   \n",
       "4               False                        False               False   \n",
       "\n",
       "   genre_name_Pop  genre_name_R&B  genre_name_Rap  genre_name_Rock  \n",
       "0            True           False           False            False  \n",
       "1            True           False           False            False  \n",
       "2            True           False           False            False  \n",
       "3            True           False           False            False  \n",
       "4            True           False           False            False  "
      ]
     },
     "execution_count": 530,
     "metadata": {},
     "output_type": "execute_result"
    }
   ],
   "source": [
    "# Use Pandas get_dummies to convert categorical data\n",
    "ML_df = pd.get_dummies(ML_df)\n",
    "ML_df.head()\n"
   ]
  },
  {
   "cell_type": "code",
   "execution_count": 531,
   "metadata": {
    "colab": {
     "base_uri": "https://localhost:8080/",
     "height": 34
    },
    "colab_type": "code",
    "id": "HAPXDqco1PsI",
    "outputId": "0ce13bdc-3722-43b8-89da-9402e7d76b48"
   },
   "outputs": [
    {
     "name": "stdout",
     "output_type": "stream",
     "text": [
      "(1837, 12) (1837, 1)\n"
     ]
    }
   ],
   "source": [
    "X = ML_df[['danceability',\n",
    "                            'energy',\n",
    "                            'key',\n",
    "                            'loudness',\n",
    "                            'mode', \n",
    "                            'speechiness', \n",
    "                            'acousticness', \n",
    "                            'instrumentalness', \n",
    "                            'liveness', \n",
    "                            'valence', \n",
    "                            'tempo', \n",
    "                            'duration_ms']]\n",
    "y = y = ML_df['genre_name_Rock'].values.reshape(-1, 1)\n",
    "print(X.shape, y.shape)"
   ]
  },
  {
   "cell_type": "code",
   "execution_count": 532,
   "metadata": {
    "colab": {
     "base_uri": "https://localhost:8080/",
     "height": 204
    },
    "colab_type": "code",
    "id": "vC__0rJ-4r4V",
    "outputId": "f531a46c-3e80-4e13-a2c5-feee2dbb0dcb"
   },
   "outputs": [
    {
     "data": {
      "text/html": [
       "<div>\n",
       "<style scoped>\n",
       "    .dataframe tbody tr th:only-of-type {\n",
       "        vertical-align: middle;\n",
       "    }\n",
       "\n",
       "    .dataframe tbody tr th {\n",
       "        vertical-align: top;\n",
       "    }\n",
       "\n",
       "    .dataframe thead th {\n",
       "        text-align: right;\n",
       "    }\n",
       "</style>\n",
       "<table border=\"1\" class=\"dataframe\">\n",
       "  <thead>\n",
       "    <tr style=\"text-align: right;\">\n",
       "      <th></th>\n",
       "      <th>danceability</th>\n",
       "      <th>energy</th>\n",
       "      <th>key</th>\n",
       "      <th>loudness</th>\n",
       "      <th>mode</th>\n",
       "      <th>speechiness</th>\n",
       "      <th>acousticness</th>\n",
       "      <th>instrumentalness</th>\n",
       "      <th>liveness</th>\n",
       "      <th>valence</th>\n",
       "      <th>tempo</th>\n",
       "      <th>duration_ms</th>\n",
       "      <th>genre_name_Rock</th>\n",
       "    </tr>\n",
       "  </thead>\n",
       "  <tbody>\n",
       "    <tr>\n",
       "      <th>0</th>\n",
       "      <td>0.707</td>\n",
       "      <td>0.681</td>\n",
       "      <td>0</td>\n",
       "      <td>-4.325</td>\n",
       "      <td>1</td>\n",
       "      <td>0.0668</td>\n",
       "      <td>0.0632</td>\n",
       "      <td>0.000005</td>\n",
       "      <td>0.0322</td>\n",
       "      <td>0.646</td>\n",
       "      <td>117.999</td>\n",
       "      <td>200455</td>\n",
       "      <td>False</td>\n",
       "    </tr>\n",
       "    <tr>\n",
       "      <th>1</th>\n",
       "      <td>0.644</td>\n",
       "      <td>0.735</td>\n",
       "      <td>8</td>\n",
       "      <td>-5.747</td>\n",
       "      <td>1</td>\n",
       "      <td>0.0391</td>\n",
       "      <td>0.0521</td>\n",
       "      <td>0.144000</td>\n",
       "      <td>0.1610</td>\n",
       "      <td>0.418</td>\n",
       "      <td>88.980</td>\n",
       "      <td>153947</td>\n",
       "      <td>False</td>\n",
       "    </tr>\n",
       "    <tr>\n",
       "      <th>2</th>\n",
       "      <td>0.637</td>\n",
       "      <td>0.643</td>\n",
       "      <td>4</td>\n",
       "      <td>-6.571</td>\n",
       "      <td>1</td>\n",
       "      <td>0.0519</td>\n",
       "      <td>0.1300</td>\n",
       "      <td>0.000002</td>\n",
       "      <td>0.1420</td>\n",
       "      <td>0.533</td>\n",
       "      <td>97.008</td>\n",
       "      <td>200690</td>\n",
       "      <td>False</td>\n",
       "    </tr>\n",
       "    <tr>\n",
       "      <th>3</th>\n",
       "      <td>0.817</td>\n",
       "      <td>0.440</td>\n",
       "      <td>10</td>\n",
       "      <td>-8.482</td>\n",
       "      <td>0</td>\n",
       "      <td>0.0734</td>\n",
       "      <td>0.0603</td>\n",
       "      <td>0.000001</td>\n",
       "      <td>0.3300</td>\n",
       "      <td>0.544</td>\n",
       "      <td>142.024</td>\n",
       "      <td>272113</td>\n",
       "      <td>False</td>\n",
       "    </tr>\n",
       "    <tr>\n",
       "      <th>4</th>\n",
       "      <td>0.783</td>\n",
       "      <td>0.592</td>\n",
       "      <td>11</td>\n",
       "      <td>-8.332</td>\n",
       "      <td>0</td>\n",
       "      <td>0.0331</td>\n",
       "      <td>0.4350</td>\n",
       "      <td>0.000004</td>\n",
       "      <td>0.3470</td>\n",
       "      <td>0.726</td>\n",
       "      <td>120.018</td>\n",
       "      <td>174253</td>\n",
       "      <td>False</td>\n",
       "    </tr>\n",
       "  </tbody>\n",
       "</table>\n",
       "</div>"
      ],
      "text/plain": [
       "   danceability  energy  key  loudness  mode  speechiness  acousticness   \n",
       "0         0.707   0.681    0    -4.325     1       0.0668        0.0632  \\\n",
       "1         0.644   0.735    8    -5.747     1       0.0391        0.0521   \n",
       "2         0.637   0.643    4    -6.571     1       0.0519        0.1300   \n",
       "3         0.817   0.440   10    -8.482     0       0.0734        0.0603   \n",
       "4         0.783   0.592   11    -8.332     0       0.0331        0.4350   \n",
       "\n",
       "   instrumentalness  liveness  valence    tempo  duration_ms  genre_name_Rock  \n",
       "0          0.000005    0.0322    0.646  117.999       200455            False  \n",
       "1          0.144000    0.1610    0.418   88.980       153947            False  \n",
       "2          0.000002    0.1420    0.533   97.008       200690            False  \n",
       "3          0.000001    0.3300    0.544  142.024       272113            False  \n",
       "4          0.000004    0.3470    0.726  120.018       174253            False  "
      ]
     },
     "execution_count": 532,
     "metadata": {},
     "output_type": "execute_result"
    }
   ],
   "source": [
    "# Dropping extra dummy columns\n",
    "\n",
    "\n",
    "ML_df = ML_df.drop(columns=['genre_name_Dance/Electronic',\n",
    "                            'genre_name_Country', \n",
    "                            'genre_name_New Age', \n",
    "                            'genre_name_Rap', \n",
    "                            'genre_name_R&B', \n",
    "                            'genre_name_Pop'])\n",
    "ML_df.head()\n"
   ]
  },
  {
   "cell_type": "code",
   "execution_count": 536,
   "metadata": {
    "colab": {},
    "colab_type": "code",
    "id": "QdRw80Fd1P7a"
   },
   "outputs": [],
   "source": [
    "# Spliting the data into training and testing\n",
    "\n",
    "from sklearn.model_selection import train_test_split\n",
    "\n",
    "X_train, X_test, y_train, y_test = train_test_split(X, y, random_state=42)\n"
   ]
  },
  {
   "cell_type": "code",
   "execution_count": 537,
   "metadata": {
    "colab": {},
    "colab_type": "code",
    "id": "IAGlTr4_1QBS"
   },
   "outputs": [],
   "source": [
    "from sklearn.preprocessing import StandardScaler\n",
    "\n",
    "# Creating a StandardScater model and fit it to the training data\n",
    "\n",
    "X_scaler = StandardScaler().fit(X_train)\n",
    "y_scaler = StandardScaler().fit(y_train)\n"
   ]
  },
  {
   "cell_type": "code",
   "execution_count": 538,
   "metadata": {
    "colab": {},
    "colab_type": "code",
    "id": "IypWee3l1P-h"
   },
   "outputs": [],
   "source": [
    "# Transforming the training and testing data using the X_scaler and y_scaler models\n",
    "\n",
    "X_train_scaled = X_scaler.transform(X_train)\n",
    "X_test_scaled = X_scaler.transform(X_test)\n",
    "y_train_scaled = y_scaler.transform(y_train)\n",
    "y_test_scaled = y_scaler.transform(y_test)\n"
   ]
  },
  {
   "cell_type": "code",
   "execution_count": 539,
   "metadata": {
    "colab": {
     "base_uri": "https://localhost:8080/",
     "height": 34
    },
    "colab_type": "code",
    "id": "jmBWDI_I1Pyu",
    "outputId": "c5d7ccd7-7a36-456f-9075-ed62b0281ec3"
   },
   "outputs": [
    {
     "data": {
      "text/html": [
       "<style>#sk-container-id-21 {color: black;background-color: white;}#sk-container-id-21 pre{padding: 0;}#sk-container-id-21 div.sk-toggleable {background-color: white;}#sk-container-id-21 label.sk-toggleable__label {cursor: pointer;display: block;width: 100%;margin-bottom: 0;padding: 0.3em;box-sizing: border-box;text-align: center;}#sk-container-id-21 label.sk-toggleable__label-arrow:before {content: \"▸\";float: left;margin-right: 0.25em;color: #696969;}#sk-container-id-21 label.sk-toggleable__label-arrow:hover:before {color: black;}#sk-container-id-21 div.sk-estimator:hover label.sk-toggleable__label-arrow:before {color: black;}#sk-container-id-21 div.sk-toggleable__content {max-height: 0;max-width: 0;overflow: hidden;text-align: left;background-color: #f0f8ff;}#sk-container-id-21 div.sk-toggleable__content pre {margin: 0.2em;color: black;border-radius: 0.25em;background-color: #f0f8ff;}#sk-container-id-21 input.sk-toggleable__control:checked~div.sk-toggleable__content {max-height: 200px;max-width: 100%;overflow: auto;}#sk-container-id-21 input.sk-toggleable__control:checked~label.sk-toggleable__label-arrow:before {content: \"▾\";}#sk-container-id-21 div.sk-estimator input.sk-toggleable__control:checked~label.sk-toggleable__label {background-color: #d4ebff;}#sk-container-id-21 div.sk-label input.sk-toggleable__control:checked~label.sk-toggleable__label {background-color: #d4ebff;}#sk-container-id-21 input.sk-hidden--visually {border: 0;clip: rect(1px 1px 1px 1px);clip: rect(1px, 1px, 1px, 1px);height: 1px;margin: -1px;overflow: hidden;padding: 0;position: absolute;width: 1px;}#sk-container-id-21 div.sk-estimator {font-family: monospace;background-color: #f0f8ff;border: 1px dotted black;border-radius: 0.25em;box-sizing: border-box;margin-bottom: 0.5em;}#sk-container-id-21 div.sk-estimator:hover {background-color: #d4ebff;}#sk-container-id-21 div.sk-parallel-item::after {content: \"\";width: 100%;border-bottom: 1px solid gray;flex-grow: 1;}#sk-container-id-21 div.sk-label:hover label.sk-toggleable__label {background-color: #d4ebff;}#sk-container-id-21 div.sk-serial::before {content: \"\";position: absolute;border-left: 1px solid gray;box-sizing: border-box;top: 0;bottom: 0;left: 50%;z-index: 0;}#sk-container-id-21 div.sk-serial {display: flex;flex-direction: column;align-items: center;background-color: white;padding-right: 0.2em;padding-left: 0.2em;position: relative;}#sk-container-id-21 div.sk-item {position: relative;z-index: 1;}#sk-container-id-21 div.sk-parallel {display: flex;align-items: stretch;justify-content: center;background-color: white;position: relative;}#sk-container-id-21 div.sk-item::before, #sk-container-id-21 div.sk-parallel-item::before {content: \"\";position: absolute;border-left: 1px solid gray;box-sizing: border-box;top: 0;bottom: 0;left: 50%;z-index: -1;}#sk-container-id-21 div.sk-parallel-item {display: flex;flex-direction: column;z-index: 1;position: relative;background-color: white;}#sk-container-id-21 div.sk-parallel-item:first-child::after {align-self: flex-end;width: 50%;}#sk-container-id-21 div.sk-parallel-item:last-child::after {align-self: flex-start;width: 50%;}#sk-container-id-21 div.sk-parallel-item:only-child::after {width: 0;}#sk-container-id-21 div.sk-dashed-wrapped {border: 1px dashed gray;margin: 0 0.4em 0.5em 0.4em;box-sizing: border-box;padding-bottom: 0.4em;background-color: white;}#sk-container-id-21 div.sk-label label {font-family: monospace;font-weight: bold;display: inline-block;line-height: 1.2em;}#sk-container-id-21 div.sk-label-container {text-align: center;}#sk-container-id-21 div.sk-container {/* jupyter's `normalize.less` sets `[hidden] { display: none; }` but bootstrap.min.css set `[hidden] { display: none !important; }` so we also need the `!important` here to be able to override the default hidden behavior on the sphinx rendered scikit-learn.org. See: https://github.com/scikit-learn/scikit-learn/issues/21755 */display: inline-block !important;position: relative;}#sk-container-id-21 div.sk-text-repr-fallback {display: none;}</style><div id=\"sk-container-id-21\" class=\"sk-top-container\"><div class=\"sk-text-repr-fallback\"><pre>LinearRegression()</pre><b>In a Jupyter environment, please rerun this cell to show the HTML representation or trust the notebook. <br />On GitHub, the HTML representation is unable to render, please try loading this page with nbviewer.org.</b></div><div class=\"sk-container\" hidden><div class=\"sk-item\"><div class=\"sk-estimator sk-toggleable\"><input class=\"sk-toggleable__control sk-hidden--visually\" id=\"sk-estimator-id-21\" type=\"checkbox\" checked><label for=\"sk-estimator-id-21\" class=\"sk-toggleable__label sk-toggleable__label-arrow\">LinearRegression</label><div class=\"sk-toggleable__content\"><pre>LinearRegression()</pre></div></div></div></div></div>"
      ],
      "text/plain": [
       "LinearRegression()"
      ]
     },
     "execution_count": 539,
     "metadata": {},
     "output_type": "execute_result"
    }
   ],
   "source": [
    "# Create a LinearRegression model and fit it to the scaled training data\n",
    "\n",
    "from sklearn.linear_model import LinearRegression\n",
    "model = LinearRegression()\n",
    "model.fit(X_train_scaled, y_train_scaled)\n"
   ]
  },
  {
   "cell_type": "code",
   "execution_count": 545,
   "metadata": {
    "colab": {
     "base_uri": "https://localhost:8080/",
     "height": 281
    },
    "colab_type": "code",
    "id": "uJHZepqU1Ph8",
    "outputId": "343dc486-dda2-4247-f362-4c2298ccf8fc"
   },
   "outputs": [
    {
     "data": {
      "image/png": "[encoded data removed]",
      "text/plain": [
       "<Figure size 640x480 with 1 Axes>"
      ]
     },
     "metadata": {},
     "output_type": "display_data"
    }
   ],
   "source": [
    "# Making predictions using a fitted model\n",
    "# Ploting the difference between the model predicted values and actual y values, versus the model predicted values\n",
    "\n",
    "predictions = model.predict(X_test_scaled)\n",
    "model.fit(X_train_scaled, y_train_scaled)\n",
    "plt.scatter(model.predict(X_train_scaled), model.predict(X_train_scaled) - y_train_scaled, c=\"blue\", label=\"Training Data\")\n",
    "plt.scatter(model.predict(X_test_scaled), model.predict(X_test_scaled) - y_test_scaled, c=\"orange\", label=\"Testing Data\")\n",
    "plt.legend()\n",
    "plt.hlines(y=0, xmin=y_test_scaled.min(), xmax=y_test_scaled.max())\n",
    "plt.title(\"Residual Plot\")\n",
    "plt.show()\n"
   ]
  },
  {
   "cell_type": "code",
   "execution_count": 546,
   "metadata": {
    "colab": {
     "base_uri": "https://localhost:8080/",
     "height": 34
    },
    "colab_type": "code",
    "id": "nvneLgai4VQS",
    "outputId": "6cbccad1-e865-4583-9346-689846eb4939"
   },
   "outputs": [
    {
     "name": "stdout",
     "output_type": "stream",
     "text": [
      "MSE: 0.8834898505991294, R2: 0.09640602790084662\n"
     ]
    }
   ],
   "source": [
    "# Used X_test_scaled, y_test_scaled, and model.predict(X_test_scaled) to calculate MSE and R2\n",
    "\n",
    "from sklearn.metrics import mean_squared_error\n",
    "\n",
    "MSE = mean_squared_error(y_test_scaled, predictions)\n",
    "r2 = model.score(X_test_scaled, y_test_scaled)\n",
    "\n",
    "print(f\"MSE: {MSE}, R2: {r2}\")\n"
   ]
  },
  {
   "cell_type": "code",
   "execution_count": 547,
   "metadata": {
    "colab": {
     "base_uri": "https://localhost:8080/",
     "height": 34
    },
    "colab_type": "code",
    "id": "aO_x6lSt4YNl",
    "outputId": "63493f61-58ef-4b80-c653-a4f0cbf4aab1"
   },
   "outputs": [
    {
     "name": "stdout",
     "output_type": "stream",
     "text": [
      "MSE: 0.8816334373701857, R2: 0.09830468446408969\n"
     ]
    }
   ],
   "source": [
    "# LASSO model\n",
    "# Note: Use an alpha of .01 when creating the model for this activity\n",
    "from sklearn.linear_model import Lasso\n",
    "\n",
    "lasso = Lasso(alpha=.01).fit(X_train_scaled, y_train_scaled)\n",
    "\n",
    "predictions = lasso.predict(X_test_scaled)\n",
    "\n",
    "MSE = mean_squared_error(y_test_scaled, predictions)\n",
    "r2 = lasso.score(X_test_scaled, y_test_scaled)\n",
    "\n",
    "print(f\"MSE: {MSE}, R2: {r2}\")"
   ]
  },
  {
   "cell_type": "code",
   "execution_count": 548,
   "metadata": {
    "colab": {
     "base_uri": "https://localhost:8080/",
     "height": 34
    },
    "colab_type": "code",
    "id": "GJU66sbi4c9T",
    "outputId": "e57a378a-8df2-4668-9b95-bf3c853c245f"
   },
   "outputs": [
    {
     "name": "stdout",
     "output_type": "stream",
     "text": [
      "MSE: 0.8834897459043645, R2: 0.09640613497797779\n"
     ]
    }
   ],
   "source": [
    "# Ridge model\n",
    "from sklearn.linear_model import Ridge\n",
    "\n",
    "ridge = Ridge(alpha=.01).fit(X_train_scaled, y_train_scaled)\n",
    "\n",
    "predictions = ridge.predict(X_test_scaled)\n",
    "\n",
    "MSE = mean_squared_error(y_test_scaled, predictions)\n",
    "r2 = ridge.score(X_test_scaled, y_test_scaled)\n",
    "\n",
    "print(f\"MSE: {MSE}, R2: {r2}\")"
   ]
  },
  {
   "cell_type": "code",
   "execution_count": 544,
   "metadata": {
    "colab": {
     "base_uri": "https://localhost:8080/",
     "height": 34
    },
    "colab_type": "code",
    "id": "VLjeX1pk4gU-",
    "outputId": "04400048-388c-4f55-b188-0ec1d99ef3aa"
   },
   "outputs": [
    {
     "name": "stdout",
     "output_type": "stream",
     "text": [
      "MSE: 0.8820972446617862, R2: 0.09783032307485406\n"
     ]
    }
   ],
   "source": [
    "# ElasticNet model\n",
    "from sklearn.linear_model import ElasticNet\n",
    "\n",
    "elasticnet = ElasticNet(alpha=.01).fit(X_train_scaled, y_train_scaled)\n",
    "\n",
    "predictions = elasticnet.predict(X_test_scaled)\n",
    "\n",
    "MSE = mean_squared_error(y_test_scaled, predictions)\n",
    "r2 = elasticnet.score(X_test_scaled, y_test_scaled)\n",
    "\n",
    "print(f\"MSE: {MSE}, R2: {r2}\")"
   ]
  },
  {
   "cell_type": "markdown",
   "metadata": {
    "colab_type": "text",
    "id": "QOSYpl0b-_OH"
   },
   "source": [
    "Trying with SVM Model"
   ]
  },
  {
   "cell_type": "code",
   "execution_count": 554,
   "metadata": {
    "colab": {},
    "colab_type": "code",
    "id": "1XNrwZoY_C-E"
   },
   "outputs": [
    {
     "data": {
      "text/html": [
       "<div>\n",
       "<style scoped>\n",
       "    .dataframe tbody tr th:only-of-type {\n",
       "        vertical-align: middle;\n",
       "    }\n",
       "\n",
       "    .dataframe tbody tr th {\n",
       "        vertical-align: top;\n",
       "    }\n",
       "\n",
       "    .dataframe thead th {\n",
       "        text-align: right;\n",
       "    }\n",
       "</style>\n",
       "<table border=\"1\" class=\"dataframe\">\n",
       "  <thead>\n",
       "    <tr style=\"text-align: right;\">\n",
       "      <th></th>\n",
       "      <th>danceability</th>\n",
       "      <th>energy</th>\n",
       "      <th>key</th>\n",
       "      <th>loudness</th>\n",
       "      <th>mode</th>\n",
       "      <th>speechiness</th>\n",
       "      <th>acousticness</th>\n",
       "      <th>instrumentalness</th>\n",
       "      <th>liveness</th>\n",
       "      <th>valence</th>\n",
       "      <th>tempo</th>\n",
       "      <th>duration_ms</th>\n",
       "    </tr>\n",
       "  </thead>\n",
       "  <tbody>\n",
       "    <tr>\n",
       "      <th>0</th>\n",
       "      <td>0.707</td>\n",
       "      <td>0.681</td>\n",
       "      <td>0</td>\n",
       "      <td>-4.325</td>\n",
       "      <td>1</td>\n",
       "      <td>0.0668</td>\n",
       "      <td>0.063200</td>\n",
       "      <td>0.000005</td>\n",
       "      <td>0.0322</td>\n",
       "      <td>0.646</td>\n",
       "      <td>117.999</td>\n",
       "      <td>200455</td>\n",
       "    </tr>\n",
       "    <tr>\n",
       "      <th>1</th>\n",
       "      <td>0.644</td>\n",
       "      <td>0.735</td>\n",
       "      <td>8</td>\n",
       "      <td>-5.747</td>\n",
       "      <td>1</td>\n",
       "      <td>0.0391</td>\n",
       "      <td>0.052100</td>\n",
       "      <td>0.144000</td>\n",
       "      <td>0.1610</td>\n",
       "      <td>0.418</td>\n",
       "      <td>88.980</td>\n",
       "      <td>153947</td>\n",
       "    </tr>\n",
       "    <tr>\n",
       "      <th>2</th>\n",
       "      <td>0.637</td>\n",
       "      <td>0.643</td>\n",
       "      <td>4</td>\n",
       "      <td>-6.571</td>\n",
       "      <td>1</td>\n",
       "      <td>0.0519</td>\n",
       "      <td>0.130000</td>\n",
       "      <td>0.000002</td>\n",
       "      <td>0.1420</td>\n",
       "      <td>0.533</td>\n",
       "      <td>97.008</td>\n",
       "      <td>200690</td>\n",
       "    </tr>\n",
       "    <tr>\n",
       "      <th>3</th>\n",
       "      <td>0.817</td>\n",
       "      <td>0.440</td>\n",
       "      <td>10</td>\n",
       "      <td>-8.482</td>\n",
       "      <td>0</td>\n",
       "      <td>0.0734</td>\n",
       "      <td>0.060300</td>\n",
       "      <td>0.000001</td>\n",
       "      <td>0.3300</td>\n",
       "      <td>0.544</td>\n",
       "      <td>142.024</td>\n",
       "      <td>272113</td>\n",
       "    </tr>\n",
       "    <tr>\n",
       "      <th>4</th>\n",
       "      <td>0.783</td>\n",
       "      <td>0.592</td>\n",
       "      <td>11</td>\n",
       "      <td>-8.332</td>\n",
       "      <td>0</td>\n",
       "      <td>0.0331</td>\n",
       "      <td>0.435000</td>\n",
       "      <td>0.000004</td>\n",
       "      <td>0.3470</td>\n",
       "      <td>0.726</td>\n",
       "      <td>120.018</td>\n",
       "      <td>174253</td>\n",
       "    </tr>\n",
       "    <tr>\n",
       "      <th>...</th>\n",
       "      <td>...</td>\n",
       "      <td>...</td>\n",
       "      <td>...</td>\n",
       "      <td>...</td>\n",
       "      <td>...</td>\n",
       "      <td>...</td>\n",
       "      <td>...</td>\n",
       "      <td>...</td>\n",
       "      <td>...</td>\n",
       "      <td>...</td>\n",
       "      <td>...</td>\n",
       "      <td>...</td>\n",
       "    </tr>\n",
       "    <tr>\n",
       "      <th>1832</th>\n",
       "      <td>0.352</td>\n",
       "      <td>0.796</td>\n",
       "      <td>7</td>\n",
       "      <td>-6.879</td>\n",
       "      <td>1</td>\n",
       "      <td>0.0352</td>\n",
       "      <td>0.000255</td>\n",
       "      <td>0.000058</td>\n",
       "      <td>0.3050</td>\n",
       "      <td>0.426</td>\n",
       "      <td>179.379</td>\n",
       "      <td>179240</td>\n",
       "    </tr>\n",
       "    <tr>\n",
       "      <th>1833</th>\n",
       "      <td>0.603</td>\n",
       "      <td>0.740</td>\n",
       "      <td>5</td>\n",
       "      <td>-12.128</td>\n",
       "      <td>0</td>\n",
       "      <td>0.0358</td>\n",
       "      <td>0.191000</td>\n",
       "      <td>0.969000</td>\n",
       "      <td>0.1100</td>\n",
       "      <td>0.102</td>\n",
       "      <td>123.997</td>\n",
       "      <td>379083</td>\n",
       "    </tr>\n",
       "    <tr>\n",
       "      <th>1834</th>\n",
       "      <td>0.555</td>\n",
       "      <td>0.501</td>\n",
       "      <td>5</td>\n",
       "      <td>-14.892</td>\n",
       "      <td>1</td>\n",
       "      <td>0.9330</td>\n",
       "      <td>0.793000</td>\n",
       "      <td>0.000000</td>\n",
       "      <td>0.9100</td>\n",
       "      <td>0.322</td>\n",
       "      <td>64.438</td>\n",
       "      <td>152125</td>\n",
       "    </tr>\n",
       "    <tr>\n",
       "      <th>1835</th>\n",
       "      <td>0.603</td>\n",
       "      <td>0.409</td>\n",
       "      <td>5</td>\n",
       "      <td>-14.871</td>\n",
       "      <td>1</td>\n",
       "      <td>0.0310</td>\n",
       "      <td>0.394000</td>\n",
       "      <td>0.490000</td>\n",
       "      <td>0.0633</td>\n",
       "      <td>0.141</td>\n",
       "      <td>97.188</td>\n",
       "      <td>354667</td>\n",
       "    </tr>\n",
       "    <tr>\n",
       "      <th>1836</th>\n",
       "      <td>0.631</td>\n",
       "      <td>0.926</td>\n",
       "      <td>10</td>\n",
       "      <td>-13.634</td>\n",
       "      <td>0</td>\n",
       "      <td>0.0441</td>\n",
       "      <td>0.000021</td>\n",
       "      <td>0.879000</td>\n",
       "      <td>0.0471</td>\n",
       "      <td>0.942</td>\n",
       "      <td>131.230</td>\n",
       "      <td>305333</td>\n",
       "    </tr>\n",
       "  </tbody>\n",
       "</table>\n",
       "<p>1837 rows × 12 columns</p>\n",
       "</div>"
      ],
      "text/plain": [
       "      danceability  energy  key  loudness  mode  speechiness  acousticness   \n",
       "0            0.707   0.681    0    -4.325     1       0.0668      0.063200  \\\n",
       "1            0.644   0.735    8    -5.747     1       0.0391      0.052100   \n",
       "2            0.637   0.643    4    -6.571     1       0.0519      0.130000   \n",
       "3            0.817   0.440   10    -8.482     0       0.0734      0.060300   \n",
       "4            0.783   0.592   11    -8.332     0       0.0331      0.435000   \n",
       "...            ...     ...  ...       ...   ...          ...           ...   \n",
       "1832         0.352   0.796    7    -6.879     1       0.0352      0.000255   \n",
       "1833         0.603   0.740    5   -12.128     0       0.0358      0.191000   \n",
       "1834         0.555   0.501    5   -14.892     1       0.9330      0.793000   \n",
       "1835         0.603   0.409    5   -14.871     1       0.0310      0.394000   \n",
       "1836         0.631   0.926   10   -13.634     0       0.0441      0.000021   \n",
       "\n",
       "      instrumentalness  liveness  valence    tempo  duration_ms  \n",
       "0             0.000005    0.0322    0.646  117.999       200455  \n",
       "1             0.144000    0.1610    0.418   88.980       153947  \n",
       "2             0.000002    0.1420    0.533   97.008       200690  \n",
       "3             0.000001    0.3300    0.544  142.024       272113  \n",
       "4             0.000004    0.3470    0.726  120.018       174253  \n",
       "...                ...       ...      ...      ...          ...  \n",
       "1832          0.000058    0.3050    0.426  179.379       179240  \n",
       "1833          0.969000    0.1100    0.102  123.997       379083  \n",
       "1834          0.000000    0.9100    0.322   64.438       152125  \n",
       "1835          0.490000    0.0633    0.141   97.188       354667  \n",
       "1836          0.879000    0.0471    0.942  131.230       305333  \n",
       "\n",
       "[1837 rows x 12 columns]"
      ]
     },
     "execution_count": 554,
     "metadata": {},
     "output_type": "execute_result"
    }
   ],
   "source": [
    "\n",
    "\n",
    "ML_df = df.drop(['artist_name', 'track_name', 'track_id', 'artist_href', 'track_href', 'genre_name'], axis=1)\n",
    "ML_df"
   ]
  },
  {
   "cell_type": "code",
   "execution_count": 555,
   "metadata": {
    "colab": {
     "base_uri": "https://localhost:8080/",
     "height": 224
    },
    "colab_type": "code",
    "id": "cmMhX2KWB_DO",
    "outputId": "32c49319-0aa1-4b26-a64c-6819dd2f19ed"
   },
   "outputs": [
    {
     "data": {
      "text/html": [
       "<div>\n",
       "<style scoped>\n",
       "    .dataframe tbody tr th:only-of-type {\n",
       "        vertical-align: middle;\n",
       "    }\n",
       "\n",
       "    .dataframe tbody tr th {\n",
       "        vertical-align: top;\n",
       "    }\n",
       "\n",
       "    .dataframe thead th {\n",
       "        text-align: right;\n",
       "    }\n",
       "</style>\n",
       "<table border=\"1\" class=\"dataframe\">\n",
       "  <thead>\n",
       "    <tr style=\"text-align: right;\">\n",
       "      <th></th>\n",
       "      <th>danceability</th>\n",
       "      <th>energy</th>\n",
       "      <th>key</th>\n",
       "      <th>loudness</th>\n",
       "      <th>mode</th>\n",
       "      <th>speechiness</th>\n",
       "      <th>acousticness</th>\n",
       "      <th>instrumentalness</th>\n",
       "      <th>liveness</th>\n",
       "      <th>valence</th>\n",
       "      <th>tempo</th>\n",
       "      <th>duration_ms</th>\n",
       "    </tr>\n",
       "  </thead>\n",
       "  <tbody>\n",
       "    <tr>\n",
       "      <th>0</th>\n",
       "      <td>0.707</td>\n",
       "      <td>0.681</td>\n",
       "      <td>0</td>\n",
       "      <td>-4.325</td>\n",
       "      <td>1</td>\n",
       "      <td>0.0668</td>\n",
       "      <td>0.0632</td>\n",
       "      <td>0.000005</td>\n",
       "      <td>0.0322</td>\n",
       "      <td>0.646</td>\n",
       "      <td>117.999</td>\n",
       "      <td>200455</td>\n",
       "    </tr>\n",
       "    <tr>\n",
       "      <th>1</th>\n",
       "      <td>0.644</td>\n",
       "      <td>0.735</td>\n",
       "      <td>8</td>\n",
       "      <td>-5.747</td>\n",
       "      <td>1</td>\n",
       "      <td>0.0391</td>\n",
       "      <td>0.0521</td>\n",
       "      <td>0.144000</td>\n",
       "      <td>0.1610</td>\n",
       "      <td>0.418</td>\n",
       "      <td>88.980</td>\n",
       "      <td>153947</td>\n",
       "    </tr>\n",
       "    <tr>\n",
       "      <th>2</th>\n",
       "      <td>0.637</td>\n",
       "      <td>0.643</td>\n",
       "      <td>4</td>\n",
       "      <td>-6.571</td>\n",
       "      <td>1</td>\n",
       "      <td>0.0519</td>\n",
       "      <td>0.1300</td>\n",
       "      <td>0.000002</td>\n",
       "      <td>0.1420</td>\n",
       "      <td>0.533</td>\n",
       "      <td>97.008</td>\n",
       "      <td>200690</td>\n",
       "    </tr>\n",
       "    <tr>\n",
       "      <th>3</th>\n",
       "      <td>0.817</td>\n",
       "      <td>0.440</td>\n",
       "      <td>10</td>\n",
       "      <td>-8.482</td>\n",
       "      <td>0</td>\n",
       "      <td>0.0734</td>\n",
       "      <td>0.0603</td>\n",
       "      <td>0.000001</td>\n",
       "      <td>0.3300</td>\n",
       "      <td>0.544</td>\n",
       "      <td>142.024</td>\n",
       "      <td>272113</td>\n",
       "    </tr>\n",
       "    <tr>\n",
       "      <th>4</th>\n",
       "      <td>0.783</td>\n",
       "      <td>0.592</td>\n",
       "      <td>11</td>\n",
       "      <td>-8.332</td>\n",
       "      <td>0</td>\n",
       "      <td>0.0331</td>\n",
       "      <td>0.4350</td>\n",
       "      <td>0.000004</td>\n",
       "      <td>0.3470</td>\n",
       "      <td>0.726</td>\n",
       "      <td>120.018</td>\n",
       "      <td>174253</td>\n",
       "    </tr>\n",
       "  </tbody>\n",
       "</table>\n",
       "</div>"
      ],
      "text/plain": [
       "   danceability  energy  key  loudness  mode  speechiness  acousticness   \n",
       "0         0.707   0.681    0    -4.325     1       0.0668        0.0632  \\\n",
       "1         0.644   0.735    8    -5.747     1       0.0391        0.0521   \n",
       "2         0.637   0.643    4    -6.571     1       0.0519        0.1300   \n",
       "3         0.817   0.440   10    -8.482     0       0.0734        0.0603   \n",
       "4         0.783   0.592   11    -8.332     0       0.0331        0.4350   \n",
       "\n",
       "   instrumentalness  liveness  valence    tempo  duration_ms  \n",
       "0          0.000005    0.0322    0.646  117.999       200455  \n",
       "1          0.144000    0.1610    0.418   88.980       153947  \n",
       "2          0.000002    0.1420    0.533   97.008       200690  \n",
       "3          0.000001    0.3300    0.544  142.024       272113  \n",
       "4          0.000004    0.3470    0.726  120.018       174253  "
      ]
     },
     "execution_count": 555,
     "metadata": {},
     "output_type": "execute_result"
    }
   ],
   "source": [
    "\n",
    "\n",
    "feature_names = ML_df.columns\n",
    "ML_df.head()"
   ]
  },
  {
   "cell_type": "code",
   "execution_count": 556,
   "metadata": {
    "colab": {},
    "colab_type": "code",
    "id": "FhCBnFbSCGCR"
   },
   "outputs": [],
   "source": [
    "from sklearn.model_selection import train_test_split\n",
    "X_train, X_test, y_train, y_test = train_test_split(ML_df, target)\n",
    "     \n"
   ]
  },
  {
   "cell_type": "code",
   "execution_count": 557,
   "metadata": {
    "colab": {},
    "colab_type": "code",
    "id": "e-bO_O9VQo_I"
   },
   "outputs": [
    {
     "ename": "KeyboardInterrupt",
     "evalue": "",
     "output_type": "error",
     "traceback": [
      "\u001b[1;31m---------------------------------------------------------------------------\u001b[0m",
      "\u001b[1;31mKeyboardInterrupt\u001b[0m                         Traceback (most recent call last)",
      "Cell \u001b[1;32mIn[557], line 5\u001b[0m\n\u001b[0;32m      3\u001b[0m \u001b[38;5;28;01mfrom\u001b[39;00m \u001b[38;5;21;01msklearn\u001b[39;00m\u001b[38;5;21;01m.\u001b[39;00m\u001b[38;5;21;01msvm\u001b[39;00m \u001b[38;5;28;01mimport\u001b[39;00m SVC \n\u001b[0;32m      4\u001b[0m model \u001b[38;5;241m=\u001b[39m SVC(kernel\u001b[38;5;241m=\u001b[39m\u001b[38;5;124m'\u001b[39m\u001b[38;5;124mlinear\u001b[39m\u001b[38;5;124m'\u001b[39m)\n\u001b[1;32m----> 5\u001b[0m model\u001b[38;5;241m.\u001b[39mfit(X_train, y_train)\n",
      "File \u001b[1;32m~\\anaconda3\\envs\\music\\Lib\\site-packages\\sklearn\\svm\\_base.py:252\u001b[0m, in \u001b[0;36mBaseLibSVM.fit\u001b[1;34m(self, X, y, sample_weight)\u001b[0m\n\u001b[0;32m    249\u001b[0m     \u001b[38;5;28mprint\u001b[39m(\u001b[38;5;124m\"\u001b[39m\u001b[38;5;124m[LibSVM]\u001b[39m\u001b[38;5;124m\"\u001b[39m, end\u001b[38;5;241m=\u001b[39m\u001b[38;5;124m\"\u001b[39m\u001b[38;5;124m\"\u001b[39m)\n\u001b[0;32m    251\u001b[0m seed \u001b[38;5;241m=\u001b[39m rnd\u001b[38;5;241m.\u001b[39mrandint(np\u001b[38;5;241m.\u001b[39miinfo(\u001b[38;5;124m\"\u001b[39m\u001b[38;5;124mi\u001b[39m\u001b[38;5;124m\"\u001b[39m)\u001b[38;5;241m.\u001b[39mmax)\n\u001b[1;32m--> 252\u001b[0m fit(X, y, sample_weight, solver_type, kernel, random_seed\u001b[38;5;241m=\u001b[39mseed)\n\u001b[0;32m    253\u001b[0m \u001b[38;5;66;03m# see comment on the other call to np.iinfo in this file\u001b[39;00m\n\u001b[0;32m    255\u001b[0m \u001b[38;5;28mself\u001b[39m\u001b[38;5;241m.\u001b[39mshape_fit_ \u001b[38;5;241m=\u001b[39m X\u001b[38;5;241m.\u001b[39mshape \u001b[38;5;28;01mif\u001b[39;00m \u001b[38;5;28mhasattr\u001b[39m(X, \u001b[38;5;124m\"\u001b[39m\u001b[38;5;124mshape\u001b[39m\u001b[38;5;124m\"\u001b[39m) \u001b[38;5;28;01melse\u001b[39;00m (n_samples,)\n",
      "File \u001b[1;32m~\\anaconda3\\envs\\music\\Lib\\site-packages\\sklearn\\svm\\_base.py:331\u001b[0m, in \u001b[0;36mBaseLibSVM._dense_fit\u001b[1;34m(self, X, y, sample_weight, solver_type, kernel, random_seed)\u001b[0m\n\u001b[0;32m    317\u001b[0m libsvm\u001b[38;5;241m.\u001b[39mset_verbosity_wrap(\u001b[38;5;28mself\u001b[39m\u001b[38;5;241m.\u001b[39mverbose)\n\u001b[0;32m    319\u001b[0m \u001b[38;5;66;03m# we don't pass **self.get_params() to allow subclasses to\u001b[39;00m\n\u001b[0;32m    320\u001b[0m \u001b[38;5;66;03m# add other parameters to __init__\u001b[39;00m\n\u001b[0;32m    321\u001b[0m (\n\u001b[0;32m    322\u001b[0m     \u001b[38;5;28mself\u001b[39m\u001b[38;5;241m.\u001b[39msupport_,\n\u001b[0;32m    323\u001b[0m     \u001b[38;5;28mself\u001b[39m\u001b[38;5;241m.\u001b[39msupport_vectors_,\n\u001b[0;32m    324\u001b[0m     \u001b[38;5;28mself\u001b[39m\u001b[38;5;241m.\u001b[39m_n_support,\n\u001b[0;32m    325\u001b[0m     \u001b[38;5;28mself\u001b[39m\u001b[38;5;241m.\u001b[39mdual_coef_,\n\u001b[0;32m    326\u001b[0m     \u001b[38;5;28mself\u001b[39m\u001b[38;5;241m.\u001b[39mintercept_,\n\u001b[0;32m    327\u001b[0m     \u001b[38;5;28mself\u001b[39m\u001b[38;5;241m.\u001b[39m_probA,\n\u001b[0;32m    328\u001b[0m     \u001b[38;5;28mself\u001b[39m\u001b[38;5;241m.\u001b[39m_probB,\n\u001b[0;32m    329\u001b[0m     \u001b[38;5;28mself\u001b[39m\u001b[38;5;241m.\u001b[39mfit_status_,\n\u001b[0;32m    330\u001b[0m     \u001b[38;5;28mself\u001b[39m\u001b[38;5;241m.\u001b[39m_num_iter,\n\u001b[1;32m--> 331\u001b[0m ) \u001b[38;5;241m=\u001b[39m libsvm\u001b[38;5;241m.\u001b[39mfit(\n\u001b[0;32m    332\u001b[0m     X,\n\u001b[0;32m    333\u001b[0m     y,\n\u001b[0;32m    334\u001b[0m     svm_type\u001b[38;5;241m=\u001b[39msolver_type,\n\u001b[0;32m    335\u001b[0m     sample_weight\u001b[38;5;241m=\u001b[39msample_weight,\n\u001b[0;32m    336\u001b[0m     \u001b[38;5;66;03m# TODO(1.4): Replace \"_class_weight\" with \"class_weight_\"\u001b[39;00m\n\u001b[0;32m    337\u001b[0m     class_weight\u001b[38;5;241m=\u001b[39m\u001b[38;5;28mgetattr\u001b[39m(\u001b[38;5;28mself\u001b[39m, \u001b[38;5;124m\"\u001b[39m\u001b[38;5;124m_class_weight\u001b[39m\u001b[38;5;124m\"\u001b[39m, np\u001b[38;5;241m.\u001b[39mempty(\u001b[38;5;241m0\u001b[39m)),\n\u001b[0;32m    338\u001b[0m     kernel\u001b[38;5;241m=\u001b[39mkernel,\n\u001b[0;32m    339\u001b[0m     C\u001b[38;5;241m=\u001b[39m\u001b[38;5;28mself\u001b[39m\u001b[38;5;241m.\u001b[39mC,\n\u001b[0;32m    340\u001b[0m     nu\u001b[38;5;241m=\u001b[39m\u001b[38;5;28mself\u001b[39m\u001b[38;5;241m.\u001b[39mnu,\n\u001b[0;32m    341\u001b[0m     probability\u001b[38;5;241m=\u001b[39m\u001b[38;5;28mself\u001b[39m\u001b[38;5;241m.\u001b[39mprobability,\n\u001b[0;32m    342\u001b[0m     degree\u001b[38;5;241m=\u001b[39m\u001b[38;5;28mself\u001b[39m\u001b[38;5;241m.\u001b[39mdegree,\n\u001b[0;32m    343\u001b[0m     shrinking\u001b[38;5;241m=\u001b[39m\u001b[38;5;28mself\u001b[39m\u001b[38;5;241m.\u001b[39mshrinking,\n\u001b[0;32m    344\u001b[0m     tol\u001b[38;5;241m=\u001b[39m\u001b[38;5;28mself\u001b[39m\u001b[38;5;241m.\u001b[39mtol,\n\u001b[0;32m    345\u001b[0m     cache_size\u001b[38;5;241m=\u001b[39m\u001b[38;5;28mself\u001b[39m\u001b[38;5;241m.\u001b[39mcache_size,\n\u001b[0;32m    346\u001b[0m     coef0\u001b[38;5;241m=\u001b[39m\u001b[38;5;28mself\u001b[39m\u001b[38;5;241m.\u001b[39mcoef0,\n\u001b[0;32m    347\u001b[0m     gamma\u001b[38;5;241m=\u001b[39m\u001b[38;5;28mself\u001b[39m\u001b[38;5;241m.\u001b[39m_gamma,\n\u001b[0;32m    348\u001b[0m     epsilon\u001b[38;5;241m=\u001b[39m\u001b[38;5;28mself\u001b[39m\u001b[38;5;241m.\u001b[39mepsilon,\n\u001b[0;32m    349\u001b[0m     max_iter\u001b[38;5;241m=\u001b[39m\u001b[38;5;28mself\u001b[39m\u001b[38;5;241m.\u001b[39mmax_iter,\n\u001b[0;32m    350\u001b[0m     random_seed\u001b[38;5;241m=\u001b[39mrandom_seed,\n\u001b[0;32m    351\u001b[0m )\n\u001b[0;32m    353\u001b[0m \u001b[38;5;28mself\u001b[39m\u001b[38;5;241m.\u001b[39m_warn_from_fit_status()\n",
      "\u001b[1;31mKeyboardInterrupt\u001b[0m: "
     ]
    }
   ],
   "source": [
    "# Takes a very very long time to run\n",
    "\n",
    "from sklearn.svm import SVC \n",
    "model = SVC(kernel='linear')\n",
    "model.fit(X_train, y_train)"
   ]
  },
  {
   "cell_type": "markdown",
   "metadata": {
    "colab_type": "text",
    "id": "DsAcT9Z7QVLK"
   },
   "source": []
  },
  {
   "cell_type": "code",
   "execution_count": null,
   "metadata": {
    "colab": {
     "base_uri": "https://localhost:8080/",
     "height": 224
    },
    "colab_type": "code",
    "id": "7u5GkLldQZQp",
    "outputId": "28a9c129-96b9-4457-9ad6-34849b4eb235"
   },
   "outputs": [],
   "source": []
  },
  {
   "cell_type": "code",
   "execution_count": null,
   "metadata": {
    "colab": {
     "base_uri": "https://localhost:8080/",
     "height": 68
    },
    "colab_type": "code",
    "id": "xy6hFJYCr6X-",
    "outputId": "5bb1e172-e6d1-432e-ad44-3966340077c5"
   },
   "outputs": [],
   "source": []
  },
  {
   "cell_type": "code",
   "execution_count": null,
   "metadata": {
    "colab": {
     "base_uri": "https://localhost:8080/",
     "height": 409
    },
    "colab_type": "code",
    "id": "ghNWznLwtO4u",
    "outputId": "0744e17e-d94b-4594-ec3b-f0109b928e85"
   },
   "outputs": [],
   "source": []
  },
  {
   "cell_type": "code",
   "execution_count": null,
   "metadata": {
    "colab": {
     "base_uri": "https://localhost:8080/",
     "height": 341
    },
    "colab_type": "code",
    "id": "An_OGIicsGhQ",
    "outputId": "1ec756b0-45e8-4fa1-a7e8-01308542c65e"
   },
   "outputs": [],
   "source": []
  },
  {
   "cell_type": "code",
   "execution_count": null,
   "metadata": {
    "colab": {},
    "colab_type": "code",
    "id": "DRpI44AbsPXc"
   },
   "outputs": [],
   "source": []
  }
 ],
 "metadata": {
  "colab": {
   "collapsed_sections": [
    "CqRkshkNvhE4",
    "J0ueoe05xo-P",
    "IbKnl1RgwvMm",
    "mzmcXfxs-4Ah",
    "OHRl7wsFX8YS",
    "GHE4s-oTn0Nt",
    "thGPO-y8n5gK",
    "1mnP1kesx1ht"
   ],
   "name": "Final_Project_ML_JB.ipynb",
   "provenance": [],
   "toc_visible": true
  },
  "kernelspec": {
   "display_name": "Music",
   "language": "python",
   "name": "music"
  },
  "language_info": {
   "codemirror_mode": {
    "name": "ipython",
    "version": 3
   },
   "file_extension": ".py",
   "mimetype": "text/x-python",
   "name": "python",
   "nbconvert_exporter": "python",
   "pygments_lexer": "ipython3",
   "version": "3.11.3"
  }
 },
 "nbformat": 4,
 "nbformat_minor": 1
}
